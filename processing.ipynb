{
 "cells": [
  {
   "cell_type": "markdown",
   "metadata": {},
   "source": [
    "- #### Họ và tên: Võ Nhất Huy \n",
    "- #### MSSV: 19127642"
   ]
  },
  {
   "cell_type": "markdown",
   "metadata": {},
   "source": [
    "***\n",
    "### CÁCH CHẠY FILE\n",
    "Restart kernel & Run all\n",
    "***"
   ]
  },
  {
   "cell_type": "markdown",
   "metadata": {},
   "source": [
    "# TIỀN XỬ LÍ DỮ LIỆU\n",
    "***"
   ]
  },
  {
   "cell_type": "code",
   "execution_count": 1,
   "metadata": {},
   "outputs": [],
   "source": [
    "import time\n",
    "import datetime\n",
    "import csv\n",
    "import pandas as pd \n",
    "import numpy as np\n",
    "from IPython.display import display"
   ]
  },
  {
   "cell_type": "code",
   "execution_count": 2,
   "metadata": {},
   "outputs": [],
   "source": [
    "# read file\n",
    "def read_file():\n",
    "    df_day = pd.read_csv(\"Corona_day.tsv\", sep = '\\t', skipinitialspace = True, thousands = ',')\n",
    "    df_week = pd.read_csv(\"Corona_week.tsv\", sep = '\\t' , skipinitialspace = True, thousands = ',')\n",
    "    return df_day, df_week\n",
    "\n",
    "def auto_divide_dataframe(df_, n_diff, by_column):\n",
    "    if n_diff == 1:\n",
    "        return df_\n",
    "    list_country = df_[by_column].unique()\n",
    "    list_df = list()\n",
    "    grouped = df_.groupby(df_[by_column])\n",
    "    for i in range(len(list_country)):\n",
    "        list_df.append(grouped.get_group(list_country[i]))\n",
    "    return list_df\n"
   ]
  },
  {
   "cell_type": "code",
   "execution_count": 3,
   "metadata": {},
   "outputs": [],
   "source": [
    "df_day, df_week = read_file()\n",
    "df_day[\"Continent\"].replace({np.nan: 'Other'}, inplace=True)\n",
    "df_day.fillna(0, inplace = True)"
   ]
  },
  {
   "cell_type": "code",
   "execution_count": 4,
   "metadata": {},
   "outputs": [
    {
     "data": {
      "text/html": [
       "<div>\n",
       "<style scoped>\n",
       "    .dataframe tbody tr th:only-of-type {\n",
       "        vertical-align: middle;\n",
       "    }\n",
       "\n",
       "    .dataframe tbody tr th {\n",
       "        vertical-align: top;\n",
       "    }\n",
       "\n",
       "    .dataframe thead th {\n",
       "        text-align: right;\n",
       "    }\n",
       "</style>\n",
       "<table border=\"1\" class=\"dataframe\">\n",
       "  <thead>\n",
       "    <tr style=\"text-align: right;\">\n",
       "      <th></th>\n",
       "      <th>#</th>\n",
       "      <th>Date</th>\n",
       "      <th>Country, Other</th>\n",
       "      <th>Total Cases</th>\n",
       "      <th>New Cases</th>\n",
       "      <th>Total Deaths</th>\n",
       "      <th>New Deaths</th>\n",
       "      <th>Total Recovered</th>\n",
       "      <th>New Recovered</th>\n",
       "      <th>Active Cases</th>\n",
       "      <th>Serious, Critical</th>\n",
       "      <th>Tot Cases/1M Pop</th>\n",
       "      <th>Deaths/1M Pop</th>\n",
       "      <th>Total Tests</th>\n",
       "      <th>Tests/1M Pop</th>\n",
       "      <th>Population</th>\n",
       "      <th>Continent</th>\n",
       "    </tr>\n",
       "  </thead>\n",
       "  <tbody>\n",
       "    <tr>\n",
       "      <th>0</th>\n",
       "      <td>1</td>\n",
       "      <td>27:11:2021</td>\n",
       "      <td>USA</td>\n",
       "      <td>49078755</td>\n",
       "      <td>23672.0</td>\n",
       "      <td>799312.0</td>\n",
       "      <td>127.0</td>\n",
       "      <td>38861714.0</td>\n",
       "      <td>21031.0</td>\n",
       "      <td>9417729.0</td>\n",
       "      <td>12438.0</td>\n",
       "      <td>147060.0</td>\n",
       "      <td>2395.0</td>\n",
       "      <td>748307879.0</td>\n",
       "      <td>2242231.0</td>\n",
       "      <td>3.337336e+08</td>\n",
       "      <td>North America</td>\n",
       "    </tr>\n",
       "    <tr>\n",
       "      <th>1</th>\n",
       "      <td>2</td>\n",
       "      <td>27:11:2021</td>\n",
       "      <td>India</td>\n",
       "      <td>34572523</td>\n",
       "      <td>8774.0</td>\n",
       "      <td>468554.0</td>\n",
       "      <td>621.0</td>\n",
       "      <td>33988797.0</td>\n",
       "      <td>10967.0</td>\n",
       "      <td>115172.0</td>\n",
       "      <td>8944.0</td>\n",
       "      <td>24711.0</td>\n",
       "      <td>335.0</td>\n",
       "      <td>638247889.0</td>\n",
       "      <td>456189.0</td>\n",
       "      <td>1.399087e+09</td>\n",
       "      <td>Asia</td>\n",
       "    </tr>\n",
       "    <tr>\n",
       "      <th>2</th>\n",
       "      <td>3</td>\n",
       "      <td>27:11:2021</td>\n",
       "      <td>Brazil</td>\n",
       "      <td>22076863</td>\n",
       "      <td>9233.0</td>\n",
       "      <td>614236.0</td>\n",
       "      <td>236.0</td>\n",
       "      <td>21288281.0</td>\n",
       "      <td>5477.0</td>\n",
       "      <td>174346.0</td>\n",
       "      <td>8318.0</td>\n",
       "      <td>102834.0</td>\n",
       "      <td>2861.0</td>\n",
       "      <td>63776166.0</td>\n",
       "      <td>297068.0</td>\n",
       "      <td>2.146851e+08</td>\n",
       "      <td>South America</td>\n",
       "    </tr>\n",
       "    <tr>\n",
       "      <th>3</th>\n",
       "      <td>4</td>\n",
       "      <td>27:11:2021</td>\n",
       "      <td>UK</td>\n",
       "      <td>10109234</td>\n",
       "      <td>39175.0</td>\n",
       "      <td>144724.0</td>\n",
       "      <td>131.0</td>\n",
       "      <td>8951833.0</td>\n",
       "      <td>39409.0</td>\n",
       "      <td>1012677.0</td>\n",
       "      <td>925.0</td>\n",
       "      <td>147822.0</td>\n",
       "      <td>2116.0</td>\n",
       "      <td>358682719.0</td>\n",
       "      <td>5244836.0</td>\n",
       "      <td>6.838778e+07</td>\n",
       "      <td>Europe</td>\n",
       "    </tr>\n",
       "    <tr>\n",
       "      <th>4</th>\n",
       "      <td>5</td>\n",
       "      <td>27:11:2021</td>\n",
       "      <td>Russia</td>\n",
       "      <td>9536825</td>\n",
       "      <td>33946.0</td>\n",
       "      <td>271531.0</td>\n",
       "      <td>1239.0</td>\n",
       "      <td>8237465.0</td>\n",
       "      <td>36494.0</td>\n",
       "      <td>1027829.0</td>\n",
       "      <td>2300.0</td>\n",
       "      <td>65311.0</td>\n",
       "      <td>1860.0</td>\n",
       "      <td>223500000.0</td>\n",
       "      <td>1530586.0</td>\n",
       "      <td>1.460225e+08</td>\n",
       "      <td>Europe</td>\n",
       "    </tr>\n",
       "    <tr>\n",
       "      <th>...</th>\n",
       "      <td>...</td>\n",
       "      <td>...</td>\n",
       "      <td>...</td>\n",
       "      <td>...</td>\n",
       "      <td>...</td>\n",
       "      <td>...</td>\n",
       "      <td>...</td>\n",
       "      <td>...</td>\n",
       "      <td>...</td>\n",
       "      <td>...</td>\n",
       "      <td>...</td>\n",
       "      <td>...</td>\n",
       "      <td>...</td>\n",
       "      <td>...</td>\n",
       "      <td>...</td>\n",
       "      <td>...</td>\n",
       "      <td>...</td>\n",
       "    </tr>\n",
       "    <tr>\n",
       "      <th>3131</th>\n",
       "      <td>220</td>\n",
       "      <td>10:12:2021</td>\n",
       "      <td>Marshall Islands</td>\n",
       "      <td>4</td>\n",
       "      <td>0.0</td>\n",
       "      <td>0.0</td>\n",
       "      <td>0.0</td>\n",
       "      <td>4.0</td>\n",
       "      <td>0.0</td>\n",
       "      <td>0.0</td>\n",
       "      <td>0.0</td>\n",
       "      <td>67.0</td>\n",
       "      <td>0.0</td>\n",
       "      <td>0.0</td>\n",
       "      <td>0.0</td>\n",
       "      <td>5.976500e+04</td>\n",
       "      <td>Australia/Oceania</td>\n",
       "    </tr>\n",
       "    <tr>\n",
       "      <th>3132</th>\n",
       "      <td>221</td>\n",
       "      <td>10:12:2021</td>\n",
       "      <td>Samoa</td>\n",
       "      <td>3</td>\n",
       "      <td>0.0</td>\n",
       "      <td>0.0</td>\n",
       "      <td>0.0</td>\n",
       "      <td>3.0</td>\n",
       "      <td>0.0</td>\n",
       "      <td>0.0</td>\n",
       "      <td>0.0</td>\n",
       "      <td>15.0</td>\n",
       "      <td>0.0</td>\n",
       "      <td>0.0</td>\n",
       "      <td>0.0</td>\n",
       "      <td>2.003120e+05</td>\n",
       "      <td>Australia/Oceania</td>\n",
       "    </tr>\n",
       "    <tr>\n",
       "      <th>3133</th>\n",
       "      <td>222</td>\n",
       "      <td>10:12:2021</td>\n",
       "      <td>Saint Helena</td>\n",
       "      <td>2</td>\n",
       "      <td>0.0</td>\n",
       "      <td>0.0</td>\n",
       "      <td>0.0</td>\n",
       "      <td>2.0</td>\n",
       "      <td>0.0</td>\n",
       "      <td>0.0</td>\n",
       "      <td>0.0</td>\n",
       "      <td>328.0</td>\n",
       "      <td>0.0</td>\n",
       "      <td>0.0</td>\n",
       "      <td>0.0</td>\n",
       "      <td>6.103000e+03</td>\n",
       "      <td>Africa</td>\n",
       "    </tr>\n",
       "    <tr>\n",
       "      <th>3134</th>\n",
       "      <td>223</td>\n",
       "      <td>10:12:2021</td>\n",
       "      <td>Micronesia</td>\n",
       "      <td>1</td>\n",
       "      <td>0.0</td>\n",
       "      <td>0.0</td>\n",
       "      <td>0.0</td>\n",
       "      <td>1.0</td>\n",
       "      <td>0.0</td>\n",
       "      <td>0.0</td>\n",
       "      <td>0.0</td>\n",
       "      <td>9.0</td>\n",
       "      <td>0.0</td>\n",
       "      <td>0.0</td>\n",
       "      <td>0.0</td>\n",
       "      <td>1.167580e+05</td>\n",
       "      <td>Australia/Oceania</td>\n",
       "    </tr>\n",
       "    <tr>\n",
       "      <th>3135</th>\n",
       "      <td>224</td>\n",
       "      <td>10:12:2021</td>\n",
       "      <td>Tonga</td>\n",
       "      <td>1</td>\n",
       "      <td>0.0</td>\n",
       "      <td>0.0</td>\n",
       "      <td>0.0</td>\n",
       "      <td>1.0</td>\n",
       "      <td>0.0</td>\n",
       "      <td>0.0</td>\n",
       "      <td>0.0</td>\n",
       "      <td>9.0</td>\n",
       "      <td>0.0</td>\n",
       "      <td>0.0</td>\n",
       "      <td>0.0</td>\n",
       "      <td>1.074190e+05</td>\n",
       "      <td>Australia/Oceania</td>\n",
       "    </tr>\n",
       "  </tbody>\n",
       "</table>\n",
       "<p>3136 rows × 17 columns</p>\n",
       "</div>"
      ],
      "text/plain": [
       "        #        Date    Country, Other  Total Cases  New Cases  Total Deaths  \\\n",
       "0       1  27:11:2021               USA     49078755    23672.0      799312.0   \n",
       "1       2  27:11:2021             India     34572523     8774.0      468554.0   \n",
       "2       3  27:11:2021            Brazil     22076863     9233.0      614236.0   \n",
       "3       4  27:11:2021                UK     10109234    39175.0      144724.0   \n",
       "4       5  27:11:2021            Russia      9536825    33946.0      271531.0   \n",
       "...   ...         ...               ...          ...        ...           ...   \n",
       "3131  220  10:12:2021  Marshall Islands            4        0.0           0.0   \n",
       "3132  221  10:12:2021             Samoa            3        0.0           0.0   \n",
       "3133  222  10:12:2021      Saint Helena            2        0.0           0.0   \n",
       "3134  223  10:12:2021        Micronesia            1        0.0           0.0   \n",
       "3135  224  10:12:2021             Tonga            1        0.0           0.0   \n",
       "\n",
       "      New Deaths  Total Recovered  New Recovered  Active Cases  \\\n",
       "0          127.0       38861714.0        21031.0     9417729.0   \n",
       "1          621.0       33988797.0        10967.0      115172.0   \n",
       "2          236.0       21288281.0         5477.0      174346.0   \n",
       "3          131.0        8951833.0        39409.0     1012677.0   \n",
       "4         1239.0        8237465.0        36494.0     1027829.0   \n",
       "...          ...              ...            ...           ...   \n",
       "3131         0.0              4.0            0.0           0.0   \n",
       "3132         0.0              3.0            0.0           0.0   \n",
       "3133         0.0              2.0            0.0           0.0   \n",
       "3134         0.0              1.0            0.0           0.0   \n",
       "3135         0.0              1.0            0.0           0.0   \n",
       "\n",
       "      Serious, Critical  Tot Cases/1M Pop  Deaths/1M Pop  Total Tests  \\\n",
       "0               12438.0          147060.0         2395.0  748307879.0   \n",
       "1                8944.0           24711.0          335.0  638247889.0   \n",
       "2                8318.0          102834.0         2861.0   63776166.0   \n",
       "3                 925.0          147822.0         2116.0  358682719.0   \n",
       "4                2300.0           65311.0         1860.0  223500000.0   \n",
       "...                 ...               ...            ...          ...   \n",
       "3131                0.0              67.0            0.0          0.0   \n",
       "3132                0.0              15.0            0.0          0.0   \n",
       "3133                0.0             328.0            0.0          0.0   \n",
       "3134                0.0               9.0            0.0          0.0   \n",
       "3135                0.0               9.0            0.0          0.0   \n",
       "\n",
       "      Tests/1M Pop    Population          Continent  \n",
       "0        2242231.0  3.337336e+08      North America  \n",
       "1         456189.0  1.399087e+09               Asia  \n",
       "2         297068.0  2.146851e+08      South America  \n",
       "3        5244836.0  6.838778e+07             Europe  \n",
       "4        1530586.0  1.460225e+08             Europe  \n",
       "...            ...           ...                ...  \n",
       "3131           0.0  5.976500e+04  Australia/Oceania  \n",
       "3132           0.0  2.003120e+05  Australia/Oceania  \n",
       "3133           0.0  6.103000e+03             Africa  \n",
       "3134           0.0  1.167580e+05  Australia/Oceania  \n",
       "3135           0.0  1.074190e+05  Australia/Oceania  \n",
       "\n",
       "[3136 rows x 17 columns]"
      ]
     },
     "execution_count": 4,
     "metadata": {},
     "output_type": "execute_result"
    }
   ],
   "source": [
    "df_day"
   ]
  },
  {
   "cell_type": "code",
   "execution_count": 5,
   "metadata": {},
   "outputs": [
    {
     "data": {
      "text/html": [
       "<div>\n",
       "<style scoped>\n",
       "    .dataframe tbody tr th:only-of-type {\n",
       "        vertical-align: middle;\n",
       "    }\n",
       "\n",
       "    .dataframe tbody tr th {\n",
       "        vertical-align: top;\n",
       "    }\n",
       "\n",
       "    .dataframe thead th {\n",
       "        text-align: right;\n",
       "    }\n",
       "</style>\n",
       "<table border=\"1\" class=\"dataframe\">\n",
       "  <thead>\n",
       "    <tr style=\"text-align: right;\">\n",
       "      <th></th>\n",
       "      <th>#</th>\n",
       "      <th>Date</th>\n",
       "      <th>Country, Other</th>\n",
       "      <th>Cases in the last 7 days</th>\n",
       "      <th>Cases in the preceding 7 days</th>\n",
       "      <th>Weekly case /%/ change</th>\n",
       "      <th>Cases in the last 7 days/1M pop</th>\n",
       "      <th>Deaths in the last 7 days</th>\n",
       "      <th>Deaths in the preceding 7 days</th>\n",
       "      <th>Weekly Death /%/ change</th>\n",
       "      <th>Deaths in the last 7 days/1M pop</th>\n",
       "      <th>Population</th>\n",
       "      <th>Continent</th>\n",
       "    </tr>\n",
       "  </thead>\n",
       "  <tbody>\n",
       "    <tr>\n",
       "      <th>0</th>\n",
       "      <td>1</td>\n",
       "      <td>29:11:2021</td>\n",
       "      <td>USA</td>\n",
       "      <td>413934</td>\n",
       "      <td>663750</td>\n",
       "      <td>-38%</td>\n",
       "      <td>1240.0</td>\n",
       "      <td>4755</td>\n",
       "      <td>7377</td>\n",
       "      <td>-36%</td>\n",
       "      <td>14.0</td>\n",
       "      <td>333733637</td>\n",
       "      <td>North America</td>\n",
       "    </tr>\n",
       "    <tr>\n",
       "      <th>1</th>\n",
       "      <td>2</td>\n",
       "      <td>29:11:2021</td>\n",
       "      <td>Germany</td>\n",
       "      <td>404769</td>\n",
       "      <td>339756</td>\n",
       "      <td>+19%</td>\n",
       "      <td>4809.0</td>\n",
       "      <td>1798</td>\n",
       "      <td>1419</td>\n",
       "      <td>+27%</td>\n",
       "      <td>21.0</td>\n",
       "      <td>84160960</td>\n",
       "      <td>Europe</td>\n",
       "    </tr>\n",
       "    <tr>\n",
       "      <th>2</th>\n",
       "      <td>3</td>\n",
       "      <td>29:11:2021</td>\n",
       "      <td>UK</td>\n",
       "      <td>302319</td>\n",
       "      <td>284344</td>\n",
       "      <td>+6%</td>\n",
       "      <td>4421.0</td>\n",
       "      <td>848</td>\n",
       "      <td>1029</td>\n",
       "      <td>-18%</td>\n",
       "      <td>12.0</td>\n",
       "      <td>68387784</td>\n",
       "      <td>Europe</td>\n",
       "    </tr>\n",
       "    <tr>\n",
       "      <th>3</th>\n",
       "      <td>4</td>\n",
       "      <td>29:11:2021</td>\n",
       "      <td>Russia</td>\n",
       "      <td>239215</td>\n",
       "      <td>260484</td>\n",
       "      <td>-8%</td>\n",
       "      <td>1638.0</td>\n",
       "      <td>8660</td>\n",
       "      <td>8709</td>\n",
       "      <td>-1%</td>\n",
       "      <td>59.0</td>\n",
       "      <td>146022541</td>\n",
       "      <td>Europe</td>\n",
       "    </tr>\n",
       "    <tr>\n",
       "      <th>4</th>\n",
       "      <td>5</td>\n",
       "      <td>29:11:2021</td>\n",
       "      <td>France</td>\n",
       "      <td>205077</td>\n",
       "      <td>127326</td>\n",
       "      <td>+61%</td>\n",
       "      <td>3132.0</td>\n",
       "      <td>433</td>\n",
       "      <td>307</td>\n",
       "      <td>+41%</td>\n",
       "      <td>7.0</td>\n",
       "      <td>65476789</td>\n",
       "      <td>Europe</td>\n",
       "    </tr>\n",
       "    <tr>\n",
       "      <th>...</th>\n",
       "      <td>...</td>\n",
       "      <td>...</td>\n",
       "      <td>...</td>\n",
       "      <td>...</td>\n",
       "      <td>...</td>\n",
       "      <td>...</td>\n",
       "      <td>...</td>\n",
       "      <td>...</td>\n",
       "      <td>...</td>\n",
       "      <td>...</td>\n",
       "      <td>...</td>\n",
       "      <td>...</td>\n",
       "      <td>...</td>\n",
       "    </tr>\n",
       "    <tr>\n",
       "      <th>411</th>\n",
       "      <td>205</td>\n",
       "      <td>06:12:2021</td>\n",
       "      <td>Sao Tome and Principe</td>\n",
       "      <td>2</td>\n",
       "      <td>0</td>\n",
       "      <td>+200%</td>\n",
       "      <td>9.0</td>\n",
       "      <td>0</td>\n",
       "      <td>0</td>\n",
       "      <td>0%</td>\n",
       "      <td>0.0</td>\n",
       "      <td>224955</td>\n",
       "      <td>Africa</td>\n",
       "    </tr>\n",
       "    <tr>\n",
       "      <th>412</th>\n",
       "      <td>206</td>\n",
       "      <td>06:12:2021</td>\n",
       "      <td>Bhutan</td>\n",
       "      <td>1</td>\n",
       "      <td>8</td>\n",
       "      <td>-88%</td>\n",
       "      <td>1.0</td>\n",
       "      <td>0</td>\n",
       "      <td>0</td>\n",
       "      <td>0%</td>\n",
       "      <td>0.0</td>\n",
       "      <td>783719</td>\n",
       "      <td>Asia</td>\n",
       "    </tr>\n",
       "    <tr>\n",
       "      <th>413</th>\n",
       "      <td>207</td>\n",
       "      <td>06:12:2021</td>\n",
       "      <td>Sierra Leone</td>\n",
       "      <td>1</td>\n",
       "      <td>1</td>\n",
       "      <td>0%</td>\n",
       "      <td>0.1</td>\n",
       "      <td>0</td>\n",
       "      <td>0</td>\n",
       "      <td>0%</td>\n",
       "      <td>0.0</td>\n",
       "      <td>8207979</td>\n",
       "      <td>Africa</td>\n",
       "    </tr>\n",
       "    <tr>\n",
       "      <th>414</th>\n",
       "      <td>208</td>\n",
       "      <td>06:12:2021</td>\n",
       "      <td>El Salvador</td>\n",
       "      <td>0</td>\n",
       "      <td>884</td>\n",
       "      <td>-100%</td>\n",
       "      <td>0.0</td>\n",
       "      <td>12</td>\n",
       "      <td>18</td>\n",
       "      <td>-33%</td>\n",
       "      <td>2.0</td>\n",
       "      <td>6532881</td>\n",
       "      <td>North America</td>\n",
       "    </tr>\n",
       "    <tr>\n",
       "      <th>415</th>\n",
       "      <td>209</td>\n",
       "      <td>06:12:2021</td>\n",
       "      <td>Ghana</td>\n",
       "      <td>0</td>\n",
       "      <td>93</td>\n",
       "      <td>-100%</td>\n",
       "      <td>0.0</td>\n",
       "      <td>0</td>\n",
       "      <td>1</td>\n",
       "      <td>-100%</td>\n",
       "      <td>0.0</td>\n",
       "      <td>31996497</td>\n",
       "      <td>Africa</td>\n",
       "    </tr>\n",
       "  </tbody>\n",
       "</table>\n",
       "<p>416 rows × 13 columns</p>\n",
       "</div>"
      ],
      "text/plain": [
       "       #        Date         Country, Other  Cases in the last 7 days  \\\n",
       "0      1  29:11:2021                    USA                    413934   \n",
       "1      2  29:11:2021                Germany                    404769   \n",
       "2      3  29:11:2021                     UK                    302319   \n",
       "3      4  29:11:2021                 Russia                    239215   \n",
       "4      5  29:11:2021                 France                    205077   \n",
       "..   ...         ...                    ...                       ...   \n",
       "411  205  06:12:2021  Sao Tome and Principe                         2   \n",
       "412  206  06:12:2021                 Bhutan                         1   \n",
       "413  207  06:12:2021           Sierra Leone                         1   \n",
       "414  208  06:12:2021            El Salvador                         0   \n",
       "415  209  06:12:2021                  Ghana                         0   \n",
       "\n",
       "     Cases in the preceding 7 days Weekly case /%/ change  \\\n",
       "0                           663750                   -38%   \n",
       "1                           339756                   +19%   \n",
       "2                           284344                    +6%   \n",
       "3                           260484                    -8%   \n",
       "4                           127326                   +61%   \n",
       "..                             ...                    ...   \n",
       "411                              0                  +200%   \n",
       "412                              8                   -88%   \n",
       "413                              1                     0%   \n",
       "414                            884                  -100%   \n",
       "415                             93                  -100%   \n",
       "\n",
       "     Cases in the last 7 days/1M pop  Deaths in the last 7 days  \\\n",
       "0                             1240.0                       4755   \n",
       "1                             4809.0                       1798   \n",
       "2                             4421.0                        848   \n",
       "3                             1638.0                       8660   \n",
       "4                             3132.0                        433   \n",
       "..                               ...                        ...   \n",
       "411                              9.0                          0   \n",
       "412                              1.0                          0   \n",
       "413                              0.1                          0   \n",
       "414                              0.0                         12   \n",
       "415                              0.0                          0   \n",
       "\n",
       "     Deaths in the preceding 7 days Weekly Death /%/ change  \\\n",
       "0                              7377                    -36%   \n",
       "1                              1419                    +27%   \n",
       "2                              1029                    -18%   \n",
       "3                              8709                     -1%   \n",
       "4                               307                    +41%   \n",
       "..                              ...                     ...   \n",
       "411                               0                      0%   \n",
       "412                               0                      0%   \n",
       "413                               0                      0%   \n",
       "414                              18                    -33%   \n",
       "415                               1                   -100%   \n",
       "\n",
       "     Deaths in the last 7 days/1M pop  Population      Continent  \n",
       "0                                14.0   333733637  North America  \n",
       "1                                21.0    84160960         Europe  \n",
       "2                                12.0    68387784         Europe  \n",
       "3                                59.0   146022541         Europe  \n",
       "4                                 7.0    65476789         Europe  \n",
       "..                                ...         ...            ...  \n",
       "411                               0.0      224955         Africa  \n",
       "412                               0.0      783719           Asia  \n",
       "413                               0.0     8207979         Africa  \n",
       "414                               2.0     6532881  North America  \n",
       "415                               0.0    31996497         Africa  \n",
       "\n",
       "[416 rows x 13 columns]"
      ]
     },
     "execution_count": 5,
     "metadata": {},
     "output_type": "execute_result"
    }
   ],
   "source": [
    "df_week"
   ]
  },
  {
   "cell_type": "code",
   "execution_count": 6,
   "metadata": {},
   "outputs": [],
   "source": [
    "day_header = list(df_day.columns)\n",
    "week_header = list(df_week.columns)\n"
   ]
  },
  {
   "cell_type": "code",
   "execution_count": 7,
   "metadata": {},
   "outputs": [],
   "source": [
    "def removeDuplicate(str):\n",
    "    s=set(str)\n",
    "    s=\"\".join(s)\n",
    "    t=\"\"\n",
    "    for i in str:\n",
    "        if(i in t):\n",
    "            pass\n",
    "        else:\n",
    "            t=t+i\n",
    "    return t"
   ]
  },
  {
   "cell_type": "code",
   "execution_count": 8,
   "metadata": {},
   "outputs": [],
   "source": [
    "def sum_pandas(df_):\n",
    "    return df_.sum(axis = 0, skipna = True)\n",
    "\n",
    "def format_sum_result_day(sum_result, n_date, n_continent, n_country, header):\n",
    "    list(sum_result)\n",
    "    sum_result[0] = '#'\n",
    "    if n_date == 1:\n",
    "        sum_result[1] = sum_result[1][:10]\n",
    "    else:\n",
    "        sum_result[1] = sum_result[1][:10] + ' - ' + sum_result[1][-10:]\n",
    "\n",
    "    if n_country == 1:\n",
    "        sum_result[2] = removeDuplicate(sum_result[2])\n",
    "        sum_result[-1] = removeDuplicate(sum_result[-1])\n",
    "\n",
    "    else:\n",
    "        if n_continent == 1:\n",
    "            sum_result[2] = \"Continet\"\n",
    "            sum_result[-1] = removeDuplicate(sum_result[-1])\n",
    "        else:\n",
    "            sum_result[2] = \"World\" \n",
    "            sum_result = sum_result[:-1]\n",
    "\n",
    "\n",
    "    for i in range(3, len(sum_result)):\n",
    "        if type(sum_result[i]) == object:\n",
    "            sum_result[i] = ''\n",
    "    sum_result[11] = sum_result[3]/sum_result[-2]*1000000.0\n",
    "    sum_result[12] = sum_result[5]/sum_result[-2]*1000000.0\n",
    "    sum_result[14] = sum_result[13]/sum_result[-2]*1000000.0\n",
    "\n",
    "    zip_iterator = zip(header, sum_result)\n",
    "    sum_dict = dict(zip_iterator)\n",
    "\n",
    "    return sum_dict\n",
    "    \n",
    "def format_sum_result_week(sum_result, n_date, n_continent, n_country, header):\n",
    "    list(sum_result)\n",
    "    sum_result[0] = '#'\n",
    "    if n_date == 1:\n",
    "        sum_result[1] = sum_result[1][:10]\n",
    "    else:\n",
    "        sum_result[1] = sum_result[1][:10] + ' - ' + sum_result[1][-10:]\n",
    "    if n_country == 1:\n",
    "        sum_result[2] = removeDuplicate(sum_result[2])\n",
    "        sum_result[-1] = removeDuplicate(sum_result[-1])\n",
    "\n",
    "    else:\n",
    "        if n_continent == 1:\n",
    "            sum_result[2] = \"Continet\"\n",
    "            sum_result[-1] = removeDuplicate(sum_result[-1])\n",
    "        else:\n",
    "            sum_result[2] = \"World\" \n",
    "            sum_result = sum_result[:-1]\n",
    "            \n",
    "    sum_result[5] = round((sum_result[3] - sum_result[4])/sum_result[4]*100.0, 3)\n",
    "    sum_result[5] = round((sum_result[3] - sum_result[4])/sum_result[4]*100.0, 3)\n",
    "\n",
    "    sum_result[6] = round(sum_result[3]/sum_result[-2]*1000000.0, 3)\n",
    "\n",
    "    sum_result[9] = round((sum_result[7] - sum_result[8])/sum_result[8]*100.0, 3)\n",
    "    sum_result[9] = round((sum_result[7] - sum_result[8])/sum_result[8]*100.0, 3)\n",
    "\n",
    "    sum_result[10] = round(sum_result[7]/sum_result[-2]*1000000.0, 3)\n",
    "\n",
    "    zip_iterator = zip(header, sum_result)\n",
    "    sum_dict = dict(zip_iterator)\n",
    "\n",
    "    return sum_dict\n",
    "    "
   ]
  },
  {
   "cell_type": "markdown",
   "metadata": {},
   "source": [
    "# CHUẨN BỊ DỮ LIỆU\n",
    "***"
   ]
  },
  {
   "cell_type": "markdown",
   "metadata": {},
   "source": [
    "### Dữ liệu các quốc gia (thế giới) theo từng ngày\n",
    "***"
   ]
  },
  {
   "cell_type": "code",
   "execution_count": 9,
   "metadata": {},
   "outputs": [],
   "source": [
    "n_date = len(df_day['Date'].unique())\n",
    "world_day_by_date = auto_divide_dataframe(df_day, n_date, 'Date')"
   ]
  },
  {
   "cell_type": "code",
   "execution_count": 10,
   "metadata": {},
   "outputs": [],
   "source": [
    "world_day_result_by_date = []\n",
    "for i in range(n_date):\n",
    "    sum_result = sum_pandas(world_day_by_date[i])\n",
    "\n",
    "    n_continent = len(world_day_by_date[i]['Continent'].unique())\n",
    "    world_day_result_by_date.append(format_sum_result_day(sum_result, 1, n_continent, 0, day_header))"
   ]
  },
  {
   "cell_type": "code",
   "execution_count": 11,
   "metadata": {},
   "outputs": [
    {
     "data": {
      "text/plain": [
       "[{'#': '#',\n",
       "  'Date': '27:11:2021',\n",
       "  'Country, Other': 'World',\n",
       "  'Total Cases': 261359661,\n",
       "  'New Cases': 484205.0,\n",
       "  'Total Deaths': 5212667.0,\n",
       "  'New Deaths': 6014.0,\n",
       "  'Total Recovered': 234304499.0,\n",
       "  'New Recovered': 373473.0,\n",
       "  'Active Cases': 19729632.0,\n",
       "  'Serious, Critical': 83130.0,\n",
       "  'Tot Cases/1M Pop': 949787.7394628553,\n",
       "  'Deaths/1M Pop': 18942.966131650373,\n",
       "  'Total Tests': 4274412063.0,\n",
       "  'Tests/1M Pop': 15533323.525582358,\n",
       "  'Population': 7865528934.0},\n",
       " {'#': '#',\n",
       "  'Date': '28:11:2021',\n",
       "  'Country, Other': 'World',\n",
       "  'Total Cases': 261747449,\n",
       "  'New Cases': 387788.0,\n",
       "  'Total Deaths': 5216924.0,\n",
       "  'New Deaths': 4257.0,\n",
       "  'Total Recovered': 234611546.0,\n",
       "  'New Recovered': 307047.0,\n",
       "  'Active Cases': 19806116.0,\n",
       "  'Serious, Critical': 83889.0,\n",
       "  'Tot Cases/1M Pop': 949516.1554066963,\n",
       "  'Deaths/1M Pop': 18924.935614287202,\n",
       "  'Total Tests': 4279350568.0,\n",
       "  'Tests/1M Pop': 15523790.258467129,\n",
       "  'Population': 7865528934.0},\n",
       " {'#': '#',\n",
       "  'Date': '29:11:2021',\n",
       "  'Country, Other': 'World',\n",
       "  'Total Cases': 262435871,\n",
       "  'New Cases': 475969.0,\n",
       "  'Total Deaths': 5225070.0,\n",
       "  'New Deaths': 5825.0,\n",
       "  'Total Recovered': 235250522.0,\n",
       "  'New Recovered': 451875.0,\n",
       "  'Active Cases': 19845267.0,\n",
       "  'Serious, Critical': 84373.0,\n",
       "  'Tot Cases/1M Pop': 949060.8731449671,\n",
       "  'Deaths/1M Pop': 18895.7000334896,\n",
       "  'Total Tests': 4294260815.0,\n",
       "  'Tests/1M Pop': 15529565.005982425,\n",
       "  'Population': 7865938476.0},\n",
       " {'#': '#',\n",
       "  'Date': '30:11:2021',\n",
       "  'Country, Other': 'World',\n",
       "  'Total Cases': 263023853,\n",
       "  'New Cases': 587982.0,\n",
       "  'Total Deaths': 5232953.0,\n",
       "  'New Deaths': 7883.0,\n",
       "  'Total Recovered': 235761408.0,\n",
       "  'New Recovered': 510886.0,\n",
       "  'Active Cases': 19913122.0,\n",
       "  'Serious, Critical': 84703.0,\n",
       "  'Tot Cases/1M Pop': 949054.3868068551,\n",
       "  'Deaths/1M Pop': 18881.774196365724,\n",
       "  'Total Tests': 4302783920.0,\n",
       "  'Tests/1M Pop': 15525496.673330218,\n",
       "  'Population': 7865938476.0},\n",
       " {'#': '#',\n",
       "  'Date': '01:12:2021',\n",
       "  'Country, Other': 'World',\n",
       "  'Total Cases': 263739458,\n",
       "  'New Cases': 682525.0,\n",
       "  'Total Deaths': 5242034.0,\n",
       "  'New Deaths': 8535.0,\n",
       "  'Total Recovered': 236256486.0,\n",
       "  'New Recovered': 462696.0,\n",
       "  'Active Cases': 20122350.0,\n",
       "  'Serious, Critical': 87099.0,\n",
       "  'Tot Cases/1M Pop': 948721.6648947615,\n",
       "  'Deaths/1M Pop': 18856.606673981052,\n",
       "  'Total Tests': 4312397295.0,\n",
       "  'Tests/1M Pop': 15512524.263244925,\n",
       "  'Population': 7866348006.0},\n",
       " {'#': '#',\n",
       "  'Date': '02:12:2021',\n",
       "  'Country, Other': 'World',\n",
       "  'Total Cases': 264433852,\n",
       "  'New Cases': 694394.0,\n",
       "  'Total Deaths': 5249605.0,\n",
       "  'New Deaths': 7571.0,\n",
       "  'Total Recovered': 236700004.0,\n",
       "  'New Recovered': 443518.0,\n",
       "  'Active Cases': 20364147.0,\n",
       "  'Serious, Critical': 86989.0,\n",
       "  'Tot Cases/1M Pop': 948967.8145295676,\n",
       "  'Deaths/1M Pop': 18839.139339820573,\n",
       "  'Total Tests': 4322397233.0,\n",
       "  'Tests/1M Pop': 15511689.68989893,\n",
       "  'Population': 7866348006.0},\n",
       " {'#': '#',\n",
       "  'Date': '03:12:2021',\n",
       "  'Country, Other': 'World',\n",
       "  'Total Cases': 265160308,\n",
       "  'New Cases': 705204.0,\n",
       "  'Total Deaths': 5258078.0,\n",
       "  'New Deaths': 7928.0,\n",
       "  'Total Recovered': 237212427.0,\n",
       "  'New Recovered': 452414.0,\n",
       "  'Active Cases': 20568143.0,\n",
       "  'Serious, Critical': 86587.0,\n",
       "  'Tot Cases/1M Pop': 949089.9147076047,\n",
       "  'Deaths/1M Pop': 18820.270794624106,\n",
       "  'Total Tests': 4336040079.0,\n",
       "  'Tests/1M Pop': 15520014.815893432,\n",
       "  'Population': 7866757551.0},\n",
       " {'#': '#',\n",
       "  'Date': '04:12:2021',\n",
       "  'Country, Other': 'World',\n",
       "  'Total Cases': 265690740,\n",
       "  'New Cases': 530432.0,\n",
       "  'Total Deaths': 5263770.0,\n",
       "  'New Deaths': 5692.0,\n",
       "  'Total Recovered': 237590438.0,\n",
       "  'New Recovered': 378011.0,\n",
       "  'Active Cases': 20713287.0,\n",
       "  'Serious, Critical': 86678.0,\n",
       "  'Tot Cases/1M Pop': 948048.6420069752,\n",
       "  'Deaths/1M Pop': 18782.400923483656,\n",
       "  'Total Tests': 4348482414.0,\n",
       "  'Tests/1M Pop': 15516434.059327448,\n",
       "  'Population': 7866757551.0},\n",
       " {'#': '#',\n",
       "  'Date': '05:12:2021',\n",
       "  'Country, Other': 'World',\n",
       "  'Total Cases': 266232773,\n",
       "  'New Cases': 474423.0,\n",
       "  'Total Deaths': 5271964.0,\n",
       "  'New Deaths': 4569.0,\n",
       "  'Total Recovered': 237974120.0,\n",
       "  'New Recovered': 342523.0,\n",
       "  'Active Cases': 20862694.0,\n",
       "  'Serious, Critical': 86790.0,\n",
       "  'Tot Cases/1M Pop': 946742.6313595808,\n",
       "  'Deaths/1M Pop': 18747.47805670409,\n",
       "  'Total Tests': 4362746492.0,\n",
       "  'Tests/1M Pop': 15514236.084641842,\n",
       "  'Population': 7867167081.0},\n",
       " {'#': '#',\n",
       "  'Date': '06:12:2021',\n",
       "  'Country, Other': 'World',\n",
       "  'Total Cases': 266681021,\n",
       "  'New Cases': 448248.0,\n",
       "  'Total Deaths': 5277576.0,\n",
       "  'New Deaths': 5612.0,\n",
       "  'Total Recovered': 238459937.0,\n",
       "  'New Recovered': 485818.0,\n",
       "  'Active Cases': 20819505.0,\n",
       "  'Serious, Critical': 87035.0,\n",
       "  'Tot Cases/1M Pop': 946391.999360141,\n",
       "  'Deaths/1M Pop': 18728.950728050106,\n",
       "  'Total Tests': 4372559186.0,\n",
       "  'Tests/1M Pop': 15517246.089886129,\n",
       "  'Population': 7867167081.0},\n",
       " {'#': '#',\n",
       "  'Date': '07:12:2021',\n",
       "  'Country, Other': 'World',\n",
       "  'Total Cases': 267412071,\n",
       "  'New Cases': 627031.0,\n",
       "  'Total Deaths': 5286841.0,\n",
       "  'New Deaths': 8237.0,\n",
       "  'Total Recovered': 239023941.0,\n",
       "  'New Recovered': 482526.0,\n",
       "  'Active Cases': 20974136.0,\n",
       "  'Serious, Critical': 87887.0,\n",
       "  'Tot Cases/1M Pop': 945345.7205505313,\n",
       "  'Deaths/1M Pop': 18689.853812100693,\n",
       "  'Total Tests': 4385749418.0,\n",
       "  'Tests/1M Pop': 15504346.637041988,\n",
       "  'Population': 7867576622.0},\n",
       " {'#': '#',\n",
       "  'Date': '08:12:2021',\n",
       "  'Country, Other': 'World',\n",
       "  'Total Cases': 268078435,\n",
       "  'New Cases': 666364.0,\n",
       "  'Total Deaths': 5294736.0,\n",
       "  'New Deaths': 7895.0,\n",
       "  'Total Recovered': 239526454.0,\n",
       "  'New Recovered': 502513.0,\n",
       "  'Active Cases': 21128275.0,\n",
       "  'Serious, Critical': 88406.0,\n",
       "  'Tot Cases/1M Pop': 945186.2198900081,\n",
       "  'Deaths/1M Pop': 18668.0868424032,\n",
       "  'Total Tests': 4396053891.0,\n",
       "  'Tests/1M Pop': 15499529.306290718,\n",
       "  'Population': 7867576622.0},\n",
       " {'#': '#',\n",
       "  'Date': '09:12:2021',\n",
       "  'Country, Other': 'World',\n",
       "  'Total Cases': 268799345,\n",
       "  'New Cases': 685385.0,\n",
       "  'Total Deaths': 5303772.0,\n",
       "  'New Deaths': 8289.0,\n",
       "  'Total Recovered': 240047180.0,\n",
       "  'New Recovered': 484503.0,\n",
       "  'Active Cases': 21318219.0,\n",
       "  'Serious, Critical': 88951.0,\n",
       "  'Tot Cases/1M Pop': 945344.430400387,\n",
       "  'Deaths/1M Pop': 18652.914947815523,\n",
       "  'Total Tests': 4408221952.0,\n",
       "  'Tests/1M Pop': 15503341.610791212,\n",
       "  'Population': 7867986158.0},\n",
       " {'#': '#',\n",
       "  'Date': '10:12:2021',\n",
       "  'Country, Other': 'World',\n",
       "  'Total Cases': 269414807,\n",
       "  'New Cases': 615462.0,\n",
       "  'Total Deaths': 5311693.0,\n",
       "  'New Deaths': 7921.0,\n",
       "  'Total Recovered': 240505522.0,\n",
       "  'New Recovered': 458478.0,\n",
       "  'Active Cases': 21466184.0,\n",
       "  'Serious, Critical': 89002.0,\n",
       "  'Tot Cases/1M Pop': 944996.936785754,\n",
       "  'Deaths/1M Pop': 18631.246255690516,\n",
       "  'Total Tests': 4420443745.0,\n",
       "  'Tests/1M Pop': 15505108.441418169,\n",
       "  'Population': 7867986158.0}]"
      ]
     },
     "execution_count": 11,
     "metadata": {},
     "output_type": "execute_result"
    }
   ],
   "source": [
    "world_day_result_by_date"
   ]
  },
  {
   "cell_type": "markdown",
   "metadata": {},
   "source": [
    "### Dữ liệu của các châu lục qua các ngày\n",
    "***"
   ]
  },
  {
   "cell_type": "code",
   "execution_count": 12,
   "metadata": {},
   "outputs": [
    {
     "name": "stdout",
     "output_type": "stream",
     "text": [
      "7\n"
     ]
    }
   ],
   "source": [
    "n_continent = len(df_day['Continent'].unique())\n",
    "print(n_continent)\n",
    "\n",
    "continent_day = auto_divide_dataframe(df_day, n_continent, 'Continent')"
   ]
  },
  {
   "cell_type": "code",
   "execution_count": 13,
   "metadata": {},
   "outputs": [],
   "source": [
    "continent_day_result = []\n",
    "continent_day_result_by_date = []\n",
    "for i in range(n_continent):\n",
    "    sum_result = sum_pandas(continent_day[i])\n",
    "    if 'Other' in sum_result[-1]:\n",
    "        continue\n",
    "    continent_day_result.append(format_sum_result_day(sum_result, 0, 1, 0, day_header))\n",
    "\n",
    "    n_date = len(continent_day[i]['Date'].unique())\n",
    "    continent_day_by_date = auto_divide_dataframe(continent_day[i], n_date, 'Date')\n",
    "    tmp = []\n",
    "    for i in range(n_date):\n",
    "        sum_result = sum_pandas(continent_day_by_date[i])\n",
    "        tmp.append(format_sum_result_day(sum_result, 1, 1, 0, day_header))\n",
    "    continent_day_result_by_date.append(tmp)\n"
   ]
  },
  {
   "cell_type": "code",
   "execution_count": 14,
   "metadata": {},
   "outputs": [
    {
     "data": {
      "text/plain": [
       "[[{'#': '#',\n",
       "   'Date': '27:11:2021',\n",
       "   'Country, Other': 'Continet',\n",
       "   'Total Cases': 58755606,\n",
       "   'New Cases': 31908.0,\n",
       "   'Total Deaths': 1189535.0,\n",
       "   'New Deaths': 365.0,\n",
       "   'Total Recovered': 47318691.0,\n",
       "   'New Recovered': 26991.0,\n",
       "   'Active Cases': 10243058.0,\n",
       "   'Serious, Critical': 18606.0,\n",
       "   'Tot Cases/1M Pop': 98649.05611943116,\n",
       "   'Deaths/1M Pop': 1997.1967435929014,\n",
       "   'Total Tests': 840183502.0,\n",
       "   'Tests/1M Pop': 1410645.1295799452,\n",
       "   'Population': 595602313.0,\n",
       "   'Continent': 'North Ameica'},\n",
       "  {'#': '#',\n",
       "   'Date': '28:11:2021',\n",
       "   'Country, Other': 'Continet',\n",
       "   'Total Cases': 58782658,\n",
       "   'New Cases': 27052.0,\n",
       "   'Total Deaths': 1189929.0,\n",
       "   'New Deaths': 394.0,\n",
       "   'Total Recovered': 47343286.0,\n",
       "   'New Recovered': 24595.0,\n",
       "   'Active Cases': 10245121.0,\n",
       "   'Serious, Critical': 18720.0,\n",
       "   'Tot Cases/1M Pop': 98694.47568784039,\n",
       "   'Deaths/1M Pop': 1997.8582588211004,\n",
       "   'Total Tests': 840493991.0,\n",
       "   'Tests/1M Pop': 1411166.432122301,\n",
       "   'Population': 595602313.0,\n",
       "   'Continent': 'North Ameica'},\n",
       "  {'#': '#',\n",
       "   'Date': '29:11:2021',\n",
       "   'Country, Other': 'Continet',\n",
       "   'Total Cases': 59013061,\n",
       "   'New Cases': 81346.0,\n",
       "   'Total Deaths': 1192270.0,\n",
       "   'New Deaths': 626.0,\n",
       "   'Total Recovered': 47576647.0,\n",
       "   'New Recovered': 98837.0,\n",
       "   'Active Cases': 10239822.0,\n",
       "   'Serious, Critical': 18854.0,\n",
       "   'Tot Cases/1M Pop': 99077.12173282413,\n",
       "   'Deaths/1M Pop': 2001.703994449538,\n",
       "   'Total Tests': 844933683.0,\n",
       "   'Tests/1M Pop': 1418560.5008144628,\n",
       "   'Population': 595627527.0,\n",
       "   'Continent': 'North Ameica'},\n",
       "  {'#': '#',\n",
       "   'Date': '30:11:2021',\n",
       "   'Country, Other': 'Continet',\n",
       "   'Total Cases': 59126030,\n",
       "   'New Cases': 112969.0,\n",
       "   'Total Deaths': 1193841.0,\n",
       "   'New Deaths': 1571.0,\n",
       "   'Total Recovered': 47691722.0,\n",
       "   'New Recovered': 115075.0,\n",
       "   'Active Cases': 10236145.0,\n",
       "   'Serious, Critical': 19375.0,\n",
       "   'Tot Cases/1M Pop': 99266.78556614125,\n",
       "   'Deaths/1M Pop': 2004.341548841815,\n",
       "   'Total Tests': 846385396.0,\n",
       "   'Tests/1M Pop': 1420997.7840731998,\n",
       "   'Population': 595627527.0,\n",
       "   'Continent': 'North Ameica'},\n",
       "  {'#': '#',\n",
       "   'Date': '01:12:2021',\n",
       "   'Country, Other': 'Continet',\n",
       "   'Total Cases': 59290493,\n",
       "   'New Cases': 140693.0,\n",
       "   'Total Deaths': 1196332.0,\n",
       "   'New Deaths': 2060.0,\n",
       "   'Total Recovered': 47814059.0,\n",
       "   'New Recovered': 91377.0,\n",
       "   'Active Cases': 10275734.0,\n",
       "   'Serious, Critical': 19501.0,\n",
       "   'Tot Cases/1M Pop': 99538.68993896472,\n",
       "   'Deaths/1M Pop': 2008.4386886791701,\n",
       "   'Total Tests': 848236344.0,\n",
       "   'Tests/1M Pop': 1424045.073134693,\n",
       "   'Population': 595652736.0,\n",
       "   'Continent': 'North Ameica'},\n",
       "  {'#': '#',\n",
       "   'Date': '02:12:2021',\n",
       "   'Country, Other': 'Continet',\n",
       "   'Total Cases': 59432665,\n",
       "   'New Cases': 142172.0,\n",
       "   'Total Deaths': 1197863.0,\n",
       "   'New Deaths': 1531.0,\n",
       "   'Total Recovered': 47894833.0,\n",
       "   'New Recovered': 80774.0,\n",
       "   'Active Cases': 10335601.0,\n",
       "   'Serious, Critical': 19613.0,\n",
       "   'Tot Cases/1M Pop': 99777.3726334399,\n",
       "   'Deaths/1M Pop': 2011.0089782245204,\n",
       "   'Total Tests': 850297479.0,\n",
       "   'Tests/1M Pop': 1427505.3695044222,\n",
       "   'Population': 595652736.0,\n",
       "   'Continent': 'North Ameica'},\n",
       "  {'#': '#',\n",
       "   'Date': '03:12:2021',\n",
       "   'Country, Other': 'Continet',\n",
       "   'Total Cases': 59603308,\n",
       "   'New Cases': 156853.0,\n",
       "   'Total Deaths': 1199939.0,\n",
       "   'New Deaths': 1711.0,\n",
       "   'Total Recovered': 47978306.0,\n",
       "   'New Recovered': 83473.0,\n",
       "   'Active Cases': 10420695.0,\n",
       "   'Serious, Critical': 19747.0,\n",
       "   'Tot Cases/1M Pop': 100059.61795305605,\n",
       "   'Deaths/1M Pop': 2014.4089637939578,\n",
       "   'Total Tests': 852508728.0,\n",
       "   'Tests/1M Pop': 1431157.1033159061,\n",
       "   'Population': 595677949.0,\n",
       "   'Continent': 'North Ameica'},\n",
       "  {'#': '#',\n",
       "   'Date': '04:12:2021',\n",
       "   'Country, Other': 'Continet',\n",
       "   'Total Cases': 59668304,\n",
       "   'New Cases': 64996.0,\n",
       "   'Total Deaths': 1200661.0,\n",
       "   'New Deaths': 722.0,\n",
       "   'Total Recovered': 48018959.0,\n",
       "   'New Recovered': 40653.0,\n",
       "   'Active Cases': 10444316.0,\n",
       "   'Serious, Critical': 19734.0,\n",
       "   'Tot Cases/1M Pop': 100168.73060379142,\n",
       "   'Deaths/1M Pop': 2015.6210281337778,\n",
       "   'Total Tests': 853125033.0,\n",
       "   'Tests/1M Pop': 1432191.7311731814,\n",
       "   'Population': 595677949.0,\n",
       "   'Continent': 'North Ameica'},\n",
       "  {'#': '#',\n",
       "   'Date': '05:12:2021',\n",
       "   'Country, Other': 'Continet',\n",
       "   'Total Cases': 59802970,\n",
       "   'New Cases': 86268.0,\n",
       "   'Total Deaths': 1201949.0,\n",
       "   'New Deaths': 719.0,\n",
       "   'Total Recovered': 48083948.0,\n",
       "   'New Recovered': 50237.0,\n",
       "   'Active Cases': 10512705.0,\n",
       "   'Serious, Critical': 19790.0,\n",
       "   'Tot Cases/1M Pop': 100390.55458820015,\n",
       "   'Deaths/1M Pop': 2017.6978952171203,\n",
       "   'Total Tests': 855499429.0,\n",
       "   'Tests/1M Pop': 1436117.0043427367,\n",
       "   'Population': 595703154.0,\n",
       "   'Continent': 'North Ameica'},\n",
       "  {'#': '#',\n",
       "   'Date': '06:12:2021',\n",
       "   'Country, Other': 'Continet',\n",
       "   'Total Cases': 59897164,\n",
       "   'New Cases': 94194.0,\n",
       "   'Total Deaths': 1202738.0,\n",
       "   'New Deaths': 789.0,\n",
       "   'Total Recovered': 48212586.0,\n",
       "   'New Recovered': 128638.0,\n",
       "   'Active Cases': 10477465.0,\n",
       "   'Serious, Critical': 20012.0,\n",
       "   'Tot Cases/1M Pop': 100548.67696738768,\n",
       "   'Deaths/1M Pop': 2019.022380398543,\n",
       "   'Total Tests': 858140360.0,\n",
       "   'Tests/1M Pop': 1440550.3046908495,\n",
       "   'Population': 595703154.0,\n",
       "   'Continent': 'North Ameica'},\n",
       "  {'#': '#',\n",
       "   'Date': '07:12:2021',\n",
       "   'Country, Other': 'Continet',\n",
       "   'Total Cases': 60049905,\n",
       "   'New Cases': 128644.0,\n",
       "   'Total Deaths': 1205259.0,\n",
       "   'New Deaths': 2133.0,\n",
       "   'Total Recovered': 48294518.0,\n",
       "   'New Recovered': 77046.0,\n",
       "   'Active Cases': 10545753.0,\n",
       "   'Serious, Critical': 20385.0,\n",
       "   'Tot Cases/1M Pop': 100800.81497814454,\n",
       "   'Deaths/1M Pop': 2023.168720412522,\n",
       "   'Total Tests': 860161718.0,\n",
       "   'Tests/1M Pop': 1443882.4205866926,\n",
       "   'Population': 595728368.0,\n",
       "   'Continent': 'North Ameica'},\n",
       "  {'#': '#',\n",
       "   'Date': '08:12:2021',\n",
       "   'Country, Other': 'Continet',\n",
       "   'Total Cases': 60186773,\n",
       "   'New Cases': 136868.0,\n",
       "   'Total Deaths': 1206942.0,\n",
       "   'New Deaths': 1683.0,\n",
       "   'Total Recovered': 48373999.0,\n",
       "   'New Recovered': 79481.0,\n",
       "   'Active Cases': 10601457.0,\n",
       "   'Serious, Critical': 20465.0,\n",
       "   'Tot Cases/1M Pop': 101030.56398348315,\n",
       "   'Deaths/1M Pop': 2025.9938334848607,\n",
       "   'Total Tests': 862047946.0,\n",
       "   'Tests/1M Pop': 1447048.6757145666,\n",
       "   'Population': 595728368.0,\n",
       "   'Continent': 'North Ameica'},\n",
       "  {'#': '#',\n",
       "   'Date': '09:12:2021',\n",
       "   'Country, Other': 'Continet',\n",
       "   'Total Cases': 60342707,\n",
       "   'New Cases': 143311.0,\n",
       "   'Total Deaths': 1209150.0,\n",
       "   'New Deaths': 1777.0,\n",
       "   'Total Recovered': 48446080.0,\n",
       "   'New Recovered': 71979.0,\n",
       "   'Active Cases': 10683102.0,\n",
       "   'Serious, Critical': 20584.0,\n",
       "   'Tot Cases/1M Pop': 101288.03120675508,\n",
       "   'Deaths/1M Pop': 2029.6143315819077,\n",
       "   'Total Tests': 864129178.0,\n",
       "   'Tests/1M Pop': 1450480.8865789135,\n",
       "   'Population': 595753578.0,\n",
       "   'Continent': 'North Ameica'},\n",
       "  {'#': '#',\n",
       "   'Date': '10:12:2021',\n",
       "   'Country, Other': 'Continet',\n",
       "   'Total Cases': 60490106,\n",
       "   'New Cases': 147399.0,\n",
       "   'Total Deaths': 1211102.0,\n",
       "   'New Deaths': 1952.0,\n",
       "   'Total Recovered': 48525762.0,\n",
       "   'New Recovered': 79682.0,\n",
       "   'Active Cases': 10748867.0,\n",
       "   'Serious, Critical': 20755.0,\n",
       "   'Tot Cases/1M Pop': 101535.44726172001,\n",
       "   'Deaths/1M Pop': 2032.890854077254,\n",
       "   'Total Tests': 866670485.0,\n",
       "   'Tests/1M Pop': 1454746.5881942215,\n",
       "   'Population': 595753578.0,\n",
       "   'Continent': 'North Ameica'}],\n",
       " [{'#': '#',\n",
       "   'Date': '27:11:2021',\n",
       "   'Country, Other': 'Continet',\n",
       "   'Total Cases': 81874608,\n",
       "   'New Cases': 87041.0,\n",
       "   'Total Deaths': 1210212.0,\n",
       "   'New Deaths': 1630.0,\n",
       "   'Total Recovered': 79143052.0,\n",
       "   'New Recovered': 84218.0,\n",
       "   'Active Cases': 1521344.0,\n",
       "   'Serious, Critical': 29063.0,\n",
       "   'Tot Cases/1M Pop': 17580.546797759613,\n",
       "   'Deaths/1M Pop': 259.86309090127503,\n",
       "   'Total Tests': 1585765381.0,\n",
       "   'Tests/1M Pop': 340503.88969114335,\n",
       "   'Population': 4657113851.0,\n",
       "   'Continent': 'Asia'},\n",
       "  {'#': '#',\n",
       "   'Date': '28:11:2021',\n",
       "   'Country, Other': 'Continet',\n",
       "   'Total Cases': 81952150,\n",
       "   'New Cases': 77542.0,\n",
       "   'Total Deaths': 1211264.0,\n",
       "   'New Deaths': 1052.0,\n",
       "   'Total Recovered': 79217926.0,\n",
       "   'New Recovered': 74874.0,\n",
       "   'Active Cases': 1522960.0,\n",
       "   'Serious, Critical': 29644.0,\n",
       "   'Tot Cases/1M Pop': 17597.197024161822,\n",
       "   'Deaths/1M Pop': 260.0889818787469,\n",
       "   'Total Tests': 1587501116.0,\n",
       "   'Tests/1M Pop': 340876.59584682976,\n",
       "   'Population': 4657113851.0,\n",
       "   'Continent': 'Asia'},\n",
       "  {'#': '#',\n",
       "   'Date': '29:11:2021',\n",
       "   'Country, Other': 'Continet',\n",
       "   'Total Cases': 82035881,\n",
       "   'New Cases': 79819.0,\n",
       "   'Total Deaths': 1212640.0,\n",
       "   'New Deaths': 1158.0,\n",
       "   'Total Recovered': 79311197.0,\n",
       "   'New Recovered': 93437.0,\n",
       "   'Active Cases': 1512044.0,\n",
       "   'Serious, Critical': 29720.0,\n",
       "   'Tot Cases/1M Pop': 17614.48123773737,\n",
       "   'Deaths/1M Pop': 260.37417124989304,\n",
       "   'Total Tests': 1592234892.0,\n",
       "   'Tests/1M Pop': 341879.56890722964,\n",
       "   'Population': 4657297589.0,\n",
       "   'Continent': 'Asia'},\n",
       "  {'#': '#',\n",
       "   'Date': '30:11:2021',\n",
       "   'Country, Other': 'Continet',\n",
       "   'Total Cases': 82124471,\n",
       "   'New Cases': 88590.0,\n",
       "   'Total Deaths': 1213907.0,\n",
       "   'New Deaths': 1267.0,\n",
       "   'Total Recovered': 79403867.0,\n",
       "   'New Recovered': 92670.0,\n",
       "   'Active Cases': 1506697.0,\n",
       "   'Serious, Critical': 29099.0,\n",
       "   'Tot Cases/1M Pop': 17633.50299838441,\n",
       "   'Deaths/1M Pop': 260.6462174259829,\n",
       "   'Total Tests': 1594188014.0,\n",
       "   'Tests/1M Pop': 342298.93699841906,\n",
       "   'Population': 4657297589.0,\n",
       "   'Continent': 'Asia'},\n",
       "  {'#': '#',\n",
       "   'Date': '01:12:2021',\n",
       "   'Country, Other': 'Continet',\n",
       "   'Total Cases': 82214759,\n",
       "   'New Cases': 90435.0,\n",
       "   'Total Deaths': 1215458.0,\n",
       "   'New Deaths': 1551.0,\n",
       "   'Total Recovered': 79494700.0,\n",
       "   'New Recovered': 80390.0,\n",
       "   'Active Cases': 1504601.0,\n",
       "   'Serious, Critical': 30870.0,\n",
       "   'Tot Cases/1M Pop': 17652.192936499516,\n",
       "   'Deaths/1M Pop': 260.9689474637009,\n",
       "   'Total Tests': 1597093171.0,\n",
       "   'Tests/1M Pop': 342909.19458947534,\n",
       "   'Population': 4657481328.0,\n",
       "   'Continent': 'Asia'},\n",
       "  {'#': '#',\n",
       "   'Date': '02:12:2021',\n",
       "   'Country, Other': 'Continet',\n",
       "   'Total Cases': 82301358,\n",
       "   'New Cases': 86599.0,\n",
       "   'Total Deaths': 1216781.0,\n",
       "   'New Deaths': 1323.0,\n",
       "   'Total Recovered': 79583316.0,\n",
       "   'New Recovered': 88616.0,\n",
       "   'Active Cases': 1501261.0,\n",
       "   'Serious, Critical': 30567.0,\n",
       "   'Tot Cases/1M Pop': 17670.78646246373,\n",
       "   'Deaths/1M Pop': 261.2530065735134,\n",
       "   'Total Tests': 1599886913.0,\n",
       "   'Tests/1M Pop': 343509.03424598766,\n",
       "   'Population': 4657481328.0,\n",
       "   'Continent': 'Asia'},\n",
       "  {'#': '#',\n",
       "   'Date': '03:12:2021',\n",
       "   'Country, Other': 'Continet',\n",
       "   'Total Cases': 82386227,\n",
       "   'New Cases': 84194.0,\n",
       "   'Total Deaths': 1218235.0,\n",
       "   'New Deaths': 1452.0,\n",
       "   'Total Recovered': 79655456.0,\n",
       "   'New Recovered': 72302.0,\n",
       "   'Active Cases': 1512536.0,\n",
       "   'Serious, Critical': 29832.0,\n",
       "   'Tot Cases/1M Pop': 17688.310737799195,\n",
       "   'Deaths/1M Pop': 261.55487411339766,\n",
       "   'Total Tests': 1603961108.0,\n",
       "   'Tests/1M Pop': 344370.21238572674,\n",
       "   'Population': 4657665066.0,\n",
       "   'Continent': 'Asia'},\n",
       "  {'#': '#',\n",
       "   'Date': '04:12:2021',\n",
       "   'Country, Other': 'Continet',\n",
       "   'Total Cases': 82465582,\n",
       "   'New Cases': 79355.0,\n",
       "   'Total Deaths': 1219433.0,\n",
       "   'New Deaths': 1198.0,\n",
       "   'Total Recovered': 79718810.0,\n",
       "   'New Recovered': 63354.0,\n",
       "   'Active Cases': 1527339.0,\n",
       "   'Serious, Critical': 30021.0,\n",
       "   'Tot Cases/1M Pop': 17705.348244548935,\n",
       "   'Deaths/1M Pop': 261.8120845360073,\n",
       "   'Total Tests': 1606965111.0,\n",
       "   'Tests/1M Pop': 345015.17138501775,\n",
       "   'Population': 4657665066.0,\n",
       "   'Continent': 'Asia'},\n",
       "  {'#': '#',\n",
       "   'Date': '05:12:2021',\n",
       "   'Country, Other': 'Continet',\n",
       "   'Total Cases': 82544385,\n",
       "   'New Cases': 78617.0,\n",
       "   'Total Deaths': 1223335.0,\n",
       "   'New Deaths': 1185.0,\n",
       "   'Total Recovered': 79789963.0,\n",
       "   'New Recovered': 71301.0,\n",
       "   'Active Cases': 1531087.0,\n",
       "   'Serious, Critical': 30144.0,\n",
       "   'Tot Cases/1M Pop': 17721.568158734226,\n",
       "   'Deaths/1M Pop': 262.6394827881404,\n",
       "   'Total Tests': 1613875121.0,\n",
       "   'Tests/1M Pop': 346485.08140786254,\n",
       "   'Population': 4657848801.0,\n",
       "   'Continent': 'Asia'},\n",
       "  {'#': '#',\n",
       "   'Date': '06:12:2021',\n",
       "   'Country, Other': 'Continet',\n",
       "   'Total Cases': 82619072,\n",
       "   'New Cases': 74687.0,\n",
       "   'Total Deaths': 1224506.0,\n",
       "   'New Deaths': 1171.0,\n",
       "   'Total Recovered': 79865931.0,\n",
       "   'New Recovered': 75968.0,\n",
       "   'Active Cases': 1528635.0,\n",
       "   'Serious, Critical': 29992.0,\n",
       "   'Tot Cases/1M Pop': 17737.602814042053,\n",
       "   'Deaths/1M Pop': 262.8908863974093,\n",
       "   'Total Tests': 1616960857.0,\n",
       "   'Tests/1M Pop': 347147.5623366848,\n",
       "   'Population': 4657848801.0,\n",
       "   'Continent': 'Asia'},\n",
       "  {'#': '#',\n",
       "   'Date': '07:12:2021',\n",
       "   'Country, Other': 'Continet',\n",
       "   'Total Cases': 82703956,\n",
       "   'New Cases': 85080.0,\n",
       "   'Total Deaths': 1225703.0,\n",
       "   'New Deaths': 1197.0,\n",
       "   'Total Recovered': 79942641.0,\n",
       "   'New Recovered': 76900.0,\n",
       "   'Active Cases': 1535612.0,\n",
       "   'Serious, Critical': 30069.0,\n",
       "   'Tot Cases/1M Pop': 17755.126280094588,\n",
       "   'Deaths/1M Pop': 263.1374918376429,\n",
       "   'Total Tests': 1620009844.0,\n",
       "   'Tests/1M Pop': 347788.43414958694,\n",
       "   'Population': 4658032542.0,\n",
       "   'Continent': 'Asia'},\n",
       "  {'#': '#',\n",
       "   'Date': '08:12:2021',\n",
       "   'Country, Other': 'Continet',\n",
       "   'Total Cases': 82789884,\n",
       "   'New Cases': 85928.0,\n",
       "   'Total Deaths': 1226920.0,\n",
       "   'New Deaths': 1217.0,\n",
       "   'Total Recovered': 80045587.0,\n",
       "   'New Recovered': 102946.0,\n",
       "   'Active Cases': 1517377.0,\n",
       "   'Serious, Critical': 30430.0,\n",
       "   'Tot Cases/1M Pop': 17773.573553535727,\n",
       "   'Deaths/1M Pop': 263.3987609440793,\n",
       "   'Total Tests': 1623549710.0,\n",
       "   'Tests/1M Pop': 348548.38289792265,\n",
       "   'Population': 4658032542.0,\n",
       "   'Continent': 'Asia'},\n",
       "  {'#': '#',\n",
       "   'Date': '09:12:2021',\n",
       "   'Country, Other': 'Continet',\n",
       "   'Total Cases': 82874134,\n",
       "   'New Cases': 84304.0,\n",
       "   'Total Deaths': 1228651.0,\n",
       "   'New Deaths': 1727.0,\n",
       "   'Total Recovered': 80146988.0,\n",
       "   'New Recovered': 101863.0,\n",
       "   'Active Cases': 1498495.0,\n",
       "   'Serious, Critical': 30592.0,\n",
       "   'Tot Cases/1M Pop': 17790.95882121449,\n",
       "   'Deaths/1M Pop': 263.7599730048945,\n",
       "   'Total Tests': 1628495147.0,\n",
       "   'Tests/1M Pop': 349596.29383064975,\n",
       "   'Population': 4658216279.0,\n",
       "   'Continent': 'Asia'},\n",
       "  {'#': '#',\n",
       "   'Date': '10:12:2021',\n",
       "   'Country, Other': 'Continet',\n",
       "   'Total Cases': 82954420,\n",
       "   'New Cases': 80286.0,\n",
       "   'Total Deaths': 1229918.0,\n",
       "   'New Deaths': 1267.0,\n",
       "   'Total Recovered': 80220894.0,\n",
       "   'New Recovered': 73906.0,\n",
       "   'Active Cases': 1503608.0,\n",
       "   'Serious, Critical': 30527.0,\n",
       "   'Tot Cases/1M Pop': 17808.194173802553,\n",
       "   'Deaths/1M Pop': 264.0319655282369,\n",
       "   'Total Tests': 1630371805.0,\n",
       "   'Tests/1M Pop': 349999.164347517,\n",
       "   'Population': 4658216279.0,\n",
       "   'Continent': 'Asia'}],\n",
       " [{'#': '#',\n",
       "   'Date': '27:11:2021',\n",
       "   'Country, Other': 'Continet',\n",
       "   'Total Cases': 38941468,\n",
       "   'New Cases': 20069.0,\n",
       "   'Total Deaths': 1180956.0,\n",
       "   'New Deaths': 412.0,\n",
       "   'Total Recovered': 35295327.0,\n",
       "   'New Recovered': 13437.0,\n",
       "   'Active Cases': 433428.0,\n",
       "   'Serious, Critical': 12633.0,\n",
       "   'Tot Cases/1M Pop': 89364.68170720067,\n",
       "   'Deaths/1M Pop': 2710.112444918842,\n",
       "   'Total Tests': 178437211.0,\n",
       "   'Tests/1M Pop': 409485.964055993,\n",
       "   'Population': 435759041.0,\n",
       "   'Continent': 'South America'},\n",
       "  {'#': '#',\n",
       "   'Date': '28:11:2021',\n",
       "   'Country, Other': 'Continet',\n",
       "   'Total Cases': 38952527,\n",
       "   'New Cases': 11059.0,\n",
       "   'Total Deaths': 1181153.0,\n",
       "   'New Deaths': 197.0,\n",
       "   'Total Recovered': 35307976.0,\n",
       "   'New Recovered': 12649.0,\n",
       "   'Active Cases': 431641.0,\n",
       "   'Serious, Critical': 12641.0,\n",
       "   'Tot Cases/1M Pop': 89390.06041185041,\n",
       "   'Deaths/1M Pop': 2710.5645296295756,\n",
       "   'Total Tests': 178587866.0,\n",
       "   'Tests/1M Pop': 409831.69411739183,\n",
       "   'Population': 435759041.0,\n",
       "   'Continent': 'South America'},\n",
       "  {'#': '#',\n",
       "   'Date': '29:11:2021',\n",
       "   'Country, Other': 'Continet',\n",
       "   'Total Cases': 38968594,\n",
       "   'New Cases': 12373.0,\n",
       "   'Total Deaths': 1181581.0,\n",
       "   'New Deaths': 285.0,\n",
       "   'Total Recovered': 35326078.0,\n",
       "   'New Recovered': 18102.0,\n",
       "   'Active Cases': 427030.0,\n",
       "   'Serious, Critical': 12670.0,\n",
       "   'Tot Cases/1M Pop': 89422.94854318073,\n",
       "   'Deaths/1M Pop': 2711.425948870519,\n",
       "   'Total Tests': 178849918.0,\n",
       "   'Tests/1M Pop': 410414.78207466484,\n",
       "   'Population': 435778451.0,\n",
       "   'Continent': 'South America'},\n",
       "  {'#': '#',\n",
       "   'Date': '30:11:2021',\n",
       "   'Country, Other': 'Continet',\n",
       "   'Total Cases': 38987221,\n",
       "   'New Cases': 18627.0,\n",
       "   'Total Deaths': 1182048.0,\n",
       "   'New Deaths': 467.0,\n",
       "   'Total Recovered': 35350629.0,\n",
       "   'New Recovered': 24551.0,\n",
       "   'Active Cases': 419290.0,\n",
       "   'Serious, Critical': 12690.0,\n",
       "   'Tot Cases/1M Pop': 89465.69274027733,\n",
       "   'Deaths/1M Pop': 2712.4975943337777,\n",
       "   'Total Tests': 179050576.0,\n",
       "   'Tests/1M Pop': 410875.240822773,\n",
       "   'Population': 435778451.0,\n",
       "   'Continent': 'South America'},\n",
       "  {'#': '#',\n",
       "   'Date': '01:12:2021',\n",
       "   'Country, Other': 'Continet',\n",
       "   'Total Cases': 39008494,\n",
       "   'New Cases': 20624.0,\n",
       "   'Total Deaths': 1182464.0,\n",
       "   'New Deaths': 405.0,\n",
       "   'Total Recovered': 35375542.0,\n",
       "   'New Recovered': 24254.0,\n",
       "   'Active Cases': 413772.0,\n",
       "   'Serious, Critical': 12706.0,\n",
       "   'Tot Cases/1M Pop': 89510.52194356686,\n",
       "   'Deaths/1M Pop': 2713.3313534092817,\n",
       "   'Total Tests': 179253549.0,\n",
       "   'Tests/1M Pop': 411322.69118686655,\n",
       "   'Population': 435797861.0,\n",
       "   'Continent': 'South America'},\n",
       "  {'#': '#',\n",
       "   'Date': '02:12:2021',\n",
       "   'Country, Other': 'Continet',\n",
       "   'Total Cases': 39032485,\n",
       "   'New Cases': 23991.0,\n",
       "   'Total Deaths': 1182888.0,\n",
       "   'New Deaths': 424.0,\n",
       "   'Total Recovered': 35394847.0,\n",
       "   'New Recovered': 19305.0,\n",
       "   'Active Cases': 416528.0,\n",
       "   'Serious, Critical': 12717.0,\n",
       "   'Tot Cases/1M Pop': 89565.57269564019,\n",
       "   'Deaths/1M Pop': 2714.304281543961,\n",
       "   'Total Tests': 179490862.0,\n",
       "   'Tests/1M Pop': 411867.239522775,\n",
       "   'Population': 435797861.0,\n",
       "   'Continent': 'South America'},\n",
       "  {'#': '#',\n",
       "   'Date': '03:12:2021',\n",
       "   'Country, Other': 'Continet',\n",
       "   'Total Cases': 39053513,\n",
       "   'New Cases': 21028.0,\n",
       "   'Total Deaths': 1183281.0,\n",
       "   'New Deaths': 393.0,\n",
       "   'Total Recovered': 35408010.0,\n",
       "   'New Recovered': 13163.0,\n",
       "   'Active Cases': 422438.0,\n",
       "   'Serious, Critical': 12732.0,\n",
       "   'Tot Cases/1M Pop': 89609.83329180637,\n",
       "   'Deaths/1M Pop': 2715.085148610368,\n",
       "   'Total Tests': 179735110.0,\n",
       "   'Tests/1M Pop': 412409.33290135715,\n",
       "   'Population': 435817271.0,\n",
       "   'Continent': 'South America'},\n",
       "  {'#': '#',\n",
       "   'Date': '04:12:2021',\n",
       "   'Country, Other': 'Continet',\n",
       "   'Total Cases': 39072413,\n",
       "   'New Cases': 18900.0,\n",
       "   'Total Deaths': 1183564.0,\n",
       "   'New Deaths': 283.0,\n",
       "   'Total Recovered': 35418118.0,\n",
       "   'New Recovered': 10108.0,\n",
       "   'Active Cases': 429362.0,\n",
       "   'Serious, Critical': 12737.0,\n",
       "   'Tot Cases/1M Pop': 89653.2000908243,\n",
       "   'Deaths/1M Pop': 2715.7345033258216,\n",
       "   'Total Tests': 179938960.0,\n",
       "   'Tests/1M Pop': 412877.07480505056,\n",
       "   'Population': 435817271.0,\n",
       "   'Continent': 'South America'},\n",
       "  {'#': '#',\n",
       "   'Date': '05:12:2021',\n",
       "   'Country, Other': 'Continet',\n",
       "   'Total Cases': 39087594,\n",
       "   'New Cases': 12877.0,\n",
       "   'Total Deaths': 1183988.0,\n",
       "   'New Deaths': 190.0,\n",
       "   'Total Recovered': 35430091.0,\n",
       "   'New Recovered': 11973.0,\n",
       "   'Active Cases': 431396.0,\n",
       "   'Serious, Critical': 12741.0,\n",
       "   'Tot Cases/1M Pop': 89684.03964917327,\n",
       "   'Deaths/1M Pop': 2716.5864119481325,\n",
       "   'Total Tests': 180157848.0,\n",
       "   'Tests/1M Pop': 413360.91403174447,\n",
       "   'Population': 435836679.0,\n",
       "   'Continent': 'South America'},\n",
       "  {'#': '#',\n",
       "   'Date': '06:12:2021',\n",
       "   'Country, Other': 'Continet',\n",
       "   'Total Cases': 39098555,\n",
       "   'New Cases': 10961.0,\n",
       "   'Total Deaths': 1184222.0,\n",
       "   'New Deaths': 234.0,\n",
       "   'Total Recovered': 35446020.0,\n",
       "   'New Recovered': 15929.0,\n",
       "   'Active Cases': 426194.0,\n",
       "   'Serious, Critical': 12759.0,\n",
       "   'Tot Cases/1M Pop': 89709.18897810343,\n",
       "   'Deaths/1M Pop': 2717.123310312302,\n",
       "   'Total Tests': 180326272.0,\n",
       "   'Tests/1M Pop': 413747.3523654488,\n",
       "   'Population': 435836679.0,\n",
       "   'Continent': 'South America'},\n",
       "  {'#': '#',\n",
       "   'Date': '07:12:2021',\n",
       "   'Country, Other': 'Continet',\n",
       "   'Total Cases': 39121372,\n",
       "   'New Cases': 20436.0,\n",
       "   'Total Deaths': 1184711.0,\n",
       "   'New Deaths': 434.0,\n",
       "   'Total Recovered': 35470415.0,\n",
       "   'New Recovered': 23835.0,\n",
       "   'Active Cases': 420980.0,\n",
       "   'Serious, Critical': 12806.0,\n",
       "   'Tot Cases/1M Pop': 89757.5438024912,\n",
       "   'Deaths/1M Pop': 2718.124238480009,\n",
       "   'Total Tests': 180554230.0,\n",
       "   'Tests/1M Pop': 414251.9390155864,\n",
       "   'Population': 435856089.0,\n",
       "   'Continent': 'South America'},\n",
       "  {'#': '#',\n",
       "   'Date': '08:12:2021',\n",
       "   'Country, Other': 'Continet',\n",
       "   'Total Cases': 39140755,\n",
       "   'New Cases': 19383.0,\n",
       "   'Total Deaths': 1185081.0,\n",
       "   'New Deaths': 370.0,\n",
       "   'Total Recovered': 35490197.0,\n",
       "   'New Recovered': 19782.0,\n",
       "   'Active Cases': 418437.0,\n",
       "   'Serious, Critical': 12791.0,\n",
       "   'Tot Cases/1M Pop': 89802.0149031347,\n",
       "   'Deaths/1M Pop': 2718.973142531915,\n",
       "   'Total Tests': 180752971.0,\n",
       "   'Tests/1M Pop': 414707.91750255896,\n",
       "   'Population': 435856089.0,\n",
       "   'Continent': 'South America'},\n",
       "  {'#': '#',\n",
       "   'Date': '09:12:2021',\n",
       "   'Country, Other': 'Continet',\n",
       "   'Total Cases': 39160785,\n",
       "   'New Cases': 19291.0,\n",
       "   'Total Deaths': 1185468.0,\n",
       "   'New Deaths': 383.0,\n",
       "   'Total Recovered': 35506422.0,\n",
       "   'New Recovered': 16225.0,\n",
       "   'Active Cases': 420668.0,\n",
       "   'Serious, Critical': 12798.0,\n",
       "   'Tot Cases/1M Pop': 89843.96941292632,\n",
       "   'Deaths/1M Pop': 2719.7399319753918,\n",
       "   'Total Tests': 180936630.0,\n",
       "   'Tests/1M Pop': 415110.80667555484,\n",
       "   'Population': 435875499.0,\n",
       "   'Continent': 'South America'},\n",
       "  {'#': '#',\n",
       "   'Date': '10:12:2021',\n",
       "   'Country, Other': 'Continet',\n",
       "   'Total Cases': 39179372,\n",
       "   'New Cases': 18587.0,\n",
       "   'Total Deaths': 1185953.0,\n",
       "   'New Deaths': 485.0,\n",
       "   'Total Recovered': 35514245.0,\n",
       "   'New Recovered': 7823.0,\n",
       "   'Active Cases': 429714.0,\n",
       "   'Serious, Critical': 12803.0,\n",
       "   'Tot Cases/1M Pop': 89886.61232367181,\n",
       "   'Deaths/1M Pop': 2720.852635031913,\n",
       "   'Total Tests': 181147841.0,\n",
       "   'Tests/1M Pop': 415595.37394415465,\n",
       "   'Population': 435875499.0,\n",
       "   'Continent': 'South America'}],\n",
       " [{'#': '#',\n",
       "   'Date': '27:11:2021',\n",
       "   'Country, Other': 'Continet',\n",
       "   'Total Cases': 72711125,\n",
       "   'New Cases': 337747.0,\n",
       "   'Total Deaths': 1404476.0,\n",
       "   'New Deaths': 3483.0,\n",
       "   'Total Recovered': 64149346.0,\n",
       "   'New Recovered': 244225.0,\n",
       "   'Active Cases': 7157303.0,\n",
       "   'Serious, Critical': 20808.0,\n",
       "   'Tot Cases/1M Pop': 97172.87544290487,\n",
       "   'Deaths/1M Pop': 1876.9751040236176,\n",
       "   'Total Tests': 1536977264.0,\n",
       "   'Tests/1M Pop': 2054052.9421494815,\n",
       "   'Population': 748265652.0,\n",
       "   'Continent': 'Europe'},\n",
       "  {'#': '#',\n",
       "   'Date': '28:11:2021',\n",
       "   'Country, Other': 'Continet',\n",
       "   'Total Cases': 72976391,\n",
       "   'New Cases': 265266.0,\n",
       "   'Total Deaths': 1407011.0,\n",
       "   'New Deaths': 2535.0,\n",
       "   'Total Recovered': 64338153.0,\n",
       "   'New Recovered': 188807.0,\n",
       "   'Active Cases': 7231227.0,\n",
       "   'Serious, Critical': 20853.0,\n",
       "   'Tot Cases/1M Pop': 97527.38322939885,\n",
       "   'Deaths/1M Pop': 1880.3629382683464,\n",
       "   'Total Tests': 1539563873.0,\n",
       "   'Tests/1M Pop': 2057509.7478883073,\n",
       "   'Population': 748265652.0,\n",
       "   'Continent': 'Europe'},\n",
       "  {'#': '#',\n",
       "   'Date': '29:11:2021',\n",
       "   'Country, Other': 'Continet',\n",
       "   'Total Cases': 73326683,\n",
       "   'New Cases': 294719.0,\n",
       "   'Total Deaths': 1410843.0,\n",
       "   'New Deaths': 3589.0,\n",
       "   'Total Recovered': 64622421.0,\n",
       "   'New Recovered': 233859.0,\n",
       "   'Active Cases': 7293419.0,\n",
       "   'Serious, Critical': 21047.0,\n",
       "   'Tot Cases/1M Pop': 97995.20000657947,\n",
       "   'Deaths/1M Pop': 1885.4779229940427,\n",
       "   'Total Tests': 1544638798.0,\n",
       "   'Tests/1M Pop': 2064285.219991916,\n",
       "   'Population': 748268109.0,\n",
       "   'Continent': 'Europe'},\n",
       "  {'#': '#',\n",
       "   'Date': '30:11:2021',\n",
       "   'Country, Other': 'Continet',\n",
       "   'Total Cases': 73682676,\n",
       "   'New Cases': 355993.0,\n",
       "   'Total Deaths': 1415264.0,\n",
       "   'New Deaths': 4421.0,\n",
       "   'Total Recovered': 64895195.0,\n",
       "   'New Recovered': 272774.0,\n",
       "   'Active Cases': 7372217.0,\n",
       "   'Serious, Critical': 21533.0,\n",
       "   'Tot Cases/1M Pop': 98470.95594982787,\n",
       "   'Deaths/1M Pop': 1891.3862330594127,\n",
       "   'Total Tests': 1549257163.0,\n",
       "   'Tests/1M Pop': 2070457.292467612,\n",
       "   'Population': 748268109.0,\n",
       "   'Continent': 'Europe'},\n",
       "  {'#': '#',\n",
       "   'Date': '01:12:2021',\n",
       "   'Country, Other': 'Continet',\n",
       "   'Total Cases': 74106463,\n",
       "   'New Cases': 416308.0,\n",
       "   'Total Deaths': 1419732.0,\n",
       "   'New Deaths': 4364.0,\n",
       "   'Total Recovered': 65143210.0,\n",
       "   'New Recovered': 259246.0,\n",
       "   'Active Cases': 7543521.0,\n",
       "   'Serious, Critical': 22015.0,\n",
       "   'Tot Cases/1M Pop': 99036.98870633105,\n",
       "   'Deaths/1M Pop': 1897.3511399406118,\n",
       "   'Total Tests': 1553561665.0,\n",
       "   'Tests/1M Pop': 2076203.111612463,\n",
       "   'Population': 748270560.0,\n",
       "   'Continent': 'Europe'},\n",
       "  {'#': '#',\n",
       "   'Date': '02:12:2021',\n",
       "   'Country, Other': 'Continet',\n",
       "   'Total Cases': 74529712,\n",
       "   'New Cases': 423249.0,\n",
       "   'Total Deaths': 1423846.0,\n",
       "   'New Deaths': 4114.0,\n",
       "   'Total Recovered': 65391439.0,\n",
       "   'New Recovered': 248229.0,\n",
       "   'Active Cases': 7714427.0,\n",
       "   'Serious, Critical': 22111.0,\n",
       "   'Tot Cases/1M Pop': 99602.6250184158,\n",
       "   'Deaths/1M Pop': 1902.8491512481796,\n",
       "   'Total Tests': 1558017048.0,\n",
       "   'Tests/1M Pop': 2082157.3522817735,\n",
       "   'Population': 748270560.0,\n",
       "   'Continent': 'Europe'},\n",
       "  {'#': '#',\n",
       "   'Date': '03:12:2021',\n",
       "   'Country, Other': 'Continet',\n",
       "   'Total Cases': 74957089,\n",
       "   'New Cases': 420727.0,\n",
       "   'Total Deaths': 1428266.0,\n",
       "   'New Deaths': 4242.0,\n",
       "   'Total Recovered': 65727109.0,\n",
       "   'New Recovered': 275579.0,\n",
       "   'Active Cases': 7801714.0,\n",
       "   'Serious, Critical': 22289.0,\n",
       "   'Tot Cases/1M Pop': 100173.44912492014,\n",
       "   'Deaths/1M Pop': 1908.7498380287045,\n",
       "   'Total Tests': 1564782593.0,\n",
       "   'Tests/1M Pop': 2091192.061519973,\n",
       "   'Population': 748273017.0,\n",
       "   'Continent': 'Europe'},\n",
       "  {'#': '#',\n",
       "   'Date': '04:12:2021',\n",
       "   'Country, Other': 'Continet',\n",
       "   'Total Cases': 75301890,\n",
       "   'New Cases': 344801.0,\n",
       "   'Total Deaths': 1431647.0,\n",
       "   'New Deaths': 3381.0,\n",
       "   'Total Recovered': 65985845.0,\n",
       "   'New Recovered': 258736.0,\n",
       "   'Active Cases': 7884398.0,\n",
       "   'Serious, Critical': 22222.0,\n",
       "   'Tot Cases/1M Pop': 100634.24484007554,\n",
       "   'Deaths/1M Pop': 1913.2682423052013,\n",
       "   'Total Tests': 1573031053.0,\n",
       "   'Tests/1M Pop': 2102215.3909901045,\n",
       "   'Population': 748273017.0,\n",
       "   'Continent': 'Europe'},\n",
       "  {'#': '#',\n",
       "   'Date': '05:12:2021',\n",
       "   'Country, Other': 'Continet',\n",
       "   'Total Cases': 75598906,\n",
       "   'New Cases': 280441.0,\n",
       "   'Total Deaths': 1434130.0,\n",
       "   'New Deaths': 2384.0,\n",
       "   'Total Recovered': 66213843.0,\n",
       "   'New Recovered': 201443.0,\n",
       "   'Active Cases': 7950933.0,\n",
       "   'Serious, Critical': 22136.0,\n",
       "   'Tot Cases/1M Pop': 101030.84843323356,\n",
       "   'Deaths/1M Pop': 1916.5802566448942,\n",
       "   'Total Tests': 1577479371.0,\n",
       "   'Tests/1M Pop': 2108153.248117818,\n",
       "   'Population': 748275474.0,\n",
       "   'Continent': 'Europe'},\n",
       "  {'#': '#',\n",
       "   'Date': '06:12:2021',\n",
       "   'Country, Other': 'Continet',\n",
       "   'Total Cases': 75855108,\n",
       "   'New Cases': 256202.0,\n",
       "   'Total Deaths': 1437405.0,\n",
       "   'New Deaths': 3275.0,\n",
       "   'Total Recovered': 66471276.0,\n",
       "   'New Recovered': 257433.0,\n",
       "   'Active Cases': 7946427.0,\n",
       "   'Serious, Critical': 22316.0,\n",
       "   'Tot Cases/1M Pop': 101373.23838038824,\n",
       "   'Deaths/1M Pop': 1920.9569870253424,\n",
       "   'Total Tests': 1581143897.0,\n",
       "   'Tests/1M Pop': 2113050.543468701,\n",
       "   'Population': 748275474.0,\n",
       "   'Continent': 'Europe'},\n",
       "  {'#': '#',\n",
       "   'Date': '07:12:2021',\n",
       "   'Country, Other': 'Continet',\n",
       "   'Total Cases': 76297484,\n",
       "   'New Cases': 367513.0,\n",
       "   'Total Deaths': 1442291.0,\n",
       "   'New Deaths': 4307.0,\n",
       "   'Total Recovered': 66837572.0,\n",
       "   'New Recovered': 290376.0,\n",
       "   'Active Cases': 8017621.0,\n",
       "   'Serious, Critical': 22677.0,\n",
       "   'Tot Cases/1M Pop': 101964.09802428383,\n",
       "   'Deaths/1M Pop': 1927.480346580529,\n",
       "   'Total Tests': 1588868008.0,\n",
       "   'Tests/1M Pop': 2123366.1298105265,\n",
       "   'Population': 748277928.0,\n",
       "   'Continent': 'Europe'},\n",
       "  {'#': '#',\n",
       "   'Date': '08:12:2021',\n",
       "   'Country, Other': 'Continet',\n",
       "   'Total Cases': 76689792,\n",
       "   'New Cases': 392308.0,\n",
       "   'Total Deaths': 1446753.0,\n",
       "   'New Deaths': 4462.0,\n",
       "   'Total Recovered': 67127213.0,\n",
       "   'New Recovered': 289641.0,\n",
       "   'Active Cases': 8115826.0,\n",
       "   'Serious, Critical': 22775.0,\n",
       "   'Tot Cases/1M Pop': 102488.37915742985,\n",
       "   'Deaths/1M Pop': 1933.4433715917382,\n",
       "   'Total Tests': 1592935344.0,\n",
       "   'Tests/1M Pop': 2128801.725125855,\n",
       "   'Population': 748277928.0,\n",
       "   'Continent': 'Europe'},\n",
       "  {'#': '#',\n",
       "   'Date': '09:12:2021',\n",
       "   'Country, Other': 'Continet',\n",
       "   'Total Cases': 77114175,\n",
       "   'New Cases': 402955.0,\n",
       "   'Total Deaths': 1451145.0,\n",
       "   'New Deaths': 4283.0,\n",
       "   'Total Recovered': 67450105.0,\n",
       "   'New Recovered': 286486.0,\n",
       "   'Active Cases': 8212925.0,\n",
       "   'Serious, Critical': 23037.0,\n",
       "   'Tot Cases/1M Pop': 103055.18699384322,\n",
       "   'Deaths/1M Pop': 1939.3064806850443,\n",
       "   'Total Tests': 1597476208.0,\n",
       "   'Tests/1M Pop': 2134863.1342247464,\n",
       "   'Population': 748280385.0,\n",
       "   'Continent': 'Europe'},\n",
       "  {'#': '#',\n",
       "   'Date': '10:12:2021',\n",
       "   'Country, Other': 'Continet',\n",
       "   'Total Cases': 77449913,\n",
       "   'New Cases': 335738.0,\n",
       "   'Total Deaths': 1455215.0,\n",
       "   'New Deaths': 4070.0,\n",
       "   'Total Recovered': 67732095.0,\n",
       "   'New Recovered': 282126.0,\n",
       "   'Active Cases': 8262603.0,\n",
       "   'Serious, Critical': 22974.0,\n",
       "   'Tot Cases/1M Pop': 103503.86640162964,\n",
       "   'Deaths/1M Pop': 1944.7456183152522,\n",
       "   'Total Tests': 1604681923.0,\n",
       "   'Tests/1M Pop': 2144492.83339159,\n",
       "   'Population': 748280385.0,\n",
       "   'Continent': 'Europe'}],\n",
       " [{'#': '#',\n",
       "   'Date': '27:11:2021',\n",
       "   'Country, Other': 'Continet',\n",
       "   'Total Cases': 8712635,\n",
       "   'New Cases': 5743.0,\n",
       "   'Total Deaths': 223283.0,\n",
       "   'New Deaths': 119.0,\n",
       "   'Total Recovered': 8104796.0,\n",
       "   'New Recovered': 3727.0,\n",
       "   'Active Cases': 352745.0,\n",
       "   'Serious, Critical': 1855.0,\n",
       "   'Tot Cases/1M Pop': 6287.689082810764,\n",
       "   'Deaths/1M Pop': 161.1377133871941,\n",
       "   'Total Tests': 79929084.0,\n",
       "   'Tests/1M Pop': 57682.80535863887,\n",
       "   'Population': 1385665685.0,\n",
       "   'Continent': 'Africa'},\n",
       "  {'#': '#',\n",
       "   'Date': '28:11:2021',\n",
       "   'Country, Other': 'Continet',\n",
       "   'Total Cases': 8718035,\n",
       "   'New Cases': 5400.0,\n",
       "   'Total Deaths': 223354.0,\n",
       "   'New Deaths': 71.0,\n",
       "   'Total Recovered': 8110483.0,\n",
       "   'New Recovered': 5687.0,\n",
       "   'Active Cases': 352387.0,\n",
       "   'Serious, Critical': 1866.0,\n",
       "   'Tot Cases/1M Pop': 6291.586126707035,\n",
       "   'Deaths/1M Pop': 161.1889522976821,\n",
       "   'Total Tests': 80022568.0,\n",
       "   'Tests/1M Pop': 57750.270405231255,\n",
       "   'Population': 1385665685.0,\n",
       "   'Continent': 'Africa'},\n",
       "  {'#': '#',\n",
       "   'Date': '29:11:2021',\n",
       "   'Country, Other': 'Continet',\n",
       "   'Total Cases': 8724513,\n",
       "   'New Cases': 6273.0,\n",
       "   'Total Deaths': 223520.0,\n",
       "   'New Deaths': 164.0,\n",
       "   'Total Recovered': 8118132.0,\n",
       "   'New Recovered': 6493.0,\n",
       "   'Active Cases': 351049.0,\n",
       "   'Serious, Critical': 1915.0,\n",
       "   'Tot Cases/1M Pop': 6295.461664840002,\n",
       "   'Deaths/1M Pop': 161.28826804717204,\n",
       "   'Total Tests': 80153929.0,\n",
       "   'Tests/1M Pop': 57837.72541869183,\n",
       "   'Population': 1385841653.0,\n",
       "   'Continent': 'Africa'},\n",
       "  {'#': '#',\n",
       "   'Date': '30:11:2021',\n",
       "   'Country, Other': 'Continet',\n",
       "   'Total Cases': 8734978,\n",
       "   'New Cases': 10465.0,\n",
       "   'Total Deaths': 223666.0,\n",
       "   'New Deaths': 146.0,\n",
       "   'Total Recovered': 8123794.0,\n",
       "   'New Recovered': 5662.0,\n",
       "   'Active Cases': 355697.0,\n",
       "   'Serious, Critical': 1845.0,\n",
       "   'Tot Cases/1M Pop': 6303.013032615207,\n",
       "   'Deaths/1M Pop': 161.39361918861303,\n",
       "   'Total Tests': 80297851.0,\n",
       "   'Tests/1M Pop': 57941.577110325175,\n",
       "   'Population': 1385841653.0,\n",
       "   'Continent': 'Africa'},\n",
       "  {'#': '#',\n",
       "   'Date': '01:12:2021',\n",
       "   'Country, Other': 'Continet',\n",
       "   'Total Cases': 8748390,\n",
       "   'New Cases': 12802.0,\n",
       "   'Total Deaths': 223815.0,\n",
       "   'New Deaths': 149.0,\n",
       "   'Total Recovered': 8130489.0,\n",
       "   'New Recovered': 5173.0,\n",
       "   'Active Cases': 362265.0,\n",
       "   'Serious, Critical': 1847.0,\n",
       "   'Tot Cases/1M Pop': 6311.8894685737605,\n",
       "   'Deaths/1M Pop': 161.4806314543403,\n",
       "   'Total Tests': 80431170.0,\n",
       "   'Tests/1M Pop': 58030.40958028458,\n",
       "   'Population': 1386017617.0,\n",
       "   'Continent': 'Africa'},\n",
       "  {'#': '#',\n",
       "   'Date': '02:12:2021',\n",
       "   'Country, Other': 'Continet',\n",
       "   'Total Cases': 8764766,\n",
       "   'New Cases': 16376.0,\n",
       "   'Total Deaths': 223980.0,\n",
       "   'New Deaths': 165.0,\n",
       "   'Total Recovered': 8136065.0,\n",
       "   'New Recovered': 5576.0,\n",
       "   'Active Cases': 372900.0,\n",
       "   'Serious, Critical': 1824.0,\n",
       "   'Tot Cases/1M Pop': 6323.704614210542,\n",
       "   'Deaths/1M Pop': 161.59967756023119,\n",
       "   'Total Tests': 80670535.0,\n",
       "   'Tests/1M Pop': 58203.1094053547,\n",
       "   'Population': 1386017617.0,\n",
       "   'Continent': 'Africa'},\n",
       "  {'#': '#',\n",
       "   'Date': '03:12:2021',\n",
       "   'Country, Other': 'Continet',\n",
       "   'Total Cases': 8785604,\n",
       "   'New Cases': 20710.0,\n",
       "   'Total Deaths': 224097.0,\n",
       "   'New Deaths': 117.0,\n",
       "   'Total Recovered': 8142640.0,\n",
       "   'New Recovered': 6524.0,\n",
       "   'Active Cases': 387046.0,\n",
       "   'Serious, Critical': 1827.0,\n",
       "   'Tot Cases/1M Pop': 6337.934376350661,\n",
       "   'Deaths/1M Pop': 161.66356689159383,\n",
       "   'Total Tests': 80817933.0,\n",
       "   'Tests/1M Pop': 58302.05365348865,\n",
       "   'Population': 1386193589.0,\n",
       "   'Continent': 'Africa'},\n",
       "  {'#': '#',\n",
       "   'Date': '04:12:2021',\n",
       "   'Country, Other': 'Continet',\n",
       "   'Total Cases': 8806171,\n",
       "   'New Cases': 20567.0,\n",
       "   'Total Deaths': 224195.0,\n",
       "   'New Deaths': 98.0,\n",
       "   'Total Recovered': 8147659.0,\n",
       "   'New Recovered': 5019.0,\n",
       "   'Active Cases': 402496.0,\n",
       "   'Serious, Critical': 1820.0,\n",
       "   'Tot Cases/1M Pop': 6352.771409333072,\n",
       "   'Deaths/1M Pop': 161.73426408769808,\n",
       "   'Total Tests': 80978369.0,\n",
       "   'Tests/1M Pop': 58417.79217751093,\n",
       "   'Population': 1386193589.0,\n",
       "   'Continent': 'Africa'},\n",
       "  {'#': '#',\n",
       "   'Date': '05:12:2021',\n",
       "   'Country, Other': 'Continet',\n",
       "   'Total Cases': 8821001,\n",
       "   'New Cases': 14686.0,\n",
       "   'Total Deaths': 224283.0,\n",
       "   'New Deaths': 82.0,\n",
       "   'Total Recovered': 8154762.0,\n",
       "   'New Recovered': 7103.0,\n",
       "   'Active Cases': 410135.0,\n",
       "   'Serious, Critical': 1837.0,\n",
       "   'Tot Cases/1M Pop': 6362.662077960402,\n",
       "   'Deaths/1M Pop': 161.77721086656635,\n",
       "   'Total Tests': 81103233.0,\n",
       "   'Tests/1M Pop': 58500.44286460082,\n",
       "   'Population': 1386369556.0,\n",
       "   'Continent': 'Africa'},\n",
       "  {'#': '#',\n",
       "   'Date': '06:12:2021',\n",
       "   'Country, Other': 'Continet',\n",
       "   'Total Cases': 8831758,\n",
       "   'New Cases': 10757.0,\n",
       "   'Total Deaths': 224420.0,\n",
       "   'New Deaths': 137.0,\n",
       "   'Total Recovered': 8162325.0,\n",
       "   'New Recovered': 7563.0,\n",
       "   'Active Cases': 413192.0,\n",
       "   'Serious, Critical': 1813.0,\n",
       "   'Tot Cases/1M Pop': 6370.421192370731,\n",
       "   'Deaths/1M Pop': 161.87603011674906,\n",
       "   'Total Tests': 81204700.0,\n",
       "   'Tests/1M Pop': 58573.6318635664,\n",
       "   'Population': 1386369556.0,\n",
       "   'Continent': 'Africa'},\n",
       "  {'#': '#',\n",
       "   'Date': '07:12:2021',\n",
       "   'Country, Other': 'Continet',\n",
       "   'Total Cases': 8858307,\n",
       "   'New Cases': 23708.0,\n",
       "   'Total Deaths': 224560.0,\n",
       "   'New Deaths': 134.0,\n",
       "   'Total Recovered': 8171891.0,\n",
       "   'New Recovered': 9264.0,\n",
       "   'Active Cases': 430032.0,\n",
       "   'Serious, Critical': 1801.0,\n",
       "   'Tot Cases/1M Pop': 6388.760319964107,\n",
       "   'Deaths/1M Pop': 161.95645708047147,\n",
       "   'Total Tests': 81351069.0,\n",
       "   'Tests/1M Pop': 58671.76217914577,\n",
       "   'Population': 1386545520.0,\n",
       "   'Continent': 'Africa'},\n",
       "  {'#': '#',\n",
       "   'Date': '08:12:2021',\n",
       "   'Country, Other': 'Continet',\n",
       "   'Total Cases': 8888314,\n",
       "   'New Cases': 30007.0,\n",
       "   'Total Deaths': 224715.0,\n",
       "   'New Deaths': 155.0,\n",
       "   'Total Recovered': 8179125.0,\n",
       "   'New Recovered': 7234.0,\n",
       "   'Active Cases': 452615.0,\n",
       "   'Serious, Critical': 1797.0,\n",
       "   'Tot Cases/1M Pop': 6410.401874148351,\n",
       "   'Deaths/1M Pop': 162.06824569308046,\n",
       "   'Total Tests': 81561631.0,\n",
       "   'Tests/1M Pop': 58823.62304268236,\n",
       "   'Population': 1386545520.0,\n",
       "   'Continent': 'Africa'},\n",
       "  {'#': '#',\n",
       "   'Date': '09:12:2021',\n",
       "   'Country, Other': 'Continet',\n",
       "   'Total Cases': 8922709,\n",
       "   'New Cases': 33606.0,\n",
       "   'Total Deaths': 225023.0,\n",
       "   'New Deaths': 109.0,\n",
       "   'Total Recovered': 8185447.0,\n",
       "   'New Recovered': 6145.0,\n",
       "   'Active Cases': 480365.0,\n",
       "   'Serious, Critical': 1798.0,\n",
       "   'Tot Cases/1M Pop': 6434.391532267076,\n",
       "   'Deaths/1M Pop': 162.2697866494732,\n",
       "   'Total Tests': 81751230.0,\n",
       "   'Tests/1M Pop': 58952.883262742085,\n",
       "   'Population': 1386721488.0,\n",
       "   'Continent': 'Africa'},\n",
       "  {'#': '#',\n",
       "   'Date': '10:12:2021',\n",
       "   'Country, Other': 'Continet',\n",
       "   'Total Cases': 8954319,\n",
       "   'New Cases': 31610.0,\n",
       "   'Total Deaths': 225168.0,\n",
       "   'New Deaths': 145.0,\n",
       "   'Total Recovered': 8198820.0,\n",
       "   'New Recovered': 13373.0,\n",
       "   'Active Cases': 498456.0,\n",
       "   'Serious, Critical': 1794.0,\n",
       "   'Tot Cases/1M Pop': 6457.18630416146,\n",
       "   'Deaths/1M Pop': 162.37434982330063,\n",
       "   'Total Tests': 81948157.0,\n",
       "   'Tests/1M Pop': 59094.89231193048,\n",
       "   'Population': 1386721488.0,\n",
       "   'Continent': 'Africa'}],\n",
       " [{'#': '#',\n",
       "   'Date': '27:11:2021',\n",
       "   'Country, Other': 'Continet',\n",
       "   'Total Cases': 363498,\n",
       "   'New Cases': 1697.0,\n",
       "   'Total Deaths': 4190.0,\n",
       "   'New Deaths': 5.0,\n",
       "   'Total Recovered': 292581.0,\n",
       "   'New Recovered': 875.0,\n",
       "   'Active Cases': 21754.0,\n",
       "   'Serious, Critical': 165.0,\n",
       "   'Tot Cases/1M Pop': 8429.448904411425,\n",
       "   'Deaths/1M Pop': 97.16529639635947,\n",
       "   'Total Tests': 53119621.0,\n",
       "   'Tests/1M Pop': 1231833.8231330023,\n",
       "   'Population': 43122392.0,\n",
       "   'Continent': 'Australi/Ocen'},\n",
       "  {'#': '#',\n",
       "   'Date': '28:11:2021',\n",
       "   'Country, Other': 'Continet',\n",
       "   'Total Cases': 364967,\n",
       "   'New Cases': 1469.0,\n",
       "   'Total Deaths': 4198.0,\n",
       "   'New Deaths': 8.0,\n",
       "   'Total Recovered': 293016.0,\n",
       "   'New Recovered': 435.0,\n",
       "   'Active Cases': 22780.0,\n",
       "   'Serious, Critical': 165.0,\n",
       "   'Tot Cases/1M Pop': 8463.514732670674,\n",
       "   'Deaths/1M Pop': 97.3508148620327,\n",
       "   'Total Tests': 53181154.0,\n",
       "   'Tests/1M Pop': 1233260.7616015363,\n",
       "   'Population': 43122392.0,\n",
       "   'Continent': 'Australi/Ocen'},\n",
       "  {'#': '#',\n",
       "   'Date': '29:11:2021',\n",
       "   'Country, Other': 'Continet',\n",
       "   'Total Cases': 366418,\n",
       "   'New Cases': 1439.0,\n",
       "   'Total Deaths': 4201.0,\n",
       "   'New Deaths': 3.0,\n",
       "   'Total Recovered': 295341.0,\n",
       "   'New Recovered': 1147.0,\n",
       "   'Active Cases': 21903.0,\n",
       "   'Serious, Critical': 167.0,\n",
       "   'Tot Cases/1M Pop': 8496.6203129696,\n",
       "   'Deaths/1M Pop': 97.41416069839715,\n",
       "   'Total Tests': 53449595.0,\n",
       "   'Tests/1M Pop': 1239406.6737905846,\n",
       "   'Population': 43125147.0,\n",
       "   'Continent': 'Australi/Ocen'},\n",
       "  {'#': '#',\n",
       "   'Date': '30:11:2021',\n",
       "   'Country, Other': 'Continet',\n",
       "   'Total Cases': 367756,\n",
       "   'New Cases': 1338.0,\n",
       "   'Total Deaths': 4212.0,\n",
       "   'New Deaths': 11.0,\n",
       "   'Total Recovered': 295495.0,\n",
       "   'New Recovered': 154.0,\n",
       "   'Active Cases': 23076.0,\n",
       "   'Serious, Critical': 161.0,\n",
       "   'Tot Cases/1M Pop': 8527.646294167993,\n",
       "   'Deaths/1M Pop': 97.66923229270384,\n",
       "   'Total Tests': 53604920.0,\n",
       "   'Tests/1M Pop': 1243008.4006438286,\n",
       "   'Population': 43125147.0,\n",
       "   'Continent': 'Australi/Ocen'},\n",
       "  {'#': '#',\n",
       "   'Date': '01:12:2021',\n",
       "   'Country, Other': 'Continet',\n",
       "   'Total Cases': 370138,\n",
       "   'New Cases': 1663.0,\n",
       "   'Total Deaths': 4218.0,\n",
       "   'New Deaths': 6.0,\n",
       "   'Total Recovered': 297780.0,\n",
       "   'New Recovered': 2256.0,\n",
       "   'Active Cases': 22457.0,\n",
       "   'Serious, Critical': 160.0,\n",
       "   'Tot Cases/1M Pop': 8582.332218138865,\n",
       "   'Deaths/1M Pop': 97.80210974314912,\n",
       "   'Total Tests': 53821396.0,\n",
       "   'Tests/1M Pop': 1247948.3352587689,\n",
       "   'Population': 43127904.0,\n",
       "   'Continent': 'Australi/Ocen'},\n",
       "  {'#': '#',\n",
       "   'Date': '02:12:2021',\n",
       "   'Country, Other': 'Continet',\n",
       "   'Total Cases': 372145,\n",
       "   'New Cases': 2007.0,\n",
       "   'Total Deaths': 4232.0,\n",
       "   'New Deaths': 14.0,\n",
       "   'Total Recovered': 298798.0,\n",
       "   'New Recovered': 1018.0,\n",
       "   'Active Cases': 23430.0,\n",
       "   'Serious, Critical': 157.0,\n",
       "   'Tot Cases/1M Pop': 8628.868214880093,\n",
       "   'Deaths/1M Pop': 98.12672556496138,\n",
       "   'Total Tests': 54034396.0,\n",
       "   'Tests/1M Pop': 1252887.1331191983,\n",
       "   'Population': 43127904.0,\n",
       "   'Continent': 'Australi/Ocen'},\n",
       "  {'#': '#',\n",
       "   'Date': '03:12:2021',\n",
       "   'Country, Other': 'Continet',\n",
       "   'Total Cases': 373846,\n",
       "   'New Cases': 1692.0,\n",
       "   'Total Deaths': 4245.0,\n",
       "   'New Deaths': 13.0,\n",
       "   'Total Recovered': 300200.0,\n",
       "   'New Recovered': 1373.0,\n",
       "   'Active Cases': 23714.0,\n",
       "   'Serious, Critical': 160.0,\n",
       "   'Tot Cases/1M Pop': 8667.755343130742,\n",
       "   'Deaths/1M Pop': 98.42186737744953,\n",
       "   'Total Tests': 54234607.0,\n",
       "   'Tests/1M Pop': 1257449.0688862416,\n",
       "   'Population': 43130659.0,\n",
       "   'Continent': 'Australi/Ocen'},\n",
       "  {'#': '#',\n",
       "   'Date': '04:12:2021',\n",
       "   'Country, Other': 'Continet',\n",
       "   'Total Cases': 375659,\n",
       "   'New Cases': 1813.0,\n",
       "   'Total Deaths': 4255.0,\n",
       "   'New Deaths': 10.0,\n",
       "   'Total Recovered': 300341.0,\n",
       "   'New Recovered': 141.0,\n",
       "   'Active Cases': 25376.0,\n",
       "   'Serious, Critical': 144.0,\n",
       "   'Tot Cases/1M Pop': 8709.790406865799,\n",
       "   'Deaths/1M Pop': 98.65372101084752,\n",
       "   'Total Tests': 54443888.0,\n",
       "   'Tests/1M Pop': 1262301.3249113583,\n",
       "   'Population': 43130659.0,\n",
       "   'Continent': 'Australi/Ocen'},\n",
       "  {'#': '#',\n",
       "   'Date': '05:12:2021',\n",
       "   'Country, Other': 'Continet',\n",
       "   'Total Cases': 377196,\n",
       "   'New Cases': 1534.0,\n",
       "   'Total Deaths': 4264.0,\n",
       "   'New Deaths': 9.0,\n",
       "   'Total Recovered': 300807.0,\n",
       "   'New Recovered': 466.0,\n",
       "   'Active Cases': 26438.0,\n",
       "   'Serious, Critical': 142.0,\n",
       "   'Tot Cases/1M Pop': 8744.867117761618,\n",
       "   'Deaths/1M Pop': 98.8560679066998,\n",
       "   'Total Tests': 54631490.0,\n",
       "   'Tests/1M Pop': 1266569.9543349417,\n",
       "   'Population': 43133417.0,\n",
       "   'Continent': 'Australi/Ocen'},\n",
       "  {'#': '#',\n",
       "   'Date': '06:12:2021',\n",
       "   'Country, Other': 'Continet',\n",
       "   'Total Cases': 378643,\n",
       "   'New Cases': 1447.0,\n",
       "   'Total Deaths': 4270.0,\n",
       "   'New Deaths': 6.0,\n",
       "   'Total Recovered': 301093.0,\n",
       "   'New Recovered': 287.0,\n",
       "   'Active Cases': 27592.0,\n",
       "   'Serious, Critical': 143.0,\n",
       "   'Tot Cases/1M Pop': 8778.414193338776,\n",
       "   'Deaths/1M Pop': 98.99517119174675,\n",
       "   'Total Tests': 54783100.0,\n",
       "   'Tests/1M Pop': 1270084.8625092697,\n",
       "   'Population': 43133417.0,\n",
       "   'Continent': 'Australi/Ocen'},\n",
       "  {'#': '#',\n",
       "   'Date': '07:12:2021',\n",
       "   'Country, Other': 'Continet',\n",
       "   'Total Cases': 380326,\n",
       "   'New Cases': 1650.0,\n",
       "   'Total Deaths': 4302.0,\n",
       "   'New Deaths': 32.0,\n",
       "   'Total Recovered': 306198.0,\n",
       "   'New Recovered': 5105.0,\n",
       "   'Active Cases': 24138.0,\n",
       "   'Serious, Critical': 149.0,\n",
       "   'Tot Cases/1M Pop': 8816.868904115861,\n",
       "   'Deaths/1M Pop': 99.73067848505345,\n",
       "   'Total Tests': 54804549.0,\n",
       "   'Tests/1M Pop': 1270500.8962894832,\n",
       "   'Population': 43136175.0,\n",
       "   'Continent': 'Australi/Ocen'},\n",
       "  {'#': '#',\n",
       "   'Date': '08:12:2021',\n",
       "   'Country, Other': 'Continet',\n",
       "   'Total Cases': 382196,\n",
       "   'New Cases': 1870.0,\n",
       "   'Total Deaths': 4310.0,\n",
       "   'New Deaths': 8.0,\n",
       "   'Total Recovered': 309627.0,\n",
       "   'New Recovered': 3429.0,\n",
       "   'Active Cases': 22563.0,\n",
       "   'Serious, Critical': 148.0,\n",
       "   'Tot Cases/1M Pop': 8860.219989370871,\n",
       "   'Deaths/1M Pop': 99.91613767331016,\n",
       "   'Total Tests': 55206289.0,\n",
       "   'Tests/1M Pop': 1279814.1930757654,\n",
       "   'Population': 43136175.0,\n",
       "   'Continent': 'Australi/Ocen'},\n",
       "  {'#': '#',\n",
       "   'Date': '09:12:2021',\n",
       "   'Country, Other': 'Continet',\n",
       "   'Total Cases': 384114,\n",
       "   'New Cases': 1918.0,\n",
       "   'Total Deaths': 4320.0,\n",
       "   'New Deaths': 10.0,\n",
       "   'Total Recovered': 311432.0,\n",
       "   'New Recovered': 1805.0,\n",
       "   'Active Cases': 22664.0,\n",
       "   'Serious, Critical': 142.0,\n",
       "   'Tot Cases/1M Pop': 8904.115352516053,\n",
       "   'Deaths/1M Pop': 100.14156818774987,\n",
       "   'Total Tests': 55433559.0,\n",
       "   'Tests/1M Pop': 1285000.8167796656,\n",
       "   'Population': 43138929.0,\n",
       "   'Continent': 'Australi/Ocen'},\n",
       "  {'#': '#',\n",
       "   'Date': '10:12:2021',\n",
       "   'Country, Other': 'Continet',\n",
       "   'Total Cases': 385956,\n",
       "   'New Cases': 1842.0,\n",
       "   'Total Deaths': 4322.0,\n",
       "   'New Deaths': 2.0,\n",
       "   'Total Recovered': 313000.0,\n",
       "   'New Recovered': 1568.0,\n",
       "   'Active Cases': 22936.0,\n",
       "   'Serious, Critical': 149.0,\n",
       "   'Tot Cases/1M Pop': 8946.814604507219,\n",
       "   'Deaths/1M Pop': 100.18793002487382,\n",
       "   'Total Tests': 55623534.0,\n",
       "   'Tests/1M Pop': 1289404.6117834775,\n",
       "   'Population': 43138929.0,\n",
       "   'Continent': 'Australi/Ocen'}]]"
      ]
     },
     "execution_count": 14,
     "metadata": {},
     "output_type": "execute_result"
    }
   ],
   "source": [
    "continent_day_result_by_date"
   ]
  },
  {
   "cell_type": "markdown",
   "metadata": {},
   "source": [
    "### Dữ liệu của một quốc gia qua các ngày\n",
    "***"
   ]
  },
  {
   "cell_type": "code",
   "execution_count": 15,
   "metadata": {},
   "outputs": [],
   "source": [
    "n_country = len(df_day['Country, Other'].unique())\n",
    "\n",
    "country_day = auto_divide_dataframe(df_day, n_continent, 'Country, Other')"
   ]
  },
  {
   "cell_type": "code",
   "execution_count": 16,
   "metadata": {},
   "outputs": [
    {
     "name": "stderr",
     "output_type": "stream",
     "text": [
      "C:\\Users\\Oaki\\AppData\\Local\\Temp/ipykernel_17880/4219786346.py:28: RuntimeWarning: divide by zero encountered in true_divide\n",
      "  sum_result[11] = sum_result[3]/sum_result[-2]*1000000.0\n",
      "C:\\Users\\Oaki\\AppData\\Local\\Temp/ipykernel_17880/4219786346.py:29: RuntimeWarning: divide by zero encountered in double_scalars\n",
      "  sum_result[12] = sum_result[5]/sum_result[-2]*1000000.0\n",
      "C:\\Users\\Oaki\\AppData\\Local\\Temp/ipykernel_17880/4219786346.py:30: RuntimeWarning: invalid value encountered in double_scalars\n",
      "  sum_result[14] = sum_result[13]/sum_result[-2]*1000000.0\n"
     ]
    }
   ],
   "source": [
    "country_day_result = []\n",
    "for i in range(n_country):\n",
    "    sum_result = sum_pandas(country_day[i])\n",
    "    country_day_result.append(format_sum_result_day(sum_result, 0, 1, 1, day_header))"
   ]
  },
  {
   "cell_type": "code",
   "execution_count": 17,
   "metadata": {},
   "outputs": [
    {
     "data": {
      "text/plain": [
       "[{'#': '#',\n",
       "  'Date': '27:11:2021 - 10:12:2021',\n",
       "  'Country, Other': 'USA',\n",
       "  'Total Cases': 698243027,\n",
       "  'New Cases': 1382503.0,\n",
       "  'Total Deaths': 11311016.0,\n",
       "  'New Deaths': 14284.0,\n",
       "  'Total Recovered': 552334519.0,\n",
       "  'New Recovered': 931472.0,\n",
       "  'Active Cases': 134597492.0,\n",
       "  'Serious, Critical': 191237.0,\n",
       "  'Tot Cases/1M Pop': 149429.81633073743,\n",
       "  'Deaths/1M Pop': 2420.651518219934,\n",
       "  'Total Tests': 10641185145.0,\n",
       "  'Tests/1M Pop': 2277302.143052725,\n",
       "  'Population': 4672715554.0,\n",
       "  'Continent': 'North Ameica'},\n",
       " {'#': '#',\n",
       "  'Date': '27:11:2021 - 10:12:2021',\n",
       "  'Country, Other': 'India',\n",
       "  'Total Cases': 484786270,\n",
       "  'New Cases': 116904.0,\n",
       "  'Total Deaths': 6601564.0,\n",
       "  'New Deaths': 4273.0,\n",
       "  'Total Recovered': 476680224.0,\n",
       "  'New Recovered': 127236.0,\n",
       "  'Active Cases': 1504482.0,\n",
       "  'Serious, Critical': 125216.0,\n",
       "  'Tot Cases/1M Pop': 24746.197765339148,\n",
       "  'Deaths/1M Pop': 336.98068285750617,\n",
       "  'Total Tests': 9036948302.0,\n",
       "  'Tests/1M Pop': 461296.29429570644,\n",
       "  'Population': 19590333618.0,\n",
       "  'Continent': 'Asia'},\n",
       " {'#': '#',\n",
       "  'Date': '27:11:2021 - 10:12:2021',\n",
       "  'Country, Other': 'Brazil',\n",
       "  'Total Cases': 309807244,\n",
       "  'New Cases': 117194.0,\n",
       "  'Total Deaths': 8616102.0,\n",
       "  'New Deaths': 2733.0,\n",
       "  'Total Recovered': 298948654.0,\n",
       "  'New Recovered': 124895.0,\n",
       "  'Active Cases': 2242488.0,\n",
       "  'Serious, Critical': 116452.0,\n",
       "  'Tot Cases/1M Pop': 103065.07933113913,\n",
       "  'Deaths/1M Pop': 2866.3604655906192,\n",
       "  'Total Tests': 892866324.0,\n",
       "  'Tests/1M Pop': 297034.17301359994,\n",
       "  'Population': 3005938054.0,\n",
       "  'Continent': 'South America'},\n",
       " {'#': '#',\n",
       "  'Date': '27:11:2021 - 10:12:2021',\n",
       "  'Country, Other': 'UK',\n",
       "  'Total Cases': 145607269,\n",
       "  'New Cases': 655242.0,\n",
       "  'Total Deaths': 2036128.0,\n",
       "  'New Deaths': 1662.0,\n",
       "  'Total Recovered': 128504704.0,\n",
       "  'New Recovered': 501693.0,\n",
       "  'Active Cases': 15066437.0,\n",
       "  'Serious, Critical': 12694.0,\n",
       "  'Tot Cases/1M Pop': 152068.5637325675,\n",
       "  'Deaths/1M Pop': 2126.480790843383,\n",
       "  'Total Tests': 5129284607.0,\n",
       "  'Tests/1M Pop': 5356895.63109694,\n",
       "  'Population': 957510648.0,\n",
       "  'Continent': 'Europe'},\n",
       " {'#': '#',\n",
       "  'Date': '27:11:2021 - 10:12:2021',\n",
       "  'Country, Other': 'Rusia',\n",
       "  'Total Cases': 136504474,\n",
       "  'New Cases': 453800.0,\n",
       "  'Total Deaths': 3911822.0,\n",
       "  'New Deaths': 16888.0,\n",
       "  'Total Recovered': 118315552.0,\n",
       "  'New Recovered': 472547.0,\n",
       "  'Active Cases': 14277100.0,\n",
       "  'Serious, Critical': 32200.0,\n",
       "  'Tot Cases/1M Pop': 66772.23416889163,\n",
       "  'Deaths/1M Pop': 1913.4984147920457,\n",
       "  'Total Tests': 3177500000.0,\n",
       "  'Tests/1M Pop': 1554299.048627909,\n",
       "  'Population': 2044329888.0,\n",
       "  'Continent': 'Europe'},\n",
       " {'#': '#',\n",
       "  'Date': '27:11:2021 - 10:12:2021',\n",
       "  'Country, Other': 'Turkey',\n",
       "  'Total Cases': 124155786,\n",
       "  'New Cases': 302327.0,\n",
       "  'Total Deaths': 1085335.0,\n",
       "  'New Deaths': 2737.0,\n",
       "  'Total Recovered': 117709099.0,\n",
       "  'New Recovered': 335414.0,\n",
       "  'Active Cases': 5361352.0,\n",
       "  'Serious, Critical': 18285.0,\n",
       "  'Tot Cases/1M Pop': 103564.67980082435,\n",
       "  'Deaths/1M Pop': 905.3333346190382,\n",
       "  'Total Tests': 1524856914.0,\n",
       "  'Tests/1M Pop': 1271961.0026107293,\n",
       "  'Population': 1198823636.0,\n",
       "  'Continent': 'Asia'},\n",
       " {'#': '#',\n",
       "  'Date': '27:11:2021 - 10:12:2021',\n",
       "  'Country, Other': 'France',\n",
       "  'Total Cases': 109803251,\n",
       "  'New Cases': 554603.0,\n",
       "  'Total Deaths': 1672769.0,\n",
       "  'New Deaths': 1139.0,\n",
       "  'Total Recovered': 100350592.0,\n",
       "  'New Recovered': 162352.0,\n",
       "  'Active Cases': 7779890.0,\n",
       "  'Serious, Critical': 28280.0,\n",
       "  'Tot Cases/1M Pop': 119779.95067350229,\n",
       "  'Deaths/1M Pop': 1824.7564301002685,\n",
       "  'Total Tests': 2326564701.0,\n",
       "  'Tests/1M Pop': 2537955.867303889,\n",
       "  'Population': 916708100.0,\n",
       "  'Continent': 'Europe'},\n",
       " {'#': '#',\n",
       "  'Date': '27:11:2021 - 10:12:2021',\n",
       "  'Country, Other': 'Iran',\n",
       "  'Total Cases': 85809508,\n",
       "  'New Cases': 48787.0,\n",
       "  'Total Deaths': 1821215.0,\n",
       "  'New Deaths': 1141.0,\n",
       "  'Total Recovered': 82734133.0,\n",
       "  'New Recovered': 115147.0,\n",
       "  'Active Cases': 1254160.0,\n",
       "  'Serious, Critical': 47302.0,\n",
       "  'Tot Cases/1M Pop': 71668.53634560577,\n",
       "  'Deaths/1M Pop': 1521.088006012835,\n",
       "  'Total Tests': 545965043.0,\n",
       "  'Tests/1M Pop': 455992.7732912269,\n",
       "  'Population': 1197310736.0,\n",
       "  'Continent': 'Asia'},\n",
       " {'#': '#',\n",
       "  'Date': '27:11:2021 - 10:12:2021',\n",
       "  'Country, Other': 'Germany',\n",
       "  'Total Cases': 85333750,\n",
       "  'New Cases': 768531.0,\n",
       "  'Total Deaths': 1447015.0,\n",
       "  'New Deaths': 4761.0,\n",
       "  'Total Recovered': 70578000.0,\n",
       "  'New Recovered': 554100.0,\n",
       "  'Active Cases': 13308735.0,\n",
       "  'Serious, Critical': 63682.0,\n",
       "  'Tot Cases/1M Pop': 72420.16555915841,\n",
       "  'Deaths/1M Pop': 1228.0377443460015,\n",
       "  'Total Tests': 1191227969.0,\n",
       "  'Tests/1M Pop': 1010959.048836832,\n",
       "  'Population': 1178314760.0,\n",
       "  'Continent': 'Europe'},\n",
       " {'#': '#',\n",
       "  'Date': '27:11:2021 - 10:12:2021',\n",
       "  'Country, Other': 'Argentia',\n",
       "  'Total Cases': 74739686,\n",
       "  'New Cases': 30401.0,\n",
       "  'Total Deaths': 1632889.0,\n",
       "  'New Deaths': 243.0,\n",
       "  'Total Recovered': 72794463.0,\n",
       "  'New Recovered': 23106.0,\n",
       "  'Active Cases': 312334.0,\n",
       "  'Serious, Critical': 9106.0,\n",
       "  'Tot Cases/1M Pop': 116598.05532347303,\n",
       "  'Deaths/1M Pop': 2547.397402219359,\n",
       "  'Total Tests': 369045693.0,\n",
       "  'Tests/1M Pop': 575731.7488503156,\n",
       "  'Population': 641002852.0,\n",
       "  'Continent': 'South America'},\n",
       " {'#': '#',\n",
       "  'Date': '27:11:2021 - 10:12:2021',\n",
       "  'Country, Other': 'Spain',\n",
       "  'Total Cases': 72812803,\n",
       "  'New Cases': 98593.0,\n",
       "  'Total Deaths': 1233984.0,\n",
       "  'New Deaths': 296.0,\n",
       "  'Total Recovered': 68992819.0,\n",
       "  'New Recovered': 16010.0,\n",
       "  'Active Cases': 2586000.0,\n",
       "  'Serious, Critical': 11074.0,\n",
       "  'Tot Cases/1M Pop': 111176.82300960709,\n",
       "  'Deaths/1M Pop': 1884.152444518404,\n",
       "  'Total Tests': 926994012.0,\n",
       "  'Tests/1M Pop': 1415413.8414790814,\n",
       "  'Population': 654927898.0,\n",
       "  'Continent': 'Europe'},\n",
       " {'#': '#',\n",
       "  'Date': '27:11:2021 - 10:12:2021',\n",
       "  'Country, Other': 'Colmbia',\n",
       "  'Total Cases': 71079179,\n",
       "  'New Cases': 29138.0,\n",
       "  'Total Deaths': 1801863.0,\n",
       "  'New Deaths': 668.0,\n",
       "  'Total Recovered': 68842870.0,\n",
       "  'New Recovered': 29927.0,\n",
       "  'Active Cases': 434446.0,\n",
       "  'Serious, Critical': 4788.0,\n",
       "  'Tot Cases/1M Pop': 98289.25628771572,\n",
       "  'Deaths/1M Pop': 2491.6406842902943,\n",
       "  'Total Tests': 395779892.0,\n",
       "  'Tests/1M Pop': 547289.8222180149,\n",
       "  'Population': 723163260.0,\n",
       "  'Continent': 'South America'},\n",
       " {'#': '#',\n",
       "  'Date': '27:11:2021 - 10:12:2021',\n",
       "  'Country, Other': 'Italy',\n",
       "  'Total Cases': 71186861,\n",
       "  'New Cases': 203322.0,\n",
       "  'Total Deaths': 1877591.0,\n",
       "  'New Deaths': 1111.0,\n",
       "  'Total Recovered': 66235840.0,\n",
       "  'New Recovered': 111586.0,\n",
       "  'Active Cases': 3073430.0,\n",
       "  'Serious, Critical': 10111.0,\n",
       "  'Tot Cases/1M Pop': 84275.41634412347,\n",
       "  'Deaths/1M Pop': 2222.808549585845,\n",
       "  'Total Tests': 1698911423.0,\n",
       "  'Tests/1M Pop': 2011276.5964650733,\n",
       "  'Population': 844693080.0,\n",
       "  'Continent': 'Europe'},\n",
       " {'#': '#',\n",
       "  'Date': '27:11:2021 - 10:12:2021',\n",
       "  'Country, Other': 'Indoesia',\n",
       "  'Total Cases': 59601774,\n",
       "  'New Cases': 3484.0,\n",
       "  'Total Deaths': 2014061.0,\n",
       "  'New Deaths': 127.0,\n",
       "  'Total Recovered': 57489946.0,\n",
       "  'New Recovered': 6296.0,\n",
       "  'Active Cases': 97767.0,\n",
       "  'Serious, Critical': 0.0,\n",
       "  'Tot Cases/1M Pop': 15333.843539612888,\n",
       "  'Deaths/1M Pop': 518.1606885264233,\n",
       "  'Total Tests': 777402782.0,\n",
       "  'Tests/1M Pop': 200003.65469738847,\n",
       "  'Population': 3886942882.0,\n",
       "  'Continent': 'Asia'},\n",
       " {'#': '#',\n",
       "  'Date': '27:11:2021 - 10:12:2021',\n",
       "  'Country, Other': 'Mexico',\n",
       "  'Total Cases': 54531081,\n",
       "  'New Cases': 35323.0,\n",
       "  'Total Deaths': 4126960.0,\n",
       "  'New Deaths': 2737.0,\n",
       "  'Total Recovered': 45522853.0,\n",
       "  'New Recovered': 32605.0,\n",
       "  'Active Cases': 4881268.0,\n",
       "  'Serious, Critical': 67172.0,\n",
       "  'Tot Cases/1M Pop': 29765.20246901898,\n",
       "  'Deaths/1M Pop': 2252.656608467794,\n",
       "  'Total Tests': 166734094.0,\n",
       "  'Tests/1M Pop': 91010.00705264659,\n",
       "  'Population': 1832041326.0,\n",
       "  'Continent': 'North Ameica'},\n",
       " {'#': '#',\n",
       "  'Date': '27:11:2021 - 10:12:2021',\n",
       "  'Country, Other': 'Poland',\n",
       "  'Total Cases': 50832041,\n",
       "  'New Cases': 323929.0,\n",
       "  'Total Deaths': 1191891.0,\n",
       "  'New Deaths': 5320.0,\n",
       "  'Total Recovered': 43500523.0,\n",
       "  'New Recovered': 281539.0,\n",
       "  'Active Cases': 6139627.0,\n",
       "  'Serious, Critical': 27034.0,\n",
       "  'Tot Cases/1M Pop': 96086.06057363052,\n",
       "  'Deaths/1M Pop': 2252.9906053381774,\n",
       "  'Total Tests': 346574315.0,\n",
       "  'Tests/1M Pop': 655117.5197618861,\n",
       "  'Population': 529026174.0,\n",
       "  'Continent': 'Europe'},\n",
       " {'#': '#',\n",
       "  'Date': '27:11:2021 - 10:12:2021',\n",
       "  'Country, Other': 'Ukraine',\n",
       "  'Total Cases': 48691552,\n",
       "  'New Cases': 143344.0,\n",
       "  'Total Deaths': 1225845.0,\n",
       "  'New Deaths': 6194.0,\n",
       "  'Total Recovered': 42299712.0,\n",
       "  'New Recovered': 281405.0,\n",
       "  'Active Cases': 5165995.0,\n",
       "  'Serious, Critical': 2478.0,\n",
       "  'Tot Cases/1M Pop': 80212.32310958355,\n",
       "  'Deaths/1M Pop': 2019.40318563408,\n",
       "  'Total Tests': 224135673.0,\n",
       "  'Tests/1M Pop': 369231.2584955181,\n",
       "  'Population': 607033310.0,\n",
       "  'Continent': 'Europe'},\n",
       " {'#': '#',\n",
       "  'Date': '27:11:2021 - 10:12:2021',\n",
       "  'Country, Other': 'South Africa',\n",
       "  'Total Cases': 42239194,\n",
       "  'New Cases': 157141.0,\n",
       "  'Total Deaths': 1259069.0,\n",
       "  'New Deaths': 297.0,\n",
       "  'Total Recovered': 40004584.0,\n",
       "  'New Recovered': 33248.0,\n",
       "  'Active Cases': 975541.0,\n",
       "  'Serious, Critical': 7644.0,\n",
       "  'Tot Cases/1M Pop': 49974.59410685975,\n",
       "  'Deaths/1M Pop': 1489.6463750593773,\n",
       "  'Total Tests': 275538470.0,\n",
       "  'Tests/1M Pop': 325998.72050293273,\n",
       "  'Population': 845213348.0,\n",
       "  'Continent': 'Africa'},\n",
       " {'#': '#',\n",
       "  'Date': '27:11:2021 - 10:12:2021',\n",
       "  'Country, Other': 'Philpnes',\n",
       "  'Total Cases': 39674678,\n",
       "  'New Cases': 6604.0,\n",
       "  'Total Deaths': 687426.0,\n",
       "  'New Deaths': 1946.0,\n",
       "  'Total Recovered': 38783854.0,\n",
       "  'New Recovered': 11478.0,\n",
       "  'Active Cases': 203398.0,\n",
       "  'Serious, Critical': 13601.0,\n",
       "  'Tot Cases/1M Pop': 25380.768708997115,\n",
       "  'Deaths/1M Pop': 439.7616109335797,\n",
       "  'Total Tests': 340595054.0,\n",
       "  'Tests/1M Pop': 217886.18647396163,\n",
       "  'Population': 1563178738.0,\n",
       "  'Continent': 'Asia'},\n",
       " {'#': '#',\n",
       "  'Date': '27:11:2021 - 10:12:2021',\n",
       "  'Country, Other': 'Malysi',\n",
       "  'Total Cases': 37115190,\n",
       "  'New Cases': 69043.0,\n",
       "  'Total Deaths': 427839.0,\n",
       "  'New Deaths': 591.0,\n",
       "  'Total Recovered': 35806501.0,\n",
       "  'New Recovered': 75126.0,\n",
       "  'Active Cases': 880850.0,\n",
       "  'Serious, Critical': 6648.0,\n",
       "  'Tot Cases/1M Pop': 80443.47769138982,\n",
       "  'Deaths/1M Pop': 927.2984201887833,\n",
       "  'Total Tests': 534812940.0,\n",
       "  'Tests/1M Pop': 1159153.7806476702,\n",
       "  'Population': 461382216.0,\n",
       "  'Continent': 'Asia'},\n",
       " {'#': '#',\n",
       "  'Date': '27:11:2021 - 10:12:2021',\n",
       "  'Country, Other': 'Nethrlands',\n",
       "  'Total Cases': 38022163,\n",
       "  'New Cases': 290711.0,\n",
       "  'Total Deaths': 274468.0,\n",
       "  'New Deaths': 787.0,\n",
       "  'Total Recovered': 30059367.0,\n",
       "  'New Recovered': 135117.0,\n",
       "  'Active Cases': 7688328.0,\n",
       "  'Serious, Critical': 8448.0,\n",
       "  'Tot Cases/1M Pop': 158001.76700918798,\n",
       "  'Deaths/1M Pop': 1140.556600829832,\n",
       "  'Total Tests': 268871596.0,\n",
       "  'Tests/1M Pop': 1117300.6455887456,\n",
       "  'Population': 240643910.0,\n",
       "  'Continent': 'Europe'},\n",
       " {'#': '#',\n",
       "  'Date': '27:11:2021 - 10:12:2021',\n",
       "  'Country, Other': 'Peru',\n",
       "  'Total Cases': 31380363,\n",
       "  'New Cases': 16795.0,\n",
       "  'Total Deaths': 2818514.0,\n",
       "  'New Deaths': 545.0,\n",
       "  'Total Recovered': 0.0,\n",
       "  'New Recovered': 0.0,\n",
       "  'Active Cases': 0.0,\n",
       "  'Serious, Critical': 13631.0,\n",
       "  'Tot Cases/1M Pop': 66660.12832831201,\n",
       "  'Deaths/1M Pop': 5987.2635933224865,\n",
       "  'Total Tests': 286619299.0,\n",
       "  'Tests/1M Pop': 608854.6283773336,\n",
       "  'Population': 470751614.0,\n",
       "  'Continent': 'South America'},\n",
       " {'#': '#',\n",
       "  'Date': '27:11:2021 - 10:12:2021',\n",
       "  'Country, Other': 'Czechia',\n",
       "  'Total Cases': 30967641,\n",
       "  'New Cases': 221891.0,\n",
       "  'Total Deaths': 469555.0,\n",
       "  'New Deaths': 1228.0,\n",
       "  'Total Recovered': 26694594.0,\n",
       "  'New Recovered': 6507.0,\n",
       "  'Active Cases': 3803492.0,\n",
       "  'Serious, Critical': 14321.0,\n",
       "  'Tot Cases/1M Pop': 206009.0560683083,\n",
       "  'Deaths/1M Pop': 3123.6664853533566,\n",
       "  'Total Tests': 619157338.0,\n",
       "  'Tests/1M Pop': 4118880.697407546,\n",
       "  'Population': 150321746.0,\n",
       "  'Continent': 'Europe'},\n",
       " {'#': '#',\n",
       "  'Date': '27:11:2021 - 10:12:2021',\n",
       "  'Country, Other': 'Thailnd',\n",
       "  'Total Cases': 29853874,\n",
       "  'New Cases': 65894.0,\n",
       "  'Total Deaths': 292457.0,\n",
       "  'New Deaths': 467.0,\n",
       "  'Total Recovered': 28567025.0,\n",
       "  'New Recovered': 88987.0,\n",
       "  'Active Cases': 994392.0,\n",
       "  'Serious, Critical': 19618.0,\n",
       "  'Tot Cases/1M Pop': 30441.681003041776,\n",
       "  'Deaths/1M Pop': 298.21532378366,\n",
       "  'Total Tests': 210066762.0,\n",
       "  'Tests/1M Pop': 214202.8655358396,\n",
       "  'Population': 980690718.0,\n",
       "  'Continent': 'Asia'},\n",
       " {'#': '#',\n",
       "  'Date': '27:11:2021 - 10:12:2021',\n",
       "  'Country, Other': 'Iraq',\n",
       "  'Total Cases': 29167599,\n",
       "  'New Cases': 8726.0,\n",
       "  'Total Deaths': 334175.0,\n",
       "  'New Deaths': 194.0,\n",
       "  'Total Recovered': 28676086.0,\n",
       "  'New Recovered': 14469.0,\n",
       "  'Active Cases': 157338.0,\n",
       "  'Serious, Critical': 1389.0,\n",
       "  'Tot Cases/1M Pop': 50196.38815225319,\n",
       "  'Deaths/1M Pop': 575.1031482152238,\n",
       "  'Total Tests': 229698360.0,\n",
       "  'Tests/1M Pop': 395302.61083526234,\n",
       "  'Population': 581069676.0,\n",
       "  'Continent': 'Asia'},\n",
       " {'#': '#',\n",
       "  'Date': '27:11:2021 - 10:12:2021',\n",
       "  'Country, Other': 'Cand',\n",
       "  'Total Cases': 25261506,\n",
       "  'New Cases': 43123.0,\n",
       "  'Total Deaths': 416620.0,\n",
       "  'New Deaths': 270.0,\n",
       "  'Total Recovered': 24446951.0,\n",
       "  'New Recovered': 35770.0,\n",
       "  'Active Cases': 397935.0,\n",
       "  'Serious, Critical': 6851.0,\n",
       "  'Tot Cases/1M Pop': 47219.28859713154,\n",
       "  'Deaths/1M Pop': 778.7540463872955,\n",
       "  'Total Tests': 688022098.0,\n",
       "  'Tests/1M Pop': 1286064.0219417608,\n",
       "  'Population': 534982774.0,\n",
       "  'Continent': 'North Ameica'},\n",
       " {'#': '#',\n",
       "  'Date': '27:11:2021 - 10:12:2021',\n",
       "  'Country, Other': 'Romani',\n",
       "  'Total Cases': 24974495,\n",
       "  'New Cases': 17657.0,\n",
       "  'Total Deaths': 796507.0,\n",
       "  'New Deaths': 1385.0,\n",
       "  'Total Recovered': 23740507.0,\n",
       "  'New Recovered': 41841.0,\n",
       "  'Active Cases': 437481.0,\n",
       "  'Serious, Critical': 13894.0,\n",
       "  'Tot Cases/1M Pop': 93618.59511689778,\n",
       "  'Deaths/1M Pop': 2985.7607267244002,\n",
       "  'Total Tests': 225826433.0,\n",
       "  'Tests/1M Pop': 846525.7614906826,\n",
       "  'Population': 266768530.0,\n",
       "  'Continent': 'Europe'},\n",
       " {'#': '#',\n",
       "  'Date': '27:11:2021 - 10:12:2021',\n",
       "  'Country, Other': 'Chile',\n",
       "  'Total Cases': 24767210,\n",
       "  'New Cases': 25422.0,\n",
       "  'Total Deaths': 538293.0,\n",
       "  'New Deaths': 393.0,\n",
       "  'Total Recovered': 23284489.0,\n",
       "  'New Recovered': 28652.0,\n",
       "  'Active Cases': 944428.0,\n",
       "  'Serious, Critical': 9640.0,\n",
       "  'Tot Cases/1M Pop': 91427.01937250758,\n",
       "  'Deaths/1M Pop': 1987.0839121195008,\n",
       "  'Total Tests': 361606957.0,\n",
       "  'Tests/1M Pop': 1334855.4909040022,\n",
       "  'Population': 270895958.0,\n",
       "  'Continent': 'South America'},\n",
       " {'#': '#',\n",
       "  'Date': '27:11:2021 - 10:12:2021',\n",
       "  'Country, Other': 'Japn',\n",
       "  'Total Cases': 24186901,\n",
       "  'New Cases': 1579.0,\n",
       "  'Total Deaths': 257081.0,\n",
       "  'New Deaths': 18.0,\n",
       "  'Total Recovered': 23917665.0,\n",
       "  'New Recovered': 1707.0,\n",
       "  'Active Cases': 12155.0,\n",
       "  'Serious, Critical': 484.0,\n",
       "  'Tot Cases/1M Pop': 13719.55566264218,\n",
       "  'Deaths/1M Pop': 145.82426617232667,\n",
       "  'Total Tests': 392718257.0,\n",
       "  'Tests/1M Pop': 222761.89854365043,\n",
       "  'Population': 1762950754.0,\n",
       "  'Continent': 'Asia'},\n",
       " {'#': '#',\n",
       "  'Date': '27:11:2021 - 10:12:2021',\n",
       "  'Country, Other': 'Belgium',\n",
       "  'Total Cases': 25293449,\n",
       "  'New Cases': 189709.0,\n",
       "  'Total Deaths': 379834.0,\n",
       "  'New Deaths': 513.0,\n",
       "  'Total Recovered': 18984164.0,\n",
       "  'New Recovered': 80522.0,\n",
       "  'Active Cases': 5929451.0,\n",
       "  'Serious, Critical': 10791.0,\n",
       "  'Tot Cases/1M Pop': 154927.47099937612,\n",
       "  'Deaths/1M Pop': 2326.559775204126,\n",
       "  'Total Tests': 349480397.0,\n",
       "  'Tests/1M Pop': 2140637.841484882,\n",
       "  'Population': 163259936.0,\n",
       "  'Continent': 'Europe'},\n",
       " {'#': '#',\n",
       "  'Date': '27:11:2021 - 10:12:2021',\n",
       "  'Country, Other': 'Bangldesh',\n",
       "  'Total Cases': 22080022,\n",
       "  'New Cases': 3219.0,\n",
       "  'Total Deaths': 391926.0,\n",
       "  'New Deaths': 38.0,\n",
       "  'Total Recovered': 21586895.0,\n",
       "  'New Recovered': 3748.0,\n",
       "  'Active Cases': 101201.0,\n",
       "  'Serious, Critical': 19446.0,\n",
       "  'Tot Cases/1M Pop': 9442.623795584805,\n",
       "  'Deaths/1M Pop': 167.6089713003171,\n",
       "  'Total Tests': 153360926.0,\n",
       "  'Tests/1M Pop': 65585.51115395268,\n",
       "  'Population': 2338335454.0,\n",
       "  'Continent': 'Asia'},\n",
       " {'#': '#',\n",
       "  'Date': '27:11:2021 - 10:12:2021',\n",
       "  'Country, Other': 'Israel',\n",
       "  'Total Cases': 18836846,\n",
       "  'New Cases': 7690.0,\n",
       "  'Total Deaths': 114813.0,\n",
       "  'New Deaths': 23.0,\n",
       "  'Total Recovered': 18640890.0,\n",
       "  'New Recovered': 8500.0,\n",
       "  'Active Cases': 81143.0,\n",
       "  'Serious, Critical': 1549.0,\n",
       "  'Tot Cases/1M Pop': 144272.89298734718,\n",
       "  'Deaths/1M Pop': 879.3618455316932,\n",
       "  'Total Tests': 462667849.0,\n",
       "  'Tests/1M Pop': 3543609.6397169204,\n",
       "  'Population': 130564000.0,\n",
       "  'Continent': 'Asia'},\n",
       " {'#': '#',\n",
       "  'Date': '27:11:2021 - 10:12:2021',\n",
       "  'Country, Other': 'Pakistn',\n",
       "  'Total Cases': 18006141,\n",
       "  'New Cases': 4891.0,\n",
       "  'Total Deaths': 402591.0,\n",
       "  'New Deaths': 115.0,\n",
       "  'Total Recovered': 17428475.0,\n",
       "  'New Recovered': 8780.0,\n",
       "  'Active Cases': 175075.0,\n",
       "  'Serious, Critical': 12126.0,\n",
       "  'Tot Cases/1M Pop': 5666.14837874085,\n",
       "  'Deaths/1M Pop': 126.68679768450427,\n",
       "  'Total Tests': 309985785.0,\n",
       "  'Tests/1M Pop': 97545.91242568076,\n",
       "  'Population': 3177844948.0,\n",
       "  'Continent': 'Asia'},\n",
       " {'#': '#',\n",
       "  'Date': '27:11:2021 - 10:12:2021',\n",
       "  'Country, Other': 'Serbia',\n",
       "  'Total Cases': 17652776,\n",
       "  'New Cases': 25286.0,\n",
       "  'Total Deaths': 165793.0,\n",
       "  'New Deaths': 629.0,\n",
       "  'Total Recovered': 16858452.0,\n",
       "  'New Recovered': 47813.0,\n",
       "  'Active Cases': 628531.0,\n",
       "  'Serious, Critical': 2628.0,\n",
       "  'Tot Cases/1M Pop': 145145.24954035247,\n",
       "  'Deaths/1M Pop': 1363.188790082855,\n",
       "  'Total Tests': 96089692.0,\n",
       "  'Tests/1M Pop': 790071.902775836,\n",
       "  'Population': 121621452.0,\n",
       "  'Continent': 'Europe'},\n",
       " {'#': '#',\n",
       "  'Date': '27:11:2021 - 10:12:2021',\n",
       "  'Country, Other': 'Swedn',\n",
       "  'Total Cases': 16980082,\n",
       "  'New Cases': 10160.0,\n",
       "  'Total Deaths': 211886.0,\n",
       "  'New Deaths': 2.0,\n",
       "  'Total Recovered': 16254731.0,\n",
       "  'New Recovered': 11071.0,\n",
       "  'Active Cases': 513465.0,\n",
       "  'Serious, Critical': 611.0,\n",
       "  'Tot Cases/1M Pop': 119037.71664496914,\n",
       "  'Deaths/1M Pop': 1485.412474983097,\n",
       "  'Total Tests': 192579118.0,\n",
       "  'Tests/1M Pop': 1350062.8842794797,\n",
       "  'Population': 142644554.0,\n",
       "  'Continent': 'Europe'},\n",
       " {'#': '#',\n",
       "  'Date': '27:11:2021 - 10:12:2021',\n",
       "  'Country, Other': 'Vietnam',\n",
       "  'Total Cases': 18036497,\n",
       "  'New Cases': 200113.0,\n",
       "  'Total Deaths': 363867.0,\n",
       "  'New Deaths': 2858.0,\n",
       "  'Total Recovered': 14062072.0,\n",
       "  'New Recovered': 97085.0,\n",
       "  'Active Cases': 3610558.0,\n",
       "  'Serious, Critical': 93777.0,\n",
       "  'Tot Cases/1M Pop': 13068.145480904343,\n",
       "  'Deaths/1M Pop': 263.6358319301259,\n",
       "  'Total Tests': 970171210.0,\n",
       "  'Tests/1M Pop': 702926.8773013405,\n",
       "  'Population': 1380187956.0,\n",
       "  'Continent': 'Asia'},\n",
       " {'#': '#',\n",
       "  'Date': '27:11:2021 - 10:12:2021',\n",
       "  'Country, Other': 'Portugal',\n",
       "  'Total Cases': 16253443,\n",
       "  'New Cases': 48590.0,\n",
       "  'Total Deaths': 259111.0,\n",
       "  'New Deaths': 233.0,\n",
       "  'Total Recovered': 15175732.0,\n",
       "  'New Recovered': 34738.0,\n",
       "  'Active Cases': 818600.0,\n",
       "  'Serious, Critical': 1757.0,\n",
       "  'Tot Cases/1M Pop': 114331.12130836539,\n",
       "  'Deaths/1M Pop': 1822.6569701774488,\n",
       "  'Total Tests': 302233404.0,\n",
       "  'Tests/1M Pop': 2125991.642273222,\n",
       "  'Population': 142161144.0,\n",
       "  'Continent': 'Europe'},\n",
       " {'#': '#',\n",
       "  'Date': '27:11:2021 - 10:12:2021',\n",
       "  'Country, Other': 'Austria',\n",
       "  'Total Cases': 16577213,\n",
       "  'New Cases': 99961.0,\n",
       "  'Total Deaths': 177905.0,\n",
       "  'New Deaths': 792.0,\n",
       "  'Total Recovered': 14745404.0,\n",
       "  'New Recovered': 172950.0,\n",
       "  'Active Cases': 1653904.0,\n",
       "  'Serious, Critical': 8911.0,\n",
       "  'Tot Cases/1M Pop': 130412.57139321949,\n",
       "  'Deaths/1M Pop': 1399.5747363390162,\n",
       "  'Total Tests': 1567671126.0,\n",
       "  'Tests/1M Pop': 12332834.393849181,\n",
       "  'Population': 127113612.0,\n",
       "  'Continent': 'Europe'},\n",
       " {'#': '#',\n",
       "  'Date': '27:11:2021 - 10:12:2021',\n",
       "  'Country, Other': 'Hungary',\n",
       "  'Total Cases': 15828330,\n",
       "  'New Cases': 114034.0,\n",
       "  'Total Deaths': 491775.0,\n",
       "  'New Deaths': 2563.0,\n",
       "  'Total Recovered': 12754474.0,\n",
       "  'New Recovered': 106363.0,\n",
       "  'Active Cases': 2582081.0,\n",
       "  'Serious, Critical': 8214.0,\n",
       "  'Tot Cases/1M Pop': 117459.31798076771,\n",
       "  'Deaths/1M Pop': 3649.3777991735096,\n",
       "  'Total Tests': 119688061.0,\n",
       "  'Tests/1M Pop': 888184.54097814,\n",
       "  'Population': 134755848.0,\n",
       "  'Continent': 'Europe'},\n",
       " {'#': '#',\n",
       "  'Date': '27:11:2021 - 10:12:2021',\n",
       "  'Country, Other': 'Switzerland',\n",
       "  'Total Cases': 14611109,\n",
       "  'New Cases': 67197.0,\n",
       "  'Total Deaths': 162643.0,\n",
       "  'New Deaths': 116.0,\n",
       "  'Total Recovered': 12176271.0,\n",
       "  'New Recovered': 32729.0,\n",
       "  'Active Cases': 2272195.0,\n",
       "  'Serious, Critical': 3059.0,\n",
       "  'Tot Cases/1M Pop': 119346.65890250738,\n",
       "  'Deaths/1M Pop': 1328.5027607336656,\n",
       "  'Total Tests': 176323812.0,\n",
       "  'Tests/1M Pop': 1440250.555050533,\n",
       "  'Population': 122425790.0,\n",
       "  'Continent': 'Europe'},\n",
       " {'#': '#',\n",
       "  'Date': '27:11:2021 - 10:12:2021',\n",
       "  'Country, Other': 'Kazkhstn',\n",
       "  'Total Cases': 13635692,\n",
       "  'New Cases': 10022.0,\n",
       "  'Total Deaths': 178388.0,\n",
       "  'New Deaths': 193.0,\n",
       "  'Total Recovered': 13156895.0,\n",
       "  'New Recovered': 14655.0,\n",
       "  'Active Cases': 300409.0,\n",
       "  'Serious, Critical': 7392.0,\n",
       "  'Tot Cases/1M Pop': 51003.72518886336,\n",
       "  'Deaths/1M Pop': 667.2527165464692,\n",
       "  'Total Tests': 162050168.0,\n",
       "  'Tests/1M Pop': 606141.7517703641,\n",
       "  'Population': 267346982.0,\n",
       "  'Continent': 'Asia'},\n",
       " {'#': '#',\n",
       "  'Date': '27:11:2021 - 10:12:2021',\n",
       "  'Country, Other': 'Cuba',\n",
       "  'Total Cases': 13480244,\n",
       "  'New Cases': 1609.0,\n",
       "  'Total Deaths': 116290.0,\n",
       "  'New Deaths': 12.0,\n",
       "  'Total Recovered': 13354212.0,\n",
       "  'New Recovered': 2233.0,\n",
       "  'Active Cases': 9742.0,\n",
       "  'Serious, Critical': 294.0,\n",
       "  'Tot Cases/1M Pop': 85083.85891336827,\n",
       "  'Deaths/1M Pop': 733.9927936790755,\n",
       "  'Total Tests': 156334295.0,\n",
       "  'Tests/1M Pop': 986742.161276969,\n",
       "  'Population': 158434798.0,\n",
       "  'Continent': 'North Ameica'},\n",
       " {'#': '#',\n",
       "  'Date': '27:11:2021 - 10:12:2021',\n",
       "  'Country, Other': 'Morc',\n",
       "  'Total Cases': 13305608,\n",
       "  'New Cases': 1735.0,\n",
       "  'Total Deaths': 206976.0,\n",
       "  'New Deaths': 22.0,\n",
       "  'Total Recovered': 13060275.0,\n",
       "  'New Recovered': 2661.0,\n",
       "  'Active Cases': 38357.0,\n",
       "  'Serious, Critical': 4858.0,\n",
       "  'Tot Cases/1M Pop': 25321.772593049503,\n",
       "  'Deaths/1M Pop': 393.89400350731916,\n",
       "  'Total Tests': 146722472.0,\n",
       "  'Tests/1M Pop': 279226.10302919435,\n",
       "  'Population': 525461160.0,\n",
       "  'Continent': 'Africa'},\n",
       " {'#': '#',\n",
       "  'Date': '27:11:2021 - 10:12:2021',\n",
       "  'Country, Other': 'Jordan',\n",
       "  'Total Cases': 13589119,\n",
       "  'New Cases': 66809.0,\n",
       "  'Total Deaths': 163965.0,\n",
       "  'New Deaths': 431.0,\n",
       "  'Total Recovered': 12595655.0,\n",
       "  'New Recovered': 47753.0,\n",
       "  'Active Cases': 829499.0,\n",
       "  'Serious, Critical': 15910.0,\n",
       "  'Tot Cases/1M Pop': 93807.59721533941,\n",
       "  'Deaths/1M Pop': 1131.873425894138,\n",
       "  'Total Tests': 172682868.0,\n",
       "  'Tests/1M Pop': 1192054.0932295627,\n",
       "  'Population': 144861604.0,\n",
       "  'Continent': 'Asia'},\n",
       " {'#': '#',\n",
       "  'Date': '27:11:2021 - 10:12:2021',\n",
       "  'Country, Other': 'Grec',\n",
       "  'Total Cases': 13416989,\n",
       "  'New Cases': 79832.0,\n",
       "  'Total Deaths': 258640.0,\n",
       "  'New Deaths': 1306.0,\n",
       "  'Total Recovered': 12117377.0,\n",
       "  'New Recovered': 91343.0,\n",
       "  'Active Cases': 1040972.0,\n",
       "  'Serious, Critical': 9639.0,\n",
       "  'Tot Cases/1M Pop': 92589.98249960254,\n",
       "  'Deaths/1M Pop': 1784.8619443376754,\n",
       "  'Total Tests': 526519882.0,\n",
       "  'Tests/1M Pop': 3633487.8608063846,\n",
       "  'Population': 144907566.0,\n",
       "  'Continent': 'Europe'},\n",
       " {'#': '#',\n",
       "  'Date': '27:11:2021 - 10:12:2021',\n",
       "  'Country, Other': 'Georgia',\n",
       "  'Total Cases': 12025872,\n",
       "  'New Cases': 51574.0,\n",
       "  'Total Deaths': 171641.0,\n",
       "  'New Deaths': 821.0,\n",
       "  'Total Recovered': 11212292.0,\n",
       "  'New Recovered': 53141.0,\n",
       "  'Active Cases': 641939.0,\n",
       "  'Serious, Critical': 0.0,\n",
       "  'Tot Cases/1M Pop': 215921.12220138038,\n",
       "  'Deaths/1M Pop': 3081.7654915807466,\n",
       "  'Total Tests': 164245591.0,\n",
       "  'Tests/1M Pop': 2948983.0197218913,\n",
       "  'Population': 55695672.0,\n",
       "  'Continent': 'Asia'},\n",
       " {'#': '#',\n",
       "  'Date': '27:11:2021 - 10:12:2021',\n",
       "  'Country, Other': 'Nepal',\n",
       "  'Total Cases': 11511474,\n",
       "  'New Cases': 3259.0,\n",
       "  'Total Deaths': 161510.0,\n",
       "  'New Deaths': 34.0,\n",
       "  'Total Recovered': 11256717.0,\n",
       "  'New Recovered': 4515.0,\n",
       "  'Active Cases': 93247.0,\n",
       "  'Serious, Critical': 677.0,\n",
       "  'Tot Cases/1M Pop': 27516.66415478783,\n",
       "  'Deaths/1M Pop': 386.06840684692355,\n",
       "  'Total Tests': 65135937.0,\n",
       "  'Tests/1M Pop': 155698.88815597538,\n",
       "  'Population': 418345550.0,\n",
       "  'Continent': 'Asia'},\n",
       " {'#': '#',\n",
       "  'Date': '27:11:2021 - 10:12:2021',\n",
       "  'Country, Other': 'UAE',\n",
       "  'Total Cases': 10391245,\n",
       "  'New Cases': 787.0,\n",
       "  'Total Deaths': 30071.0,\n",
       "  'New Deaths': 6.0,\n",
       "  'Total Recovered': 10320787.0,\n",
       "  'New Recovered': 1065.0,\n",
       "  'Active Cases': 40387.0,\n",
       "  'Serious, Critical': 0.0,\n",
       "  'Tot Cases/1M Pop': 73777.59457314154,\n",
       "  'Deaths/1M Pop': 213.50339121144185,\n",
       "  'Total Tests': 1431033706.0,\n",
       "  'Tests/1M Pop': 10160305.582417527,\n",
       "  'Population': 140845538.0,\n",
       "  'Continent': 'Asia'},\n",
       " {'#': '#',\n",
       "  'Date': '27:11:2021 - 10:12:2021',\n",
       "  'Country, Other': 'Tunisa',\n",
       "  'Total Cases': 10053958,\n",
       "  'New Cases': 2204.0,\n",
       "  'Total Deaths': 355466.0,\n",
       "  'New Deaths': 55.0,\n",
       "  'Total Recovered': 9680865.0,\n",
       "  'New Recovered': 1735.0,\n",
       "  'Active Cases': 17627.0,\n",
       "  'Serious, Critical': 829.0,\n",
       "  'Tot Cases/1M Pop': 59872.074506850106,\n",
       "  'Deaths/1M Pop': 2116.8267101028255,\n",
       "  'Total Tests': 44684982.0,\n",
       "  'Tests/1M Pop': 266102.4217170249,\n",
       "  'Population': 167923996.0,\n",
       "  'Continent': 'Africa'},\n",
       " {'#': '#',\n",
       "  'Date': '27:11:2021 - 10:12:2021',\n",
       "  'Country, Other': 'Bulgari',\n",
       "  'Total Cases': 9816297,\n",
       "  'New Cases': 25673.0,\n",
       "  'Total Deaths': 402889.0,\n",
       "  'New Deaths': 1463.0,\n",
       "  'Total Recovered': 7987099.0,\n",
       "  'New Recovered': 31912.0,\n",
       "  'Active Cases': 1426309.0,\n",
       "  'Serious, Critical': 9563.0,\n",
       "  'Tot Cases/1M Pop': 102003.26437978582,\n",
       "  'Deaths/1M Pop': 4186.506702344838,\n",
       "  'Total Tests': 93430600.0,\n",
       "  'Tests/1M Pop': 970857.5640042286,\n",
       "  'Population': 96235126.0,\n",
       "  'Continent': 'Europe'},\n",
       " {'#': '#',\n",
       "  'Date': '27:11:2021 - 10:12:2021',\n",
       "  'Country, Other': 'Lebano',\n",
       "  'Total Cases': 9468547,\n",
       "  'New Cases': 21472.0,\n",
       "  'Total Deaths': 122648.0,\n",
       "  'New Deaths': 131.0,\n",
       "  'Total Recovered': 8890105.0,\n",
       "  'New Recovered': 8325.0,\n",
       "  'Active Cases': 455794.0,\n",
       "  'Serious, Critical': 2604.0,\n",
       "  'Tot Cases/1M Pop': 99724.79316568641,\n",
       "  'Deaths/1M Pop': 1291.755369877248,\n",
       "  'Total Tests': 67138092.0,\n",
       "  'Tests/1M Pop': 707112.9644536618,\n",
       "  'Population': 94946770.0,\n",
       "  'Continent': 'Asia'},\n",
       " {'#': '#',\n",
       "  'Date': '27:11:2021 - 10:12:2021',\n",
       "  'Country, Other': 'Slovaki',\n",
       "  'Total Cases': 9975479,\n",
       "  'New Cases': 112878.0,\n",
       "  'Total Deaths': 206077.0,\n",
       "  'New Deaths': 1059.0,\n",
       "  'Total Recovered': 8173498.0,\n",
       "  'New Recovered': 103110.0,\n",
       "  'Active Cases': 1595904.0,\n",
       "  'Serious, Critical': 8384.0,\n",
       "  'Tot Cases/1M Pop': 130419.38087198956,\n",
       "  'Deaths/1M Pop': 2694.2500457328406,\n",
       "  'Total Tests': 65487949.0,\n",
       "  'Tests/1M Pop': 856189.2379460102,\n",
       "  'Population': 76487704.0,\n",
       "  'Continent': 'Europe'},\n",
       " {'#': '#',\n",
       "  'Date': '27:11:2021 - 10:12:2021',\n",
       "  'Country, Other': 'Belarus',\n",
       "  'Total Cases': 9251178,\n",
       "  'New Cases': 22960.0,\n",
       "  'Total Deaths': 71945.0,\n",
       "  'New Deaths': 219.0,\n",
       "  'Total Recovered': 9085475.0,\n",
       "  'New Recovered': 26643.0,\n",
       "  'Active Cases': 93758.0,\n",
       "  'Serious, Critical': 0.0,\n",
       "  'Tot Cases/1M Pop': 69963.53994876053,\n",
       "  'Deaths/1M Pop': 544.0957769500898,\n",
       "  'Total Tests': 146746917.0,\n",
       "  'Tests/1M Pop': 1109797.453890407,\n",
       "  'Population': 132228558.0,\n",
       "  'Continent': 'Europe'},\n",
       " {'#': '#',\n",
       "  'Date': '27:11:2021 - 10:12:2021',\n",
       "  'Country, Other': 'Guateml',\n",
       "  'Total Cases': 8670658,\n",
       "  'New Cases': 4807.0,\n",
       "  'Total Deaths': 223630.0,\n",
       "  'New Deaths': 131.0,\n",
       "  'Total Recovered': 8429062.0,\n",
       "  'New Recovered': 5498.0,\n",
       "  'Active Cases': 17966.0,\n",
       "  'Serious, Critical': 70.0,\n",
       "  'Tot Cases/1M Pop': 33683.76945842746,\n",
       "  'Deaths/1M Pop': 868.7577533317693,\n",
       "  'Total Tests': 43982370.0,\n",
       "  'Tests/1M Pop': 170862.69707734478,\n",
       "  'Population': 257413530.0,\n",
       "  'Continent': 'North Ameica'},\n",
       " {'#': '#',\n",
       "  'Date': '27:11:2021 - 10:12:2021',\n",
       "  'Country, Other': 'Croati',\n",
       "  'Total Cases': 8730847,\n",
       "  'New Cases': 53528.0,\n",
       "  'Total Deaths': 155595.0,\n",
       "  'New Deaths': 872.0,\n",
       "  'Total Recovered': 8157551.0,\n",
       "  'New Recovered': 60563.0,\n",
       "  'Active Cases': 417701.0,\n",
       "  'Serious, Critical': 4453.0,\n",
       "  'Tot Cases/1M Pop': 153256.37321415718,\n",
       "  'Deaths/1M Pop': 2731.227037910158,\n",
       "  'Total Tests': 48836704.0,\n",
       "  'Tests/1M Pop': 857252.0094297064,\n",
       "  'Population': 56968900.0,\n",
       "  'Continent': 'Europe'},\n",
       " {'#': '#',\n",
       "  'Date': '27:11:2021 - 10:12:2021',\n",
       "  'Country, Other': 'Azerbaijn',\n",
       "  'Total Cases': 8310184,\n",
       "  'New Cases': 19633.0,\n",
       "  'Total Deaths': 111016.0,\n",
       "  'New Deaths': 288.0,\n",
       "  'Total Recovered': 7858784.0,\n",
       "  'New Recovered': 25680.0,\n",
       "  'Active Cases': 340384.0,\n",
       "  'Serious, Critical': 0.0,\n",
       "  'Tot Cases/1M Pop': 57802.2882494139,\n",
       "  'Deaths/1M Pop': 772.1825211447705,\n",
       "  'Total Tests': 78148673.0,\n",
       "  'Tests/1M Pop': 543570.6505481935,\n",
       "  'Population': 143769118.0,\n",
       "  'Continent': 'Asia'},\n",
       " {'#': '#',\n",
       "  'Date': '27:11:2021 - 10:12:2021',\n",
       "  'Country, Other': 'Costa Ric',\n",
       "  'Total Cases': 7942346,\n",
       "  'New Cases': 1141.0,\n",
       "  'Total Deaths': 102350.0,\n",
       "  'New Deaths': 37.0,\n",
       "  'Total Recovered': 7728855.0,\n",
       "  'New Recovered': 11222.0,\n",
       "  'Active Cases': 111141.0,\n",
       "  'Serious, Critical': 1083.0,\n",
       "  'Tot Cases/1M Pop': 109937.25544282672,\n",
       "  'Deaths/1M Pop': 1416.719706566966,\n",
       "  'Total Tests': 38134397.0,\n",
       "  'Tests/1M Pop': 527852.972427437,\n",
       "  'Population': 72244354.0,\n",
       "  'Continent': 'North Ameica'},\n",
       " {'#': '#',\n",
       "  'Date': '27:11:2021 - 10:12:2021',\n",
       "  'Country, Other': 'Sri Lank',\n",
       "  'Total Cases': 7932192,\n",
       "  'New Cases': 10367.0,\n",
       "  'Total Deaths': 201998.0,\n",
       "  'New Deaths': 315.0,\n",
       "  'Total Recovered': 7543294.0,\n",
       "  'New Recovered': 4669.0,\n",
       "  'Active Cases': 186900.0,\n",
       "  'Serious, Critical': 0.0,\n",
       "  'Tot Cases/1M Pop': 26302.565907720495,\n",
       "  'Deaths/1M Pop': 669.8105275600647,\n",
       "  'Total Tests': 79361484.0,\n",
       "  'Tests/1M Pop': 263156.85039450706,\n",
       "  'Population': 301574836.0,\n",
       "  'Continent': 'Asia'},\n",
       " {'#': '#',\n",
       "  'Date': '27:11:2021 - 10:12:2021',\n",
       "  'Country, Other': 'Ireland',\n",
       "  'Total Cases': 8202476,\n",
       "  'New Cases': 63424.0,\n",
       "  'Total Deaths': 79921.0,\n",
       "  'New Deaths': 136.0,\n",
       "  'Total Recovered': 6351666.0,\n",
       "  'New Recovered': 43571.0,\n",
       "  'Active Cases': 1770889.0,\n",
       "  'Serious, Critical': 1613.0,\n",
       "  'Tot Cases/1M Pop': 116798.46337341833,\n",
       "  'Deaths/1M Pop': 1138.028321115108,\n",
       "  'Total Tests': 126403822.0,\n",
       "  'Tests/1M Pop': 1799916.5342424763,\n",
       "  'Population': 70227602.0,\n",
       "  'Continent': 'Europe'},\n",
       " {'#': '#',\n",
       "  'Date': '27:11:2021 - 10:12:2021',\n",
       "  'Country, Other': 'Saudi Arb',\n",
       "  'Total Cases': 7698290,\n",
       "  'New Cases': 494.0,\n",
       "  'Total Deaths': 123779.0,\n",
       "  'New Deaths': 21.0,\n",
       "  'Total Recovered': 7546483.0,\n",
       "  'New Recovered': 554.0,\n",
       "  'Active Cases': 28028.0,\n",
       "  'Serious, Critical': 533.0,\n",
       "  'Tot Cases/1M Pop': 15452.57779313048,\n",
       "  'Deaths/1M Pop': 248.45837538672845,\n",
       "  'Total Tests': 441931329.0,\n",
       "  'Tests/1M Pop': 887077.2912678062,\n",
       "  'Population': 498188076.0,\n",
       "  'Continent': 'Asia'},\n",
       " {'#': '#',\n",
       "  'Date': '27:11:2021 - 10:12:2021',\n",
       "  'Country, Other': 'Boliva',\n",
       "  'Total Cases': 7580870,\n",
       "  'New Cases': 15882.0,\n",
       "  'Total Deaths': 268927.0,\n",
       "  'New Deaths': 160.0,\n",
       "  'Total Recovered': 6942484.0,\n",
       "  'New Recovered': 11866.0,\n",
       "  'Active Cases': 369459.0,\n",
       "  'Serious, Critical': 3080.0,\n",
       "  'Tot Cases/1M Pop': 45505.34100562177,\n",
       "  'Deaths/1M Pop': 1614.2757810935748,\n",
       "  'Total Tests': 36271996.0,\n",
       "  'Tests/1M Pop': 217728.2484641669,\n",
       "  'Population': 166592972.0,\n",
       "  'Continent': 'South America'},\n",
       " {'#': '#',\n",
       "  'Date': '27:11:2021 - 10:12:2021',\n",
       "  'Country, Other': 'Ecuador',\n",
       "  'Total Cases': 7390764,\n",
       "  'New Cases': 915.0,\n",
       "  'Total Deaths': 466708.0,\n",
       "  'New Deaths': 22.0,\n",
       "  'Total Recovered': 6214320.0,\n",
       "  'New Recovered': 0.0,\n",
       "  'Active Cases': 709736.0,\n",
       "  'Serious, Critical': 10626.0,\n",
       "  'Tot Cases/1M Pop': 29289.304801403097,\n",
       "  'Deaths/1M Pop': 1849.5453061758212,\n",
       "  'Total Tests': 28372560.0,\n",
       "  'Tests/1M Pop': 112439.33074254535,\n",
       "  'Population': 252336614.0,\n",
       "  'Continent': 'South America'},\n",
       " {'#': '#',\n",
       "  'Date': '27:11:2021 - 10:12:2021',\n",
       "  'Country, Other': 'Myanmr',\n",
       "  'Total Cases': 7332377,\n",
       "  'New Cases': 5318.0,\n",
       "  'Total Deaths': 267783.0,\n",
       "  'New Deaths': 103.0,\n",
       "  'Total Recovered': 6988331.0,\n",
       "  'New Recovered': 7577.0,\n",
       "  'Active Cases': 76263.0,\n",
       "  'Serious, Critical': 0.0,\n",
       "  'Tot Cases/1M Pop': 9534.88576283125,\n",
       "  'Deaths/1M Pop': 348.2199993574036,\n",
       "  'Total Tests': 79070190.0,\n",
       "  'Tests/1M Pop': 102821.39460305464,\n",
       "  'Population': 769005228.0,\n",
       "  'Continent': 'Asia'},\n",
       " {'#': '#',\n",
       "  'Date': '27:11:2021 - 10:12:2021',\n",
       "  'Country, Other': 'Panm',\n",
       "  'Total Cases': 6701478,\n",
       "  'New Cases': 2735.0,\n",
       "  'Total Deaths': 103205.0,\n",
       "  'New Deaths': 23.0,\n",
       "  'Total Recovered': 6559163.0,\n",
       "  'New Recovered': 2659.0,\n",
       "  'Active Cases': 39110.0,\n",
       "  'Serious, Critical': 274.0,\n",
       "  'Tot Cases/1M Pop': 108510.24617617317,\n",
       "  'Deaths/1M Pop': 1671.0940417340698,\n",
       "  'Total Tests': 59638874.0,\n",
       "  'Tests/1M Pop': 965671.8860242133,\n",
       "  'Population': 61758942.0,\n",
       "  'Continent': 'North Ameica'},\n",
       " {'#': '#',\n",
       "  'Date': '27:11:2021 - 10:12:2021',\n",
       "  'Country, Other': 'Denmark',\n",
       "  'Total Cases': 7077933,\n",
       "  'New Cases': 71901.0,\n",
       "  'Total Deaths': 41018.0,\n",
       "  'New Deaths': 146.0,\n",
       "  'Total Recovered': 6046681.0,\n",
       "  'New Recovered': 32011.0,\n",
       "  'Active Cases': 990234.0,\n",
       "  'Serious, Critical': 840.0,\n",
       "  'Tot Cases/1M Pop': 86848.61693679402,\n",
       "  'Deaths/1M Pop': 503.30464692353223,\n",
       "  'Total Tests': 1332817893.0,\n",
       "  'Tests/1M Pop': 16354123.532345096,\n",
       "  'Population': 81497360.0,\n",
       "  'Continent': 'Europe'},\n",
       " {'#': '#',\n",
       "  'Date': '27:11:2021 - 10:12:2021',\n",
       "  'Country, Other': 'Lithuan',\n",
       "  'Total Cases': 6676486,\n",
       "  'New Cases': 22669.0,\n",
       "  'Total Deaths': 95383.0,\n",
       "  'New Deaths': 264.0,\n",
       "  'Total Recovered': 6184858.0,\n",
       "  'New Recovered': 24675.0,\n",
       "  'Active Cases': 396245.0,\n",
       "  'Serious, Critical': 1778.0,\n",
       "  'Tot Cases/1M Pop': 178733.68531347593,\n",
       "  'Deaths/1M Pop': 2553.4622713588074,\n",
       "  'Total Tests': 86965494.0,\n",
       "  'Tests/1M Pop': 2328120.39712612,\n",
       "  'Population': 37354380.0,\n",
       "  'Continent': 'Europe'},\n",
       " {'#': '#',\n",
       "  'Date': '27:11:2021 - 10:12:2021',\n",
       "  'Country, Other': 'Parguy',\n",
       "  'Total Cases': 6485848,\n",
       "  'New Cases': 795.0,\n",
       "  'Total Deaths': 230688.0,\n",
       "  'New Deaths': 41.0,\n",
       "  'Total Recovered': 6244614.0,\n",
       "  'New Recovered': 964.0,\n",
       "  'Active Cases': 10546.0,\n",
       "  'Serious, Critical': 669.0,\n",
       "  'Tot Cases/1M Pop': 63836.83905792728,\n",
       "  'Deaths/1M Pop': 2270.5423760462977,\n",
       "  'Total Tests': 27410318.0,\n",
       "  'Tests/1M Pop': 269785.54827257857,\n",
       "  'Population': 101600394.0,\n",
       "  'Continent': 'South America'},\n",
       " {'#': '#',\n",
       "  'Date': '27:11:2021 - 10:12:2021',\n",
       "  'Country, Other': 'S. Korea',\n",
       "  'Total Cases': 6532094,\n",
       "  'New Cases': 70705.0,\n",
       "  'Total Deaths': 53084.0,\n",
       "  'New Deaths': 690.0,\n",
       "  'Total Recovered': 5671984.0,\n",
       "  'New Recovered': 42890.0,\n",
       "  'Active Cases': 807026.0,\n",
       "  'Serious, Critical': 10296.0,\n",
       "  'Tot Cases/1M Pop': 9089.418969842009,\n",
       "  'Deaths/1M Pop': 73.86646863855499,\n",
       "  'Total Tests': 221256910.0,\n",
       "  'Tests/1M Pop': 307879.33470685297,\n",
       "  'Population': 718648136.0,\n",
       "  'Continent': 'Asia'},\n",
       " {'#': '#',\n",
       "  'Date': '27:11:2021 - 10:12:2021',\n",
       "  'Country, Other': 'Venzula',\n",
       "  'Total Cases': 6072403,\n",
       "  'New Cases': 6561.0,\n",
       "  'Total Deaths': 72513.0,\n",
       "  'New Deaths': 85.0,\n",
       "  'Total Recovered': 5895077.0,\n",
       "  'New Recovered': 7331.0,\n",
       "  'Active Cases': 104813.0,\n",
       "  'Serious, Critical': 9534.0,\n",
       "  'Tot Cases/1M Pop': 15315.139096294957,\n",
       "  'Deaths/1M Pop': 182.88421919454888,\n",
       "  'Total Tests': 47026196.0,\n",
       "  'Tests/1M Pop': 118604.2383731168,\n",
       "  'Population': 396496758.0,\n",
       "  'Continent': 'South America'},\n",
       " {'#': '#',\n",
       "  'Date': '27:11:2021 - 10:12:2021',\n",
       "  'Country, Other': 'Palestin',\n",
       "  'Total Cases': 6040921,\n",
       "  'New Cases': 4389.0,\n",
       "  'Total Deaths': 63634.0,\n",
       "  'New Deaths': 47.0,\n",
       "  'Total Recovered': 5930967.0,\n",
       "  'New Recovered': 3150.0,\n",
       "  'Active Cases': 46320.0,\n",
       "  'Serious, Critical': 681.0,\n",
       "  'Tot Cases/1M Pop': 81879.04968422276,\n",
       "  'Deaths/1M Pop': 862.4995174752047,\n",
       "  'Total Tests': 38476731.0,\n",
       "  'Tests/1M Pop': 521516.2007971092,\n",
       "  'Population': 73778592.0,\n",
       "  'Continent': 'Asia'},\n",
       " {'#': '#',\n",
       "  'Date': '27:11:2021 - 10:12:2021',\n",
       "  'Country, Other': 'Slovenia',\n",
       "  'Total Cases': 5979490,\n",
       "  'New Cases': 23991.0,\n",
       "  'Total Deaths': 73901.0,\n",
       "  'New Deaths': 240.0,\n",
       "  'Total Recovered': 5459415.0,\n",
       "  'New Recovered': 41342.0,\n",
       "  'Active Cases': 446174.0,\n",
       "  'Serious, Critical': 3409.0,\n",
       "  'Tot Cases/1M Pop': 205404.3258405429,\n",
       "  'Deaths/1M Pop': 2538.6086579193143,\n",
       "  'Total Tests': 27376856.0,\n",
       "  'Tests/1M Pop': 940435.4970597195,\n",
       "  'Population': 29110828.0,\n",
       "  'Continent': 'Europe'},\n",
       " {'#': '#',\n",
       "  'Date': '27:11:2021 - 10:12:2021',\n",
       "  'Country, Other': 'Kuwait',\n",
       "  'Total Cases': 5788331,\n",
       "  'New Cases': 361.0,\n",
       "  'Total Deaths': 34513.0,\n",
       "  'New Deaths': 1.0,\n",
       "  'Total Recovered': 5749749.0,\n",
       "  'New Recovered': 289.0,\n",
       "  'Active Cases': 4069.0,\n",
       "  'Serious, Critical': 28.0,\n",
       "  'Tot Cases/1M Pop': 94819.99237617468,\n",
       "  'Deaths/1M Pop': 565.3654562738235,\n",
       "  'Total Tests': 75602781.0,\n",
       "  'Tests/1M Pop': 1238466.6872087317,\n",
       "  'Population': 61045470.0,\n",
       "  'Continent': 'Asia'},\n",
       " {'#': '#',\n",
       "  'Date': '27:11:2021 - 10:12:2021',\n",
       "  'Country, Other': 'Dominca Republ',\n",
       "  'Total Cases': 5713794,\n",
       "  'New Cases': 3841.0,\n",
       "  'Total Deaths': 58940.0,\n",
       "  'New Deaths': 16.0,\n",
       "  'Total Recovered': 5621117.0,\n",
       "  'New Recovered': 6022.0,\n",
       "  'Active Cases': 33737.0,\n",
       "  'Serious, Critical': 2298.0,\n",
       "  'Tot Cases/1M Pop': 37093.477283892484,\n",
       "  'Deaths/1M Pop': 382.6335970657365,\n",
       "  'Total Tests': 34615371.0,\n",
       "  'Tests/1M Pop': 224720.12079224605,\n",
       "  'Population': 154037702.0,\n",
       "  'Continent': 'North Ameica'},\n",
       " {'#': '#',\n",
       "  'Date': '27:11:2021 - 10:12:2021',\n",
       "  'Country, Other': 'Urugay',\n",
       "  'Total Cases': 5608386,\n",
       "  'New Cases': 3259.0,\n",
       "  'Total Deaths': 85868.0,\n",
       "  'New Deaths': 17.0,\n",
       "  'Total Recovered': 5491740.0,\n",
       "  'New Recovered': 2962.0,\n",
       "  'Active Cases': 30778.0,\n",
       "  'Serious, Critical': 211.0,\n",
       "  'Tot Cases/1M Pop': 114756.25856341355,\n",
       "  'Deaths/1M Pop': 1756.9921917505667,\n",
       "  'Total Tests': 57952662.0,\n",
       "  'Tests/1M Pop': 1185801.1672003516,\n",
       "  'Population': 48872158.0,\n",
       "  'Continent': 'South America'},\n",
       " {'#': '#',\n",
       "  'Date': '27:11:2021 - 10:12:2021',\n",
       "  'Country, Other': 'Monglia',\n",
       "  'Total Cases': 5359972,\n",
       "  'New Cases': 4782.0,\n",
       "  'Total Deaths': 28140.0,\n",
       "  'New Deaths': 47.0,\n",
       "  'Total Recovered': 4385584.0,\n",
       "  'New Recovered': 0.0,\n",
       "  'Active Cases': 946248.0,\n",
       "  'Serious, Critical': 2688.0,\n",
       "  'Tot Cases/1M Pop': 114170.64963140793,\n",
       "  'Deaths/1M Pop': 599.3990417539156,\n",
       "  'Total Tests': 56420672.0,\n",
       "  'Tests/1M Pop': 1201794.482299644,\n",
       "  'Population': 46947022.0,\n",
       "  'Continent': 'Asia'},\n",
       " {'#': '#',\n",
       "  'Date': '27:11:2021 - 10:12:2021',\n",
       "  'Country, Other': 'Honduras',\n",
       "  'Total Cases': 5294290,\n",
       "  'New Cases': 647.0,\n",
       "  'Total Deaths': 145752.0,\n",
       "  'New Deaths': 16.0,\n",
       "  'Total Recovered': 1700520.0,\n",
       "  'New Recovered': 2138.0,\n",
       "  'Active Cases': 3448018.0,\n",
       "  'Serious, Critical': 781.0,\n",
       "  'Tot Cases/1M Pop': 37336.17499611038,\n",
       "  'Deaths/1M Pop': 1027.8662819817353,\n",
       "  'Total Tests': 15717898.0,\n",
       "  'Tests/1M Pop': 110845.11620991924,\n",
       "  'Population': 141800546.0,\n",
       "  'Continent': 'North Ameica'},\n",
       " {'#': '#',\n",
       "  'Date': '27:11:2021 - 10:12:2021',\n",
       "  'Country, Other': 'Ethiopa',\n",
       "  'Total Cases': 5208010,\n",
       "  'New Cases': 1810.0,\n",
       "  'Total Deaths': 94986.0,\n",
       "  'New Deaths': 95.0,\n",
       "  'Total Recovered': 4891920.0,\n",
       "  'New Recovered': 2103.0,\n",
       "  'Active Cases': 221104.0,\n",
       "  'Serious, Critical': 3002.0,\n",
       "  'Tot Cases/1M Pop': 3125.828709887632,\n",
       "  'Deaths/1M Pop': 57.01025263726196,\n",
       "  'Total Tests': 54465989.0,\n",
       "  'Tests/1M Pop': 32690.289021838278,\n",
       "  'Population': 1666121366.0,\n",
       "  'Continent': 'Africa'},\n",
       " {'#': '#',\n",
       "  'Date': '27:11:2021 - 10:12:2021',\n",
       "  'Country, Other': 'Libya',\n",
       "  'Total Cases': 5239739,\n",
       "  'New Cases': 6663.0,\n",
       "  'Total Deaths': 76767.0,\n",
       "  'New Deaths': 110.0,\n",
       "  'Total Recovered': 4927147.0,\n",
       "  'New Recovered': 23174.0,\n",
       "  'Active Cases': 235825.0,\n",
       "  'Serious, Critical': 0.0,\n",
       "  'Tot Cases/1M Pop': 53434.73017247897,\n",
       "  'Deaths/1M Pop': 782.8679884915439,\n",
       "  'Total Tests': 26901568.0,\n",
       "  'Tests/1M Pop': 274341.5325260657,\n",
       "  'Population': 98058678.0,\n",
       "  'Continent': 'Africa'},\n",
       " {'#': '#',\n",
       "  'Date': '27:11:2021 - 10:12:2021',\n",
       "  'Country, Other': 'Moldva',\n",
       "  'Total Cases': 5118920,\n",
       "  'New Cases': 7185.0,\n",
       "  'Total Deaths': 128707.0,\n",
       "  'New Deaths': 311.0,\n",
       "  'Total Recovered': 4911005.0,\n",
       "  'New Recovered': 24441.0,\n",
       "  'Active Cases': 79208.0,\n",
       "  'Serious, Critical': 2859.0,\n",
       "  'Tot Cases/1M Pop': 90940.69106838311,\n",
       "  'Deaths/1M Pop': 2286.5572279579255,\n",
       "  'Total Tests': 31091610.0,\n",
       "  'Tests/1M Pop': 552361.1425512903,\n",
       "  'Population': 56288554.0,\n",
       "  'Continent': 'Europe'},\n",
       " {'#': '#',\n",
       "  'Date': '27:11:2021 - 10:12:2021',\n",
       "  'Country, Other': 'Egypt',\n",
       "  'Total Cases': 5064309,\n",
       "  'New Cases': 12620.0,\n",
       "  'Total Deaths': 289074.0,\n",
       "  'New Deaths': 729.0,\n",
       "  'Total Recovered': 4204344.0,\n",
       "  'New Recovered': 10749.0,\n",
       "  'Active Cases': 570891.0,\n",
       "  'Serious, Critical': 1260.0,\n",
       "  'Tot Cases/1M Pop': 3442.5488225909153,\n",
       "  'Deaths/1M Pop': 196.50289078759735,\n",
       "  'Total Tests': 51707138.0,\n",
       "  'Tests/1M Pop': 35148.79266676777,\n",
       "  'Population': 1471092862.0,\n",
       "  'Continent': 'Africa'},\n",
       " {'#': '#',\n",
       "  'Date': '27:11:2021 - 10:12:2021',\n",
       "  'Country, Other': 'Armenia',\n",
       "  'Total Cases': 4759012,\n",
       "  'New Cases': 5110.0,\n",
       "  'Total Deaths': 106989.0,\n",
       "  'New Deaths': 308.0,\n",
       "  'Total Recovered': 4474130.0,\n",
       "  'New Recovered': 11607.0,\n",
       "  'Active Cases': 177893.0,\n",
       "  'Serious, Critical': 0.0,\n",
       "  'Tot Cases/1M Pop': 114410.87802133869,\n",
       "  'Deaths/1M Pop': 2572.1106457863534,\n",
       "  'Total Tests': 33474845.0,\n",
       "  'Tests/1M Pop': 804765.0243534204,\n",
       "  'Population': 41595800.0,\n",
       "  'Continent': 'Asia'},\n",
       " {'#': '#',\n",
       "  'Date': '27:11:2021 - 10:12:2021',\n",
       "  'Country, Other': 'Oman',\n",
       "  'Total Cases': 4264315,\n",
       "  'New Cases': 121.0,\n",
       "  'Total Deaths': 57582.0,\n",
       "  'New Deaths': 0.0,\n",
       "  'Total Recovered': 4200257.0,\n",
       "  'New Recovered': 115.0,\n",
       "  'Active Cases': 6476.0,\n",
       "  'Serious, Critical': 39.0,\n",
       "  'Tot Cases/1M Pop': 57567.25468677452,\n",
       "  'Deaths/1M Pop': 777.3435263046586,\n",
       "  'Total Tests': 350000000.0,\n",
       "  'Tests/1M Pop': 4724918.102994521,\n",
       "  'Population': 74075358.0,\n",
       "  'Continent': 'Asia'},\n",
       " {'#': '#',\n",
       "  'Date': '27:11:2021 - 10:12:2021',\n",
       "  'Country, Other': 'Bahrin',\n",
       "  'Total Cases': 3888980,\n",
       "  'New Cases': 461.0,\n",
       "  'Total Deaths': 19516.0,\n",
       "  'New Deaths': 0.0,\n",
       "  'Total Recovered': 3865032.0,\n",
       "  'New Recovered': 427.0,\n",
       "  'Active Cases': 4432.0,\n",
       "  'Serious, Critical': 23.0,\n",
       "  'Tot Cases/1M Pop': 155578.52907645245,\n",
       "  'Deaths/1M Pop': 780.7369987647265,\n",
       "  'Total Tests': 104547539.0,\n",
       "  'Tests/1M Pop': 4182421.184007901,\n",
       "  'Population': 24996894.0,\n",
       "  'Continent': 'Asia'},\n",
       " {'#': '#',\n",
       "  'Date': '27:11:2021 - 10:12:2021',\n",
       "  'Country, Other': 'Bosnia dHerzgv',\n",
       "  'Total Cases': 3879052,\n",
       "  'New Cases': 7329.0,\n",
       "  'Total Deaths': 177688.0,\n",
       "  'New Deaths': 434.0,\n",
       "  'Total Recovered': 2691052.0,\n",
       "  'New Recovered': 0.0,\n",
       "  'Active Cases': 1010312.0,\n",
       "  'Serious, Critical': 0.0,\n",
       "  'Tot Cases/1M Pop': 85207.95646689626,\n",
       "  'Deaths/1M Pop': 3903.1266837077364,\n",
       "  'Total Tests': 19692005.0,\n",
       "  'Tests/1M Pop': 432558.13657200354,\n",
       "  'Population': 45524528.0,\n",
       "  'Continent': 'Europe'},\n",
       " {'#': '#',\n",
       "  'Date': '27:11:2021 - 10:12:2021',\n",
       "  'Country, Other': 'Singapore',\n",
       "  'Total Cases': 3747385,\n",
       "  'New Cases': 12558.0,\n",
       "  'Total Deaths': 10396.0,\n",
       "  'New Deaths': 96.0,\n",
       "  'Total Recovered': 3593165.0,\n",
       "  'New Recovered': 20877.0,\n",
       "  'Active Cases': 143824.0,\n",
       "  'Serious, Critical': 727.0,\n",
       "  'Tot Cases/1M Pop': 45246.524151337515,\n",
       "  'Deaths/1M Pop': 125.52296203280548,\n",
       "  'Total Tests': 295382836.0,\n",
       "  'Tests/1M Pop': 3566499.4717555223,\n",
       "  'Population': 82821500.0,\n",
       "  'Continent': 'Asia'},\n",
       " {'#': '#',\n",
       "  'Date': '27:11:2021 - 10:12:2021',\n",
       "  'Country, Other': 'Norway',\n",
       "  'Total Cases': 3945553,\n",
       "  'New Cases': 50984.0,\n",
       "  'Total Deaths': 15262.0,\n",
       "  'New Deaths': 58.0,\n",
       "  'Total Recovered': 1245328.0,\n",
       "  'New Recovered': 0.0,\n",
       "  'Active Cases': 2684963.0,\n",
       "  'Serious, Critical': 1045.0,\n",
       "  'Tot Cases/1M Pop': 51413.23848805229,\n",
       "  'Deaths/1M Pop': 198.87423785833164,\n",
       "  'Total Tests': 121374919.0,\n",
       "  'Tests/1M Pop': 1581597.7271158262,\n",
       "  'Population': 76741966.0,\n",
       "  'Continent': 'Europe'},\n",
       " {'#': '#',\n",
       "  'Date': '27:11:2021 - 10:12:2021',\n",
       "  'Country, Other': 'Kenya',\n",
       "  'Total Cases': 3574975,\n",
       "  'New Cases': 1028.0,\n",
       "  'Total Deaths': 74698.0,\n",
       "  'New Deaths': 9.0,\n",
       "  'Total Recovered': 3477164.0,\n",
       "  'New Recovered': 403.0,\n",
       "  'Active Cases': 23113.0,\n",
       "  'Serious, Critical': 148.0,\n",
       "  'Tot Cases/1M Pop': 4604.78691079124,\n",
       "  'Deaths/1M Pop': 96.2156022524029,\n",
       "  'Total Tests': 39896499.0,\n",
       "  'Tests/1M Pop': 51389.135974823825,\n",
       "  'Population': 776360572.0,\n",
       "  'Continent': 'Africa'},\n",
       " {'#': '#',\n",
       "  'Date': '27:11:2021 - 10:12:2021',\n",
       "  'Country, Other': 'Latvi',\n",
       "  'Total Cases': 3586982,\n",
       "  'New Cases': 9652.0,\n",
       "  'Total Deaths': 59442.0,\n",
       "  'New Deaths': 247.0,\n",
       "  'Total Recovered': 3368373.0,\n",
       "  'New Recovered': 12930.0,\n",
       "  'Active Cases': 159167.0,\n",
       "  'Serious, Critical': 1994.0,\n",
       "  'Tot Cases/1M Pop': 138009.42547161216,\n",
       "  'Deaths/1M Pop': 2287.0358058344227,\n",
       "  'Total Tests': 75185032.0,\n",
       "  'Tests/1M Pop': 2892750.2480873265,\n",
       "  'Population': 25990848.0,\n",
       "  'Continent': 'Europe'},\n",
       " {'#': '#',\n",
       "  'Date': '27:11:2021 - 10:12:2021',\n",
       "  'Country, Other': 'Qatr',\n",
       "  'Total Cases': 3415956,\n",
       "  'New Cases': 2206.0,\n",
       "  'Total Deaths': 8555.0,\n",
       "  'New Deaths': 1.0,\n",
       "  'Total Recovered': 3377434.0,\n",
       "  'New Recovered': 1803.0,\n",
       "  'Active Cases': 29967.0,\n",
       "  'Serious, Critical': 177.0,\n",
       "  'Tot Cases/1M Pop': 86899.50233112954,\n",
       "  'Deaths/1M Pop': 217.6331435307753,\n",
       "  'Total Tests': 42191726.0,\n",
       "  'Tests/1M Pop': 1073327.6400197714,\n",
       "  'Population': 39309270.0,\n",
       "  'Continent': 'Asia'},\n",
       " {'#': '#',\n",
       "  'Date': '27:11:2021 - 10:12:2021',\n",
       "  'Country, Other': 'Estonia',\n",
       "  'Total Cases': 3139585,\n",
       "  'New Cases': 6936.0,\n",
       "  'Total Deaths': 25405.0,\n",
       "  'New Deaths': 64.0,\n",
       "  'Total Recovered': 2886271.0,\n",
       "  'New Recovered': 13708.0,\n",
       "  'Active Cases': 227909.0,\n",
       "  'Serious, Critical': 439.0,\n",
       "  'Tot Cases/1M Pop': 168892.28702530288,\n",
       "  'Deaths/1M Pop': 1366.648315582416,\n",
       "  'Total Tests': 32953381.0,\n",
       "  'Tests/1M Pop': 1772709.412965778,\n",
       "  'Population': 18589274.0,\n",
       "  'Continent': 'Europe'},\n",
       " {'#': '#',\n",
       "  'Date': '27:11:2021 - 10:12:2021',\n",
       "  'Country, Other': 'North Macedni',\n",
       "  'Total Cases': 3034168,\n",
       "  'New Cases': 4510.0,\n",
       "  'Total Deaths': 106739.0,\n",
       "  'New Deaths': 199.0,\n",
       "  'Total Recovered': 2829639.0,\n",
       "  'New Recovered': 6974.0,\n",
       "  'Active Cases': 97790.0,\n",
       "  'Serious, Critical': 0.0,\n",
       "  'Tot Cases/1M Pop': 104032.66431073502,\n",
       "  'Deaths/1M Pop': 3659.7652324668725,\n",
       "  'Total Tests': 20725987.0,\n",
       "  'Tests/1M Pop': 710632.9142221715,\n",
       "  'Population': 29165532.0,\n",
       "  'Continent': 'Europe'},\n",
       " {'#': '#',\n",
       "  'Date': '27:11:2021 - 10:12:2021',\n",
       "  'Country, Other': 'Nigera',\n",
       "  'Total Cases': 3005755,\n",
       "  'New Cases': 2370.0,\n",
       "  'Total Deaths': 41701.0,\n",
       "  'New Deaths': 5.0,\n",
       "  'Total Recovered': 2903641.0,\n",
       "  'New Recovered': 432.0,\n",
       "  'Active Cases': 60413.0,\n",
       "  'Serious, Critical': 154.0,\n",
       "  'Tot Cases/1M Pop': 1006.0902508867094,\n",
       "  'Deaths/1M Pop': 13.958213344809097,\n",
       "  'Total Tests': 49770051.0,\n",
       "  'Tests/1M Pop': 16659.09666530849,\n",
       "  'Population': 2987560010.0,\n",
       "  'Continent': 'Africa'},\n",
       " {'#': '#',\n",
       "  'Date': '27:11:2021 - 10:12:2021',\n",
       "  'Country, Other': 'Zambi',\n",
       "  'Total Cases': 2944306,\n",
       "  'New Cases': 606.0,\n",
       "  'Total Deaths': 51343.0,\n",
       "  'New Deaths': 1.0,\n",
       "  'Total Recovered': 2890293.0,\n",
       "  'New Recovered': 188.0,\n",
       "  'Active Cases': 2670.0,\n",
       "  'Serious, Critical': 142.0,\n",
       "  'Tot Cases/1M Pop': 11002.21347208672,\n",
       "  'Deaths/1M Pop': 191.85731588270667,\n",
       "  'Total Tests': 38338614.0,\n",
       "  'Tests/1M Pop': 143262.83187003408,\n",
       "  'Population': 267610332.0,\n",
       "  'Continent': 'Africa'},\n",
       " {'#': '#',\n",
       "  'Date': '27:11:2021 - 10:12:2021',\n",
       "  'Country, Other': 'Algeria',\n",
       "  'Total Cases': 2956755,\n",
       "  'New Cases': 2617.0,\n",
       "  'Total Deaths': 85297.0,\n",
       "  'New Deaths': 86.0,\n",
       "  'Total Recovered': 2029837.0,\n",
       "  'New Recovered': 2104.0,\n",
       "  'Active Cases': 841621.0,\n",
       "  'Serious, Critical': 243.0,\n",
       "  'Tot Cases/1M Pop': 4695.688949857121,\n",
       "  'Deaths/1M Pop': 135.46207932546417,\n",
       "  'Total Tests': 3232054.0,\n",
       "  'Tests/1M Pop': 5132.8974680490965,\n",
       "  'Population': 629674374.0,\n",
       "  'Continent': 'Africa'},\n",
       " {'#': '#',\n",
       "  'Date': '27:11:2021 - 10:12:2021',\n",
       "  'Country, Other': 'Australi',\n",
       "  'Total Cases': 3019918,\n",
       "  'New Cases': 20369.0,\n",
       "  'Total Deaths': 28502.0,\n",
       "  'New Deaths': 99.0,\n",
       "  'Total Recovered': 2768461.0,\n",
       "  'New Recovered': 17571.0,\n",
       "  'Active Cases': 222955.0,\n",
       "  'Serious, Critical': 1041.0,\n",
       "  'Tot Cases/1M Pop': 8321.82933192932,\n",
       "  'Deaths/1M Pop': 78.54146358233882,\n",
       "  'Total Tests': 678785220.0,\n",
       "  'Tests/1M Pop': 1870492.7596961563,\n",
       "  'Population': 362891124.0,\n",
       "  'Continent': 'Australi/Ocen'},\n",
       " {'#': '#',\n",
       "  'Date': '27:11:2021 - 10:12:2021',\n",
       "  'Country, Other': 'Albani',\n",
       "  'Total Cases': 2816292,\n",
       "  'New Cases': 4483.0,\n",
       "  'Total Deaths': 43515.0,\n",
       "  'New Deaths': 53.0,\n",
       "  'Total Recovered': 2680813.0,\n",
       "  'New Recovered': 6407.0,\n",
       "  'Active Cases': 91964.0,\n",
       "  'Serious, Critical': 322.0,\n",
       "  'Tot Cases/1M Pop': 70010.84260052176,\n",
       "  'Deaths/1M Pop': 1081.7492702325271,\n",
       "  'Total Tests': 19626422.0,\n",
       "  'Tests/1M Pop': 487897.68300070363,\n",
       "  'Population': 40226512.0,\n",
       "  'Continent': 'Europe'},\n",
       " {'#': '#',\n",
       "  'Date': '27:11:2021 - 10:12:2021',\n",
       "  'Country, Other': 'Botswan',\n",
       "  'Total Cases': 2735066,\n",
       "  'New Cases': 1181.0,\n",
       "  'Total Deaths': 33864.0,\n",
       "  'New Deaths': 5.0,\n",
       "  'Total Recovered': 2692134.0,\n",
       "  'New Recovered': 491.0,\n",
       "  'Active Cases': 9068.0,\n",
       "  'Serious, Critical': 14.0,\n",
       "  'Tot Cases/1M Pop': 80757.68784301628,\n",
       "  'Deaths/1M Pop': 999.8948256151417,\n",
       "  'Total Tests': 26395214.0,\n",
       "  'Tests/1M Pop': 779365.636062023,\n",
       "  'Population': 33867562.0,\n",
       "  'Continent': 'Africa'},\n",
       " {'#': '#',\n",
       "  'Date': '27:11:2021 - 10:12:2021',\n",
       "  'Country, Other': 'Uzbekistan',\n",
       "  'Total Cases': 2715598,\n",
       "  'New Cases': 2865.0,\n",
       "  'Total Deaths': 19783.0,\n",
       "  'New Deaths': 38.0,\n",
       "  'Total Recovered': 2668407.0,\n",
       "  'New Recovered': 2930.0,\n",
       "  'Active Cases': 27408.0,\n",
       "  'Serious, Critical': 322.0,\n",
       "  'Tot Cases/1M Pop': 5678.473249210567,\n",
       "  'Deaths/1M Pop': 41.36740279273024,\n",
       "  'Total Tests': 19290810.0,\n",
       "  'Tests/1M Pop': 40338.204896528754,\n",
       "  'Population': 478226784.0,\n",
       "  'Continent': 'Asia'},\n",
       " {'#': '#',\n",
       "  'Date': '27:11:2021 - 10:12:2021',\n",
       "  'Country, Other': 'Kyrgzstan',\n",
       "  'Total Cases': 2569431,\n",
       "  'New Cases': 723.0,\n",
       "  'Total Deaths': 38555.0,\n",
       "  'New Deaths': 29.0,\n",
       "  'Total Recovered': 2498610.0,\n",
       "  'New Recovered': 1036.0,\n",
       "  'Active Cases': 32266.0,\n",
       "  'Serious, Critical': 1834.0,\n",
       "  'Tot Cases/1M Pop': 27486.00385154562,\n",
       "  'Deaths/1M Pop': 412.4348458846886,\n",
       "  'Total Tests': 25809967.0,\n",
       "  'Tests/1M Pop': 276097.25747461803,\n",
       "  'Population': 93481432.0,\n",
       "  'Continent': 'Asia'},\n",
       " {'#': '#',\n",
       "  'Date': '27:11:2021 - 10:12:2021',\n",
       "  'Country, Other': 'Finlad',\n",
       "  'Total Cases': 2676846,\n",
       "  'New Cases': 18767.0,\n",
       "  'Total Deaths': 19061.0,\n",
       "  'New Deaths': 112.0,\n",
       "  'Total Recovered': 644000.0,\n",
       "  'New Recovered': 0.0,\n",
       "  'Active Cases': 2013785.0,\n",
       "  'Serious, Critical': 721.0,\n",
       "  'Tot Cases/1M Pop': 34432.58536447323,\n",
       "  'Deaths/1M Pop': 245.18388791593696,\n",
       "  'Total Tests': 111975821.0,\n",
       "  'Tests/1M Pop': 1440358.1735144546,\n",
       "  'Population': 77741650.0,\n",
       "  'Continent': 'Europe'},\n",
       " {'#': '#',\n",
       "  'Date': '27:11:2021 - 10:12:2021',\n",
       "  'Country, Other': 'Afghanist',\n",
       "  'Total Cases': 2203763,\n",
       "  'New Cases': 402.0,\n",
       "  'Total Deaths': 102379.0,\n",
       "  'New Deaths': 12.0,\n",
       "  'Total Recovered': 1971892.0,\n",
       "  'New Recovered': 983.0,\n",
       "  'Active Cases': 129492.0,\n",
       "  'Serious, Critical': 15736.0,\n",
       "  'Tot Cases/1M Pop': 3918.242866684251,\n",
       "  'Deaths/1M Pop': 182.02764382933506,\n",
       "  'Total Tests': 11136503.0,\n",
       "  'Tests/1M Pop': 19800.46104756172,\n",
       "  'Population': 562436550.0,\n",
       "  'Continent': 'Asia'},\n",
       " {'#': '#',\n",
       "  'Date': '27:11:2021 - 10:12:2021',\n",
       "  'Country, Other': 'Montegr',\n",
       "  'Total Cases': 2213389,\n",
       "  'New Cases': 3165.0,\n",
       "  'Total Deaths': 32462.0,\n",
       "  'New Deaths': 66.0,\n",
       "  'Total Recovered': 2148066.0,\n",
       "  'New Recovered': 3832.0,\n",
       "  'Active Cases': 32861.0,\n",
       "  'Serious, Critical': 840.0,\n",
       "  'Tot Cases/1M Pop': 251678.54756627663,\n",
       "  'Deaths/1M Pop': 3691.16726029472,\n",
       "  'Total Tests': 12788531.0,\n",
       "  'Tests/1M Pop': 1454149.6806870832,\n",
       "  'Population': 8794508.0,\n",
       "  'Continent': 'Europe'},\n",
       " {'#': '#',\n",
       "  'Date': '27:11:2021 - 10:12:2021',\n",
       "  'Country, Other': 'Mozambique',\n",
       "  'Total Cases': 2126913,\n",
       "  'New Cases': 1450.0,\n",
       "  'Total Deaths': 27173.0,\n",
       "  'New Deaths': 2.0,\n",
       "  'Total Recovered': 2094061.0,\n",
       "  'New Recovered': 472.0,\n",
       "  'Active Cases': 5679.0,\n",
       "  'Serious, Critical': 112.0,\n",
       "  'Tot Cases/1M Pop': 4674.701512714844,\n",
       "  'Deaths/1M Pop': 59.723018386271775,\n",
       "  'Total Tests': 13780303.0,\n",
       "  'Tests/1M Pop': 30287.465110123878,\n",
       "  'Population': 454983702.0,\n",
       "  'Continent': 'Africa'},\n",
       " {'#': '#',\n",
       "  'Date': '27:11:2021 - 10:12:2021',\n",
       "  'Country, Other': 'Zimbawe',\n",
       "  'Total Cases': 1976600,\n",
       "  'New Cases': 25567.0,\n",
       "  'Total Deaths': 65964.0,\n",
       "  'New Deaths': 22.0,\n",
       "  'Total Recovered': 1804475.0,\n",
       "  'New Recovered': 708.0,\n",
       "  'Active Cases': 106161.0,\n",
       "  'Serious, Critical': 168.0,\n",
       "  'Tot Cases/1M Pop': 9306.514387746001,\n",
       "  'Deaths/1M Pop': 310.5812582582603,\n",
       "  'Total Tests': 22696704.0,\n",
       "  'Tests/1M Pop': 106863.90889932826,\n",
       "  'Population': 212388862.0,\n",
       "  'Continent': 'Africa'},\n",
       " {'#': '#',\n",
       "  'Date': '27:11:2021 - 10:12:2021',\n",
       "  'Country, Other': 'Cyprus',\n",
       "  'Total Cases': 1905005,\n",
       "  'New Cases': 6756.0,\n",
       "  'Total Deaths': 8393.0,\n",
       "  'New Deaths': 13.0,\n",
       "  'Total Recovered': 1741180.0,\n",
       "  'New Recovered': 0.0,\n",
       "  'Active Cases': 155432.0,\n",
       "  'Serious, Critical': 637.0,\n",
       "  'Tot Cases/1M Pop': 111546.31953152777,\n",
       "  'Deaths/1M Pop': 491.4466155354514,\n",
       "  'Total Tests': 132679932.0,\n",
       "  'Tests/1M Pop': 7768986.480504448,\n",
       "  'Population': 17078152.0,\n",
       "  'Continent': 'Asia'},\n",
       " {'#': '#',\n",
       "  'Date': '27:11:2021 - 10:12:2021',\n",
       "  'Country, Other': 'Ghan',\n",
       "  'Total Cases': 1834510,\n",
       "  'New Cases': 326.0,\n",
       "  'Total Deaths': 17021.0,\n",
       "  'New Deaths': 19.0,\n",
       "  'Total Recovered': 1808008.0,\n",
       "  'New Recovered': 284.0,\n",
       "  'Active Cases': 9481.0,\n",
       "  'Serious, Critical': 70.0,\n",
       "  'Tot Cases/1M Pop': 4095.5639415022797,\n",
       "  'Deaths/1M Pop': 37.99957146502897,\n",
       "  'Total Tests': 27067712.0,\n",
       "  'Tests/1M Pop': 60428.96754237837,\n",
       "  'Population': 447926104.0,\n",
       "  'Continent': 'Africa'},\n",
       " {'#': '#',\n",
       "  'Date': '27:11:2021 - 10:12:2021',\n",
       "  'Country, Other': 'Namib',\n",
       "  'Total Cases': 1815946,\n",
       "  'New Cases': 1666.0,\n",
       "  'Total Deaths': 50030.0,\n",
       "  'New Deaths': 2.0,\n",
       "  'Total Recovered': 1757703.0,\n",
       "  'New Recovered': 304.0,\n",
       "  'Active Cases': 8213.0,\n",
       "  'Serious, Critical': 22.0,\n",
       "  'Tot Cases/1M Pop': 49767.62268837455,\n",
       "  'Deaths/1M Pop': 1371.1168520976828,\n",
       "  'Total Tests': 11146166.0,\n",
       "  'Tests/1M Pop': 305470.6383945277,\n",
       "  'Population': 36488502.0,\n",
       "  'Continent': 'Africa'},\n",
       " {'#': '#',\n",
       "  'Date': '27:11:2021 - 10:12:2021',\n",
       "  'Country, Other': 'Ugand',\n",
       "  'Total Cases': 1786653,\n",
       "  'New Cases': 502.0,\n",
       "  'Total Deaths': 45576.0,\n",
       "  'New Deaths': 14.0,\n",
       "  'Total Recovered': 1366722.0,\n",
       "  'New Recovered': 722.0,\n",
       "  'Active Cases': 374355.0,\n",
       "  'Serious, Critical': 1559.0,\n",
       "  'Tot Cases/1M Pop': 2670.3194245483783,\n",
       "  'Deaths/1M Pop': 68.11757968291374,\n",
       "  'Total Tests': 27665118.0,\n",
       "  'Tests/1M Pop': 41348.097239823845,\n",
       "  'Population': 669078382.0,\n",
       "  'Continent': 'Africa'},\n",
       " {'#': '#',\n",
       "  'Date': '27:11:2021 - 10:12:2021',\n",
       "  'Country, Other': 'Cambodi',\n",
       "  'Total Cases': 1682932,\n",
       "  'New Cases': 289.0,\n",
       "  'Total Deaths': 41348.0,\n",
       "  'New Deaths': 56.0,\n",
       "  'Total Recovered': 1632022.0,\n",
       "  'New Recovered': 263.0,\n",
       "  'Active Cases': 9562.0,\n",
       "  'Serious, Critical': 0.0,\n",
       "  'Tot Cases/1M Pop': 7051.208439093164,\n",
       "  'Deaths/1M Pop': 173.24132320237786,\n",
       "  'Total Tests': 38085611.0,\n",
       "  'Tests/1M Pop': 159572.44956493753,\n",
       "  'Population': 238672848.0,\n",
       "  'Continent': 'Asia'},\n",
       " {'#': '#',\n",
       "  'Date': '27:11:2021 - 10:12:2021',\n",
       "  'Country, Other': 'El Savdor',\n",
       "  'Total Cases': 1677130,\n",
       "  'New Cases': 226.0,\n",
       "  'Total Deaths': 52940.0,\n",
       "  'New Deaths': 25.0,\n",
       "  'Total Recovered': 1439858.0,\n",
       "  'New Recovered': 1890.0,\n",
       "  'Active Cases': 184332.0,\n",
       "  'Serious, Critical': 3964.0,\n",
       "  'Tot Cases/1M Pop': 18337.489982678813,\n",
       "  'Deaths/1M Pop': 578.8380863039932,\n",
       "  'Total Tests': 20137860.0,\n",
       "  'Tests/1M Pop': 220184.36616278306,\n",
       "  'Population': 91459082.0,\n",
       "  'Continent': 'North Ameica'},\n",
       " {'#': '#',\n",
       "  'Date': '27:11:2021 - 10:12:2021',\n",
       "  'Country, Other': 'Cameron',\n",
       "  'Total Cases': 1499505,\n",
       "  'New Cases': 755.0,\n",
       "  'Total Deaths': 25248.0,\n",
       "  'New Deaths': 32.0,\n",
       "  'Total Recovered': 1438024.0,\n",
       "  'New Recovered': 0.0,\n",
       "  'Active Cases': 36233.0,\n",
       "  'Serious, Critical': 2128.0,\n",
       "  'Tot Cases/1M Pop': 3897.0157748073684,\n",
       "  'Deaths/1M Pop': 65.6162228751064,\n",
       "  'Total Tests': 24524836.0,\n",
       "  'Tests/1M Pop': 63736.81499332356,\n",
       "  'Population': 384782892.0,\n",
       "  'Continent': 'Africa'},\n",
       " {'#': '#',\n",
       "  'Date': '27:11:2021 - 10:12:2021',\n",
       "  'Country, Other': 'Rwand',\n",
       "  'Total Cases': 1405715,\n",
       "  'New Cases': 245.0,\n",
       "  'Total Deaths': 18801.0,\n",
       "  'New Deaths': 3.0,\n",
       "  'Total Recovered': 637305.0,\n",
       "  'New Recovered': 1.0,\n",
       "  'Active Cases': 749609.0,\n",
       "  'Serious, Critical': 9.0,\n",
       "  'Tot Cases/1M Pop': 7488.515503544156,\n",
       "  'Deaths/1M Pop': 100.15656088334667,\n",
       "  'Total Tests': 49387856.0,\n",
       "  'Tests/1M Pop': 263098.65466528153,\n",
       "  'Population': 187716110.0,\n",
       "  'Continent': 'Africa'},\n",
       " {'#': '#',\n",
       "  'Date': '27:11:2021 - 10:12:2021',\n",
       "  'Country, Other': 'China',\n",
       "  'Total Cases': 1386403,\n",
       "  'New Cases': 934.0,\n",
       "  'Total Deaths': 64904.0,\n",
       "  'New Deaths': 0.0,\n",
       "  'Total Recovered': 1307821.0,\n",
       "  'New Recovered': 572.0,\n",
       "  'Active Cases': 13678.0,\n",
       "  'Serious, Critical': 181.0,\n",
       "  'Tot Cases/1M Pop': 68.80229963927569,\n",
       "  'Deaths/1M Pop': 3.2209570058543937,\n",
       "  'Total Tests': 2240000000.0,\n",
       "  'Tests/1M Pop': 111163.31340308521,\n",
       "  'Population': 20150532864.0,\n",
       "  'Continent': 'Asia'},\n",
       " {'#': '#',\n",
       "  'Date': '27:11:2021 - 10:12:2021',\n",
       "  'Country, Other': 'Maldives',\n",
       "  'Total Cases': 1289047,\n",
       "  'New Cases': 1572.0,\n",
       "  'Total Deaths': 3532.0,\n",
       "  'New Deaths': 8.0,\n",
       "  'Total Recovered': 1260678.0,\n",
       "  'New Recovered': 1586.0,\n",
       "  'Active Cases': 24837.0,\n",
       "  'Serious, Critical': 322.0,\n",
       "  'Tot Cases/1M Pop': 166176.27759630975,\n",
       "  'Deaths/1M Pop': 455.324447029601,\n",
       "  'Total Tests': 24710223.0,\n",
       "  'Tests/1M Pop': 3185495.0802528677,\n",
       "  'Population': 7757106.0,\n",
       "  'Continent': 'Asia'},\n",
       " {'#': '#',\n",
       "  'Date': '27:11:2021 - 10:12:2021',\n",
       "  'Country, Other': 'Jamic',\n",
       "  'Total Cases': 1279518,\n",
       "  'New Cases': 626.0,\n",
       "  'Total Deaths': 33647.0,\n",
       "  'New Deaths': 42.0,\n",
       "  'Total Recovered': 880100.0,\n",
       "  'New Recovered': 1101.0,\n",
       "  'Active Cases': 365771.0,\n",
       "  'Serious, Critical': 125.0,\n",
       "  'Tot Cases/1M Pop': 30673.645631961706,\n",
       "  'Deaths/1M Pop': 806.6132360612477,\n",
       "  'Total Tests': 9457907.0,\n",
       "  'Tests/1M Pop': 226732.63505323883,\n",
       "  'Population': 41713920.0,\n",
       "  'Continent': 'North Ameica'},\n",
       " {'#': '#',\n",
       "  'Date': '27:11:2021 - 10:12:2021',\n",
       "  'Country, Other': 'Luxemborg',\n",
       "  'Total Cases': 1269511,\n",
       "  'New Cases': 5321.0,\n",
       "  'Total Deaths': 12317.0,\n",
       "  'New Deaths': 24.0,\n",
       "  'Total Recovered': 1188296.0,\n",
       "  'New Recovered': 3662.0,\n",
       "  'Active Cases': 68898.0,\n",
       "  'Serious, Critical': 228.0,\n",
       "  'Tot Cases/1M Pop': 141584.9841586791,\n",
       "  'Deaths/1M Pop': 1373.6802988571585,\n",
       "  'Total Tests': 51854100.0,\n",
       "  'Tests/1M Pop': 5783141.640413169,\n",
       "  'Population': 8966424.0,\n",
       "  'Continent': 'Europe'},\n",
       " {'#': '#',\n",
       "  'Date': '27:11:2021 - 10:12:2021',\n",
       "  'Country, Other': 'Sengal',\n",
       "  'Total Cases': 1036199,\n",
       "  'New Cases': 90.0,\n",
       "  'Total Deaths': 26399.0,\n",
       "  'New Deaths': 1.0,\n",
       "  'Total Recovered': 1009437.0,\n",
       "  'New Recovered': 50.0,\n",
       "  'Active Cases': 363.0,\n",
       "  'Serious, Critical': 24.0,\n",
       "  'Tot Cases/1M Pop': 4260.893485142675,\n",
       "  'Deaths/1M Pop': 108.55378852351863,\n",
       "  'Total Tests': 12301129.0,\n",
       "  'Tests/1M Pop': 50582.75525840078,\n",
       "  'Population': 243188196.0,\n",
       "  'Continent': 'Africa'},\n",
       " {'#': '#',\n",
       "  'Date': '27:11:2021 - 10:12:2021',\n",
       "  'Country, Other': 'Laos',\n",
       "  'Total Cases': 1092233,\n",
       "  'New Cases': 17334.0,\n",
       "  'Total Deaths': 2710.0,\n",
       "  'New Deaths': 84.0,\n",
       "  'Total Recovered': 102746.0,\n",
       "  'New Recovered': 0.0,\n",
       "  'Active Cases': 986777.0,\n",
       "  'Serious, Critical': 0.0,\n",
       "  'Tot Cases/1M Pop': 10506.288740528731,\n",
       "  'Deaths/1M Pop': 26.06773690854686,\n",
       "  'Total Tests': 11326177.0,\n",
       "  'Tests/1M Pop': 108947.52849285406,\n",
       "  'Population': 103959926.0,\n",
       "  'Continent': 'Asia'},\n",
       " {'#': '#',\n",
       "  'Date': '27:11:2021 - 10:12:2021',\n",
       "  'Country, Other': 'Trinda obg',\n",
       "  'Total Cases': 1037589,\n",
       "  'New Cases': 10229.0,\n",
       "  'Total Deaths': 31186.0,\n",
       "  'New Deaths': 300.0,\n",
       "  'Total Recovered': 839612.0,\n",
       "  'New Recovered': 6068.0,\n",
       "  'Active Cases': 166791.0,\n",
       "  'Serious, Critical': 308.0,\n",
       "  'Tot Cases/1M Pop': 52714.56467651834,\n",
       "  'Deaths/1M Pop': 1584.400387823985,\n",
       "  'Total Tests': 6365610.0,\n",
       "  'Tests/1M Pop': 323403.9297356582,\n",
       "  'Population': 19683156.0,\n",
       "  'Continent': 'North Ameica'},\n",
       " {'#': '#',\n",
       "  'Date': '27:11:2021 - 10:12:2021',\n",
       "  'Country, Other': 'Angola',\n",
       "  'Total Cases': 913332,\n",
       "  'New Cases': 220.0,\n",
       "  'Total Deaths': 24285.0,\n",
       "  'New Deaths': 4.0,\n",
       "  'Total Recovered': 886090.0,\n",
       "  'New Recovered': 216.0,\n",
       "  'Active Cases': 2957.0,\n",
       "  'Serious, Critical': 42.0,\n",
       "  'Tot Cases/1M Pop': 1901.016148176105,\n",
       "  'Deaths/1M Pop': 50.54698308879652,\n",
       "  'Total Tests': 16627541.0,\n",
       "  'Tests/1M Pop': 34608.689879978214,\n",
       "  'Population': 480444104.0,\n",
       "  'Continent': 'Africa'},\n",
       " {'#': '#',\n",
       "  'Date': '27:11:2021 - 10:12:2021',\n",
       "  'Country, Other': 'Malwi',\n",
       "  'Total Cases': 867661,\n",
       "  'New Cases': 261.0,\n",
       "  'Total Deaths': 32289.0,\n",
       "  'New Deaths': 3.0,\n",
       "  'Total Recovered': 823372.0,\n",
       "  'New Recovered': 89.0,\n",
       "  'Active Cases': 12000.0,\n",
       "  'Serious, Critical': 938.0,\n",
       "  'Tot Cases/1M Pop': 3125.032437580335,\n",
       "  'Deaths/1M Pop': 116.29446566923191,\n",
       "  'Total Tests': 6227726.0,\n",
       "  'Tests/1M Pop': 22430.24149104596,\n",
       "  'Population': 277648638.0,\n",
       "  'Continent': 'Africa'},\n",
       " {'#': '#',\n",
       "  'Date': '27:11:2021 - 10:12:2021',\n",
       "  'Country, Other': 'Ivory Cast',\n",
       "  'Total Cases': 865088,\n",
       "  'New Cases': 196.0,\n",
       "  'Total Deaths': 9871.0,\n",
       "  'New Deaths': 2.0,\n",
       "  'Total Recovered': 851548.0,\n",
       "  'New Recovered': 282.0,\n",
       "  'Active Cases': 3669.0,\n",
       "  'Serious, Critical': 0.0,\n",
       "  'Tot Cases/1M Pop': 2262.9340573595064,\n",
       "  'Deaths/1M Pop': 25.820982466749843,\n",
       "  'Total Tests': 16163976.0,\n",
       "  'Tests/1M Pop': 42282.417271701466,\n",
       "  'Population': 382285996.0,\n",
       "  'Continent': 'Africa'},\n",
       " {'#': '#',\n",
       "  'Date': '27:11:2021 - 10:12:2021',\n",
       "  'Country, Other': 'Réunio',\n",
       "  'Total Cases': 860912,\n",
       "  'New Cases': 4815.0,\n",
       "  'Total Deaths': 5395.0,\n",
       "  'New Deaths': 10.0,\n",
       "  'Total Recovered': 811327.0,\n",
       "  'New Recovered': 3645.0,\n",
       "  'Active Cases': 44190.0,\n",
       "  'Serious, Critical': 316.0,\n",
       "  'Tot Cases/1M Pop': 67993.51555141428,\n",
       "  'Deaths/1M Pop': 426.0888643669504,\n",
       "  'Total Tests': 18863292.0,\n",
       "  'Tests/1M Pop': 1489794.006765928,\n",
       "  'Population': 12661678.0,\n",
       "  'Continent': 'Africa'},\n",
       " {'#': '#',\n",
       "  'Date': '27:11:2021 - 10:12:2021',\n",
       "  'Country, Other': 'DRC',\n",
       "  'Total Cases': 820374,\n",
       "  'New Cases': 1592.0,\n",
       "  'Total Deaths': 15535.0,\n",
       "  'New Deaths': 8.0,\n",
       "  'Total Recovered': 713020.0,\n",
       "  'New Recovered': 0.0,\n",
       "  'Active Cases': 91819.0,\n",
       "  'Serious, Critical': 0.0,\n",
       "  'Tot Cases/1M Pop': 627.2105831240954,\n",
       "  'Deaths/1M Pop': 11.877163840922337,\n",
       "  'Total Tests': 4288186.0,\n",
       "  'Tests/1M Pop': 3278.4993693176307,\n",
       "  'Population': 1307972190.0,\n",
       "  'Continent': 'Africa'},\n",
       " {'#': '#',\n",
       "  'Date': '27:11:2021 - 10:12:2021',\n",
       "  'Country, Other': 'Guadelop',\n",
       "  'Total Cases': 773428,\n",
       "  'New Cases': 38.0,\n",
       "  'Total Deaths': 10464.0,\n",
       "  'New Deaths': 2.0,\n",
       "  'Total Recovered': 31500.0,\n",
       "  'New Recovered': 0.0,\n",
       "  'Active Cases': 731464.0,\n",
       "  'Serious, Critical': 322.0,\n",
       "  'Tot Cases/1M Pop': 138035.73022077064,\n",
       "  'Deaths/1M Pop': 1867.53761310703,\n",
       "  'Total Tests': 7717696.0,\n",
       "  'Tests/1M Pop': 1377397.5120915207,\n",
       "  'Population': 5603100.0,\n",
       "  'Continent': 'North Ameica'},\n",
       " {'#': '#',\n",
       "  'Date': '27:11:2021 - 10:12:2021',\n",
       "  'Country, Other': 'Fij',\n",
       "  'Total Cases': 735545,\n",
       "  'New Cases': 45.0,\n",
       "  'Total Deaths': 9754.0,\n",
       "  'New Deaths': 1.0,\n",
       "  'Total Recovered': 715273.0,\n",
       "  'New Recovered': 86.0,\n",
       "  'Active Cases': 10518.0,\n",
       "  'Serious, Critical': 0.0,\n",
       "  'Tot Cases/1M Pop': 58009.827075832145,\n",
       "  'Deaths/1M Pop': 769.263407810082,\n",
       "  'Total Tests': 6469893.0,\n",
       "  'Tests/1M Pop': 510257.52894674946,\n",
       "  'Population': 12679662.0,\n",
       "  'Continent': 'Australi/Ocen'},\n",
       " {'#': '#',\n",
       "  'Date': '27:11:2021 - 10:12:2021',\n",
       "  'Country, Other': 'Suriname',\n",
       "  'Total Cases': 713063,\n",
       "  'New Cases': 493.0,\n",
       "  'Total Deaths': 16374.0,\n",
       "  'New Deaths': 18.0,\n",
       "  'Total Recovered': 414053.0,\n",
       "  'New Recovered': 21.0,\n",
       "  'Active Cases': 282636.0,\n",
       "  'Serious, Critical': 137.0,\n",
       "  'Tot Cases/1M Pop': 85729.80880695568,\n",
       "  'Deaths/1M Pop': 1968.605704411942,\n",
       "  'Total Tests': 2248247.0,\n",
       "  'Tests/1M Pop': 270301.2012414215,\n",
       "  'Population': 8317562.0,\n",
       "  'Continent': 'South America'},\n",
       " {'#': '#',\n",
       "  'Date': '27:11:2021 - 10:12:2021',\n",
       "  'Country, Other': 'Syria',\n",
       "  'Total Cases': 678819,\n",
       "  'New Cases': 1337.0,\n",
       "  'Total Deaths': 38761.0,\n",
       "  'New Deaths': 75.0,\n",
       "  'Total Recovered': 413991.0,\n",
       "  'New Recovered': 1482.0,\n",
       "  'Active Cases': 226067.0,\n",
       "  'Serious, Critical': 0.0,\n",
       "  'Tot Cases/1M Pop': 2678.1646510056967,\n",
       "  'Deaths/1M Pop': 152.92491818530686,\n",
       "  'Total Tests': 1507500.0,\n",
       "  'Tests/1M Pop': 5947.584277091666,\n",
       "  'Population': 253464252.0,\n",
       "  'Continent': 'Asia'},\n",
       " {'#': '#',\n",
       "  'Date': '27:11:2021 - 10:12:2021',\n",
       "  'Country, Other': 'Eswatin',\n",
       "  'Total Cases': 668975,\n",
       "  'New Cases': 4648.0,\n",
       "  'Total Deaths': 17472.0,\n",
       "  'New Deaths': 0.0,\n",
       "  'Total Recovered': 633848.0,\n",
       "  'New Recovered': 171.0,\n",
       "  'Active Cases': 17655.0,\n",
       "  'Serious, Critical': 148.0,\n",
       "  'Tot Cases/1M Pop': 40589.2714602709,\n",
       "  'Deaths/1M Pop': 1060.0930542305066,\n",
       "  'Total Tests': 5501370.0,\n",
       "  'Tests/1M Pop': 333789.1555489974,\n",
       "  'Population': 16481572.0,\n",
       "  'Continent': 'Africa'},\n",
       " {'#': '#',\n",
       "  'Date': '27:11:2021 - 10:12:2021',\n",
       "  'Country, Other': 'French Guia',\n",
       "  'Total Cases': 645817,\n",
       "  'New Cases': 557.0,\n",
       "  'Total Deaths': 4598.0,\n",
       "  'New Deaths': 6.0,\n",
       "  'Total Recovered': 157556.0,\n",
       "  'New Recovered': 0.0,\n",
       "  'Active Cases': 483663.0,\n",
       "  'Serious, Critical': 116.0,\n",
       "  'Tot Cases/1M Pop': 148960.6932187072,\n",
       "  'Deaths/1M Pop': 1060.550074432255,\n",
       "  'Total Tests': 6370230.0,\n",
       "  'Tests/1M Pop': 1469323.162385947,\n",
       "  'Population': 4335486.0,\n",
       "  'Continent': 'South America'},\n",
       " {'#': '#',\n",
       "  'Date': '27:11:2021 - 10:12:2021',\n",
       "  'Country, Other': 'French Polysia',\n",
       "  'Total Cases': 645693,\n",
       "  'New Cases': 20.0,\n",
       "  'Total Deaths': 8904.0,\n",
       "  'New Deaths': 0.0,\n",
       "  'Total Recovered': 0.0,\n",
       "  'New Recovered': 0.0,\n",
       "  'Active Cases': 0.0,\n",
       "  'Serious, Critical': 98.0,\n",
       "  'Tot Cases/1M Pop': 162845.29655214158,\n",
       "  'Deaths/1M Pop': 2245.609787469074,\n",
       "  'Total Tests': 0.0,\n",
       "  'Tests/1M Pop': 0.0,\n",
       "  'Population': 3965070.0,\n",
       "  'Continent': 'Australi/Ocen'},\n",
       " {'#': '#',\n",
       "  'Date': '27:11:2021 - 10:12:2021',\n",
       "  'Country, Other': 'Martinque',\n",
       "  'Total Cases': 634119,\n",
       "  'New Cases': 529.0,\n",
       "  'Total Deaths': 10007.0,\n",
       "  'New Deaths': 9.0,\n",
       "  'Total Recovered': 1456.0,\n",
       "  'New Recovered': 0.0,\n",
       "  'Active Cases': 622656.0,\n",
       "  'Serious, Critical': 14.0,\n",
       "  'Tot Cases/1M Pop': 120832.72039067758,\n",
       "  'Deaths/1M Pop': 1906.8550744410916,\n",
       "  'Total Tests': 5827458.0,\n",
       "  'Tests/1M Pop': 1110434.481702042,\n",
       "  'Population': 5247908.0,\n",
       "  'Continent': 'North Ameica'},\n",
       " {'#': '#',\n",
       "  'Date': '27:11:2021 - 10:12:2021',\n",
       "  'Country, Other': 'Madgscr',\n",
       "  'Total Cases': 623394,\n",
       "  'New Cases': 728.0,\n",
       "  'Total Deaths': 13573.0,\n",
       "  'New Deaths': 5.0,\n",
       "  'Total Recovered': 599052.0,\n",
       "  'New Recovered': 352.0,\n",
       "  'Active Cases': 10769.0,\n",
       "  'Serious, Critical': 156.0,\n",
       "  'Tot Cases/1M Pop': 1551.3885840402825,\n",
       "  'Deaths/1M Pop': 33.77799152891872,\n",
       "  'Total Tests': 3944070.0,\n",
       "  'Tests/1M Pop': 9815.27761360513,\n",
       "  'Population': 401829694.0,\n",
       "  'Continent': 'Africa'},\n",
       " {'#': '#',\n",
       "  'Date': '27:11:2021 - 10:12:2021',\n",
       "  'Country, Other': 'Sudan',\n",
       "  'Total Cases': 608888,\n",
       "  'New Cases': 2473.0,\n",
       "  'Total Deaths': 44358.0,\n",
       "  'New Deaths': 94.0,\n",
       "  'Total Recovered': 488085.0,\n",
       "  'New Recovered': 1587.0,\n",
       "  'Active Cases': 76445.0,\n",
       "  'Serious, Critical': 0.0,\n",
       "  'Tot Cases/1M Pop': 960.0073429317018,\n",
       "  'Deaths/1M Pop': 69.9373377661646,\n",
       "  'Total Tests': 3340106.0,\n",
       "  'Tests/1M Pop': 5266.200493637968,\n",
       "  'Population': 634253482.0,\n",
       "  'Continent': 'Africa'},\n",
       " {'#': '#',\n",
       "  'Date': '27:11:2021 - 10:12:2021',\n",
       "  'Country, Other': 'Malt',\n",
       "  'Total Cases': 556893,\n",
       "  'New Cases': 1290.0,\n",
       "  'Total Deaths': 6555.0,\n",
       "  'New Deaths': 2.0,\n",
       "  'Total Recovered': 527025.0,\n",
       "  'New Recovered': 908.0,\n",
       "  'Active Cases': 23313.0,\n",
       "  'Serious, Critical': 34.0,\n",
       "  'Tot Cases/1M Pop': 89748.4947719918,\n",
       "  'Deaths/1M Pop': 1056.3993141059525,\n",
       "  'Total Tests': 16960384.0,\n",
       "  'Tests/1M Pop': 2733323.8786534816,\n",
       "  'Population': 6205040.0,\n",
       "  'Continent': 'Europe'},\n",
       " {'#': '#',\n",
       "  'Date': '27:11:2021 - 10:12:2021',\n",
       "  'Country, Other': 'Mauritn',\n",
       "  'Total Cases': 552375,\n",
       "  'New Cases': 707.0,\n",
       "  'Total Deaths': 11734.0,\n",
       "  'New Deaths': 19.0,\n",
       "  'Total Recovered': 529163.0,\n",
       "  'New Recovered': 1022.0,\n",
       "  'Active Cases': 11478.0,\n",
       "  'Serious, Critical': 212.0,\n",
       "  'Tot Cases/1M Pop': 8180.268701704759,\n",
       "  'Deaths/1M Pop': 173.77193563395093,\n",
       "  'Total Tests': 7156808.0,\n",
       "  'Tests/1M Pop': 105987.07850013168,\n",
       "  'Population': 67525288.0,\n",
       "  'Continent': 'Africa'},\n",
       " {'#': '#',\n",
       "  'Date': '27:11:2021 - 10:12:2021',\n",
       "  'Country, Other': 'Cabo Verd',\n",
       "  'Total Cases': 537924,\n",
       "  'New Cases': 136.0,\n",
       "  'Total Deaths': 4904.0,\n",
       "  'New Deaths': 2.0,\n",
       "  'Total Recovered': 531573.0,\n",
       "  'New Recovered': 78.0,\n",
       "  'Active Cases': 1447.0,\n",
       "  'Serious, Critical': 322.0,\n",
       "  'Tot Cases/1M Pop': 68056.27353681745,\n",
       "  'Deaths/1M Pop': 620.4370234913348,\n",
       "  'Total Tests': 2956324.0,\n",
       "  'Tests/1M Pop': 374023.8301460026,\n",
       "  'Population': 7904106.0,\n",
       "  'Continent': 'Africa'},\n",
       " {'#': '#',\n",
       "  'Date': '27:11:2021 - 10:12:2021',\n",
       "  'Country, Other': 'Guyan',\n",
       "  'Total Cases': 533169,\n",
       "  'New Cases': 790.0,\n",
       "  'Total Deaths': 14021.0,\n",
       "  'New Deaths': 31.0,\n",
       "  'Total Recovered': 503597.0,\n",
       "  'New Recovered': 1412.0,\n",
       "  'Active Cases': 15551.0,\n",
       "  'Serious, Critical': 234.0,\n",
       "  'Tot Cases/1M Pop': 48087.97689189659,\n",
       "  'Deaths/1M Pop': 1264.5925100695692,\n",
       "  'Total Tests': 5535322.0,\n",
       "  'Tests/1M Pop': 499245.8984397196,\n",
       "  'Population': 11087366.0,\n",
       "  'Continent': 'South America'},\n",
       " {'#': '#',\n",
       "  'Date': '27:11:2021 - 10:12:2021',\n",
       "  'Country, Other': 'Gabon',\n",
       "  'Total Cases': 523984,\n",
       "  'New Cases': 328.0,\n",
       "  'Total Deaths': 3918.0,\n",
       "  'New Deaths': 5.0,\n",
       "  'Total Recovered': 460234.0,\n",
       "  'New Recovered': 2125.0,\n",
       "  'Active Cases': 59832.0,\n",
       "  'Serious, Critical': 123.0,\n",
       "  'Tot Cases/1M Pop': 16270.346394452563,\n",
       "  'Deaths/1M Pop': 121.65870937560142,\n",
       "  'Total Tests': 19689181.0,\n",
       "  'Tests/1M Pop': 611373.2386734593,\n",
       "  'Population': 32204846.0,\n",
       "  'Continent': 'Africa'},\n",
       " {'#': '#',\n",
       "  'Date': '27:11:2021 - 10:12:2021',\n",
       "  'Country, Other': 'Papu NewGin',\n",
       "  'Total Cases': 495725,\n",
       "  'New Cases': 896.0,\n",
       "  'Total Deaths': 7766.0,\n",
       "  'New Deaths': 31.0,\n",
       "  'Total Recovered': 480504.0,\n",
       "  'New Recovered': 1416.0,\n",
       "  'Active Cases': 7455.0,\n",
       "  'Serious, Critical': 98.0,\n",
       "  'Tot Cases/1M Pop': 3853.849435262668,\n",
       "  'Deaths/1M Pop': 60.37418874224597,\n",
       "  'Total Tests': 3485965.0,\n",
       "  'Tests/1M Pop': 27100.47757646967,\n",
       "  'Population': 128631128.0,\n",
       "  'Continent': 'Australi/Ocen'},\n",
       " {'#': '#',\n",
       "  'Date': '27:11:2021 - 10:12:2021',\n",
       "  'Country, Other': 'Guinea',\n",
       "  'Total Cases': 430878,\n",
       "  'New Cases': 8.0,\n",
       "  'Total Deaths': 5422.0,\n",
       "  'New Deaths': 0.0,\n",
       "  'Total Recovered': 416262.0,\n",
       "  'New Recovered': 5.0,\n",
       "  'Active Cases': 9194.0,\n",
       "  'Serious, Critical': 680.0,\n",
       "  'Tot Cases/1M Pop': 2256.5995158302067,\n",
       "  'Deaths/1M Pop': 28.396164517175123,\n",
       "  'Total Tests': 7978364.0,\n",
       "  'Tests/1M Pop': 41784.38523089402,\n",
       "  'Population': 190941280.0,\n",
       "  'Continent': 'Africa'},\n",
       " {'#': '#',\n",
       "  'Date': '27:11:2021 - 10:12:2021',\n",
       "  'Country, Other': 'Beliz',\n",
       "  'Total Cases': 428940,\n",
       "  'New Cases': 868.0,\n",
       "  'Total Deaths': 8106.0,\n",
       "  'New Deaths': 16.0,\n",
       "  'Total Recovered': 406177.0,\n",
       "  'New Recovered': 1188.0,\n",
       "  'Active Cases': 14657.0,\n",
       "  'Serious, Critical': 140.0,\n",
       "  'Tot Cases/1M Pop': 75114.84196708634,\n",
       "  'Deaths/1M Pop': 1419.5013498046392,\n",
       "  'Total Tests': 4950934.0,\n",
       "  'Tests/1M Pop': 866994.5097204145,\n",
       "  'Population': 5710456.0,\n",
       "  'Continent': 'North Ameica'},\n",
       " {'#': '#',\n",
       "  'Date': '27:11:2021 - 10:12:2021',\n",
       "  'Country, Other': 'Tanzi',\n",
       "  'Total Cases': 367870,\n",
       "  'New Cases': 48.0,\n",
       "  'Total Deaths': 10232.0,\n",
       "  'New Deaths': 4.0,\n",
       "  'Total Recovered': 0.0,\n",
       "  'New Recovered': 0.0,\n",
       "  'Active Cases': 0.0,\n",
       "  'Serious, Critical': 98.0,\n",
       "  'Tot Cases/1M Pop': 422.79033807941454,\n",
       "  'Deaths/1M Pop': 11.759563811206593,\n",
       "  'Total Tests': 0.0,\n",
       "  'Tests/1M Pop': 0.0,\n",
       "  'Population': 870100300.0,\n",
       "  'Continent': 'Africa'},\n",
       " {'#': '#',\n",
       "  'Date': '27:11:2021 - 10:12:2021',\n",
       "  'Country, Other': 'Tog',\n",
       "  'Total Cases': 368151,\n",
       "  'New Cases': 136.0,\n",
       "  'Total Deaths': 3402.0,\n",
       "  'New Deaths': 0.0,\n",
       "  'Total Recovered': 362885.0,\n",
       "  'New Recovered': 42.0,\n",
       "  'Active Cases': 1864.0,\n",
       "  'Serious, Critical': 0.0,\n",
       "  'Tot Cases/1M Pop': 3074.0372106538503,\n",
       "  'Deaths/1M Pop': 28.40648155415685,\n",
       "  'Total Tests': 8167295.0,\n",
       "  'Tests/1M Pop': 68196.38881976997,\n",
       "  'Population': 119761400.0,\n",
       "  'Continent': 'Africa'},\n",
       " {'#': '#',\n",
       "  'Date': '27:11:2021 - 10:12:2021',\n",
       "  'Country, Other': 'Hait',\n",
       "  'Total Cases': 356044,\n",
       "  'New Cases': 717.0,\n",
       "  'Total Deaths': 10425.0,\n",
       "  'New Deaths': 35.0,\n",
       "  'Total Recovered': 301744.0,\n",
       "  'New Recovered': 1055.0,\n",
       "  'Active Cases': 43875.0,\n",
       "  'Serious, Critical': 0.0,\n",
       "  'Tot Cases/1M Pop': 2192.338754969759,\n",
       "  'Deaths/1M Pop': 64.19187381492102,\n",
       "  'Total Tests': 1853908.0,\n",
       "  'Tests/1M Pop': 11415.427184697613,\n",
       "  'Population': 162403734.0,\n",
       "  'Continent': 'North Ameica'},\n",
       " {'#': '#',\n",
       "  'Date': '27:11:2021 - 10:12:2021',\n",
       "  'Country, Other': 'Barbdos',\n",
       "  'Total Cases': 361393,\n",
       "  'New Cases': 1784.0,\n",
       "  'Total Deaths': 3292.0,\n",
       "  'New Deaths': 24.0,\n",
       "  'Total Recovered': 319192.0,\n",
       "  'New Recovered': 3574.0,\n",
       "  'Active Cases': 38909.0,\n",
       "  'Serious, Critical': 0.0,\n",
       "  'Tot Cases/1M Pop': 89669.80823092483,\n",
       "  'Deaths/1M Pop': 816.8199403314522,\n",
       "  'Total Tests': 6171314.0,\n",
       "  'Tests/1M Pop': 1531243.1145949746,\n",
       "  'Population': 4030264.0,\n",
       "  'Continent': 'North Ameica'},\n",
       " {'#': '#',\n",
       "  'Date': '27:11:2021 - 10:12:2021',\n",
       "  'Country, Other': 'Beni',\n",
       "  'Total Cases': 348098,\n",
       "  'New Cases': 47.0,\n",
       "  'Total Deaths': 2254.0,\n",
       "  'New Deaths': 0.0,\n",
       "  'Total Recovered': 343644.0,\n",
       "  'New Recovered': 0.0,\n",
       "  'Active Cases': 2200.0,\n",
       "  'Serious, Critical': 70.0,\n",
       "  'Tot Cases/1M Pop': 1977.3959789157595,\n",
       "  'Deaths/1M Pop': 12.804010756959595,\n",
       "  'Total Tests': 8460340.0,\n",
       "  'Tests/1M Pop': 48059.57602818791,\n",
       "  'Population': 176038590.0,\n",
       "  'Continent': 'Africa'},\n",
       " {'#': '#',\n",
       "  'Date': '27:11:2021 - 10:12:2021',\n",
       "  'Country, Other': 'Seychls',\n",
       "  'Total Cases': 328696,\n",
       "  'New Cases': 609.0,\n",
       "  'Total Deaths': 1774.0,\n",
       "  'New Deaths': 4.0,\n",
       "  'Total Recovered': 320244.0,\n",
       "  'New Recovered': 704.0,\n",
       "  'Active Cases': 6678.0,\n",
       "  'Serious, Critical': 0.0,\n",
       "  'Tot Cases/1M Pop': 236643.55158273052,\n",
       "  'Deaths/1M Pop': 1277.1851817721054,\n",
       "  'Total Tests': 0.0,\n",
       "  'Tests/1M Pop': 0.0,\n",
       "  'Population': 1388992.0,\n",
       "  'Continent': 'Africa'},\n",
       " {'#': '#',\n",
       "  'Date': '27:11:2021 - 10:12:2021',\n",
       "  'Country, Other': 'Somali',\n",
       "  'Total Cases': 322527,\n",
       "  'New Cases': 58.0,\n",
       "  'Total Deaths': 18612.0,\n",
       "  'New Deaths': 6.0,\n",
       "  'Total Recovered': 171368.0,\n",
       "  'New Recovered': 771.0,\n",
       "  'Active Cases': 132547.0,\n",
       "  'Serious, Critical': 0.0,\n",
       "  'Tot Cases/1M Pop': 1394.290429390458,\n",
       "  'Deaths/1M Pop': 80.46003426632562,\n",
       "  'Total Tests': 3669932.0,\n",
       "  'Tests/1M Pop': 15865.186679297489,\n",
       "  'Population': 231319812.0,\n",
       "  'Continent': 'Africa'},\n",
       " {'#': '#',\n",
       "  'Date': '27:11:2021 - 10:12:2021',\n",
       "  'Country, Other': 'Bahms',\n",
       "  'Total Cases': 319390,\n",
       "  'New Cases': 159.0,\n",
       "  'Total Deaths': 9669.0,\n",
       "  'New Deaths': 31.0,\n",
       "  'Total Recovered': 302735.0,\n",
       "  'New Recovered': 59.0,\n",
       "  'Active Cases': 6986.0,\n",
       "  'Serious, Critical': 50.0,\n",
       "  'Tot Cases/1M Pop': 57235.581790845245,\n",
       "  'Deaths/1M Pop': 1732.711858028375,\n",
       "  'Total Tests': 2375569.0,\n",
       "  'Tests/1M Pop': 425708.6126656954,\n",
       "  'Population': 5580270.0,\n",
       "  'Continent': 'North Ameica'},\n",
       " {'#': '#',\n",
       "  'Date': '27:11:2021 - 10:12:2021',\n",
       "  'Country, Other': 'Lesoth',\n",
       "  'Total Cases': 306606,\n",
       "  'New Cases': 59.0,\n",
       "  'Total Deaths': 9280.0,\n",
       "  'New Deaths': 1.0,\n",
       "  'Total Recovered': 192250.0,\n",
       "  'New Recovered': 52.0,\n",
       "  'Active Cases': 105076.0,\n",
       "  'Serious, Critical': 0.0,\n",
       "  'Tot Cases/1M Pop': 10109.05498407212,\n",
       "  'Deaths/1M Pop': 305.9693230145179,\n",
       "  'Total Tests': 3665836.0,\n",
       "  'Tests/1M Pop': 120865.66370713882,\n",
       "  'Population': 30329838.0,\n",
       "  'Continent': 'Africa'},\n",
       " {'#': '#',\n",
       "  'Date': '27:11:2021 - 10:12:2021',\n",
       "  'Country, Other': 'Maurits',\n",
       "  'Total Cases': 306362,\n",
       "  'New Cases': 1421.0,\n",
       "  'Total Deaths': 6792.0,\n",
       "  'New Deaths': 28.0,\n",
       "  'Total Recovered': 281101.0,\n",
       "  'New Recovered': 1625.0,\n",
       "  'Active Cases': 18469.0,\n",
       "  'Serious, Critical': 0.0,\n",
       "  'Tot Cases/1M Pop': 17166.197357982808,\n",
       "  'Deaths/1M Pop': 380.5720437110974,\n",
       "  'Total Tests': 5021450.0,\n",
       "  'Tests/1M Pop': 281363.8823458613,\n",
       "  'Population': 17846818.0,\n",
       "  'Continent': 'Africa'},\n",
       " {'#': '#',\n",
       "  'Date': '27:11:2021 - 10:12:2021',\n",
       "  'Country, Other': 'Mayote',\n",
       "  'Total Cases': 293984,\n",
       "  'New Cases': 150.0,\n",
       "  'Total Deaths': 2590.0,\n",
       "  'New Deaths': 0.0,\n",
       "  'Total Recovered': 41496.0,\n",
       "  'New Recovered': 0.0,\n",
       "  'Active Cases': 249898.0,\n",
       "  'Serious, Critical': 0.0,\n",
       "  'Tot Cases/1M Pop': 74420.22477143646,\n",
       "  'Deaths/1M Pop': 655.6424232543964,\n",
       "  'Total Tests': 2476866.0,\n",
       "  'Tests/1M Pop': 627003.2534040246,\n",
       "  'Population': 3950324.0,\n",
       "  'Continent': 'Africa'},\n",
       " {'#': '#',\n",
       "  'Date': '27:11:2021 - 10:12:2021',\n",
       "  'Country, Other': 'Burndi',\n",
       "  'Total Cases': 286315,\n",
       "  'New Cases': 206.0,\n",
       "  'Total Deaths': 532.0,\n",
       "  'New Deaths': 0.0,\n",
       "  'Total Recovered': 10822.0,\n",
       "  'New Recovered': 0.0,\n",
       "  'Active Cases': 274961.0,\n",
       "  'Serious, Critical': 0.0,\n",
       "  'Tot Cases/1M Pop': 1650.1397565756986,\n",
       "  'Deaths/1M Pop': 3.066113722642096,\n",
       "  'Total Tests': 4840388.0,\n",
       "  'Tests/1M Pop': 27896.955018255885,\n",
       "  'Population': 173509546.0,\n",
       "  'Continent': 'Africa'},\n",
       " {'#': '#',\n",
       "  'Date': '27:11:2021 - 10:12:2021',\n",
       "  'Country, Other': 'Timor-Lest',\n",
       "  'Total Cases': 277559,\n",
       "  'New Cases': 8.0,\n",
       "  'Total Deaths': 1708.0,\n",
       "  'New Deaths': 0.0,\n",
       "  'Total Recovered': 275791.0,\n",
       "  'New Recovered': 6.0,\n",
       "  'Active Cases': 60.0,\n",
       "  'Serious, Critical': 0.0,\n",
       "  'Tot Cases/1M Pop': 14640.763035685273,\n",
       "  'Deaths/1M Pop': 90.09408185268879,\n",
       "  'Total Tests': 2623004.0,\n",
       "  'Tests/1M Pop': 138358.97955265228,\n",
       "  'Population': 18957960.0,\n",
       "  'Continent': 'Asia'},\n",
       " {'#': '#',\n",
       "  'Date': '27:11:2021 - 10:12:2021',\n",
       "  'Country, Other': 'Cong',\n",
       "  'Total Cases': 265633,\n",
       "  'New Cases': 229.0,\n",
       "  'Total Deaths': 4966.0,\n",
       "  'New Deaths': 10.0,\n",
       "  'Total Recovered': 173894.0,\n",
       "  'New Recovered': 0.0,\n",
       "  'Active Cases': 86773.0,\n",
       "  'Serious, Critical': 0.0,\n",
       "  'Tot Cases/1M Pop': 3322.3086245897694,\n",
       "  'Deaths/1M Pop': 62.110447985426475,\n",
       "  'Total Tests': 2634898.0,\n",
       "  'Tests/1M Pop': 32955.03326135809,\n",
       "  'Population': 79954342.0,\n",
       "  'Continent': 'Africa'},\n",
       " {'#': '#',\n",
       "  'Date': '27:11:2021 - 10:12:2021',\n",
       "  'Country, Other': 'Iceland',\n",
       "  'Total Cases': 256550,\n",
       "  'New Cases': 1289.0,\n",
       "  'Total Deaths': 490.0,\n",
       "  'New Deaths': 0.0,\n",
       "  'Total Recovered': 234594.0,\n",
       "  'New Recovered': 2086.0,\n",
       "  'Active Cases': 21466.0,\n",
       "  'Serious, Critical': 53.0,\n",
       "  'Tot Cases/1M Pop': 53209.25100538626,\n",
       "  'Deaths/1M Pop': 101.627491688323,\n",
       "  'Total Tests': 17612242.0,\n",
       "  'Tests/1M Pop': 3652832.6070770067,\n",
       "  'Population': 4821530.0,\n",
       "  'Continent': 'Europe'},\n",
       " {'#': '#',\n",
       "  'Date': '27:11:2021 - 10:12:2021',\n",
       "  'Country, Other': 'Curaço',\n",
       "  'Total Cases': 244471,\n",
       "  'New Cases': 176.0,\n",
       "  'Total Deaths': 2509.0,\n",
       "  'New Deaths': 4.0,\n",
       "  'Total Recovered': 240488.0,\n",
       "  'New Recovered': 160.0,\n",
       "  'Active Cases': 1474.0,\n",
       "  'Serious, Critical': 42.0,\n",
       "  'Tot Cases/1M Pop': 105800.64015898378,\n",
       "  'Deaths/1M Pop': 1085.8294282712072,\n",
       "  'Total Tests': 4759692.0,\n",
       "  'Tests/1M Pop': 2059869.9255109758,\n",
       "  'Population': 2310676.0,\n",
       "  'Continent': 'North Ameica'},\n",
       " {'#': '#',\n",
       "  'Date': '27:11:2021 - 10:12:2021',\n",
       "  'Country, Other': 'Chanel Isd',\n",
       "  'Total Cases': 264021,\n",
       "  'New Cases': 3001.0,\n",
       "  'Total Deaths': 1463.0,\n",
       "  'New Deaths': 4.0,\n",
       "  'Total Recovered': 231987.0,\n",
       "  'New Recovered': 3001.0,\n",
       "  'Active Cases': 30571.0,\n",
       "  'Serious, Critical': 0.0,\n",
       "  'Tot Cases/1M Pop': 107064.12955675731,\n",
       "  'Deaths/1M Pop': 593.2665263048619,\n",
       "  'Total Tests': 15160127.0,\n",
       "  'Tests/1M Pop': 6147639.018202699,\n",
       "  'Population': 2466008.0,\n",
       "  'Continent': 'Europe'},\n",
       " {'#': '#',\n",
       "  'Date': '27:11:2021 - 10:12:2021',\n",
       "  'Country, Other': 'Mali',\n",
       "  'Total Cases': 249003,\n",
       "  'New Cases': 1185.0,\n",
       "  'Total Deaths': 8592.0,\n",
       "  'New Deaths': 21.0,\n",
       "  'Total Recovered': 213534.0,\n",
       "  'New Recovered': 369.0,\n",
       "  'Active Cases': 26877.0,\n",
       "  'Serious, Critical': 0.0,\n",
       "  'Tot Cases/1M Pop': 843.7753796697788,\n",
       "  'Deaths/1M Pop': 29.114982799896946,\n",
       "  'Total Tests': 6921929.0,\n",
       "  'Tests/1M Pop': 23455.75462955166,\n",
       "  'Population': 295105790.0,\n",
       "  'Continent': 'Africa'},\n",
       " {'#': '#',\n",
       "  'Date': '27:11:2021 - 10:12:2021',\n",
       "  'Country, Other': 'Nicargu',\n",
       "  'Total Cases': 241546,\n",
       "  'New Cases': 176.0,\n",
       "  'Total Deaths': 2937.0,\n",
       "  'New Deaths': 1.0,\n",
       "  'Total Recovered': 59150.0,\n",
       "  'New Recovered': 0.0,\n",
       "  'Active Cases': 179459.0,\n",
       "  'Serious, Critical': 0.0,\n",
       "  'Tot Cases/1M Pop': 2561.0974194186206,\n",
       "  'Deaths/1M Pop': 31.140830818280943,\n",
       "  'Total Tests': 0.0,\n",
       "  'Tests/1M Pop': 0.0,\n",
       "  'Population': 94313476.0,\n",
       "  'Continent': 'North Ameica'},\n",
       " {'#': '#',\n",
       "  'Date': '27:11:2021 - 10:12:2021',\n",
       "  'Country, Other': 'Tajikstn',\n",
       "  'Total Cases': 239330,\n",
       "  'New Cases': 0.0,\n",
       "  'Total Deaths': 1736.0,\n",
       "  'New Deaths': 0.0,\n",
       "  'Total Recovered': 237524.0,\n",
       "  'New Recovered': 0.0,\n",
       "  'Active Cases': 70.0,\n",
       "  'Serious, Critical': 0.0,\n",
       "  'Tot Cases/1M Pop': 1736.9383657367327,\n",
       "  'Deaths/1M Pop': 12.599026461032748,\n",
       "  'Total Tests': 0.0,\n",
       "  'Tests/1M Pop': 0.0,\n",
       "  'Population': 137788424.0,\n",
       "  'Continent': 'Asia'},\n",
       " {'#': '#',\n",
       "  'Date': '27:11:2021 - 10:12:2021',\n",
       "  'Country, Other': 'Andora',\n",
       "  'Total Cases': 252244,\n",
       "  'New Cases': 2516.0,\n",
       "  'Total Deaths': 1848.0,\n",
       "  'New Deaths': 2.0,\n",
       "  'Total Recovered': 227476.0,\n",
       "  'New Recovered': 1225.0,\n",
       "  'Active Cases': 22920.0,\n",
       "  'Serious, Critical': 56.0,\n",
       "  'Tot Cases/1M Pop': 232660.07116938796,\n",
       "  'Deaths/1M Pop': 1704.5234436538785,\n",
       "  'Total Tests': 2785566.0,\n",
       "  'Tests/1M Pop': 2569297.917124004,\n",
       "  'Population': 1084174.0,\n",
       "  'Continent': 'Europe'},\n",
       " {'#': '#',\n",
       "  'Date': '27:11:2021 - 10:12:2021',\n",
       "  'Country, Other': 'Taiwn',\n",
       "  'Total Cases': 232994,\n",
       "  'New Cases': 155.0,\n",
       "  'Total Deaths': 11872.0,\n",
       "  'New Deaths': 0.0,\n",
       "  'Total Recovered': 218867.0,\n",
       "  'New Recovered': 82.0,\n",
       "  'Active Cases': 2255.0,\n",
       "  'Serious, Critical': 0.0,\n",
       "  'Tot Cases/1M Pop': 696.9731102225668,\n",
       "  'Deaths/1M Pop': 35.51363882573076,\n",
       "  'Total Tests': 118741991.0,\n",
       "  'Tests/1M Pop': 355202.17164944176,\n",
       "  'Population': 334294102.0,\n",
       "  'Continent': 'Asia'},\n",
       " {'#': '#',\n",
       "  'Date': '27:11:2021 - 10:12:2021',\n",
       "  'Country, Other': 'Aruba',\n",
       "  'Total Cases': 229904,\n",
       "  'New Cases': 248.0,\n",
       "  'Total Deaths': 2444.0,\n",
       "  'New Deaths': 3.0,\n",
       "  'Total Recovered': 224847.0,\n",
       "  'New Recovered': 240.0,\n",
       "  'Active Cases': 2613.0,\n",
       "  'Serious, Critical': 173.0,\n",
       "  'Tot Cases/1M Pop': 152886.30218426103,\n",
       "  'Deaths/1M Pop': 1625.2615114932057,\n",
       "  'Total Tests': 2490390.0,\n",
       "  'Tests/1M Pop': 1656110.890183128,\n",
       "  'Population': 1503758.0,\n",
       "  'Continent': 'North Ameica'},\n",
       " {'#': '#',\n",
       "  'Date': '27:11:2021 - 10:12:2021',\n",
       "  'Country, Other': 'Burkina Fso',\n",
       "  'Total Cases': 224469,\n",
       "  'New Cases': 820.0,\n",
       "  'Total Deaths': 4005.0,\n",
       "  'New Deaths': 25.0,\n",
       "  'Total Recovered': 215464.0,\n",
       "  'New Recovered': 595.0,\n",
       "  'Active Cases': 5000.0,\n",
       "  'Serious, Critical': 0.0,\n",
       "  'Tot Cases/1M Pop': 738.2850785069874,\n",
       "  'Deaths/1M Pop': 13.172561642901622,\n",
       "  'Total Tests': 3267278.0,\n",
       "  'Tests/1M Pop': 10746.17249925002,\n",
       "  'Population': 304041090.0,\n",
       "  'Continent': 'Africa'},\n",
       " {'#': '#',\n",
       "  'Date': '27:11:2021 - 10:12:2021',\n",
       "  'Country, Other': 'Brunei ',\n",
       "  'Total Cases': 212055,\n",
       "  'New Cases': 265.0,\n",
       "  'Total Deaths': 1366.0,\n",
       "  'New Deaths': 0.0,\n",
       "  'Total Recovered': 205877.0,\n",
       "  'New Recovered': 604.0,\n",
       "  'Active Cases': 4812.0,\n",
       "  'Serious, Critical': 0.0,\n",
       "  'Tot Cases/1M Pop': 34157.496737355425,\n",
       "  'Deaths/1M Pop': 220.03320149596803,\n",
       "  'Total Tests': 8799410.0,\n",
       "  'Tests/1M Pop': 1417395.573627845,\n",
       "  'Population': 6208154.0,\n",
       "  'Continent': 'Asia'},\n",
       " {'#': '#',\n",
       "  'Date': '27:11:2021 - 10:12:2021',\n",
       "  'Country, Other': 'Equatoril Gne',\n",
       "  'Total Cases': 190325,\n",
       "  'New Cases': 33.0,\n",
       "  'Total Deaths': 2444.0,\n",
       "  'New Deaths': 2.0,\n",
       "  'Total Recovered': 186809.0,\n",
       "  'New Recovered': 63.0,\n",
       "  'Active Cases': 1072.0,\n",
       "  'Serious, Critical': 14.0,\n",
       "  'Tot Cases/1M Pop': 9258.151259196131,\n",
       "  'Deaths/1M Pop': 118.8857043345611,\n",
       "  'Total Tests': 3413610.0,\n",
       "  'Tests/1M Pop': 166051.32126575333,\n",
       "  'Population': 20557560.0,\n",
       "  'Continent': 'Africa'},\n",
       " {'#': '#',\n",
       "  'Date': '27:11:2021 - 10:12:2021',\n",
       "  'Country, Other': 'Djibout',\n",
       "  'Total Cases': 189100,\n",
       "  'New Cases': 10.0,\n",
       "  'Total Deaths': 2618.0,\n",
       "  'New Deaths': 2.0,\n",
       "  'Total Recovered': 186115.0,\n",
       "  'New Recovered': 7.0,\n",
       "  'Active Cases': 367.0,\n",
       "  'Serious, Critical': 0.0,\n",
       "  'Tot Cases/1M Pop': 13394.183963414824,\n",
       "  'Deaths/1M Pop': 185.43613757916452,\n",
       "  'Total Tests': 3470693.0,\n",
       "  'Tests/1M Pop': 245833.42423340076,\n",
       "  'Population': 14118068.0,\n",
       "  'Continent': 'Africa'},\n",
       " {'#': '#',\n",
       "  'Date': '27:11:2021 - 10:12:2021',\n",
       "  'Country, Other': 'Saint Luc',\n",
       "  'Total Cases': 182355,\n",
       "  'New Cases': 132.0,\n",
       "  'Total Deaths': 3940.0,\n",
       "  'New Deaths': 3.0,\n",
       "  'Total Recovered': 176827.0,\n",
       "  'New Recovered': 146.0,\n",
       "  'Active Cases': 1588.0,\n",
       "  'Serious, Critical': 106.0,\n",
       "  'Tot Cases/1M Pop': 70475.253371589,\n",
       "  'Deaths/1M Pop': 1522.7029600727187,\n",
       "  'Total Tests': 1405577.0,\n",
       "  'Tests/1M Pop': 543217.3244949573,\n",
       "  'Population': 2587504.0,\n",
       "  'Continent': 'North Ameica'},\n",
       " {'#': '#',\n",
       "  'Date': '27:11:2021 - 10:12:2021',\n",
       "  'Country, Other': 'South dan',\n",
       "  'Total Cases': 178943,\n",
       "  'New Cases': 156.0,\n",
       "  'Total Deaths': 1862.0,\n",
       "  'New Deaths': 0.0,\n",
       "  'Total Recovered': 174565.0,\n",
       "  'New Recovered': 181.0,\n",
       "  'Active Cases': 2516.0,\n",
       "  'Serious, Critical': 28.0,\n",
       "  'Tot Cases/1M Pop': 1123.125364849575,\n",
       "  'Deaths/1M Pop': 11.686735046075613,\n",
       "  'Total Tests': 3747420.0,\n",
       "  'Tests/1M Pop': 23520.464364320447,\n",
       "  'Population': 159325936.0,\n",
       "  'Continent': 'Africa'},\n",
       " {'#': '#',\n",
       "  'Date': '27:11:2021 - 10:12:2021',\n",
       "  'Country, Other': 'Hong K',\n",
       "  'Total Cases': 174344,\n",
       "  'New Cases': 61.0,\n",
       "  'Total Deaths': 2982.0,\n",
       "  'New Deaths': 0.0,\n",
       "  'Total Recovered': 170026.0,\n",
       "  'New Recovered': 26.0,\n",
       "  'Active Cases': 1336.0,\n",
       "  'Serious, Critical': 0.0,\n",
       "  'Tot Cases/1M Pop': 1642.1283650379094,\n",
       "  'Deaths/1M Pop': 28.08715404340296,\n",
       "  'Total Tests': 397487512.0,\n",
       "  'Tests/1M Pop': 3743894.35944768,\n",
       "  'Population': 106169532.0,\n",
       "  'Continent': 'Asia'},\n",
       " {'#': '#',\n",
       "  'Date': '27:11:2021 - 10:12:2021',\n",
       "  'Country, Other': 'New Caldoni',\n",
       "  'Total Cases': 171176,\n",
       "  'New Cases': 291.0,\n",
       "  'Total Deaths': 3889.0,\n",
       "  'New Deaths': 4.0,\n",
       "  'Total Recovered': 163600.0,\n",
       "  'New Recovered': 489.0,\n",
       "  'Active Cases': 3687.0,\n",
       "  'Serious, Critical': 147.0,\n",
       "  'Tot Cases/1M Pop': 42248.55009401127,\n",
       "  'Deaths/1M Pop': 959.8577564355389,\n",
       "  'Total Tests': 598584.0,\n",
       "  'Tests/1M Pop': 147738.62053952448,\n",
       "  'Population': 4051642.0,\n",
       "  'Continent': 'Australi/Ocen'},\n",
       " {'#': '#',\n",
       "  'Date': '27:11:2021 - 10:12:2021',\n",
       "  'Country, Other': 'CAR',\n",
       "  'Total Cases': 164388,\n",
       "  'New Cases': 204.0,\n",
       "  'Total Deaths': 1414.0,\n",
       "  'New Deaths': 0.0,\n",
       "  'Total Recovered': 96026.0,\n",
       "  'New Recovered': 0.0,\n",
       "  'Active Cases': 66948.0,\n",
       "  'Serious, Critical': 28.0,\n",
       "  'Tot Cases/1M Pop': 2372.526219122254,\n",
       "  'Deaths/1M Pop': 20.407524112702067,\n",
       "  'Total Tests': 843192.0,\n",
       "  'Tests/1M Pop': 12169.350121384357,\n",
       "  'Population': 69288170.0,\n",
       "  'Continent': 'Africa'},\n",
       " {'#': '#',\n",
       "  'Date': '27:11:2021 - 10:12:2021',\n",
       "  'Country, Other': 'New Zalnd',\n",
       "  'Total Cases': 167897,\n",
       "  'New Cases': 1749.0,\n",
       "  'Total Deaths': 612.0,\n",
       "  'New Deaths': 2.0,\n",
       "  'Total Recovered': 81166.0,\n",
       "  'New Recovered': 494.0,\n",
       "  'Active Cases': 86119.0,\n",
       "  'Serious, Critical': 768.0,\n",
       "  'Tot Cases/1M Pop': 2397.5216123513837,\n",
       "  'Deaths/1M Pop': 8.739186684449674,\n",
       "  'Total Tests': 70178247.0,\n",
       "  'Tests/1M Pop': 1002125.4930072228,\n",
       "  'Population': 70029400.0,\n",
       "  'Continent': 'Australi/Ocen'},\n",
       " {'#': '#',\n",
       "  'Date': '27:11:2021 - 10:12:2021',\n",
       "  'Country, Other': 'Isle ofMan',\n",
       "  'Total Cases': 164656,\n",
       "  'New Cases': 1448.0,\n",
       "  'Total Deaths': 926.0,\n",
       "  'New Deaths': 1.0,\n",
       "  'Total Recovered': 151674.0,\n",
       "  'New Recovered': 1115.0,\n",
       "  'Active Cases': 12056.0,\n",
       "  'Serious, Critical': 14.0,\n",
       "  'Tot Cases/1M Pop': 137278.76954681732,\n",
       "  'Deaths/1M Pop': 772.0346698592997,\n",
       "  'Total Tests': 1871464.0,\n",
       "  'Tests/1M Pop': 1560297.0749390544,\n",
       "  'Population': 1199428.0,\n",
       "  'Continent': 'Europe'},\n",
       " {'#': '#',\n",
       "  'Date': '27:11:2021 - 10:12:2021',\n",
       "  'Country, Other': 'Gambi',\n",
       "  'Total Cases': 139900,\n",
       "  'New Cases': 0.0,\n",
       "  'Total Deaths': 4788.0,\n",
       "  'New Deaths': 0.0,\n",
       "  'Total Recovered': 134956.0,\n",
       "  'New Recovered': 0.0,\n",
       "  'Active Cases': 156.0,\n",
       "  'Serious, Critical': 22.0,\n",
       "  'Tot Cases/1M Pop': 3976.3517634821633,\n",
       "  'Deaths/1M Pop': 136.088436337045,\n",
       "  'Total Tests': 1741666.0,\n",
       "  'Tests/1M Pop': 49503.04982485293,\n",
       "  'Population': 35183004.0,\n",
       "  'Continent': 'Africa'},\n",
       " {'#': '#',\n",
       "  'Date': '27:11:2021 - 10:12:2021',\n",
       "  'Country, Other': 'Yemn',\n",
       "  'Total Cases': 140272,\n",
       "  'New Cases': 72.0,\n",
       "  'Total Deaths': 27334.0,\n",
       "  'New Deaths': 19.0,\n",
       "  'Total Recovered': 96579.0,\n",
       "  'New Recovered': 104.0,\n",
       "  'Active Cases': 16359.0,\n",
       "  'Serious, Critical': 322.0,\n",
       "  'Tot Cases/1M Pop': 325.73566444938905,\n",
       "  'Deaths/1M Pop': 63.47424041904016,\n",
       "  'Total Tests': 3713542.0,\n",
       "  'Tests/1M Pop': 8623.482026567763,\n",
       "  'Population': 430631384.0,\n",
       "  'Continent': 'Asia'},\n",
       " {'#': '#',\n",
       "  'Date': '27:11:2021 - 10:12:2021',\n",
       "  'Country, Other': 'Eritea',\n",
       "  'Total Cases': 104214,\n",
       "  'New Cases': 331.0,\n",
       "  'Total Deaths': 853.0,\n",
       "  'New Deaths': 3.0,\n",
       "  'Total Recovered': 100906.0,\n",
       "  'New Recovered': 321.0,\n",
       "  'Active Cases': 2455.0,\n",
       "  'Serious, Critical': 0.0,\n",
       "  'Tot Cases/1M Pop': 2058.456661185429,\n",
       "  'Deaths/1M Pop': 16.848633887876588,\n",
       "  'Total Tests': 331702.0,\n",
       "  'Tests/1M Pop': 6551.847078401454,\n",
       "  'Population': 50627250.0,\n",
       "  'Continent': 'Africa'},\n",
       " {'#': '#',\n",
       "  'Date': '27:11:2021 - 10:12:2021',\n",
       "  'Country, Other': 'Gibralt',\n",
       "  'Total Cases': 102649,\n",
       "  'New Cases': 347.0,\n",
       "  'Total Deaths': 1385.0,\n",
       "  'New Deaths': 2.0,\n",
       "  'Total Recovered': 95972.0,\n",
       "  'New Recovered': 694.0,\n",
       "  'Active Cases': 5292.0,\n",
       "  'Serious, Critical': 20.0,\n",
       "  'Tot Cases/1M Pop': 217717.47568285264,\n",
       "  'Deaths/1M Pop': 2937.5707880325276,\n",
       "  'Total Tests': 5876345.0,\n",
       "  'Tests/1M Pop': 12463667.445776897,\n",
       "  'Population': 471478.0,\n",
       "  'Continent': 'Europe'},\n",
       " {'#': '#',\n",
       "  'Date': '27:11:2021 - 10:12:2021',\n",
       "  'Country, Other': 'Niger',\n",
       "  'Total Cases': 98766,\n",
       "  'New Cases': 200.0,\n",
       "  'Total Deaths': 3654.0,\n",
       "  'New Deaths': 13.0,\n",
       "  'Total Recovered': 93511.0,\n",
       "  'New Recovered': 270.0,\n",
       "  'Active Cases': 1601.0,\n",
       "  'Serious, Critical': 28.0,\n",
       "  'Tot Cases/1M Pop': 277.2026244475482,\n",
       "  'Deaths/1M Pop': 10.255537226690775,\n",
       "  'Total Tests': 2664962.0,\n",
       "  'Tests/1M Pop': 7479.643404136918,\n",
       "  'Population': 356295328.0,\n",
       "  'Continent': 'Africa'},\n",
       " {'#': '#',\n",
       "  'Date': '27:11:2021 - 10:12:2021',\n",
       "  'Country, Other': 'Caymn Isld',\n",
       "  'Total Cases': 103502,\n",
       "  'New Cases': 1240.0,\n",
       "  'Total Deaths': 96.0,\n",
       "  'New Deaths': 5.0,\n",
       "  'Total Recovered': 49390.0,\n",
       "  'New Recovered': 1876.0,\n",
       "  'Active Cases': 54016.0,\n",
       "  'Serious, Critical': 243.0,\n",
       "  'Tot Cases/1M Pop': 110640.5267883867,\n",
       "  'Deaths/1M Pop': 102.62111429426605,\n",
       "  'Total Tests': 2903956.0,\n",
       "  'Tests/1M Pop': 3104241.672724163,\n",
       "  'Population': 935480.0,\n",
       "  'Continent': 'North Ameica'},\n",
       " {'#': '#',\n",
       "  'Date': '27:11:2021 - 10:12:2021',\n",
       "  'Country, Other': 'Guinea-Bs',\n",
       "  'Total Cases': 90201,\n",
       "  'New Cases': 8.0,\n",
       "  'Total Deaths': 2078.0,\n",
       "  'New Deaths': 3.0,\n",
       "  'Total Recovered': 87838.0,\n",
       "  'New Recovered': 23.0,\n",
       "  'Active Cases': 285.0,\n",
       "  'Serious, Critical': 0.0,\n",
       "  'Tot Cases/1M Pop': 3167.4869149475985,\n",
       "  'Deaths/1M Pop': 72.97078534895522,\n",
       "  'Total Tests': 1504739.0,\n",
       "  'Tests/1M Pop': 52840.22453089582,\n",
       "  'Population': 28477150.0,\n",
       "  'Continent': 'Africa'},\n",
       " {'#': '#',\n",
       "  'Date': '27:11:2021 - 10:12:2021',\n",
       "  'Country, Other': 'Siera Lon',\n",
       "  'Total Cases': 89669,\n",
       "  'New Cases': 20.0,\n",
       "  'Total Deaths': 1694.0,\n",
       "  'New Deaths': 0.0,\n",
       "  'Total Recovered': 0.0,\n",
       "  'New Recovered': 0.0,\n",
       "  'Active Cases': 0.0,\n",
       "  'Serious, Critical': 0.0,\n",
       "  'Tot Cases/1M Pop': 780.3717239077928,\n",
       "  'Deaths/1M Pop': 14.742549825467007,\n",
       "  'Total Tests': 2250206.0,\n",
       "  'Tests/1M Pop': 19583.101577665177,\n",
       "  'Population': 114905496.0,\n",
       "  'Continent': 'Africa'},\n",
       " {'#': '#',\n",
       "  'Date': '27:11:2021 - 10:12:2021',\n",
       "  'Country, Other': 'Grenad',\n",
       "  'Total Cases': 82620,\n",
       "  'New Cases': 29.0,\n",
       "  'Total Deaths': 2800.0,\n",
       "  'New Deaths': 0.0,\n",
       "  'Total Recovered': 78858.0,\n",
       "  'New Recovered': 29.0,\n",
       "  'Active Cases': 962.0,\n",
       "  'Serious, Critical': 22.0,\n",
       "  'Tot Cases/1M Pop': 52102.77780580585,\n",
       "  'Deaths/1M Pop': 1765.7683110173853,\n",
       "  'Total Tests': 1230014.0,\n",
       "  'Tests/1M Pop': 775685.6226099065,\n",
       "  'Population': 1585712.0,\n",
       "  'Continent': 'North Ameica'},\n",
       " {'#': '#',\n",
       "  'Date': '27:11:2021 - 10:12:2021',\n",
       "  'Country, Other': 'Libera',\n",
       "  'Total Cases': 81559,\n",
       "  'New Cases': 12.0,\n",
       "  'Total Deaths': 4018.0,\n",
       "  'New Deaths': 0.0,\n",
       "  'Total Recovered': 77334.0,\n",
       "  'New Recovered': 12.0,\n",
       "  'Active Cases': 207.0,\n",
       "  'Serious, Critical': 28.0,\n",
       "  'Tot Cases/1M Pop': 1114.6213519516923,\n",
       "  'Deaths/1M Pop': 54.911764393162,\n",
       "  'Total Tests': 1795444.0,\n",
       "  'Tests/1M Pop': 24537.331485593913,\n",
       "  'Population': 73171934.0,\n",
       "  'Continent': 'Africa'},\n",
       " {'#': '#',\n",
       "  'Date': '27:11:2021 - 10:12:2021',\n",
       "  'Country, Other': 'Dominca',\n",
       "  'Total Cases': 85076,\n",
       "  'New Cases': 448.0,\n",
       "  'Total Deaths': 558.0,\n",
       "  'New Deaths': 2.0,\n",
       "  'Total Recovered': 78954.0,\n",
       "  'New Recovered': 440.0,\n",
       "  'Active Cases': 5564.0,\n",
       "  'Serious, Critical': 0.0,\n",
       "  'Tot Cases/1M Pop': 84119.72694409947,\n",
       "  'Deaths/1M Pop': 551.7279565894906,\n",
       "  'Total Tests': 1545468.0,\n",
       "  'Tests/1M Pop': 1528096.597875353,\n",
       "  'Population': 1011368.0,\n",
       "  'Continent': 'North Ameica'},\n",
       " {'#': '#',\n",
       "  'Date': '27:11:2021 - 10:12:2021',\n",
       "  'Country, Other': 'San Mrio',\n",
       "  'Total Cases': 84518,\n",
       "  'New Cases': 427.0,\n",
       "  'Total Deaths': 1307.0,\n",
       "  'New Deaths': 1.0,\n",
       "  'Total Recovered': 79168.0,\n",
       "  'New Recovered': 253.0,\n",
       "  'Active Cases': 4043.0,\n",
       "  'Serious, Critical': 33.0,\n",
       "  'Tot Cases/1M Pop': 177388.8879560757,\n",
       "  'Deaths/1M Pop': 2743.170408180398,\n",
       "  'Total Tests': 1277436.0,\n",
       "  'Tests/1M Pop': 2681120.6071494534,\n",
       "  'Population': 476456.0,\n",
       "  'Continent': 'Europe'},\n",
       " {'#': '#',\n",
       "  'Date': '27:11:2021 - 10:12:2021',\n",
       "  'Country, Other': 'Bermuda',\n",
       "  'Total Cases': 80494,\n",
       "  'New Cases': 34.0,\n",
       "  'Total Deaths': 1484.0,\n",
       "  'New Deaths': 0.0,\n",
       "  'Total Recovered': 78603.0,\n",
       "  'New Recovered': 31.0,\n",
       "  'Active Cases': 407.0,\n",
       "  'Serious, Critical': 22.0,\n",
       "  'Tot Cases/1M Pop': 92809.22765436882,\n",
       "  'Deaths/1M Pop': 1711.045467228406,\n",
       "  'Total Tests': 9095507.0,\n",
       "  'Tests/1M Pop': 10487079.53133035,\n",
       "  'Population': 867306.0,\n",
       "  'Continent': 'North Ameica'},\n",
       " {'#': '#',\n",
       "  'Date': '27:11:2021 - 10:12:2021',\n",
       "  'Country, Other': 'St. VinceGrads',\n",
       "  'Total Cases': 78222,\n",
       "  'New Cases': 192.0,\n",
       "  'Total Deaths': 1049.0,\n",
       "  'New Deaths': 3.0,\n",
       "  'Total Recovered': 70778.0,\n",
       "  'New Recovered': 120.0,\n",
       "  'Active Cases': 6395.0,\n",
       "  'Serious, Critical': 98.0,\n",
       "  'Tot Cases/1M Pop': 50136.3941688929,\n",
       "  'Deaths/1M Pop': 672.3565938376499,\n",
       "  'Total Tests': 1272148.0,\n",
       "  'Tests/1M Pop': 815383.3137629922,\n",
       "  'Population': 1560184.0,\n",
       "  'Continent': 'North Ameica'},\n",
       " {'#': '#',\n",
       "  'Date': '27:11:2021 - 10:12:2021',\n",
       "  'Country, Other': 'Chad',\n",
       "  'Total Cases': 77430,\n",
       "  'New Cases': 0.0,\n",
       "  'Total Deaths': 2510.0,\n",
       "  'New Deaths': 6.0,\n",
       "  'Total Recovered': 68236.0,\n",
       "  'New Recovered': 0.0,\n",
       "  'Active Cases': 6684.0,\n",
       "  'Serious, Critical': 0.0,\n",
       "  'Tot Cases/1M Pop': 323.526612050628,\n",
       "  'Deaths/1M Pop': 10.487560328646213,\n",
       "  'Total Tests': 2164678.0,\n",
       "  'Tests/1M Pop': 9044.697656212442,\n",
       "  'Population': 239331162.0,\n",
       "  'Continent': 'Africa'},\n",
       " {'#': '#',\n",
       "  'Date': '27:11:2021 - 10:12:2021',\n",
       "  'Country, Other': 'Sint Mare',\n",
       "  'Total Cases': 64388,\n",
       "  'New Cases': 55.0,\n",
       "  'Total Deaths': 1050.0,\n",
       "  'New Deaths': 0.0,\n",
       "  'Total Recovered': 62995.0,\n",
       "  'New Recovered': 42.0,\n",
       "  'Active Cases': 343.0,\n",
       "  'Serious, Critical': 140.0,\n",
       "  'Tot Cases/1M Pop': 105561.3665203178,\n",
       "  'Deaths/1M Pop': 1721.4300000983674,\n",
       "  'Total Tests': 868784.0,\n",
       "  'Tests/1M Pop': 1424334.1344813905,\n",
       "  'Population': 609958.0,\n",
       "  'Continent': 'North Ameica'},\n",
       " {'#': '#',\n",
       "  'Date': '27:11:2021 - 10:12:2021',\n",
       "  'Country, Other': 'Comrs',\n",
       "  'Total Cases': 63373,\n",
       "  'New Cases': 78.0,\n",
       "  'Total Deaths': 2105.0,\n",
       "  'New Deaths': 1.0,\n",
       "  'Total Recovered': 60327.0,\n",
       "  'New Recovered': 107.0,\n",
       "  'Active Cases': 941.0,\n",
       "  'Serious, Critical': 0.0,\n",
       "  'Tot Cases/1M Pop': 5052.478874191657,\n",
       "  'Deaths/1M Pop': 167.82333217890016,\n",
       "  'Total Tests': 0.0,\n",
       "  'Tests/1M Pop': 0.0,\n",
       "  'Population': 12542952.0,\n",
       "  'Continent': 'Africa'},\n",
       " {'#': '#',\n",
       "  'Date': '27:11:2021 - 10:12:2021',\n",
       "  'Country, Other': 'Liechtns',\n",
       "  'Total Cases': 67579,\n",
       "  'New Cases': 743.0,\n",
       "  'Total Deaths': 875.0,\n",
       "  'New Deaths': 6.0,\n",
       "  'Total Recovered': 60916.0,\n",
       "  'New Recovered': 641.0,\n",
       "  'Active Cases': 5788.0,\n",
       "  'Serious, Critical': 157.0,\n",
       "  'Tot Cases/1M Pop': 126086.34000903029,\n",
       "  'Deaths/1M Pop': 1632.5418770313486,\n",
       "  'Total Tests': 1113602.0,\n",
       "  'Tests/1M Pop': 2077716.4563952729,\n",
       "  'Population': 535974.0,\n",
       "  'Continent': 'Europe'},\n",
       " {'#': '#',\n",
       "  'Date': '27:11:2021 - 10:12:2021',\n",
       "  'Country, Other': 'Antigua dBrb',\n",
       "  'Total Cases': 58043,\n",
       "  'New Cases': 18.0,\n",
       "  'Total Deaths': 1638.0,\n",
       "  'New Deaths': 0.0,\n",
       "  'Total Recovered': 56234.0,\n",
       "  'New Recovered': 25.0,\n",
       "  'Active Cases': 171.0,\n",
       "  'Serious, Critical': 74.0,\n",
       "  'Tot Cases/1M Pop': 41843.046223939564,\n",
       "  'Deaths/1M Pop': 1180.829897055855,\n",
       "  'Total Tests': 250799.0,\n",
       "  'Tests/1M Pop': 180800.34026356007,\n",
       "  'Population': 1387160.0,\n",
       "  'Continent': 'North Ameica'},\n",
       " {'#': '#',\n",
       "  'Date': '27:11:2021 - 10:12:2021',\n",
       "  'Country, Other': 'Saint Mr',\n",
       "  'Total Cases': 55526,\n",
       "  'New Cases': 24.0,\n",
       "  'Total Deaths': 784.0,\n",
       "  'New Deaths': 0.0,\n",
       "  'Total Recovered': 19586.0,\n",
       "  'New Recovered': 0.0,\n",
       "  'Active Cases': 35156.0,\n",
       "  'Serious, Critical': 98.0,\n",
       "  'Tot Cases/1M Pop': 100146.09072053386,\n",
       "  'Deaths/1M Pop': 1414.0138876363965,\n",
       "  'Total Tests': 760242.0,\n",
       "  'Tests/1M Pop': 1371164.216791415,\n",
       "  'Population': 554450.0,\n",
       "  'Continent': 'North Ameica'},\n",
       " {'#': '#',\n",
       "  'Date': '27:11:2021 - 10:12:2021',\n",
       "  'Country, Other': 'Sao TmendPricp',\n",
       "  'Total Cases': 52249,\n",
       "  'New Cases': 2.0,\n",
       "  'Total Deaths': 787.0,\n",
       "  'New Deaths': 1.0,\n",
       "  'Total Recovered': 51450.0,\n",
       "  'New Recovered': 0.0,\n",
       "  'Active Cases': 12.0,\n",
       "  'Serious, Critical': 0.0,\n",
       "  'Tot Cases/1M Pop': 16591.08186085325,\n",
       "  'Deaths/1M Pop': 249.9029919135583,\n",
       "  'Total Tests': 207116.0,\n",
       "  'Tests/1M Pop': 65767.35460377198,\n",
       "  'Population': 3149222.0,\n",
       "  'Continent': 'Africa'},\n",
       " {'#': '#',\n",
       "  'Date': '27:11:2021 - 10:12:2021',\n",
       "  'Country, Other': 'Monac',\n",
       "  'Total Cases': 54075,\n",
       "  'New Cases': 349.0,\n",
       "  'Total Deaths': 504.0,\n",
       "  'New Deaths': 0.0,\n",
       "  'Total Recovered': 51334.0,\n",
       "  'New Recovered': 308.0,\n",
       "  'Active Cases': 2237.0,\n",
       "  'Serious, Critical': 14.0,\n",
       "  'Tot Cases/1M Pop': 97445.07395554018,\n",
       "  'Deaths/1M Pop': 908.2259320128016,\n",
       "  'Total Tests': 769440.0,\n",
       "  'Tests/1M Pop': 1386558.2562062105,\n",
       "  'Population': 554928.0,\n",
       "  'Continent': 'Europe'},\n",
       " {'#': '#',\n",
       "  'Date': '27:11:2021 - 10:12:2021',\n",
       "  'Country, Other': 'Faero Islnd',\n",
       "  'Total Cases': 53669,\n",
       "  'New Cases': 809.0,\n",
       "  'Total Deaths': 182.0,\n",
       "  'New Deaths': 0.0,\n",
       "  'Total Recovered': 46397.0,\n",
       "  'New Recovered': 722.0,\n",
       "  'Active Cases': 7090.0,\n",
       "  'Serious, Critical': 98.0,\n",
       "  'Tot Cases/1M Pop': 78032.44651617238,\n",
       "  'Deaths/1M Pop': 264.62026991267527,\n",
       "  'Total Tests': 8020000.0,\n",
       "  'Tests/1M Pop': 11660739.366481626,\n",
       "  'Population': 687778.0,\n",
       "  'Continent': 'Europe'},\n",
       " {'#': '#',\n",
       "  'Date': '27:11:2021 - 10:12:2021',\n",
       "  'Country, Other': 'Turks andCico',\n",
       "  'Total Cases': 43476,\n",
       "  'New Cases': 33.0,\n",
       "  'Total Deaths': 345.0,\n",
       "  'New Deaths': 1.0,\n",
       "  'Total Recovered': 42615.0,\n",
       "  'New Recovered': 40.0,\n",
       "  'Active Cases': 516.0,\n",
       "  'Serious, Critical': 0.0,\n",
       "  'Tot Cases/1M Pop': 78694.15061143813,\n",
       "  'Deaths/1M Pop': 624.4705575707552,\n",
       "  'Total Tests': 1327046.0,\n",
       "  'Tests/1M Pop': 2402032.3349044654,\n",
       "  'Population': 552468.0,\n",
       "  'Continent': 'North Ameica'},\n",
       " {'#': '#',\n",
       "  'Date': '27:11:2021 - 10:12:2021',\n",
       "  'Country, Other': 'Cariben Nthlds',\n",
       "  'Total Cases': 42100,\n",
       "  'New Cases': 261.0,\n",
       "  'Total Deaths': 308.0,\n",
       "  'New Deaths': 0.0,\n",
       "  'Total Recovered': 38607.0,\n",
       "  'New Recovered': 346.0,\n",
       "  'Active Cases': 3185.0,\n",
       "  'Serious, Critical': 0.0,\n",
       "  'Tot Cases/1M Pop': 113178.12785633636,\n",
       "  'Deaths/1M Pop': 828.0015054572826,\n",
       "  'Total Tests': 421764.0,\n",
       "  'Tests/1M Pop': 1133835.15242755,\n",
       "  'Population': 371980.0,\n",
       "  'Continent': 'North Ameica'},\n",
       " {'#': '#',\n",
       "  'Date': '27:11:2021 - 10:12:2021',\n",
       "  'Country, Other': 'Saint KsdNev',\n",
       "  'Total Cases': 39030,\n",
       "  'New Cases': 18.0,\n",
       "  'Total Deaths': 392.0,\n",
       "  'New Deaths': 0.0,\n",
       "  'Total Recovered': 38425.0,\n",
       "  'New Recovered': 35.0,\n",
       "  'Active Cases': 213.0,\n",
       "  'Serious, Critical': 14.0,\n",
       "  'Tot Cases/1M Pop': 51882.002009879245,\n",
       "  'Deaths/1M Pop': 521.0798049672729,\n",
       "  'Total Tests': 796023.0,\n",
       "  'Tests/1M Pop': 1058141.6060955704,\n",
       "  'Population': 752284.0,\n",
       "  'Continent': 'North Ameica'},\n",
       " {'#': '#',\n",
       "  'Date': '27:11:2021 - 10:12:2021',\n",
       "  'Country, Other': 'Britsh VgnIlad',\n",
       "  'Total Cases': 39185,\n",
       "  'New Cases': 51.0,\n",
       "  'Total Deaths': 532.0,\n",
       "  'New Deaths': 0.0,\n",
       "  'Total Recovered': 0.0,\n",
       "  'New Recovered': 0.0,\n",
       "  'Active Cases': 0.0,\n",
       "  'Serious, Critical': 98.0,\n",
       "  'Tot Cases/1M Pop': 91716.17022670992,\n",
       "  'Deaths/1M Pop': 1245.1959311116418,\n",
       "  'Total Tests': 1155980.0,\n",
       "  'Tests/1M Pop': 2705679.685049691,\n",
       "  'Population': 427242.0,\n",
       "  'Continent': 'North Ameica'},\n",
       " {'#': '#',\n",
       "  'Date': '27:11:2021 - 10:12:2021',\n",
       "  'Country, Other': 'Bhutan',\n",
       "  'Total Cases': 36980,\n",
       "  'New Cases': 15.0,\n",
       "  'Total Deaths': 42.0,\n",
       "  'New Deaths': 0.0,\n",
       "  'Total Recovered': 36729.0,\n",
       "  'New Recovered': 6.0,\n",
       "  'Active Cases': 209.0,\n",
       "  'Serious, Critical': 0.0,\n",
       "  'Tot Cases/1M Pop': 3370.4760154812216,\n",
       "  'Deaths/1M Pop': 3.8280149445703433,\n",
       "  'Total Tests': 17473480.0,\n",
       "  'Tests/1M Pop': 1592589.1088964525,\n",
       "  'Population': 10971744.0,\n",
       "  'Continent': 'Asia'},\n",
       " {'#': '#',\n",
       "  'Date': '27:11:2021 - 10:12:2021',\n",
       "  'Country, Other': 'St. Barh',\n",
       "  'Total Cases': 22434,\n",
       "  'New Cases': 2.0,\n",
       "  'Total Deaths': 84.0,\n",
       "  'New Deaths': 0.0,\n",
       "  'Total Recovered': 0.0,\n",
       "  'New Recovered': 0.0,\n",
       "  'Active Cases': 0.0,\n",
       "  'Serious, Critical': 0.0,\n",
       "  'Tot Cases/1M Pop': 161537.4645372197,\n",
       "  'Deaths/1M Pop': 604.847420037731,\n",
       "  'Total Tests': 790874.0,\n",
       "  'Tests/1M Pop': 5694739.267558577,\n",
       "  'Population': 138878.0,\n",
       "  'Continent': 'North Ameica'},\n",
       " {'#': '#',\n",
       "  'Date': '27:11:2021 - 10:12:2021',\n",
       "  'Country, Other': 'Anguila',\n",
       "  'Total Cases': 19881,\n",
       "  'New Cases': 189.0,\n",
       "  'Total Deaths': 47.0,\n",
       "  'New Deaths': 1.0,\n",
       "  'Total Recovered': 18491.0,\n",
       "  'New Recovered': 227.0,\n",
       "  'Active Cases': 1343.0,\n",
       "  'Serious, Critical': 0.0,\n",
       "  'Tot Cases/1M Pop': 93465.28136900005,\n",
       "  'Deaths/1M Pop': 220.95811198345163,\n",
       "  'Total Tests': 719348.0,\n",
       "  'Tests/1M Pop': 3381825.019980255,\n",
       "  'Population': 212710.0,\n",
       "  'Continent': 'North Ameica'},\n",
       " {'#': '#',\n",
       "  'Date': '27:11:2021 - 10:12:2021',\n",
       "  'Country, Other': 'Grenlad',\n",
       "  'Total Cases': 21898,\n",
       "  'New Cases': 442.0,\n",
       "  'Total Deaths': 0.0,\n",
       "  'New Deaths': 0.0,\n",
       "  'Total Recovered': 17750.0,\n",
       "  'New Recovered': 509.0,\n",
       "  'Active Cases': 4148.0,\n",
       "  'Serious, Critical': 28.0,\n",
       "  'Tot Cases/1M Pop': 27484.361350697338,\n",
       "  'Deaths/1M Pop': 0.0,\n",
       "  'Total Tests': 1583981.0,\n",
       "  'Tests/1M Pop': 1988067.6854799034,\n",
       "  'Population': 796744.0,\n",
       "  'Continent': 'North Ameica'},\n",
       " {'#': '#',\n",
       "  'Date': '27:11:2021 - 10:12:2021',\n",
       "  'Country, Other': 'Diamond Prces',\n",
       "  'Total Cases': 9968,\n",
       "  'New Cases': 0.0,\n",
       "  'Total Deaths': 182.0,\n",
       "  'New Deaths': 0.0,\n",
       "  'Total Recovered': 9786.0,\n",
       "  'New Recovered': 0.0,\n",
       "  'Active Cases': 0.0,\n",
       "  'Serious, Critical': 0.0,\n",
       "  'Tot Cases/1M Pop': inf,\n",
       "  'Deaths/1M Pop': inf,\n",
       "  'Total Tests': 0.0,\n",
       "  'Tests/1M Pop': nan,\n",
       "  'Population': 0.0,\n",
       "  'Continent': 'Other'},\n",
       " {'#': '#',\n",
       "  'Date': '27:11:2021 - 10:12:2021',\n",
       "  'Country, Other': 'Walis ndFut',\n",
       "  'Total Cases': 6302,\n",
       "  'New Cases': 9.0,\n",
       "  'Total Deaths': 98.0,\n",
       "  'New Deaths': 0.0,\n",
       "  'Total Recovered': 6132.0,\n",
       "  'New Recovered': 0.0,\n",
       "  'Active Cases': 72.0,\n",
       "  'Serious, Critical': 0.0,\n",
       "  'Tot Cases/1M Pop': 41077.31817648516,\n",
       "  'Deaths/1M Pop': 638.7777183902801,\n",
       "  'Total Tests': 287112.0,\n",
       "  'Tests/1M Pop': 1871436.2069639808,\n",
       "  'Population': 153418.0,\n",
       "  'Continent': 'Australi/Ocen'},\n",
       " {'#': '#',\n",
       "  'Date': '27:11:2021 - 10:12:2021',\n",
       "  'Country, Other': 'Falknd Is',\n",
       "  'Total Cases': 1146,\n",
       "  'New Cases': 4.0,\n",
       "  'Total Deaths': 0.0,\n",
       "  'New Deaths': 0.0,\n",
       "  'Total Recovered': 0.0,\n",
       "  'New Recovered': 0.0,\n",
       "  'Active Cases': 0.0,\n",
       "  'Serious, Critical': 0.0,\n",
       "  'Tot Cases/1M Pop': 22588.402254898097,\n",
       "  'Deaths/1M Pop': 0.0,\n",
       "  'Total Tests': 114148.0,\n",
       "  'Tests/1M Pop': 2249931.012733078,\n",
       "  'Population': 50734.0,\n",
       "  'Continent': 'South America'},\n",
       " {'#': '#',\n",
       "  'Date': '27:11:2021 - 10:12:2021',\n",
       "  'Country, Other': 'Maco',\n",
       "  'Total Cases': 1078,\n",
       "  'New Cases': 0.0,\n",
       "  'Total Deaths': 0.0,\n",
       "  'New Deaths': 0.0,\n",
       "  'Total Recovered': 1078.0,\n",
       "  'New Recovered': 0.0,\n",
       "  'Active Cases': 0.0,\n",
       "  'Serious, Critical': 0.0,\n",
       "  'Tot Cases/1M Pop': 116.32737847943498,\n",
       "  'Deaths/1M Pop': 0.0,\n",
       "  'Total Tests': 70266.0,\n",
       "  'Tests/1M Pop': 7582.4300336140805,\n",
       "  'Population': 9266950.0,\n",
       "  'Continent': 'Asia'},\n",
       " {'#': '#',\n",
       "  'Date': '27:11:2021 - 10:12:2021',\n",
       "  'Country, Other': 'Saint PerMqulo',\n",
       "  'Total Cases': 1008,\n",
       "  'New Cases': 0.0,\n",
       "  'Total Deaths': 0.0,\n",
       "  'New Deaths': 0.0,\n",
       "  'Total Recovered': 594.0,\n",
       "  'New Recovered': 17.0,\n",
       "  'Active Cases': 414.0,\n",
       "  'Serious, Critical': 0.0,\n",
       "  'Tot Cases/1M Pop': 12513.655775151456,\n",
       "  'Deaths/1M Pop': 0.0,\n",
       "  'Total Tests': 171188.0,\n",
       "  'Tests/1M Pop': 2125186.2151157013,\n",
       "  'Population': 80552.0,\n",
       "  'Continent': 'North Ameica'},\n",
       " {'#': '#',\n",
       "  'Date': '27:11:2021 - 10:12:2021',\n",
       "  'Country, Other': 'Montsera',\n",
       "  'Total Cases': 616,\n",
       "  'New Cases': 0.0,\n",
       "  'Total Deaths': 14.0,\n",
       "  'New Deaths': 0.0,\n",
       "  'Total Recovered': 578.0,\n",
       "  'New Recovered': 1.0,\n",
       "  'Active Cases': 24.0,\n",
       "  'Serious, Critical': 0.0,\n",
       "  'Tot Cases/1M Pop': 8807.045636509207,\n",
       "  'Deaths/1M Pop': 200.16012810248196,\n",
       "  'Total Tests': 41693.0,\n",
       "  'Tests/1M Pop': 596091.1586411987,\n",
       "  'Population': 69944.0,\n",
       "  'Continent': 'North Ameica'},\n",
       " {'#': '#',\n",
       "  'Date': '27:11:2021 - 10:12:2021',\n",
       "  'Country, Other': 'Vaticn Cy',\n",
       "  'Total Cases': 378,\n",
       "  'New Cases': 0.0,\n",
       "  'Total Deaths': 0.0,\n",
       "  'New Deaths': 0.0,\n",
       "  'Total Recovered': 378.0,\n",
       "  'New Recovered': 0.0,\n",
       "  'Active Cases': 0.0,\n",
       "  'Serious, Critical': 0.0,\n",
       "  'Tot Cases/1M Pop': 33582.08955223881,\n",
       "  'Deaths/1M Pop': 0.0,\n",
       "  'Total Tests': 0.0,\n",
       "  'Tests/1M Pop': 0.0,\n",
       "  'Population': 11256.0,\n",
       "  'Continent': 'Europe'},\n",
       " {'#': '#',\n",
       "  'Date': '27:11:2021 - 10:12:2021',\n",
       "  'Country, Other': 'Solmn Isad',\n",
       "  'Total Cases': 280,\n",
       "  'New Cases': 0.0,\n",
       "  'Total Deaths': 0.0,\n",
       "  'New Deaths': 0.0,\n",
       "  'Total Recovered': 280.0,\n",
       "  'New Recovered': 0.0,\n",
       "  'Active Cases': 0.0,\n",
       "  'Serious, Critical': 0.0,\n",
       "  'Tot Cases/1M Pop': 28.136835056245534,\n",
       "  'Deaths/1M Pop': 0.0,\n",
       "  'Total Tests': 63000.0,\n",
       "  'Tests/1M Pop': 6330.787887655245,\n",
       "  'Population': 9951368.0,\n",
       "  'Continent': 'Australi/Ocen'},\n",
       " {'#': '#',\n",
       "  'Date': '27:11:2021 - 10:12:2021',\n",
       "  'Country, Other': 'Westrn Sah',\n",
       "  'Total Cases': 140,\n",
       "  'New Cases': 0.0,\n",
       "  'Total Deaths': 14.0,\n",
       "  'New Deaths': 0.0,\n",
       "  'Total Recovered': 112.0,\n",
       "  'New Recovered': 0.0,\n",
       "  'Active Cases': 14.0,\n",
       "  'Serious, Critical': 0.0,\n",
       "  'Tot Cases/1M Pop': 16.175961181390527,\n",
       "  'Deaths/1M Pop': 1.6175961181390528,\n",
       "  'Total Tests': 0.0,\n",
       "  'Tests/1M Pop': 0.0,\n",
       "  'Population': 8654818.0,\n",
       "  'Continent': 'Africa'},\n",
       " {'#': '#',\n",
       "  'Date': '27:11:2021 - 10:12:2021',\n",
       "  'Country, Other': 'MS Zandm',\n",
       "  'Total Cases': 126,\n",
       "  'New Cases': 0.0,\n",
       "  'Total Deaths': 28.0,\n",
       "  'New Deaths': 0.0,\n",
       "  'Total Recovered': 98.0,\n",
       "  'New Recovered': 0.0,\n",
       "  'Active Cases': 0.0,\n",
       "  'Serious, Critical': 0.0,\n",
       "  'Tot Cases/1M Pop': inf,\n",
       "  'Deaths/1M Pop': inf,\n",
       "  'Total Tests': 0.0,\n",
       "  'Tests/1M Pop': nan,\n",
       "  'Population': 0.0,\n",
       "  'Continent': 'Other'},\n",
       " {'#': '#',\n",
       "  'Date': '27:11:2021 - 10:12:2021',\n",
       "  'Country, Other': 'Palu',\n",
       "  'Total Cases': 112,\n",
       "  'New Cases': 0.0,\n",
       "  'Total Deaths': 0.0,\n",
       "  'New Deaths': 0.0,\n",
       "  'Total Recovered': 112.0,\n",
       "  'New Recovered': 0.0,\n",
       "  'Active Cases': 0.0,\n",
       "  'Serious, Critical': 0.0,\n",
       "  'Tot Cases/1M Pop': 439.15713199024447,\n",
       "  'Deaths/1M Pop': 0.0,\n",
       "  'Total Tests': 182077.0,\n",
       "  'Tests/1M Pop': 713932.2600123906,\n",
       "  'Population': 255034.0,\n",
       "  'Continent': 'Australi/Ocen'},\n",
       " {'#': '#',\n",
       "  'Date': '27:11:2021 - 10:12:2021',\n",
       "  'Country, Other': 'Vanut',\n",
       "  'Total Cases': 84,\n",
       "  'New Cases': 0.0,\n",
       "  'Total Deaths': 14.0,\n",
       "  'New Deaths': 0.0,\n",
       "  'Total Recovered': 55.0,\n",
       "  'New Recovered': 3.0,\n",
       "  'Active Cases': 15.0,\n",
       "  'Serious, Critical': 0.0,\n",
       "  'Tot Cases/1M Pop': 18.9070466562888,\n",
       "  'Deaths/1M Pop': 3.1511744427148,\n",
       "  'Total Tests': 322000.0,\n",
       "  'Tests/1M Pop': 72477.01218244039,\n",
       "  'Population': 4442788.0,\n",
       "  'Continent': 'Australi/Ocen'},\n",
       " {'#': '#',\n",
       "  'Date': '27:11:2021 - 10:12:2021',\n",
       "  'Country, Other': 'Marshl Ind',\n",
       "  'Total Cases': 56,\n",
       "  'New Cases': 0.0,\n",
       "  'Total Deaths': 0.0,\n",
       "  'New Deaths': 0.0,\n",
       "  'Total Recovered': 56.0,\n",
       "  'New Recovered': 0.0,\n",
       "  'Active Cases': 0.0,\n",
       "  'Serious, Critical': 0.0,\n",
       "  'Tot Cases/1M Pop': 66.93616441434442,\n",
       "  'Deaths/1M Pop': 0.0,\n",
       "  'Total Tests': 0.0,\n",
       "  'Tests/1M Pop': 0.0,\n",
       "  'Population': 836618.0,\n",
       "  'Continent': 'Australi/Ocen'},\n",
       " {'#': '#',\n",
       "  'Date': '27:11:2021 - 10:12:2021',\n",
       "  'Country, Other': 'Samo',\n",
       "  'Total Cases': 42,\n",
       "  'New Cases': 0.0,\n",
       "  'Total Deaths': 0.0,\n",
       "  'New Deaths': 0.0,\n",
       "  'Total Recovered': 42.0,\n",
       "  'New Recovered': 0.0,\n",
       "  'Active Cases': 0.0,\n",
       "  'Serious, Critical': 0.0,\n",
       "  'Tot Cases/1M Pop': 14.978249442060207,\n",
       "  'Deaths/1M Pop': 0.0,\n",
       "  'Total Tests': 0.0,\n",
       "  'Tests/1M Pop': 0.0,\n",
       "  'Population': 2804066.0,\n",
       "  'Continent': 'Australi/Ocen'},\n",
       " {'#': '#',\n",
       "  'Date': '27:11:2021 - 10:12:2021',\n",
       "  'Country, Other': 'Saint Hel',\n",
       "  'Total Cases': 28,\n",
       "  'New Cases': 0.0,\n",
       "  'Total Deaths': 0.0,\n",
       "  'New Deaths': 0.0,\n",
       "  'Total Recovered': 28.0,\n",
       "  'New Recovered': 0.0,\n",
       "  'Active Cases': 0.0,\n",
       "  'Serious, Critical': 0.0,\n",
       "  'Tot Cases/1M Pop': 327.71535580524346,\n",
       "  'Deaths/1M Pop': 0.0,\n",
       "  'Total Tests': 0.0,\n",
       "  'Tests/1M Pop': 0.0,\n",
       "  'Population': 85440.0,\n",
       "  'Continent': 'Africa'},\n",
       " {'#': '#',\n",
       "  'Date': '27:11:2021 - 10:12:2021',\n",
       "  'Country, Other': 'Micronesa',\n",
       "  'Total Cases': 14,\n",
       "  'New Cases': 0.0,\n",
       "  'Total Deaths': 0.0,\n",
       "  'New Deaths': 0.0,\n",
       "  'Total Recovered': 14.0,\n",
       "  'New Recovered': 0.0,\n",
       "  'Active Cases': 0.0,\n",
       "  'Serious, Critical': 0.0,\n",
       "  'Tot Cases/1M Pop': 8.566159509232484,\n",
       "  'Deaths/1M Pop': 0.0,\n",
       "  'Total Tests': 0.0,\n",
       "  'Tests/1M Pop': 0.0,\n",
       "  'Population': 1634338.0,\n",
       "  'Continent': 'Australi/Ocen'},\n",
       " {'#': '#',\n",
       "  'Date': '27:11:2021 - 10:12:2021',\n",
       "  'Country, Other': 'Tonga',\n",
       "  'Total Cases': 14,\n",
       "  'New Cases': 0.0,\n",
       "  'Total Deaths': 0.0,\n",
       "  'New Deaths': 0.0,\n",
       "  'Total Recovered': 14.0,\n",
       "  'New Recovered': 0.0,\n",
       "  'Active Cases': 0.0,\n",
       "  'Serious, Critical': 0.0,\n",
       "  'Tot Cases/1M Pop': 9.31104888965742,\n",
       "  'Deaths/1M Pop': 0.0,\n",
       "  'Total Tests': 0.0,\n",
       "  'Tests/1M Pop': 0.0,\n",
       "  'Population': 1503590.0,\n",
       "  'Continent': 'Australi/Ocen'}]"
      ]
     },
     "execution_count": 17,
     "metadata": {},
     "output_type": "execute_result"
    }
   ],
   "source": [
    "country_day_result"
   ]
  },
  {
   "cell_type": "markdown",
   "metadata": {},
   "source": [
    "### Dữ liệu của thế giới qua mỗi tuần\n",
    "***"
   ]
  },
  {
   "cell_type": "code",
   "execution_count": 18,
   "metadata": {},
   "outputs": [],
   "source": [
    "n_date = len(df_week['Date'].unique())\n",
    "world_week_by_date = auto_divide_dataframe(df_week, n_date, 'Date')"
   ]
  },
  {
   "cell_type": "code",
   "execution_count": 19,
   "metadata": {},
   "outputs": [],
   "source": [
    "world_week_result_by_date = []\n",
    "for i in range(n_date):\n",
    "    sum_result = sum_pandas(world_week_by_date[i])\n",
    "\n",
    "    n_continent = len(world_week_by_date[i]['Continent'].unique())\n",
    "    world_week_result_by_date.append(format_sum_result_week(sum_result, 1, n_continent, 0, week_header))"
   ]
  },
  {
   "cell_type": "code",
   "execution_count": 20,
   "metadata": {},
   "outputs": [
    {
     "data": {
      "text/plain": [
       "[{'#': '#',\n",
       "  'Date': '29:11:2021',\n",
       "  'Country, Other': 'World',\n",
       "  'Cases in the last 7 days': 3761106,\n",
       "  'Cases in the preceding 7 days': 3791916,\n",
       "  'Weekly case /%/ change': -0.813,\n",
       "  'Cases in the last 7 days/1M pop': 1377543127.129,\n",
       "  'Deaths in the last 7 days': 47645,\n",
       "  'Deaths in the preceding 7 days': 49732,\n",
       "  'Weekly Death /%/ change': -4.196,\n",
       "  'Deaths in the last 7 days/1M pop': 17450463.319,\n",
       "  'Population': 7853206876},\n",
       " {'#': '#',\n",
       "  'Date': '06:12:2021',\n",
       "  'Country, Other': 'World',\n",
       "  'Cases in the last 7 days': 4144237,\n",
       "  'Cases in the preceding 7 days': 3960764,\n",
       "  'Weekly case /%/ change': 4.632,\n",
       "  'Cases in the last 7 days/1M pop': 1625956136.221,\n",
       "  'Deaths in the last 7 days': 48537,\n",
       "  'Deaths in the preceding 7 days': 49244,\n",
       "  'Weekly Death /%/ change': -1.436,\n",
       "  'Deaths in the last 7 days/1M pop': 19043079.096,\n",
       "  'Population': 7862224494}]"
      ]
     },
     "execution_count": 20,
     "metadata": {},
     "output_type": "execute_result"
    }
   ],
   "source": [
    "world_week_result_by_date"
   ]
  },
  {
   "cell_type": "markdown",
   "metadata": {},
   "source": [
    "### Dữ liệu châu lục qua mỗi tuần\n",
    "***"
   ]
  },
  {
   "cell_type": "code",
   "execution_count": 21,
   "metadata": {},
   "outputs": [
    {
     "name": "stdout",
     "output_type": "stream",
     "text": [
      "6\n"
     ]
    }
   ],
   "source": [
    "n_continent = len(df_week['Continent'].unique())\n",
    "print(n_continent)\n",
    "\n",
    "continent_week = auto_divide_dataframe(df_week, n_continent, 'Continent')"
   ]
  },
  {
   "cell_type": "code",
   "execution_count": 22,
   "metadata": {},
   "outputs": [],
   "source": [
    "continent_week_result = []\n",
    "continent_week_result_by_date = []\n",
    "for i in range(n_continent):\n",
    "    sum_result = sum_pandas(continent_week[i])\n",
    "    if 'Other' in sum_result[-1]:\n",
    "        continue\n",
    "    continent_week_result.append(format_sum_result_week(sum_result, 0, 1, 0, week_header))\n",
    "\n",
    "    n_date = len(continent_week[i]['Date'].unique())\n",
    "    continent_week_by_date = auto_divide_dataframe(continent_week[i], n_date, 'Date')\n",
    "    tmp = []\n",
    "    for i in range(n_date):\n",
    "        sum_result = sum_pandas(continent_week_by_date[i])\n",
    "        tmp.append(format_sum_result_week(sum_result, 1, 1, 0, week_header))\n",
    "    continent_week_result_by_date.append(tmp)\n"
   ]
  },
  {
   "cell_type": "code",
   "execution_count": 23,
   "metadata": {},
   "outputs": [
    {
     "data": {
      "text/plain": [
       "[[{'#': '#',\n",
       "   'Date': '29:11:2021',\n",
       "   'Country, Other': 'Continet',\n",
       "   'Cases in the last 7 days': 475285,\n",
       "   'Cases in the preceding 7 days': 725778,\n",
       "   'Weekly case /%/ change': -34.514,\n",
       "   'Cases in the last 7 days/1M pop': 797.991,\n",
       "   'Deaths in the last 7 days': 6793,\n",
       "   'Deaths in the preceding 7 days': 9299,\n",
       "   'Weekly Death /%/ change': -26.949,\n",
       "   'Deaths in the last 7 days/1M pop': 11.405,\n",
       "   'Population': 595602313,\n",
       "   'Continent': 'North Ameica'},\n",
       "  {'#': '#',\n",
       "   'Date': '06:12:2021',\n",
       "   'Country, Other': 'Continet',\n",
       "   'Cases in the last 7 days': 770688,\n",
       "   'Cases in the preceding 7 days': 632288,\n",
       "   'Weekly case /%/ change': 21.889,\n",
       "   'Cases in the last 7 days/1M pop': 1293.783,\n",
       "   'Deaths in the last 7 days': 9247,\n",
       "   'Deaths in the preceding 7 days': 8066,\n",
       "   'Weekly Death /%/ change': 14.642,\n",
       "   'Deaths in the last 7 days/1M pop': 15.523,\n",
       "   'Population': 595685559,\n",
       "   'Continent': 'North Ameica'}],\n",
       " [{'#': '#',\n",
       "   'Date': '29:11:2021',\n",
       "   'Country, Other': 'Continet',\n",
       "   'Cases in the last 7 days': 2492557,\n",
       "   'Cases in the preceding 7 days': 2290979,\n",
       "   'Weekly case /%/ change': 8.799,\n",
       "   'Cases in the last 7 days/1M pop': 3331.116,\n",
       "   'Deaths in the last 7 days': 26620,\n",
       "   'Deaths in the preceding 7 days': 26998,\n",
       "   'Weekly Death /%/ change': -1.4,\n",
       "   'Deaths in the last 7 days/1M pop': 35.576,\n",
       "   'Population': 748264848,\n",
       "   'Continent': 'Europe'},\n",
       "  {'#': '#',\n",
       "   'Date': '06:12:2021',\n",
       "   'Country, Other': 'Continet',\n",
       "   'Cases in the last 7 days': 2543828,\n",
       "   'Cases in the preceding 7 days': 2530721,\n",
       "   'Weekly case /%/ change': 0.518,\n",
       "   'Cases in the last 7 days/1M pop': 3399.597,\n",
       "   'Deaths in the last 7 days': 26638,\n",
       "   'Deaths in the preceding 7 days': 26822,\n",
       "   'Weekly Death /%/ change': -0.686,\n",
       "   'Deaths in the last 7 days/1M pop': 35.599,\n",
       "   'Population': 748273446,\n",
       "   'Continent': 'Europe'}],\n",
       " [{'#': '#',\n",
       "   'Date': '29:11:2021',\n",
       "   'Country, Other': 'Continet',\n",
       "   'Cases in the last 7 days': 610520,\n",
       "   'Cases in the preceding 7 days': 609074,\n",
       "   'Weekly case /%/ change': 0.237,\n",
       "   'Cases in the last 7 days/1M pop': 130.893,\n",
       "   'Deaths in the last 7 days': 10316,\n",
       "   'Deaths in the preceding 7 days': 9841,\n",
       "   'Weekly Death /%/ change': 4.827,\n",
       "   'Deaths in the last 7 days/1M pop': 2.212,\n",
       "   'Population': 4664273540,\n",
       "   'Continent': 'Asia'},\n",
       "  {'#': '#',\n",
       "   'Date': '06:12:2021',\n",
       "   'Country, Other': 'Continet',\n",
       "   'Cases in the last 7 days': 587347,\n",
       "   'Cases in the preceding 7 days': 612442,\n",
       "   'Weekly case /%/ change': -4.098,\n",
       "   'Cases in the last 7 days/1M pop': 126.171,\n",
       "   'Deaths in the last 7 days': 9226,\n",
       "   'Deaths in the preceding 7 days': 10333,\n",
       "   'Weekly Death /%/ change': -10.713,\n",
       "   'Deaths in the last 7 days/1M pop': 1.982,\n",
       "   'Population': 4655179883,\n",
       "   'Continent': 'Asia'}],\n",
       " [{'#': '#',\n",
       "   'Date': '29:11:2021',\n",
       "   'Country, Other': 'Continet',\n",
       "   'Cases in the last 7 days': 133214,\n",
       "   'Cases in the preceding 7 days': 128220,\n",
       "   'Weekly case /%/ change': 3.895,\n",
       "   'Cases in the last 7 days/1M pop': 305.708,\n",
       "   'Deaths in the last 7 days': 2735,\n",
       "   'Deaths in the preceding 7 days': 2409,\n",
       "   'Weekly Death /%/ change': 13.533,\n",
       "   'Deaths in the last 7 days/1M pop': 6.276,\n",
       "   'Population': 435755419,\n",
       "   'Continent': 'South America'},\n",
       "  {'#': '#',\n",
       "   'Date': '06:12:2021',\n",
       "   'Country, Other': 'Continet',\n",
       "   'Cases in the last 7 days': 128125,\n",
       "   'Cases in the preceding 7 days': 135582,\n",
       "   'Weekly case /%/ change': -5.5,\n",
       "   'Cases in the last 7 days/1M pop': 293.981,\n",
       "   'Deaths in the last 7 days': 2439,\n",
       "   'Deaths in the preceding 7 days': 2841,\n",
       "   'Weekly Death /%/ change': -14.15,\n",
       "   'Deaths in the last 7 days/1M pop': 5.596,\n",
       "   'Population': 435826974,\n",
       "   'Continent': 'South America'}],\n",
       " [{'#': '#',\n",
       "   'Date': '29:11:2021',\n",
       "   'Country, Other': 'Continet',\n",
       "   'Cases in the last 7 days': 37837,\n",
       "   'Cases in the preceding 7 days': 25872,\n",
       "   'Weekly case /%/ change': 46.247,\n",
       "   'Cases in the last 7 days/1M pop': 27.664,\n",
       "   'Deaths in the last 7 days': 1067,\n",
       "   'Deaths in the preceding 7 days': 1047,\n",
       "   'Weekly Death /%/ change': 1.91,\n",
       "   'Deaths in the last 7 days/1M pop': 0.78,\n",
       "   'Population': 1367729420,\n",
       "   'Continent': 'Africa'},\n",
       "  {'#': '#',\n",
       "   'Date': '06:12:2021',\n",
       "   'Country, Other': 'Continet',\n",
       "   'Cases in the last 7 days': 102063,\n",
       "   'Cases in the preceding 7 days': 38021,\n",
       "   'Weekly case /%/ change': 168.438,\n",
       "   'Cases in the last 7 days/1M pop': 73.657,\n",
       "   'Deaths in the last 7 days': 921,\n",
       "   'Deaths in the preceding 7 days': 1068,\n",
       "   'Weekly Death /%/ change': -13.764,\n",
       "   'Deaths in the last 7 days/1M pop': 0.665,\n",
       "   'Population': 1385657226,\n",
       "   'Continent': 'Africa'}],\n",
       " [{'#': '#',\n",
       "   'Date': '29:11:2021',\n",
       "   'Country, Other': 'Continet',\n",
       "   'Cases in the last 7 days': 11693,\n",
       "   'Cases in the preceding 7 days': 11993,\n",
       "   'Weekly case /%/ change': -2.501,\n",
       "   'Cases in the last 7 days/1M pop': 281.208,\n",
       "   'Deaths in the last 7 days': 114,\n",
       "   'Deaths in the preceding 7 days': 138,\n",
       "   'Weekly Death /%/ change': -17.391,\n",
       "   'Deaths in the last 7 days/1M pop': 2.742,\n",
       "   'Population': 41581336,\n",
       "   'Continent': 'Australi/Ocen'},\n",
       "  {'#': '#',\n",
       "   'Date': '06:12:2021',\n",
       "   'Country, Other': 'Continet',\n",
       "   'Cases in the last 7 days': 12186,\n",
       "   'Cases in the preceding 7 days': 11710,\n",
       "   'Weekly case /%/ change': 4.065,\n",
       "   'Cases in the last 7 days/1M pop': 292.923,\n",
       "   'Deaths in the last 7 days': 66,\n",
       "   'Deaths in the preceding 7 days': 114,\n",
       "   'Weekly Death /%/ change': -42.105,\n",
       "   'Deaths in the last 7 days/1M pop': 1.586,\n",
       "   'Population': 41601406,\n",
       "   'Continent': 'Australi/Ocen'}]]"
      ]
     },
     "execution_count": 23,
     "metadata": {},
     "output_type": "execute_result"
    }
   ],
   "source": [
    "continent_week_result_by_date"
   ]
  },
  {
   "cell_type": "markdown",
   "metadata": {},
   "source": [
    "### Dữ liệu các quốc gia qua mỗi tuần\n",
    "****"
   ]
  },
  {
   "cell_type": "code",
   "execution_count": 24,
   "metadata": {},
   "outputs": [],
   "source": [
    "n_week = len(df_week['Date'].unique())\n",
    "\n",
    "country_week = auto_divide_dataframe(df_week, n_continent, 'Date')[1]"
   ]
  },
  {
   "cell_type": "code",
   "execution_count": 25,
   "metadata": {},
   "outputs": [
    {
     "name": "stderr",
     "output_type": "stream",
     "text": [
      "C:\\Users\\Oaki\\AppData\\Local\\Temp/ipykernel_17880/4219786346.py:61: RuntimeWarning: invalid value encountered in longlong_scalars\n",
      "  sum_result[9] = round((sum_result[7] - sum_result[8])/sum_result[8]*100.0, 3)\n",
      "C:\\Users\\Oaki\\AppData\\Local\\Temp/ipykernel_17880/4219786346.py:62: RuntimeWarning: invalid value encountered in longlong_scalars\n",
      "  sum_result[9] = round((sum_result[7] - sum_result[8])/sum_result[8]*100.0, 3)\n",
      "C:\\Users\\Oaki\\AppData\\Local\\Temp/ipykernel_17880/4219786346.py:61: RuntimeWarning: divide by zero encountered in longlong_scalars\n",
      "  sum_result[9] = round((sum_result[7] - sum_result[8])/sum_result[8]*100.0, 3)\n",
      "C:\\Users\\Oaki\\AppData\\Local\\Temp/ipykernel_17880/4219786346.py:62: RuntimeWarning: divide by zero encountered in longlong_scalars\n",
      "  sum_result[9] = round((sum_result[7] - sum_result[8])/sum_result[8]*100.0, 3)\n",
      "C:\\Users\\Oaki\\AppData\\Local\\Temp/ipykernel_17880/4219786346.py:56: RuntimeWarning: divide by zero encountered in longlong_scalars\n",
      "  sum_result[5] = round((sum_result[3] - sum_result[4])/sum_result[4]*100.0, 3)\n",
      "C:\\Users\\Oaki\\AppData\\Local\\Temp/ipykernel_17880/4219786346.py:57: RuntimeWarning: divide by zero encountered in longlong_scalars\n",
      "  sum_result[5] = round((sum_result[3] - sum_result[4])/sum_result[4]*100.0, 3)\n"
     ]
    }
   ],
   "source": [
    "country_lasted_week_result = []\n",
    "\n",
    "n_country = len(country_week['Country, Other'].unique())\n",
    "country_lasted_week = auto_divide_dataframe(country_week, n_continent, 'Country, Other')\n",
    "\n",
    "for i in range(n_country):\n",
    "    sum_result = sum_pandas(country_lasted_week[i])\n",
    "    country_lasted_week_result.append(format_sum_result_week(sum_result, 1, 1, 1, week_header))"
   ]
  },
  {
   "cell_type": "code",
   "execution_count": 26,
   "metadata": {},
   "outputs": [
    {
     "data": {
      "text/plain": [
       "[{'#': '#',\n",
       "  'Date': '06:12:2021',\n",
       "  'Country, Other': 'USA',\n",
       "  'Cases in the last 7 days': 715797,\n",
       "  'Cases in the preceding 7 days': 568434,\n",
       "  'Weekly case /%/ change': 25.924,\n",
       "  'Cases in the last 7 days/1M pop': 2144.577,\n",
       "  'Deaths in the last 7 days': 7437,\n",
       "  'Deaths in the preceding 7 days': 6004,\n",
       "  'Weekly Death /%/ change': 23.867,\n",
       "  'Deaths in the last 7 days/1M pop': 22.282,\n",
       "  'Population': 333770690,\n",
       "  'Continent': 'North Ameica'},\n",
       " {'#': '#',\n",
       "  'Date': '06:12:2021',\n",
       "  'Country, Other': 'Germany',\n",
       "  'Cases in the last 7 days': 396878,\n",
       "  'Cases in the preceding 7 days': 404769,\n",
       "  'Weekly case /%/ change': -1.95,\n",
       "  'Cases in the last 7 days/1M pop': 4715.416,\n",
       "  'Deaths in the last 7 days': 2193,\n",
       "  'Deaths in the preceding 7 days': 1798,\n",
       "  'Weekly Death /%/ change': 21.969,\n",
       "  'Deaths in the last 7 days/1M pop': 26.056,\n",
       "  'Population': 84166070,\n",
       "  'Continent': 'Europe'},\n",
       " {'#': '#',\n",
       "  'Date': '06:12:2021',\n",
       "  'Country, Other': 'UK',\n",
       "  'Cases in the last 7 days': 318292,\n",
       "  'Cases in the preceding 7 days': 301501,\n",
       "  'Weekly case /%/ change': 5.569,\n",
       "  'Cases in the last 7 days/1M pop': 4653.76,\n",
       "  'Deaths in the last 7 days': 830,\n",
       "  'Deaths in the preceding 7 days': 848,\n",
       "  'Weekly Death /%/ change': -2.123,\n",
       "  'Deaths in the last 7 days/1M pop': 12.135,\n",
       "  'Population': 68394590,\n",
       "  'Continent': 'Europe'},\n",
       " {'#': '#',\n",
       "  'Date': '06:12:2021',\n",
       "  'Country, Other': 'France',\n",
       "  'Cases in the last 7 days': 297216,\n",
       "  'Cases in the preceding 7 days': 205077,\n",
       "  'Weekly case /%/ change': 44.929,\n",
       "  'Cases in the last 7 days/1M pop': 4539.066,\n",
       "  'Deaths in the last 7 days': 641,\n",
       "  'Deaths in the preceding 7 days': 433,\n",
       "  'Weekly Death /%/ change': 48.037,\n",
       "  'Deaths in the last 7 days/1M pop': 9.789,\n",
       "  'Population': 65479543,\n",
       "  'Continent': 'Europe'},\n",
       " {'#': '#',\n",
       "  'Date': '06:12:2021',\n",
       "  'Country, Other': 'Rusia',\n",
       "  'Cases in the last 7 days': 231240,\n",
       "  'Cases in the preceding 7 days': 239215,\n",
       "  'Weekly case /%/ change': -3.334,\n",
       "  'Cases in the last 7 days/1M pop': 1583.578,\n",
       "  'Deaths in the last 7 days': 8523,\n",
       "  'Deaths in the preceding 7 days': 8660,\n",
       "  'Weekly Death /%/ change': -1.582,\n",
       "  'Deaths in the last 7 days/1M pop': 58.367,\n",
       "  'Population': 146023734,\n",
       "  'Continent': 'Europe'},\n",
       " {'#': '#',\n",
       "  'Date': '06:12:2021',\n",
       "  'Country, Other': 'Poland',\n",
       "  'Cases in the last 7 days': 163575,\n",
       "  'Cases in the preceding 7 days': 162417,\n",
       "  'Weekly case /%/ change': 0.713,\n",
       "  'Cases in the last 7 days/1M pop': 4328.816,\n",
       "  'Deaths in the last 7 days': 2638,\n",
       "  'Deaths in the preceding 7 days': 2215,\n",
       "  'Weekly Death /%/ change': 19.097,\n",
       "  'Deaths in the last 7 days/1M pop': 69.811,\n",
       "  'Population': 37787471,\n",
       "  'Continent': 'Europe'},\n",
       " {'#': '#',\n",
       "  'Date': '06:12:2021',\n",
       "  'Country, Other': 'Turkey',\n",
       "  'Cases in the last 7 days': 155062,\n",
       "  'Cases in the preceding 7 days': 174501,\n",
       "  'Weekly case /%/ change': -11.14,\n",
       "  'Cases in the last 7 days/1M pop': 1810.779,\n",
       "  'Deaths in the last 7 days': 1384,\n",
       "  'Deaths in the preceding 7 days': 1404,\n",
       "  'Weekly Death /%/ change': -1.425,\n",
       "  'Deaths in the last 7 days/1M pop': 16.162,\n",
       "  'Population': 85632738,\n",
       "  'Continent': 'Asia'},\n",
       " {'#': '#',\n",
       "  'Date': '06:12:2021',\n",
       "  'Country, Other': 'Nethrlands',\n",
       "  'Cases in the last 7 days': 152375,\n",
       "  'Cases in the preceding 7 days': 157293,\n",
       "  'Weekly case /%/ change': -3.127,\n",
       "  'Cases in the last 7 days/1M pop': 8864.705,\n",
       "  'Deaths in the last 7 days': 351,\n",
       "  'Deaths in the preceding 7 days': 351,\n",
       "  'Weekly Death /%/ change': 0.0,\n",
       "  'Deaths in the last 7 days/1M pop': 20.42,\n",
       "  'Population': 17188954,\n",
       "  'Continent': 'Europe'},\n",
       " {'#': '#',\n",
       "  'Date': '06:12:2021',\n",
       "  'Country, Other': 'Czechia',\n",
       "  'Cases in the last 7 days': 117269,\n",
       "  'Cases in the preceding 7 days': 127486,\n",
       "  'Weekly case /%/ change': -8.014,\n",
       "  'Cases in the last 7 days/1M pop': 10921.625,\n",
       "  'Deaths in the last 7 days': 724,\n",
       "  'Deaths in the preceding 7 days': 749,\n",
       "  'Weekly Death /%/ change': -3.338,\n",
       "  'Deaths in the last 7 days/1M pop': 67.428,\n",
       "  'Population': 10737322,\n",
       "  'Continent': 'Europe'},\n",
       " {'#': '#',\n",
       "  'Date': '06:12:2021',\n",
       "  'Country, Other': 'Belgium',\n",
       "  'Cases in the last 7 days': 108472,\n",
       "  'Cases in the preceding 7 days': 123233,\n",
       "  'Weekly case /%/ change': -11.978,\n",
       "  'Cases in the last 7 days/1M pop': 9301.67,\n",
       "  'Deaths in the last 7 days': 279,\n",
       "  'Deaths in the preceding 7 days': 285,\n",
       "  'Weekly Death /%/ change': -2.105,\n",
       "  'Deaths in the last 7 days/1M pop': 23.925,\n",
       "  'Population': 11661562,\n",
       "  'Continent': 'Europe'},\n",
       " {'#': '#',\n",
       "  'Date': '06:12:2021',\n",
       "  'Country, Other': 'Italy',\n",
       "  'Cases in the last 7 days': 101267,\n",
       "  'Cases in the preceding 7 days': 82128,\n",
       "  'Weekly case /%/ change': 23.304,\n",
       "  'Cases in the last 7 days/1M pop': 1678.413,\n",
       "  'Deaths in the last 7 days': 517,\n",
       "  'Deaths in the preceding 7 days': 486,\n",
       "  'Weekly Death /%/ change': 6.379,\n",
       "  'Deaths in the last 7 days/1M pop': 8.569,\n",
       "  'Population': 60334978,\n",
       "  'Continent': 'Europe'},\n",
       " {'#': '#',\n",
       "  'Date': '06:12:2021',\n",
       "  'Country, Other': 'Vietnam',\n",
       "  'Cases in the last 7 days': 97968,\n",
       "  'Cases in the preceding 7 days': 88147,\n",
       "  'Weekly case /%/ change': 11.142,\n",
       "  'Cases in the last 7 days/1M pop': 993.719,\n",
       "  'Deaths in the last 7 days': 1378,\n",
       "  'Deaths in the preceding 7 days': 1121,\n",
       "  'Weekly Death /%/ change': 22.926,\n",
       "  'Deaths in the last 7 days/1M pop': 13.977,\n",
       "  'Population': 98587244,\n",
       "  'Continent': 'Asia'},\n",
       " {'#': '#',\n",
       "  'Date': '06:12:2021',\n",
       "  'Country, Other': 'Ukraine',\n",
       "  'Cases in the last 7 days': 75454,\n",
       "  'Cases in the preceding 7 days': 89080,\n",
       "  'Weekly case /%/ change': -15.296,\n",
       "  'Cases in the last 7 days/1M pop': 1740.223,\n",
       "  'Deaths in the last 7 days': 3163,\n",
       "  'Deaths in the preceding 7 days': 3845,\n",
       "  'Weekly Death /%/ change': -17.737,\n",
       "  'Deaths in the last 7 days/1M pop': 72.949,\n",
       "  'Population': 43358808,\n",
       "  'Continent': 'Europe'},\n",
       " {'#': '#',\n",
       "  'Date': '06:12:2021',\n",
       "  'Country, Other': 'South Africa',\n",
       "  'Cases in the last 7 days': 70288,\n",
       "  'Cases in the preceding 7 days': 13828,\n",
       "  'Weekly case /%/ change': 408.302,\n",
       "  'Cases in the last 7 days/1M pop': 1164.202,\n",
       "  'Deaths in the last 7 days': 169,\n",
       "  'Deaths in the preceding 7 days': 223,\n",
       "  'Weekly Death /%/ change': -24.215,\n",
       "  'Deaths in the last 7 days/1M pop': 2.799,\n",
       "  'Population': 60374425,\n",
       "  'Continent': 'Africa'},\n",
       " {'#': '#',\n",
       "  'Date': '06:12:2021',\n",
       "  'Country, Other': 'Hungary',\n",
       "  'Cases in the last 7 days': 65981,\n",
       "  'Cases in the preceding 7 days': 70400,\n",
       "  'Weekly case /%/ change': -6.277,\n",
       "  'Cases in the last 7 days/1M pop': 6854.919,\n",
       "  'Deaths in the last 7 days': 1256,\n",
       "  'Deaths in the preceding 7 days': 1086,\n",
       "  'Weekly Death /%/ change': 15.654,\n",
       "  'Deaths in the last 7 days/1M pop': 130.489,\n",
       "  'Population': 9625351,\n",
       "  'Continent': 'Europe'},\n",
       " {'#': '#',\n",
       "  'Date': '06:12:2021',\n",
       "  'Country, Other': 'Brazil',\n",
       "  'Cases in the last 7 days': 62185,\n",
       "  'Cases in the preceding 7 days': 63630,\n",
       "  'Weekly case /%/ change': -2.271,\n",
       "  'Cases in the last 7 days/1M pop': 289.618,\n",
       "  'Deaths in the last 7 days': 1360,\n",
       "  'Deaths in the preceding 7 days': 1592,\n",
       "  'Weekly Death /%/ change': -14.573,\n",
       "  'Deaths in the last 7 days/1M pop': 6.334,\n",
       "  'Population': 214713983,\n",
       "  'Continent': 'South America'},\n",
       " {'#': '#',\n",
       "  'Date': '06:12:2021',\n",
       "  'Country, Other': 'Slovaki',\n",
       "  'Cases in the last 7 days': 61514,\n",
       "  'Cases in the preceding 7 days': 57821,\n",
       "  'Weekly case /%/ change': 6.387,\n",
       "  'Cases in the last 7 days/1M pop': 11259.258,\n",
       "  'Deaths in the last 7 days': 552,\n",
       "  'Deaths in the preceding 7 days': 413,\n",
       "  'Weekly Death /%/ change': 33.656,\n",
       "  'Deaths in the last 7 days/1M pop': 101.036,\n",
       "  'Population': 5463415,\n",
       "  'Continent': 'Europe'},\n",
       " {'#': '#',\n",
       "  'Date': '06:12:2021',\n",
       "  'Country, Other': 'India',\n",
       "  'Cases in the last 7 days': 60574,\n",
       "  'Cases in the preceding 7 days': 61931,\n",
       "  'Weekly case /%/ change': -2.191,\n",
       "  'Cases in the last 7 days/1M pop': 43.287,\n",
       "  'Deaths in the last 7 days': 2120,\n",
       "  'Deaths in the preceding 7 days': 2893,\n",
       "  'Weekly Death /%/ change': -26.72,\n",
       "  'Deaths in the last 7 days/1M pop': 1.515,\n",
       "  'Population': 1399346585,\n",
       "  'Continent': 'Asia'},\n",
       " {'#': '#',\n",
       "  'Date': '06:12:2021',\n",
       "  'Country, Other': 'Spain',\n",
       "  'Cases in the last 7 days': 56672,\n",
       "  'Cases in the preceding 7 days': 55039,\n",
       "  'Weekly case /%/ change': 2.967,\n",
       "  'Cases in the last 7 days/1M pop': 1211.442,\n",
       "  'Deaths in the last 7 days': 168,\n",
       "  'Deaths in the preceding 7 days': 167,\n",
       "  'Weekly Death /%/ change': 0.599,\n",
       "  'Deaths in the last 7 days/1M pop': 3.591,\n",
       "  'Population': 46780614,\n",
       "  'Continent': 'Europe'},\n",
       " {'#': '#',\n",
       "  'Date': '06:12:2021',\n",
       "  'Country, Other': 'Austria',\n",
       "  'Cases in the last 7 days': 55195,\n",
       "  'Cases in the preceding 7 days': 86670,\n",
       "  'Weekly case /%/ change': -36.316,\n",
       "  'Cases in the last 7 days/1M pop': 6078.956,\n",
       "  'Deaths in the last 7 days': 408,\n",
       "  'Deaths in the preceding 7 days': 373,\n",
       "  'Weekly Death /%/ change': 9.383,\n",
       "  'Deaths in the last 7 days/1M pop': 44.935,\n",
       "  'Population': 9079684,\n",
       "  'Continent': 'Europe'},\n",
       " {'#': '#',\n",
       "  'Date': '06:12:2021',\n",
       "  'Country, Other': 'Grec',\n",
       "  'Cases in the last 7 days': 41715,\n",
       "  'Cases in the preceding 7 days': 45586,\n",
       "  'Weekly case /%/ change': -8.492,\n",
       "  'Cases in the last 7 days/1M pop': 4030.278,\n",
       "  'Deaths in the last 7 days': 636,\n",
       "  'Deaths in the preceding 7 days': 646,\n",
       "  'Weekly Death /%/ change': -1.548,\n",
       "  'Deaths in the last 7 days/1M pop': 61.447,\n",
       "  'Population': 10350402,\n",
       "  'Continent': 'Europe'},\n",
       " {'#': '#',\n",
       "  'Date': '06:12:2021',\n",
       "  'Country, Other': 'Switzerland',\n",
       "  'Cases in the last 7 days': 39028,\n",
       "  'Cases in the preceding 7 days': 50297,\n",
       "  'Weekly case /%/ change': -22.405,\n",
       "  'Cases in the last 7 days/1M pop': 4462.958,\n",
       "  'Deaths in the last 7 days': 84,\n",
       "  'Deaths in the preceding 7 days': 86,\n",
       "  'Weekly Death /%/ change': -2.326,\n",
       "  'Deaths in the last 7 days/1M pop': 9.606,\n",
       "  'Population': 8744872,\n",
       "  'Continent': 'Europe'},\n",
       " {'#': '#',\n",
       "  'Date': '06:12:2021',\n",
       "  'Country, Other': 'Malysi',\n",
       "  'Cases in the last 7 days': 34956,\n",
       "  'Cases in the preceding 7 days': 37215,\n",
       "  'Weekly case /%/ change': -6.07,\n",
       "  'Cases in the last 7 days/1M pop': 1060.655,\n",
       "  'Deaths in the last 7 days': 305,\n",
       "  'Deaths in the preceding 7 days': 307,\n",
       "  'Weekly Death /%/ change': -0.651,\n",
       "  'Deaths in the last 7 days/1M pop': 9.254,\n",
       "  'Population': 32957005,\n",
       "  'Continent': 'Asia'},\n",
       " {'#': '#',\n",
       "  'Date': '06:12:2021',\n",
       "  'Country, Other': 'Thailnd',\n",
       "  'Cases in the last 7 days': 34428,\n",
       "  'Cases in the preceding 7 days': 42232,\n",
       "  'Weekly case /%/ change': -18.479,\n",
       "  'Cases in the last 7 days/1M pop': 491.479,\n",
       "  'Deaths in the last 7 days': 237,\n",
       "  'Deaths in the preceding 7 days': 320,\n",
       "  'Weekly Death /%/ change': -25.938,\n",
       "  'Deaths in the last 7 days/1M pop': 3.383,\n",
       "  'Population': 70049814,\n",
       "  'Continent': 'Asia'},\n",
       " {'#': '#',\n",
       "  'Date': '06:12:2021',\n",
       "  'Country, Other': 'Ireland',\n",
       "  'Cases in the last 7 days': 34196,\n",
       "  'Cases in the preceding 7 days': 31090,\n",
       "  'Weekly case /%/ change': 9.99,\n",
       "  'Cases in the last 7 days/1M pop': 6816.83,\n",
       "  'Deaths in the last 7 days': 55,\n",
       "  'Deaths in the preceding 7 days': 43,\n",
       "  'Weekly Death /%/ change': 27.907,\n",
       "  'Deaths in the last 7 days/1M pop': 10.964,\n",
       "  'Population': 5016408,\n",
       "  'Continent': 'Europe'},\n",
       " {'#': '#',\n",
       "  'Date': '06:12:2021',\n",
       "  'Country, Other': 'Jordan',\n",
       "  'Cases in the last 7 days': 32651,\n",
       "  'Cases in the preceding 7 days': 28456,\n",
       "  'Weekly case /%/ change': 14.742,\n",
       "  'Cases in the last 7 days/1M pop': 3155.438,\n",
       "  'Deaths in the last 7 days': 210,\n",
       "  'Deaths in the preceding 7 days': 190,\n",
       "  'Weekly Death /%/ change': 10.526,\n",
       "  'Deaths in the last 7 days/1M pop': 20.295,\n",
       "  'Population': 10347534,\n",
       "  'Continent': 'Asia'},\n",
       " {'#': '#',\n",
       "  'Date': '06:12:2021',\n",
       "  'Country, Other': 'S. Korea',\n",
       "  'Cases in the last 7 days': 32138,\n",
       "  'Cases in the preceding 7 days': 25471,\n",
       "  'Weekly case /%/ change': 26.175,\n",
       "  'Cases in the last 7 days/1M pop': 626.08,\n",
       "  'Deaths in the last 7 days': 304,\n",
       "  'Deaths in the preceding 7 days': 274,\n",
       "  'Weekly Death /%/ change': 10.949,\n",
       "  'Deaths in the last 7 days/1M pop': 5.922,\n",
       "  'Population': 51332130,\n",
       "  'Continent': 'Asia'},\n",
       " {'#': '#',\n",
       "  'Date': '06:12:2021',\n",
       "  'Country, Other': 'Denmark',\n",
       "  'Cases in the last 7 days': 30184,\n",
       "  'Cases in the preceding 7 days': 28836,\n",
       "  'Weekly case /%/ change': 4.675,\n",
       "  'Cases in the last 7 days/1M pop': 5185.1,\n",
       "  'Deaths in the last 7 days': 74,\n",
       "  'Deaths in the preceding 7 days': 62,\n",
       "  'Weekly Death /%/ change': 19.355,\n",
       "  'Deaths in the last 7 days/1M pop': 12.712,\n",
       "  'Population': 5821296,\n",
       "  'Continent': 'Europe'},\n",
       " {'#': '#',\n",
       "  'Date': '06:12:2021',\n",
       "  'Country, Other': 'Croati',\n",
       "  'Cases in the last 7 days': 27721,\n",
       "  'Cases in the preceding 7 days': 32936,\n",
       "  'Weekly case /%/ change': -15.834,\n",
       "  'Cases in the last 7 days/1M pop': 6812.499,\n",
       "  'Deaths in the last 7 days': 459,\n",
       "  'Deaths in the preceding 7 days': 456,\n",
       "  'Weekly Death /%/ change': 0.658,\n",
       "  'Deaths in the last 7 days/1M pop': 112.8,\n",
       "  'Population': 4069138,\n",
       "  'Continent': 'Europe'},\n",
       " {'#': '#',\n",
       "  'Date': '06:12:2021',\n",
       "  'Country, Other': 'Georgia',\n",
       "  'Cases in the last 7 days': 26654,\n",
       "  'Cases in the preceding 7 days': 26393,\n",
       "  'Weekly case /%/ change': 0.989,\n",
       "  'Cases in the last 7 days/1M pop': 6699.944,\n",
       "  'Deaths in the last 7 days': 417,\n",
       "  'Deaths in the preceding 7 days': 429,\n",
       "  'Weekly Death /%/ change': -2.797,\n",
       "  'Deaths in the last 7 days/1M pop': 104.82,\n",
       "  'Population': 3978242,\n",
       "  'Continent': 'Asia'},\n",
       " {'#': '#',\n",
       "  'Date': '06:12:2021',\n",
       "  'Country, Other': 'Iran',\n",
       "  'Cases in the last 7 days': 25583,\n",
       "  'Cases in the preceding 7 days': 31444,\n",
       "  'Weekly case /%/ change': -18.639,\n",
       "  'Cases in the last 7 days/1M pop': 299.128,\n",
       "  'Deaths in the last 7 days': 571,\n",
       "  'Deaths in the preceding 7 days': 673,\n",
       "  'Weekly Death /%/ change': -15.156,\n",
       "  'Deaths in the last 7 days/1M pop': 6.676,\n",
       "  'Population': 85525133,\n",
       "  'Continent': 'Asia'},\n",
       " {'#': '#',\n",
       "  'Date': '06:12:2021',\n",
       "  'Country, Other': 'Portugal',\n",
       "  'Cases in the last 7 days': 24080,\n",
       "  'Cases in the preceding 7 days': 20424,\n",
       "  'Weekly case /%/ change': 17.901,\n",
       "  'Cases in the last 7 days/1M pop': 2371.412,\n",
       "  'Deaths in the last 7 days': 120,\n",
       "  'Deaths in the preceding 7 days': 96,\n",
       "  'Weekly Death /%/ change': 25.0,\n",
       "  'Deaths in the last 7 days/1M pop': 11.818,\n",
       "  'Population': 10154287,\n",
       "  'Continent': 'Europe'},\n",
       " {'#': '#',\n",
       "  'Date': '06:12:2021',\n",
       "  'Country, Other': 'Norway',\n",
       "  'Cases in the last 7 days': 23527,\n",
       "  'Cases in the preceding 7 days': 18010,\n",
       "  'Weekly case /%/ change': 30.633,\n",
       "  'Cases in the last 7 days/1M pop': 4291.928,\n",
       "  'Deaths in the last 7 days': 19,\n",
       "  'Deaths in the preceding 7 days': 49,\n",
       "  'Weekly Death /%/ change': -61.224,\n",
       "  'Deaths in the last 7 days/1M pop': 3.466,\n",
       "  'Population': 5481685,\n",
       "  'Continent': 'Europe'},\n",
       " {'#': '#',\n",
       "  'Date': '06:12:2021',\n",
       "  'Country, Other': 'Cand',\n",
       "  'Cases in the last 7 days': 19893,\n",
       "  'Cases in the preceding 7 days': 20019,\n",
       "  'Weekly case /%/ change': -0.629,\n",
       "  'Cases in the last 7 days/1M pop': 520.569,\n",
       "  'Deaths in the last 7 days': 125,\n",
       "  'Deaths in the preceding 7 days': 140,\n",
       "  'Weekly Death /%/ change': -10.714,\n",
       "  'Deaths in the last 7 days/1M pop': 3.271,\n",
       "  'Population': 38213959,\n",
       "  'Continent': 'North Ameica'},\n",
       " {'#': '#',\n",
       "  'Date': '06:12:2021',\n",
       "  'Country, Other': 'Mexico',\n",
       "  'Cases in the last 7 days': 17501,\n",
       "  'Cases in the preceding 7 days': 20655,\n",
       "  'Weekly case /%/ change': -15.27,\n",
       "  'Cases in the last 7 days/1M pop': 133.734,\n",
       "  'Deaths in the last 7 days': 1295,\n",
       "  'Deaths in the preceding 7 days': 1487,\n",
       "  'Weekly Death /%/ change': -12.912,\n",
       "  'Deaths in the last 7 days/1M pop': 9.896,\n",
       "  'Population': 130863794,\n",
       "  'Continent': 'North Ameica'},\n",
       " {'#': '#',\n",
       "  'Date': '06:12:2021',\n",
       "  'Country, Other': 'Colmbia',\n",
       "  'Cases in the last 7 days': 15691,\n",
       "  'Cases in the preceding 7 days': 17312,\n",
       "  'Weekly case /%/ change': -9.363,\n",
       "  'Cases in the last 7 days/1M pop': 303.759,\n",
       "  'Deaths in the last 7 days': 343,\n",
       "  'Deaths in the preceding 7 days': 344,\n",
       "  'Weekly Death /%/ change': -0.291,\n",
       "  'Deaths in the last 7 days/1M pop': 6.64,\n",
       "  'Population': 51656000,\n",
       "  'Continent': 'South America'},\n",
       " {'#': '#',\n",
       "  'Date': '06:12:2021',\n",
       "  'Country, Other': 'Argentia',\n",
       "  'Cases in the last 7 days': 14228,\n",
       "  'Cases in the preceding 7 days': 11100,\n",
       "  'Weekly case /%/ change': 28.18,\n",
       "  'Cases in the last 7 days/1M pop': 310.743,\n",
       "  'Deaths in the last 7 days': 117,\n",
       "  'Deaths in the preceding 7 days': 152,\n",
       "  'Weekly Death /%/ change': -23.026,\n",
       "  'Deaths in the last 7 days/1M pop': 2.555,\n",
       "  'Population': 45787050,\n",
       "  'Continent': 'South America'},\n",
       " {'#': '#',\n",
       "  'Date': '06:12:2021',\n",
       "  'Country, Other': 'Bulgari',\n",
       "  'Cases in the last 7 days': 13804,\n",
       "  'Cases in the preceding 7 days': 16068,\n",
       "  'Weekly case /%/ change': -14.09,\n",
       "  'Cases in the last 7 days/1M pop': 2008.207,\n",
       "  'Deaths in the last 7 days': 751,\n",
       "  'Deaths in the preceding 7 days': 848,\n",
       "  'Weekly Death /%/ change': -11.439,\n",
       "  'Deaths in the last 7 days/1M pop': 109.256,\n",
       "  'Population': 6873795,\n",
       "  'Continent': 'Europe'},\n",
       " {'#': '#',\n",
       "  'Date': '06:12:2021',\n",
       "  'Country, Other': 'Serbia',\n",
       "  'Cases in the last 7 days': 13270,\n",
       "  'Cases in the preceding 7 days': 17336,\n",
       "  'Weekly case /%/ change': -23.454,\n",
       "  'Cases in the last 7 days/1M pop': 1527.543,\n",
       "  'Deaths in the last 7 days': 329,\n",
       "  'Deaths in the preceding 7 days': 363,\n",
       "  'Weekly Death /%/ change': -9.366,\n",
       "  'Deaths in the last 7 days/1M pop': 37.872,\n",
       "  'Population': 8687151,\n",
       "  'Continent': 'Europe'},\n",
       " {'#': '#',\n",
       "  'Date': '06:12:2021',\n",
       "  'Country, Other': 'Chile',\n",
       "  'Cases in the last 7 days': 13142,\n",
       "  'Cases in the preceding 7 days': 16268,\n",
       "  'Weekly case /%/ change': -19.216,\n",
       "  'Cases in the last 7 days/1M pop': 679.168,\n",
       "  'Deaths in the last 7 days': 188,\n",
       "  'Deaths in the preceding 7 days': 196,\n",
       "  'Weekly Death /%/ change': -4.082,\n",
       "  'Deaths in the last 7 days/1M pop': 9.716,\n",
       "  'Population': 19350159,\n",
       "  'Continent': 'South America'},\n",
       " {'#': '#',\n",
       "  'Date': '06:12:2021',\n",
       "  'Country, Other': 'Slovenia',\n",
       "  'Cases in the last 7 days': 12688,\n",
       "  'Cases in the preceding 7 days': 16682,\n",
       "  'Weekly case /%/ change': -23.942,\n",
       "  'Cases in the last 7 days/1M pop': 6101.919,\n",
       "  'Deaths in the last 7 days': 115,\n",
       "  'Deaths in the preceding 7 days': 125,\n",
       "  'Weekly Death /%/ change': -8.0,\n",
       "  'Deaths in the last 7 days/1M pop': 55.306,\n",
       "  'Population': 2079346,\n",
       "  'Continent': 'Europe'},\n",
       " {'#': '#',\n",
       "  'Date': '06:12:2021',\n",
       "  'Country, Other': 'Belarus',\n",
       "  'Cases in the last 7 days': 11974,\n",
       "  'Cases in the preceding 7 days': 11633,\n",
       "  'Weekly case /%/ change': 2.931,\n",
       "  'Cases in the last 7 days/1M pop': 1267.776,\n",
       "  'Deaths in the last 7 days': 108,\n",
       "  'Deaths in the preceding 7 days': 106,\n",
       "  'Weekly Death /%/ change': 1.887,\n",
       "  'Deaths in the last 7 days/1M pop': 11.435,\n",
       "  'Population': 9444889,\n",
       "  'Continent': 'Europe'},\n",
       " {'#': '#',\n",
       "  'Date': '06:12:2021',\n",
       "  'Country, Other': 'Lithuan',\n",
       "  'Cases in the last 7 days': 11929,\n",
       "  'Cases in the preceding 7 days': 12336,\n",
       "  'Weekly case /%/ change': -3.299,\n",
       "  'Cases in the last 7 days/1M pop': 4471.027,\n",
       "  'Deaths in the last 7 days': 151,\n",
       "  'Deaths in the preceding 7 days': 172,\n",
       "  'Weekly Death /%/ change': -12.209,\n",
       "  'Deaths in the last 7 days/1M pop': 56.595,\n",
       "  'Population': 2668067,\n",
       "  'Continent': 'Europe'},\n",
       " {'#': '#',\n",
       "  'Date': '06:12:2021',\n",
       "  'Country, Other': 'Lebano',\n",
       "  'Cases in the last 7 days': 10714,\n",
       "  'Cases in the preceding 7 days': 8683,\n",
       "  'Weekly case /%/ change': 23.391,\n",
       "  'Cases in the last 7 days/1M pop': 1579.81,\n",
       "  'Deaths in the last 7 days': 66,\n",
       "  'Deaths in the preceding 7 days': 64,\n",
       "  'Weekly Death /%/ change': 3.125,\n",
       "  'Deaths in the last 7 days/1M pop': 9.732,\n",
       "  'Population': 6781829,\n",
       "  'Continent': 'Asia'},\n",
       " {'#': '#',\n",
       "  'Date': '06:12:2021',\n",
       "  'Country, Other': 'Azerbaijn',\n",
       "  'Cases in the last 7 days': 10605,\n",
       "  'Cases in the preceding 7 days': 11809,\n",
       "  'Weekly case /%/ change': -10.196,\n",
       "  'Cases in the last 7 days/1M pop': 1032.672,\n",
       "  'Deaths in the last 7 days': 160,\n",
       "  'Deaths in the preceding 7 days': 183,\n",
       "  'Weekly Death /%/ change': -12.568,\n",
       "  'Deaths in the last 7 days/1M pop': 15.58,\n",
       "  'Population': 10269472,\n",
       "  'Continent': 'Asia'},\n",
       " {'#': '#',\n",
       "  'Date': '06:12:2021',\n",
       "  'Country, Other': 'Australi',\n",
       "  'Cases in the last 7 days': 9860,\n",
       "  'Cases in the preceding 7 days': 9538,\n",
       "  'Weekly case /%/ change': 3.376,\n",
       "  'Cases in the last 7 days/1M pop': 380.378,\n",
       "  'Deaths in the last 7 days': 56,\n",
       "  'Deaths in the preceding 7 days': 50,\n",
       "  'Weekly Death /%/ change': 12.0,\n",
       "  'Deaths in the last 7 days/1M pop': 2.16,\n",
       "  'Population': 25921603,\n",
       "  'Continent': 'Australi/Ocen'},\n",
       " {'#': '#',\n",
       "  'Date': '06:12:2021',\n",
       "  'Country, Other': 'Romani',\n",
       "  'Cases in the last 7 days': 9087,\n",
       "  'Cases in the preceding 7 days': 14248,\n",
       "  'Weekly case /%/ change': -36.223,\n",
       "  'Cases in the last 7 days/1M pop': 476.894,\n",
       "  'Deaths in the last 7 days': 726,\n",
       "  'Deaths in the preceding 7 days': 1110,\n",
       "  'Weekly Death /%/ change': -34.595,\n",
       "  'Deaths in the last 7 days/1M pop': 38.101,\n",
       "  'Population': 19054546,\n",
       "  'Continent': 'Europe'},\n",
       " {'#': '#',\n",
       "  'Date': '06:12:2021',\n",
       "  'Country, Other': 'Finlad',\n",
       "  'Cases in the last 7 days': 8942,\n",
       "  'Cases in the preceding 7 days': 7461,\n",
       "  'Weekly case /%/ change': 19.85,\n",
       "  'Cases in the last 7 days/1M pop': 1610.301,\n",
       "  'Deaths in the last 7 days': 51,\n",
       "  'Deaths in the preceding 7 days': 60,\n",
       "  'Weekly Death /%/ change': -15.0,\n",
       "  'Deaths in the last 7 days/1M pop': 9.184,\n",
       "  'Population': 5552999,\n",
       "  'Continent': 'Europe'},\n",
       " {'#': '#',\n",
       "  'Date': '06:12:2021',\n",
       "  'Country, Other': 'Swedn',\n",
       "  'Cases in the last 7 days': 8639,\n",
       "  'Cases in the preceding 7 days': 11920,\n",
       "  'Weekly case /%/ change': -27.525,\n",
       "  'Cases in the last 7 days/1M pop': 847.869,\n",
       "  'Deaths in the last 7 days': 8,\n",
       "  'Deaths in the preceding 7 days': 11,\n",
       "  'Weekly Death /%/ change': -27.273,\n",
       "  'Deaths in the last 7 days/1M pop': 0.785,\n",
       "  'Population': 10189069,\n",
       "  'Continent': 'Europe'},\n",
       " {'#': '#',\n",
       "  'Date': '06:12:2021',\n",
       "  'Country, Other': 'Peru',\n",
       "  'Cases in the last 7 days': 8571,\n",
       "  'Cases in the preceding 7 days': 9731,\n",
       "  'Weekly case /%/ change': -11.921,\n",
       "  'Cases in the last 7 days/1M pop': 254.889,\n",
       "  'Deaths in the last 7 days': 252,\n",
       "  'Deaths in the preceding 7 days': 242,\n",
       "  'Weekly Death /%/ change': 4.132,\n",
       "  'Deaths in the last 7 days/1M pop': 7.494,\n",
       "  'Population': 33626370,\n",
       "  'Continent': 'South America'},\n",
       " {'#': '#',\n",
       "  'Date': '06:12:2021',\n",
       "  'Country, Other': 'Laos',\n",
       "  'Cases in the last 7 days': 8315,\n",
       "  'Cases in the preceding 7 days': 9358,\n",
       "  'Weekly case /%/ change': -11.146,\n",
       "  'Cases in the last 7 days/1M pop': 1119.715,\n",
       "  'Deaths in the last 7 days': 48,\n",
       "  'Deaths in the preceding 7 days': 27,\n",
       "  'Weekly Death /%/ change': 77.778,\n",
       "  'Deaths in the last 7 days/1M pop': 6.464,\n",
       "  'Population': 7425998,\n",
       "  'Continent': 'Asia'},\n",
       " {'#': '#',\n",
       "  'Date': '06:12:2021',\n",
       "  'Country, Other': 'Boliva',\n",
       "  'Cases in the last 7 days': 7102,\n",
       "  'Cases in the preceding 7 days': 6682,\n",
       "  'Weekly case /%/ change': 6.286,\n",
       "  'Cases in the last 7 days/1M pop': 596.81,\n",
       "  'Deaths in the last 7 days': 61,\n",
       "  'Deaths in the preceding 7 days': 92,\n",
       "  'Weekly Death /%/ change': -33.696,\n",
       "  'Deaths in the last 7 days/1M pop': 5.126,\n",
       "  'Population': 11899933,\n",
       "  'Continent': 'South America'},\n",
       " {'#': '#',\n",
       "  'Date': '06:12:2021',\n",
       "  'Country, Other': 'Singapore',\n",
       "  'Cases in the last 7 days': 6828,\n",
       "  'Cases in the preceding 7 days': 10195,\n",
       "  'Weekly case /%/ change': -33.026,\n",
       "  'Cases in the last 7 days/1M pop': 1154.169,\n",
       "  'Deaths in the last 7 days': 58,\n",
       "  'Deaths in the preceding 7 days': 39,\n",
       "  'Weekly Death /%/ change': 48.718,\n",
       "  'Deaths in the last 7 days/1M pop': 9.804,\n",
       "  'Population': 5915947,\n",
       "  'Continent': 'Asia'},\n",
       " {'#': '#',\n",
       "  'Date': '06:12:2021',\n",
       "  'Country, Other': 'Egypt',\n",
       "  'Cases in the last 7 days': 6444,\n",
       "  'Cases in the preceding 7 days': 6321,\n",
       "  'Weekly case /%/ change': 1.946,\n",
       "  'Cases in the last 7 days/1M pop': 61.323,\n",
       "  'Deaths in the last 7 days': 380,\n",
       "  'Deaths in the preceding 7 days': 414,\n",
       "  'Weekly Death /%/ change': -8.213,\n",
       "  'Deaths in the last 7 days/1M pop': 3.616,\n",
       "  'Population': 105083343,\n",
       "  'Continent': 'Africa'},\n",
       " {'#': '#',\n",
       "  'Date': '06:12:2021',\n",
       "  'Country, Other': 'Sri Lank',\n",
       "  'Cases in the last 7 days': 5162,\n",
       "  'Cases in the preceding 7 days': 5894,\n",
       "  'Weekly case /%/ change': -12.419,\n",
       "  'Cases in the last 7 days/1M pop': 239.633,\n",
       "  'Deaths in the last 7 days': 156,\n",
       "  'Deaths in the preceding 7 days': 178,\n",
       "  'Weekly Death /%/ change': -12.36,\n",
       "  'Deaths in the last 7 days/1M pop': 7.242,\n",
       "  'Population': 21541305,\n",
       "  'Continent': 'Asia'},\n",
       " {'#': '#',\n",
       "  'Date': '06:12:2021',\n",
       "  'Country, Other': 'Kazkhstn',\n",
       "  'Cases in the last 7 days': 5058,\n",
       "  'Cases in the preceding 7 days': 6264,\n",
       "  'Weekly case /%/ change': -19.253,\n",
       "  'Cases in the last 7 days/1M pop': 264.861,\n",
       "  'Deaths in the last 7 days': 102,\n",
       "  'Deaths in the preceding 7 days': 116,\n",
       "  'Weekly Death /%/ change': -12.069,\n",
       "  'Deaths in the last 7 days/1M pop': 5.341,\n",
       "  'Population': 19096827,\n",
       "  'Continent': 'Asia'},\n",
       " {'#': '#',\n",
       "  'Date': '06:12:2021',\n",
       "  'Country, Other': 'Zimbawe',\n",
       "  'Cases in the last 7 days': 5055,\n",
       "  'Cases in the preceding 7 days': 344,\n",
       "  'Weekly case /%/ change': 1369.477,\n",
       "  'Cases in the last 7 days/1M pop': 333.197,\n",
       "  'Deaths in the last 7 days': 5,\n",
       "  'Deaths in the preceding 7 days': 6,\n",
       "  'Weekly Death /%/ change': -16.667,\n",
       "  'Deaths in the last 7 days/1M pop': 0.33,\n",
       "  'Population': 15171224,\n",
       "  'Continent': 'Africa'},\n",
       " {'#': '#',\n",
       "  'Date': '06:12:2021',\n",
       "  'Country, Other': 'Trinda obg',\n",
       "  'Cases in the last 7 days': 4998,\n",
       "  'Cases in the preceding 7 days': 4247,\n",
       "  'Weekly case /%/ change': 17.683,\n",
       "  'Cases in the last 7 days/1M pop': 3554.887,\n",
       "  'Deaths in the last 7 days': 147,\n",
       "  'Deaths in the preceding 7 days': 148,\n",
       "  'Weekly Death /%/ change': -0.676,\n",
       "  'Deaths in the last 7 days/1M pop': 104.555,\n",
       "  'Population': 1405952,\n",
       "  'Continent': 'North Ameica'},\n",
       " {'#': '#',\n",
       "  'Date': '06:12:2021',\n",
       "  'Country, Other': 'Latvi',\n",
       "  'Cases in the last 7 days': 4916,\n",
       "  'Cases in the preceding 7 days': 6297,\n",
       "  'Weekly case /%/ change': -21.931,\n",
       "  'Cases in the last 7 days/1M pop': 2648.091,\n",
       "  'Deaths in the last 7 days': 121,\n",
       "  'Deaths in the preceding 7 days': 196,\n",
       "  'Weekly Death /%/ change': -38.265,\n",
       "  'Deaths in the last 7 days/1M pop': 65.179,\n",
       "  'Population': 1856432,\n",
       "  'Continent': 'Europe'},\n",
       " {'#': '#',\n",
       "  'Date': '06:12:2021',\n",
       "  'Country, Other': 'Iraq',\n",
       "  'Cases in the last 7 days': 4724,\n",
       "  'Cases in the preceding 7 days': 5203,\n",
       "  'Weekly case /%/ change': -9.206,\n",
       "  'Cases in the last 7 days/1M pop': 113.811,\n",
       "  'Deaths in the last 7 days': 92,\n",
       "  'Deaths in the preceding 7 days': 128,\n",
       "  'Weekly Death /%/ change': -28.125,\n",
       "  'Deaths in the last 7 days/1M pop': 2.216,\n",
       "  'Population': 41507449,\n",
       "  'Continent': 'Asia'},\n",
       " {'#': '#',\n",
       "  'Date': '06:12:2021',\n",
       "  'Country, Other': 'Bosnia dHerzgv',\n",
       "  'Cases in the last 7 days': 4430,\n",
       "  'Cases in the preceding 7 days': 3284,\n",
       "  'Weekly case /%/ change': 34.896,\n",
       "  'Cases in the last 7 days/1M pop': 1362.366,\n",
       "  'Deaths in the last 7 days': 231,\n",
       "  'Deaths in the preceding 7 days': 177,\n",
       "  'Weekly Death /%/ change': 30.508,\n",
       "  'Deaths in the last 7 days/1M pop': 71.04,\n",
       "  'Population': 3251696,\n",
       "  'Continent': 'Europe'},\n",
       " {'#': '#',\n",
       "  'Date': '06:12:2021',\n",
       "  'Country, Other': 'Venzula',\n",
       "  'Cases in the last 7 days': 4222,\n",
       "  'Cases in the preceding 7 days': 5483,\n",
       "  'Weekly case /%/ change': -22.998,\n",
       "  'Cases in the last 7 days/1M pop': 149.077,\n",
       "  'Deaths in the last 7 days': 55,\n",
       "  'Deaths in the preceding 7 days': 59,\n",
       "  'Weekly Death /%/ change': -6.78,\n",
       "  'Deaths in the last 7 days/1M pop': 1.942,\n",
       "  'Population': 28320978,\n",
       "  'Continent': 'South America'},\n",
       " {'#': '#',\n",
       "  'Date': '06:12:2021',\n",
       "  'Country, Other': 'Moldva',\n",
       "  'Cases in the last 7 days': 3823,\n",
       "  'Cases in the preceding 7 days': 4231,\n",
       "  'Weekly case /%/ change': -9.643,\n",
       "  'Cases in the last 7 days/1M pop': 950.856,\n",
       "  'Deaths in the last 7 days': 148,\n",
       "  'Deaths in the preceding 7 days': 235,\n",
       "  'Weekly Death /%/ change': -37.021,\n",
       "  'Deaths in the last 7 days/1M pop': 36.811,\n",
       "  'Population': 4020586,\n",
       "  'Continent': 'Europe'},\n",
       " {'#': '#',\n",
       "  'Date': '06:12:2021',\n",
       "  'Country, Other': 'Israel',\n",
       "  'Cases in the last 7 days': 3705,\n",
       "  'Cases in the preceding 7 days': 1595,\n",
       "  'Weekly case /%/ change': 132.288,\n",
       "  'Cases in the last 7 days/1M pop': 397.276,\n",
       "  'Deaths in the last 7 days': 15,\n",
       "  'Deaths in the preceding 7 days': 13,\n",
       "  'Weekly Death /%/ change': 15.385,\n",
       "  'Deaths in the last 7 days/1M pop': 1.608,\n",
       "  'Population': 9326000,\n",
       "  'Continent': 'Asia'},\n",
       " {'#': '#',\n",
       "  'Date': '06:12:2021',\n",
       "  'Country, Other': 'Cyprus',\n",
       "  'Cases in the last 7 days': 3558,\n",
       "  'Cases in the preceding 7 days': 3174,\n",
       "  'Weekly case /%/ change': 12.098,\n",
       "  'Cases in the last 7 days/1M pop': 2916.652,\n",
       "  'Deaths in the last 7 days': 7,\n",
       "  'Deaths in the preceding 7 days': 4,\n",
       "  'Weekly Death /%/ change': 75.0,\n",
       "  'Deaths in the last 7 days/1M pop': 5.738,\n",
       "  'Population': 1219892,\n",
       "  'Continent': 'Asia'},\n",
       " {'#': '#',\n",
       "  'Date': '06:12:2021',\n",
       "  'Country, Other': 'Estonia',\n",
       "  'Cases in the last 7 days': 3444,\n",
       "  'Cases in the preceding 7 days': 4168,\n",
       "  'Weekly case /%/ change': -17.37,\n",
       "  'Cases in the last 7 days/1M pop': 2593.748,\n",
       "  'Deaths in the last 7 days': 32,\n",
       "  'Deaths in the preceding 7 days': 56,\n",
       "  'Weekly Death /%/ change': -42.857,\n",
       "  'Deaths in the last 7 days/1M pop': 24.1,\n",
       "  'Population': 1327808,\n",
       "  'Continent': 'Europe'},\n",
       " {'#': '#',\n",
       "  'Date': '06:12:2021',\n",
       "  'Country, Other': 'Libya',\n",
       "  'Cases in the last 7 days': 3418,\n",
       "  'Cases in the preceding 7 days': 3760,\n",
       "  'Weekly case /%/ change': -9.096,\n",
       "  'Cases in the last 7 days/1M pop': 487.976,\n",
       "  'Deaths in the last 7 days': 55,\n",
       "  'Deaths in the preceding 7 days': 58,\n",
       "  'Weekly Death /%/ change': -5.172,\n",
       "  'Deaths in the last 7 days/1M pop': 7.852,\n",
       "  'Population': 7004447,\n",
       "  'Continent': 'Africa'},\n",
       " {'#': '#',\n",
       "  'Date': '06:12:2021',\n",
       "  'Country, Other': 'Philpnes',\n",
       "  'Cases in the last 7 days': 3065,\n",
       "  'Cases in the preceding 7 days': 5841,\n",
       "  'Weekly case /%/ change': -47.526,\n",
       "  'Cases in the last 7 days/1M pop': 27.449,\n",
       "  'Deaths in the last 7 days': 1026,\n",
       "  'Deaths in the preceding 7 days': 1290,\n",
       "  'Weekly Death /%/ change': -20.465,\n",
       "  'Deaths in the last 7 days/1M pop': 9.189,\n",
       "  'Population': 111659609,\n",
       "  'Continent': 'Asia'},\n",
       " {'#': '#',\n",
       "  'Date': '06:12:2021',\n",
       "  'Country, Other': 'Myanmr',\n",
       "  'Cases in the last 7 days': 2846,\n",
       "  'Cases in the preceding 7 days': 3639,\n",
       "  'Weekly case /%/ change': -21.792,\n",
       "  'Cases in the last 7 days/1M pop': 51.811,\n",
       "  'Deaths in the last 7 days': 53,\n",
       "  'Deaths in the preceding 7 days': 63,\n",
       "  'Weekly Death /%/ change': -15.873,\n",
       "  'Deaths in the last 7 days/1M pop': 0.965,\n",
       "  'Population': 54929940,\n",
       "  'Continent': 'Asia'},\n",
       " {'#': '#',\n",
       "  'Date': '06:12:2021',\n",
       "  'Country, Other': 'Armenia',\n",
       "  'Cases in the last 7 days': 2792,\n",
       "  'Cases in the preceding 7 days': 3856,\n",
       "  'Weekly case /%/ change': -27.593,\n",
       "  'Cases in the last 7 days/1M pop': 939.705,\n",
       "  'Deaths in the last 7 days': 169,\n",
       "  'Deaths in the preceding 7 days': 236,\n",
       "  'Weekly Death /%/ change': -28.39,\n",
       "  'Deaths in the last 7 days/1M pop': 56.88,\n",
       "  'Population': 2971144,\n",
       "  'Continent': 'Asia'},\n",
       " {'#': '#',\n",
       "  'Date': '06:12:2021',\n",
       "  'Country, Other': 'Luxemborg',\n",
       "  'Cases in the last 7 days': 2666,\n",
       "  'Cases in the preceding 7 days': 2148,\n",
       "  'Weekly case /%/ change': 24.115,\n",
       "  'Cases in the last 7 days/1M pop': 4162.458,\n",
       "  'Deaths in the last 7 days': 14,\n",
       "  'Deaths in the preceding 7 days': 4,\n",
       "  'Weekly Death /%/ change': 250.0,\n",
       "  'Deaths in the last 7 days/1M pop': 21.858,\n",
       "  'Population': 640487,\n",
       "  'Continent': 'Europe'},\n",
       " {'#': '#',\n",
       "  'Date': '06:12:2021',\n",
       "  'Country, Other': 'Pakistn',\n",
       "  'Cases in the last 7 days': 2636,\n",
       "  'Cases in the preceding 7 days': 2317,\n",
       "  'Weekly case /%/ change': 13.768,\n",
       "  'Cases in the last 7 days/1M pop': 11.612,\n",
       "  'Deaths in the last 7 days': 58,\n",
       "  'Deaths in the preceding 7 days': 50,\n",
       "  'Weekly Death /%/ change': 16.0,\n",
       "  'Deaths in the last 7 days/1M pop': 0.256,\n",
       "  'Population': 227000663,\n",
       "  'Continent': 'Asia'},\n",
       " {'#': '#',\n",
       "  'Date': '06:12:2021',\n",
       "  'Country, Other': 'Monglia',\n",
       "  'Cases in the last 7 days': 2598,\n",
       "  'Cases in the preceding 7 days': 3558,\n",
       "  'Weekly case /%/ change': -26.981,\n",
       "  'Cases in the last 7 days/1M pop': 774.712,\n",
       "  'Deaths in the last 7 days': 26,\n",
       "  'Deaths in the preceding 7 days': 50,\n",
       "  'Weekly Death /%/ change': -48.0,\n",
       "  'Deaths in the last 7 days/1M pop': 7.753,\n",
       "  'Population': 3353503,\n",
       "  'Continent': 'Asia'},\n",
       " {'#': '#',\n",
       "  'Date': '06:12:2021',\n",
       "  'Country, Other': 'North Macedni',\n",
       "  'Cases in the last 7 days': 2292,\n",
       "  'Cases in the preceding 7 days': 2789,\n",
       "  'Weekly case /%/ change': -17.82,\n",
       "  'Cases in the last 7 days/1M pop': 1100.203,\n",
       "  'Deaths in the last 7 days': 94,\n",
       "  'Deaths in the preceding 7 days': 111,\n",
       "  'Weekly Death /%/ change': -15.315,\n",
       "  'Deaths in the last 7 days/1M pop': 45.122,\n",
       "  'Population': 2083252,\n",
       "  'Continent': 'Europe'},\n",
       " {'#': '#',\n",
       "  'Date': '06:12:2021',\n",
       "  'Country, Other': 'Guateml',\n",
       "  'Cases in the last 7 days': 2242,\n",
       "  'Cases in the preceding 7 days': 3718,\n",
       "  'Weekly case /%/ change': -39.699,\n",
       "  'Cases in the last 7 days/1M pop': 121.93,\n",
       "  'Deaths in the last 7 days': 58,\n",
       "  'Deaths in the preceding 7 days': 88,\n",
       "  'Weekly Death /%/ change': -34.091,\n",
       "  'Deaths in the last 7 days/1M pop': 3.154,\n",
       "  'Population': 18387588,\n",
       "  'Continent': 'North Ameica'},\n",
       " {'#': '#',\n",
       "  'Date': '06:12:2021',\n",
       "  'Country, Other': 'Albani',\n",
       "  'Cases in the last 7 days': 2175,\n",
       "  'Cases in the preceding 7 days': 3162,\n",
       "  'Weekly case /%/ change': -31.214,\n",
       "  'Cases in the last 7 days/1M pop': 756.966,\n",
       "  'Deaths in the last 7 days': 21,\n",
       "  'Deaths in the preceding 7 days': 49,\n",
       "  'Weekly Death /%/ change': -57.143,\n",
       "  'Deaths in the last 7 days/1M pop': 7.309,\n",
       "  'Population': 2873314,\n",
       "  'Continent': 'Europe'},\n",
       " {'#': '#',\n",
       "  'Date': '06:12:2021',\n",
       "  'Country, Other': 'Palestin',\n",
       "  'Cases in the last 7 days': 2166,\n",
       "  'Cases in the preceding 7 days': 1605,\n",
       "  'Weekly case /%/ change': 34.953,\n",
       "  'Cases in the last 7 days/1M pop': 410.988,\n",
       "  'Deaths in the last 7 days': 21,\n",
       "  'Deaths in the preceding 7 days': 17,\n",
       "  'Weekly Death /%/ change': 23.529,\n",
       "  'Deaths in the last 7 days/1M pop': 3.985,\n",
       "  'Population': 5270224,\n",
       "  'Continent': 'Asia'},\n",
       " {'#': '#',\n",
       "  'Date': '06:12:2021',\n",
       "  'Country, Other': 'Réunio',\n",
       "  'Cases in the last 7 days': 2140,\n",
       "  'Cases in the preceding 7 days': 1875,\n",
       "  'Weekly case /%/ change': 14.133,\n",
       "  'Cases in the last 7 days/1M pop': 2366.149,\n",
       "  'Deaths in the last 7 days': 3,\n",
       "  'Deaths in the preceding 7 days': 2,\n",
       "  'Weekly Death /%/ change': 50.0,\n",
       "  'Deaths in the last 7 days/1M pop': 3.317,\n",
       "  'Population': 904423,\n",
       "  'Continent': 'Africa'},\n",
       " {'#': '#',\n",
       "  'Date': '06:12:2021',\n",
       "  'Country, Other': 'Indoesia',\n",
       "  'Cases in the last 7 days': 1749,\n",
       "  'Cases in the preceding 7 days': 2524,\n",
       "  'Weekly case /%/ change': -30.705,\n",
       "  'Cases in the last 7 days/1M pop': 6.299,\n",
       "  'Deaths in the last 7 days': 59,\n",
       "  'Deaths in the preceding 7 days': 69,\n",
       "  'Weekly Death /%/ change': -14.493,\n",
       "  'Deaths in the last 7 days/1M pop': 0.213,\n",
       "  'Population': 277646675,\n",
       "  'Continent': 'Asia'},\n",
       " {'#': '#',\n",
       "  'Date': '06:12:2021',\n",
       "  'Country, Other': 'Nepal',\n",
       "  'Cases in the last 7 days': 1714,\n",
       "  'Cases in the preceding 7 days': 1859,\n",
       "  'Weekly case /%/ change': -7.8,\n",
       "  'Cases in the last 7 days/1M pop': 57.357,\n",
       "  'Deaths in the last 7 days': 18,\n",
       "  'Deaths in the preceding 7 days': 27,\n",
       "  'Weekly Death /%/ change': -33.333,\n",
       "  'Deaths in the last 7 days/1M pop': 0.602,\n",
       "  'Population': 29883259,\n",
       "  'Continent': 'Asia'},\n",
       " {'#': '#',\n",
       "  'Date': '06:12:2021',\n",
       "  'Country, Other': 'Dominca Republ',\n",
       "  'Cases in the last 7 days': 1713,\n",
       "  'Cases in the preceding 7 days': 4072,\n",
       "  'Weekly case /%/ change': -57.932,\n",
       "  'Cases in the last 7 days/1M pop': 155.685,\n",
       "  'Deaths in the last 7 days': 8,\n",
       "  'Deaths in the preceding 7 days': 18,\n",
       "  'Weekly Death /%/ change': -55.556,\n",
       "  'Deaths in the last 7 days/1M pop': 0.727,\n",
       "  'Population': 11002990,\n",
       "  'Continent': 'North Ameica'},\n",
       " {'#': '#',\n",
       "  'Date': '06:12:2021',\n",
       "  'Country, Other': 'Bangldesh',\n",
       "  'Cases in the last 7 days': 1659,\n",
       "  'Cases in the preceding 7 days': 1696,\n",
       "  'Weekly case /%/ change': -2.182,\n",
       "  'Cases in the last 7 days/1M pop': 9.932,\n",
       "  'Deaths in the last 7 days': 23,\n",
       "  'Deaths in the preceding 7 days': 25,\n",
       "  'Weekly Death /%/ change': -8.0,\n",
       "  'Deaths in the last 7 days/1M pop': 0.138,\n",
       "  'Population': 167028441,\n",
       "  'Continent': 'Asia'},\n",
       " {'#': '#',\n",
       "  'Date': '06:12:2021',\n",
       "  'Country, Other': 'Montegr',\n",
       "  'Cases in the last 7 days': 1593,\n",
       "  'Cases in the preceding 7 days': 2115,\n",
       "  'Weekly case /%/ change': -24.681,\n",
       "  'Cases in the last 7 days/1M pop': 2535.901,\n",
       "  'Deaths in the last 7 days': 44,\n",
       "  'Deaths in the preceding 7 days': 40,\n",
       "  'Weekly Death /%/ change': 10.0,\n",
       "  'Deaths in the last 7 days/1M pop': 70.044,\n",
       "  'Population': 628179,\n",
       "  'Continent': 'Europe'},\n",
       " {'#': '#',\n",
       "  'Date': '06:12:2021',\n",
       "  'Country, Other': 'Urugay',\n",
       "  'Cases in the last 7 days': 1577,\n",
       "  'Cases in the preceding 7 days': 1507,\n",
       "  'Weekly case /%/ change': 4.645,\n",
       "  'Cases in the last 7 days/1M pop': 451.746,\n",
       "  'Deaths in the last 7 days': 5,\n",
       "  'Deaths in the preceding 7 days': 14,\n",
       "  'Weekly Death /%/ change': -64.286,\n",
       "  'Deaths in the last 7 days/1M pop': 1.432,\n",
       "  'Population': 3490901,\n",
       "  'Continent': 'South America'},\n",
       " {'#': '#',\n",
       "  'Date': '06:12:2021',\n",
       "  'Country, Other': 'Chanel Isd',\n",
       "  'Cases in the last 7 days': 1567,\n",
       "  'Cases in the preceding 7 days': 1634,\n",
       "  'Weekly case /%/ change': -4.1,\n",
       "  'Cases in the last 7 days/1M pop': 8895.928,\n",
       "  'Deaths in the last 7 days': 1,\n",
       "  'Deaths in the preceding 7 days': 3,\n",
       "  'Weekly Death /%/ change': -66.667,\n",
       "  'Deaths in the last 7 days/1M pop': 5.677,\n",
       "  'Population': 176148,\n",
       "  'Continent': 'Europe'},\n",
       " {'#': '#',\n",
       "  'Date': '06:12:2021',\n",
       "  'Country, Other': 'Panm',\n",
       "  'Cases in the last 7 days': 1539,\n",
       "  'Cases in the preceding 7 days': 1517,\n",
       "  'Weekly case /%/ change': 1.45,\n",
       "  'Cases in the last 7 days/1M pop': 348.858,\n",
       "  'Deaths in the last 7 days': 12,\n",
       "  'Deaths in the preceding 7 days': 9,\n",
       "  'Weekly Death /%/ change': 33.333,\n",
       "  'Deaths in the last 7 days/1M pop': 2.72,\n",
       "  'Population': 4411539,\n",
       "  'Continent': 'North Ameica'},\n",
       " {'#': '#',\n",
       "  'Date': '06:12:2021',\n",
       "  'Country, Other': 'Uzbekistan',\n",
       "  'Cases in the last 7 days': 1502,\n",
       "  'Cases in the preceding 7 days': 1497,\n",
       "  'Weekly case /%/ change': 0.334,\n",
       "  'Cases in the last 7 days/1M pop': 43.969,\n",
       "  'Deaths in the last 7 days': 21,\n",
       "  'Deaths in the preceding 7 days': 22,\n",
       "  'Weekly Death /%/ change': -4.545,\n",
       "  'Deaths in the last 7 days/1M pop': 0.615,\n",
       "  'Population': 34160382,\n",
       "  'Continent': 'Asia'},\n",
       " {'#': '#',\n",
       "  'Date': '06:12:2021',\n",
       "  'Country, Other': 'Sudan',\n",
       "  'Cases in the last 7 days': 1433,\n",
       "  'Cases in the preceding 7 days': 498,\n",
       "  'Weekly case /%/ change': 187.751,\n",
       "  'Cases in the last 7 days/1M pop': 31.629,\n",
       "  'Deaths in the last 7 days': 50,\n",
       "  'Deaths in the preceding 7 days': 15,\n",
       "  'Weekly Death /%/ change': 233.333,\n",
       "  'Deaths in the last 7 days/1M pop': 1.104,\n",
       "  'Population': 45306625,\n",
       "  'Continent': 'Africa'},\n",
       " {'#': '#',\n",
       "  'Date': '06:12:2021',\n",
       "  'Country, Other': 'Algeria',\n",
       "  'Cases in the last 7 days': 1317,\n",
       "  'Cases in the preceding 7 days': 1200,\n",
       "  'Weekly case /%/ change': 9.75,\n",
       "  'Cases in the last 7 days/1M pop': 29.28,\n",
       "  'Deaths in the last 7 days': 45,\n",
       "  'Deaths in the preceding 7 days': 37,\n",
       "  'Weekly Death /%/ change': 21.622,\n",
       "  'Deaths in the last 7 days/1M pop': 1.0,\n",
       "  'Population': 44978907,\n",
       "  'Continent': 'Africa'},\n",
       " {'#': '#',\n",
       "  'Date': '06:12:2021',\n",
       "  'Country, Other': 'Andora',\n",
       "  'Cases in the last 7 days': 1298,\n",
       "  'Cases in the preceding 7 days': 626,\n",
       "  'Weekly case /%/ change': 107.348,\n",
       "  'Cases in the last 7 days/1M pop': 16761.147,\n",
       "  'Deaths in the last 7 days': 1,\n",
       "  'Deaths in the preceding 7 days': 1,\n",
       "  'Weekly Death /%/ change': 0.0,\n",
       "  'Deaths in the last 7 days/1M pop': 12.913,\n",
       "  'Population': 77441,\n",
       "  'Continent': 'Europe'},\n",
       " {'#': '#',\n",
       "  'Date': '06:12:2021',\n",
       "  'Country, Other': 'Tunisa',\n",
       "  'Cases in the last 7 days': 1185,\n",
       "  'Cases in the preceding 7 days': 996,\n",
       "  'Weekly case /%/ change': 18.976,\n",
       "  'Cases in the last 7 days/1M pop': 98.792,\n",
       "  'Deaths in the last 7 days': 38,\n",
       "  'Deaths in the preceding 7 days': 19,\n",
       "  'Weekly Death /%/ change': 100.0,\n",
       "  'Deaths in the last 7 days/1M pop': 3.168,\n",
       "  'Population': 11994909,\n",
       "  'Continent': 'Africa'},\n",
       " {'#': '#',\n",
       "  'Date': '06:12:2021',\n",
       "  'Country, Other': 'Qatr',\n",
       "  'Cases in the last 7 days': 1091,\n",
       "  'Cases in the preceding 7 days': 1045,\n",
       "  'Weekly case /%/ change': 4.402,\n",
       "  'Cases in the last 7 days/1M pop': 388.56,\n",
       "  'Deaths in the last 7 days': 0,\n",
       "  'Deaths in the preceding 7 days': 0,\n",
       "  'Weekly Death /%/ change': nan,\n",
       "  'Deaths in the last 7 days/1M pop': 0.0,\n",
       "  'Population': 2807805,\n",
       "  'Continent': 'Asia'},\n",
       " {'#': '#',\n",
       "  'Date': '06:12:2021',\n",
       "  'Country, Other': 'Barbdos',\n",
       "  'Cases in the last 7 days': 1057,\n",
       "  'Cases in the preceding 7 days': 1243,\n",
       "  'Weekly case /%/ change': -14.964,\n",
       "  'Cases in the last 7 days/1M pop': 3671.707,\n",
       "  'Deaths in the last 7 days': 13,\n",
       "  'Deaths in the preceding 7 days': 15,\n",
       "  'Weekly Death /%/ change': -13.333,\n",
       "  'Deaths in the last 7 days/1M pop': 45.158,\n",
       "  'Population': 287877,\n",
       "  'Continent': 'North Ameica'},\n",
       " {'#': '#',\n",
       "  'Date': '06:12:2021',\n",
       "  'Country, Other': 'Eswatin',\n",
       "  'Cases in the last 7 days': 966,\n",
       "  'Cases in the preceding 7 days': 51,\n",
       "  'Weekly case /%/ change': 1794.118,\n",
       "  'Cases in the last 7 days/1M pop': 820.53,\n",
       "  'Deaths in the last 7 days': 0,\n",
       "  'Deaths in the preceding 7 days': 0,\n",
       "  'Weekly Death /%/ change': nan,\n",
       "  'Deaths in the last 7 days/1M pop': 0.0,\n",
       "  'Population': 1177288,\n",
       "  'Continent': 'Africa'},\n",
       " {'#': '#',\n",
       "  'Date': '06:12:2021',\n",
       "  'Country, Other': 'Ethiopa',\n",
       "  'Cases in the last 7 days': 953,\n",
       "  'Cases in the preceding 7 days': 1062,\n",
       "  'Weekly case /%/ change': -10.264,\n",
       "  'Cases in the last 7 days/1M pop': 8.007,\n",
       "  'Deaths in the last 7 days': 60,\n",
       "  'Deaths in the preceding 7 days': 58,\n",
       "  'Weekly Death /%/ change': 3.448,\n",
       "  'Deaths in the last 7 days/1M pop': 0.504,\n",
       "  'Population': 119016473,\n",
       "  'Continent': 'Africa'},\n",
       " {'#': '#',\n",
       "  'Date': '06:12:2021',\n",
       "  'Country, Other': 'New Zalnd',\n",
       "  'Cases in the last 7 days': 935,\n",
       "  'Cases in the preceding 7 days': 1288,\n",
       "  'Weekly case /%/ change': -27.407,\n",
       "  'Cases in the last 7 days/1M pop': 186.921,\n",
       "  'Deaths in the last 7 days': 1,\n",
       "  'Deaths in the preceding 7 days': 4,\n",
       "  'Weekly Death /%/ change': -75.0,\n",
       "  'Deaths in the last 7 days/1M pop': 0.2,\n",
       "  'Population': 5002100,\n",
       "  'Continent': 'Australi/Ocen'},\n",
       " {'#': '#',\n",
       "  'Date': '06:12:2021',\n",
       "  'Country, Other': 'Cuba',\n",
       "  'Cases in the last 7 days': 870,\n",
       "  'Cases in the preceding 7 days': 1418,\n",
       "  'Weekly case /%/ change': -38.646,\n",
       "  'Cases in the last 7 days/1M pop': 76.877,\n",
       "  'Deaths in the last 7 days': 9,\n",
       "  'Deaths in the preceding 7 days': 5,\n",
       "  'Weekly Death /%/ change': 80.0,\n",
       "  'Deaths in the last 7 days/1M pop': 0.795,\n",
       "  'Population': 11316753,\n",
       "  'Continent': 'North Ameica'},\n",
       " {'#': '#',\n",
       "  'Date': '06:12:2021',\n",
       "  'Country, Other': 'Morc',\n",
       "  'Cases in the last 7 days': 859,\n",
       "  'Cases in the preceding 7 days': 809,\n",
       "  'Weekly case /%/ change': 6.18,\n",
       "  'Cases in the last 7 days/1M pop': 22.886,\n",
       "  'Deaths in the last 7 days': 14,\n",
       "  'Deaths in the preceding 7 days': 13,\n",
       "  'Weekly Death /%/ change': 7.692,\n",
       "  'Deaths in the last 7 days/1M pop': 0.373,\n",
       "  'Population': 37534135,\n",
       "  'Continent': 'Africa'},\n",
       " {'#': '#',\n",
       "  'Date': '06:12:2021',\n",
       "  'Country, Other': 'Caymn Isld',\n",
       "  'Cases in the last 7 days': 791,\n",
       "  'Cases in the preceding 7 days': 1206,\n",
       "  'Weekly case /%/ change': -34.411,\n",
       "  'Cases in the last 7 days/1M pop': 11837.419,\n",
       "  'Deaths in the last 7 days': 3,\n",
       "  'Deaths in the preceding 7 days': 0,\n",
       "  'Weekly Death /%/ change': inf,\n",
       "  'Deaths in the last 7 days/1M pop': 44.895,\n",
       "  'Population': 66822,\n",
       "  'Continent': 'North Ameica'},\n",
       " {'#': '#',\n",
       "  'Date': '06:12:2021',\n",
       "  'Country, Other': 'Isle ofMan',\n",
       "  'Cases in the last 7 days': 774,\n",
       "  'Cases in the preceding 7 days': 542,\n",
       "  'Weekly case /%/ change': 42.804,\n",
       "  'Cases in the last 7 days/1M pop': 9034.141,\n",
       "  'Deaths in the last 7 days': 0,\n",
       "  'Deaths in the preceding 7 days': 0,\n",
       "  'Weekly Death /%/ change': nan,\n",
       "  'Deaths in the last 7 days/1M pop': 0.0,\n",
       "  'Population': 85675,\n",
       "  'Continent': 'Europe'},\n",
       " {'#': '#',\n",
       "  'Date': '06:12:2021',\n",
       "  'Country, Other': 'Maurits',\n",
       "  'Cases in the last 7 days': 765,\n",
       "  'Cases in the preceding 7 days': 953,\n",
       "  'Weekly case /%/ change': -19.727,\n",
       "  'Cases in the last 7 days/1M pop': 600.104,\n",
       "  'Deaths in the last 7 days': 0,\n",
       "  'Deaths in the preceding 7 days': 83,\n",
       "  'Weekly Death /%/ change': -100.0,\n",
       "  'Deaths in the last 7 days/1M pop': 0.0,\n",
       "  'Population': 1274779,\n",
       "  'Continent': 'Africa'},\n",
       " {'#': '#',\n",
       "  'Date': '06:12:2021',\n",
       "  'Country, Other': 'Japn',\n",
       "  'Cases in the last 7 days': 758,\n",
       "  'Cases in the preceding 7 days': 739,\n",
       "  'Weekly case /%/ change': 2.571,\n",
       "  'Cases in the last 7 days/1M pop': 6.02,\n",
       "  'Deaths in the last 7 days': 6,\n",
       "  'Deaths in the preceding 7 days': 11,\n",
       "  'Weekly Death /%/ change': -45.455,\n",
       "  'Deaths in the last 7 days/1M pop': 0.048,\n",
       "  'Population': 125924001,\n",
       "  'Continent': 'Asia'},\n",
       " {'#': '#',\n",
       "  'Date': '06:12:2021',\n",
       "  'Country, Other': 'Maldives',\n",
       "  'Cases in the last 7 days': 747,\n",
       "  'Cases in the preceding 7 days': 739,\n",
       "  'Weekly case /%/ change': 1.083,\n",
       "  'Cases in the last 7 days/1M pop': 1348.12,\n",
       "  'Deaths in the last 7 days': 6,\n",
       "  'Deaths in the preceding 7 days': 0,\n",
       "  'Weekly Death /%/ change': inf,\n",
       "  'Deaths in the last 7 days/1M pop': 10.828,\n",
       "  'Population': 554105,\n",
       "  'Continent': 'Asia'},\n",
       " {'#': '#',\n",
       "  'Date': '06:12:2021',\n",
       "  'Country, Other': 'Madgscr',\n",
       "  'Cases in the last 7 days': 728,\n",
       "  'Cases in the preceding 7 days': 400,\n",
       "  'Weekly case /%/ change': 82.0,\n",
       "  'Cases in the last 7 days/1M pop': 25.362,\n",
       "  'Deaths in the last 7 days': 5,\n",
       "  'Deaths in the preceding 7 days': 3,\n",
       "  'Weekly Death /%/ change': 66.667,\n",
       "  'Deaths in the last 7 days/1M pop': 0.174,\n",
       "  'Population': 28704072,\n",
       "  'Continent': 'Africa'},\n",
       " {'#': '#',\n",
       "  'Date': '06:12:2021',\n",
       "  'Country, Other': 'Malt',\n",
       "  'Cases in the last 7 days': 700,\n",
       "  'Cases in the preceding 7 days': 525,\n",
       "  'Weekly case /%/ change': 33.333,\n",
       "  'Cases in the last 7 days/1M pop': 1579.351,\n",
       "  'Deaths in the last 7 days': 0,\n",
       "  'Deaths in the preceding 7 days': 5,\n",
       "  'Weekly Death /%/ change': -100.0,\n",
       "  'Deaths in the last 7 days/1M pop': 0.0,\n",
       "  'Population': 443220,\n",
       "  'Continent': 'Europe'},\n",
       " {'#': '#',\n",
       "  'Date': '06:12:2021',\n",
       "  'Country, Other': 'French Polysia',\n",
       "  'Cases in the last 7 days': 692,\n",
       "  'Cases in the preceding 7 days': 17,\n",
       "  'Weekly case /%/ change': 3970.588,\n",
       "  'Cases in the last 7 days/1M pop': 2443.296,\n",
       "  'Deaths in the last 7 days': 0,\n",
       "  'Deaths in the preceding 7 days': 0,\n",
       "  'Weekly Death /%/ change': nan,\n",
       "  'Deaths in the last 7 days/1M pop': 0.0,\n",
       "  'Population': 283224,\n",
       "  'Continent': 'Australi/Ocen'},\n",
       " {'#': '#',\n",
       "  'Date': '06:12:2021',\n",
       "  'Country, Other': 'Syria',\n",
       "  'Cases in the last 7 days': 654,\n",
       "  'Cases in the preceding 7 days': 753,\n",
       "  'Weekly case /%/ change': -13.147,\n",
       "  'Cases in the last 7 days/1M pop': 36.121,\n",
       "  'Deaths in the last 7 days': 38,\n",
       "  'Deaths in the preceding 7 days': 35,\n",
       "  'Weekly Death /%/ change': 8.571,\n",
       "  'Deaths in the last 7 days/1M pop': 2.099,\n",
       "  'Population': 18105754,\n",
       "  'Continent': 'Asia'},\n",
       " {'#': '#',\n",
       "  'Date': '06:12:2021',\n",
       "  'Country, Other': 'Costa Ric',\n",
       "  'Cases in the last 7 days': 653,\n",
       "  'Cases in the preceding 7 days': 849,\n",
       "  'Weekly case /%/ change': -23.086,\n",
       "  'Cases in the last 7 days/1M pop': 126.54,\n",
       "  'Deaths in the last 7 days': 20,\n",
       "  'Deaths in the preceding 7 days': 35,\n",
       "  'Weekly Death /%/ change': -42.857,\n",
       "  'Deaths in the last 7 days/1M pop': 3.876,\n",
       "  'Population': 5160438,\n",
       "  'Continent': 'North Ameica'},\n",
       " {'#': '#',\n",
       "  'Date': '06:12:2021',\n",
       "  'Country, Other': 'Iceland',\n",
       "  'Cases in the last 7 days': 632,\n",
       "  'Cases in the preceding 7 days': 979,\n",
       "  'Weekly case /%/ change': -35.444,\n",
       "  'Cases in the last 7 days/1M pop': 1835.07,\n",
       "  'Deaths in the last 7 days': 0,\n",
       "  'Deaths in the preceding 7 days': 1,\n",
       "  'Weekly Death /%/ change': -100.0,\n",
       "  'Deaths in the last 7 days/1M pop': 0.0,\n",
       "  'Population': 344401,\n",
       "  'Continent': 'Europe'},\n",
       " {'#': '#',\n",
       "  'Date': '06:12:2021',\n",
       "  'Country, Other': 'Namib',\n",
       "  'Cases in the last 7 days': 616,\n",
       "  'Cases in the preceding 7 days': 89,\n",
       "  'Weekly case /%/ change': 592.135,\n",
       "  'Cases in the last 7 days/1M pop': 236.337,\n",
       "  'Deaths in the last 7 days': 1,\n",
       "  'Deaths in the preceding 7 days': 4,\n",
       "  'Weekly Death /%/ change': -75.0,\n",
       "  'Deaths in the last 7 days/1M pop': 0.384,\n",
       "  'Population': 2606447,\n",
       "  'Continent': 'Africa'},\n",
       " {'#': '#',\n",
       "  'Date': '06:12:2021',\n",
       "  'Country, Other': 'Mali',\n",
       "  'Cases in the last 7 days': 576,\n",
       "  'Cases in the preceding 7 days': 393,\n",
       "  'Weekly case /%/ change': 46.565,\n",
       "  'Cases in the last 7 days/1M pop': 27.324,\n",
       "  'Deaths in the last 7 days': 13,\n",
       "  'Deaths in the preceding 7 days': 13,\n",
       "  'Weekly Death /%/ change': 0.0,\n",
       "  'Deaths in the last 7 days/1M pop': 0.617,\n",
       "  'Population': 21080585,\n",
       "  'Continent': 'Africa'},\n",
       " {'#': '#',\n",
       "  'Date': '06:12:2021',\n",
       "  'Country, Other': 'Nigera',\n",
       "  'Cases in the last 7 days': 530,\n",
       "  'Cases in the preceding 7 days': 503,\n",
       "  'Weekly case /%/ change': 5.368,\n",
       "  'Cases in the last 7 days/1M pop': 2.483,\n",
       "  'Deaths in the last 7 days': 4,\n",
       "  'Deaths in the preceding 7 days': 2,\n",
       "  'Weekly Death /%/ change': 100.0,\n",
       "  'Deaths in the last 7 days/1M pop': 0.019,\n",
       "  'Population': 213411145,\n",
       "  'Continent': 'Africa'},\n",
       " {'#': '#',\n",
       "  'Date': '06:12:2021',\n",
       "  'Country, Other': 'Martinque',\n",
       "  'Cases in the last 7 days': 529,\n",
       "  'Cases in the preceding 7 days': 654,\n",
       "  'Weekly case /%/ change': -19.113,\n",
       "  'Cases in the last 7 days/1M pop': 1411.231,\n",
       "  'Deaths in the last 7 days': 9,\n",
       "  'Deaths in the preceding 7 days': 9,\n",
       "  'Weekly Death /%/ change': 0.0,\n",
       "  'Deaths in the last 7 days/1M pop': 24.01,\n",
       "  'Population': 374850,\n",
       "  'Continent': 'North Ameica'},\n",
       " {'#': '#',\n",
       "  'Date': '06:12:2021',\n",
       "  'Country, Other': 'Beliz',\n",
       "  'Cases in the last 7 days': 515,\n",
       "  'Cases in the preceding 7 days': 664,\n",
       "  'Weekly case /%/ change': -22.44,\n",
       "  'Cases in the last 7 days/1M pop': 1262.536,\n",
       "  'Deaths in the last 7 days': 9,\n",
       "  'Deaths in the preceding 7 days': 12,\n",
       "  'Weekly Death /%/ change': -25.0,\n",
       "  'Deaths in the last 7 days/1M pop': 22.064,\n",
       "  'Population': 407909,\n",
       "  'Continent': 'North Ameica'},\n",
       " {'#': '#',\n",
       "  'Date': '06:12:2021',\n",
       "  'Country, Other': 'China',\n",
       "  'Cases in the last 7 days': 511,\n",
       "  'Cases in the preceding 7 days': 164,\n",
       "  'Weekly case /%/ change': 211.585,\n",
       "  'Cases in the last 7 days/1M pop': 0.353,\n",
       "  'Deaths in the last 7 days': 0,\n",
       "  'Deaths in the preceding 7 days': 0,\n",
       "  'Weekly Death /%/ change': nan,\n",
       "  'Deaths in the last 7 days/1M pop': 0.0,\n",
       "  'Population': 1447251289,\n",
       "  'Continent': 'Asia'},\n",
       " {'#': '#',\n",
       "  'Date': '06:12:2021',\n",
       "  'Country, Other': 'Papu NewGin',\n",
       "  'Cases in the last 7 days': 509,\n",
       "  'Cases in the preceding 7 days': 587,\n",
       "  'Weekly case /%/ change': -13.288,\n",
       "  'Cases in the last 7 days/1M pop': 55.396,\n",
       "  'Deaths in the last 7 days': 5,\n",
       "  'Deaths in the preceding 7 days': 59,\n",
       "  'Weekly Death /%/ change': -91.525,\n",
       "  'Deaths in the last 7 days/1M pop': 0.544,\n",
       "  'Population': 9188402,\n",
       "  'Continent': 'Australi/Ocen'},\n",
       " {'#': '#',\n",
       "  'Date': '06:12:2021',\n",
       "  'Country, Other': 'Kenya',\n",
       "  'Cases in the last 7 days': 486,\n",
       "  'Cases in the preceding 7 days': 241,\n",
       "  'Weekly case /%/ change': 101.66,\n",
       "  'Cases in the last 7 days/1M pop': 8.763,\n",
       "  'Deaths in the last 7 days': 2,\n",
       "  'Deaths in the preceding 7 days': 5,\n",
       "  'Weekly Death /%/ change': -60.0,\n",
       "  'Deaths in the last 7 days/1M pop': 0.036,\n",
       "  'Population': 55457570,\n",
       "  'Continent': 'Africa'},\n",
       " {'#': '#',\n",
       "  'Date': '06:12:2021',\n",
       "  'Country, Other': 'Hait',\n",
       "  'Cases in the last 7 days': 483,\n",
       "  'Cases in the preceding 7 days': 259,\n",
       "  'Weekly case /%/ change': 86.486,\n",
       "  'Cases in the last 7 days/1M pop': 41.636,\n",
       "  'Deaths in the last 7 days': 24,\n",
       "  'Deaths in the preceding 7 days': 12,\n",
       "  'Weekly Death /%/ change': 100.0,\n",
       "  'Deaths in the last 7 days/1M pop': 2.069,\n",
       "  'Population': 11600646,\n",
       "  'Continent': 'North Ameica'},\n",
       " {'#': '#',\n",
       "  'Date': '06:12:2021',\n",
       "  'Country, Other': 'Parguy',\n",
       "  'Cases in the last 7 days': 416,\n",
       "  'Cases in the preceding 7 days': 423,\n",
       "  'Weekly case /%/ change': -1.655,\n",
       "  'Cases in the last 7 days/1M pop': 57.321,\n",
       "  'Deaths in the last 7 days': 15,\n",
       "  'Deaths in the preceding 7 days': 11,\n",
       "  'Weekly Death /%/ change': 36.364,\n",
       "  'Deaths in the last 7 days/1M pop': 2.067,\n",
       "  'Population': 7257410,\n",
       "  'Continent': 'South America'},\n",
       " {'#': '#',\n",
       "  'Date': '06:12:2021',\n",
       "  'Country, Other': 'Faero Islnd',\n",
       "  'Cases in the last 7 days': 411,\n",
       "  'Cases in the preceding 7 days': 296,\n",
       "  'Weekly case /%/ change': 38.851,\n",
       "  'Cases in the last 7 days/1M pop': 8365.901,\n",
       "  'Deaths in the last 7 days': 0,\n",
       "  'Deaths in the preceding 7 days': 1,\n",
       "  'Weekly Death /%/ change': -100.0,\n",
       "  'Deaths in the last 7 days/1M pop': 0.0,\n",
       "  'Population': 49128,\n",
       "  'Continent': 'Europe'},\n",
       " {'#': '#',\n",
       "  'Date': '06:12:2021',\n",
       "  'Country, Other': 'UAE',\n",
       "  'Cases in the last 7 days': 410,\n",
       "  'Cases in the preceding 7 days': 485,\n",
       "  'Weekly case /%/ change': -15.464,\n",
       "  'Cases in the last 7 days/1M pop': 40.753,\n",
       "  'Deaths in the last 7 days': 2,\n",
       "  'Deaths in the preceding 7 days': 2,\n",
       "  'Weekly Death /%/ change': 0.0,\n",
       "  'Deaths in the last 7 days/1M pop': 0.199,\n",
       "  'Population': 10060722,\n",
       "  'Continent': 'Asia'},\n",
       " {'#': '#',\n",
       "  'Date': '06:12:2021',\n",
       "  'Country, Other': 'Mozambique',\n",
       "  'Cases in the last 7 days': 400,\n",
       "  'Cases in the preceding 7 days': 36,\n",
       "  'Weekly case /%/ change': 1011.111,\n",
       "  'Cases in the last 7 days/1M pop': 12.307,\n",
       "  'Deaths in the last 7 days': 1,\n",
       "  'Deaths in the preceding 7 days': 2,\n",
       "  'Weekly Death /%/ change': -50.0,\n",
       "  'Deaths in the last 7 days/1M pop': 0.031,\n",
       "  'Population': 32501238,\n",
       "  'Continent': 'Africa'},\n",
       " {'#': '#',\n",
       "  'Date': '06:12:2021',\n",
       "  'Country, Other': 'Botswan',\n",
       "  'Cases in the last 7 days': 393,\n",
       "  'Cases in the preceding 7 days': 464,\n",
       "  'Weekly case /%/ change': -15.302,\n",
       "  'Cases in the last 7 days/1M pop': 162.448,\n",
       "  'Deaths in the last 7 days': 3,\n",
       "  'Deaths in the preceding 7 days': 0,\n",
       "  'Weekly Death /%/ change': inf,\n",
       "  'Deaths in the last 7 days/1M pop': 1.24,\n",
       "  'Population': 2419242,\n",
       "  'Continent': 'Africa'},\n",
       " {'#': '#',\n",
       "  'Date': '06:12:2021',\n",
       "  'Country, Other': 'Guyan',\n",
       "  'Cases in the last 7 days': 387,\n",
       "  'Cases in the preceding 7 days': 448,\n",
       "  'Weekly case /%/ change': -13.616,\n",
       "  'Cases in the last 7 days/1M pop': 488.658,\n",
       "  'Deaths in the last 7 days': 19,\n",
       "  'Deaths in the preceding 7 days': 11,\n",
       "  'Weekly Death /%/ change': 72.727,\n",
       "  'Deaths in the last 7 days/1M pop': 23.991,\n",
       "  'Population': 791965,\n",
       "  'Continent': 'South America'},\n",
       " {'#': '#',\n",
       "  'Date': '06:12:2021',\n",
       "  'Country, Other': 'Liechtns',\n",
       "  'Cases in the last 7 days': 386,\n",
       "  'Cases in the preceding 7 days': 363,\n",
       "  'Weekly case /%/ change': 6.336,\n",
       "  'Cases in the last 7 days/1M pop': 10082.541,\n",
       "  'Deaths in the last 7 days': 1,\n",
       "  'Deaths in the preceding 7 days': 0,\n",
       "  'Weekly Death /%/ change': inf,\n",
       "  'Deaths in the last 7 days/1M pop': 26.121,\n",
       "  'Population': 38284,\n",
       "  'Continent': 'Europe'},\n",
       " {'#': '#',\n",
       "  'Date': '06:12:2021',\n",
       "  'Country, Other': 'Mauritn',\n",
       "  'Cases in the last 7 days': 380,\n",
       "  'Cases in the preceding 7 days': 531,\n",
       "  'Weekly case /%/ change': -28.437,\n",
       "  'Cases in the last 7 days/1M pop': 78.78,\n",
       "  'Deaths in the last 7 days': 9,\n",
       "  'Deaths in the preceding 7 days': 13,\n",
       "  'Weekly Death /%/ change': -30.769,\n",
       "  'Deaths in the last 7 days/1M pop': 1.866,\n",
       "  'Population': 4823570,\n",
       "  'Continent': 'Africa'},\n",
       " {'#': '#',\n",
       "  'Date': '06:12:2021',\n",
       "  'Country, Other': 'Kyrgzstan',\n",
       "  'Cases in the last 7 days': 367,\n",
       "  'Cases in the preceding 7 days': 415,\n",
       "  'Weekly case /%/ change': -11.566,\n",
       "  'Cases in the last 7 days/1M pop': 54.96,\n",
       "  'Deaths in the last 7 days': 17,\n",
       "  'Deaths in the preceding 7 days': 18,\n",
       "  'Weekly Death /%/ change': -5.556,\n",
       "  'Deaths in the last 7 days/1M pop': 2.546,\n",
       "  'Population': 6677539,\n",
       "  'Continent': 'Asia'},\n",
       " {'#': '#',\n",
       "  'Date': '06:12:2021',\n",
       "  'Country, Other': 'Honduras',\n",
       "  'Cases in the last 7 days': 363,\n",
       "  'Cases in the preceding 7 days': 438,\n",
       "  'Weekly case /%/ change': -17.123,\n",
       "  'Cases in the last 7 days/1M pop': 35.838,\n",
       "  'Deaths in the last 7 days': 10,\n",
       "  'Deaths in the preceding 7 days': 15,\n",
       "  'Weekly Death /%/ change': -33.333,\n",
       "  'Deaths in the last 7 days/1M pop': 0.987,\n",
       "  'Population': 10129041,\n",
       "  'Continent': 'North Ameica'},\n",
       " {'#': '#',\n",
       "  'Date': '06:12:2021',\n",
       "  'Country, Other': 'Cameron',\n",
       "  'Cases in the last 7 days': 354,\n",
       "  'Cases in the preceding 7 days': 604,\n",
       "  'Weekly case /%/ change': -41.391,\n",
       "  'Cases in the last 7 days/1M pop': 12.879,\n",
       "  'Deaths in the last 7 days': 13,\n",
       "  'Deaths in the preceding 7 days': 21,\n",
       "  'Weekly Death /%/ change': -38.095,\n",
       "  'Deaths in the last 7 days/1M pop': 0.473,\n",
       "  'Population': 27486303,\n",
       "  'Continent': 'Africa'},\n",
       " {'#': '#',\n",
       "  'Date': '06:12:2021',\n",
       "  'Country, Other': 'Seychls',\n",
       "  'Cases in the last 7 days': 340,\n",
       "  'Cases in the preceding 7 days': 366,\n",
       "  'Weekly case /%/ change': -7.104,\n",
       "  'Cases in the last 7 days/1M pop': 3426.901,\n",
       "  'Deaths in the last 7 days': 2,\n",
       "  'Deaths in the preceding 7 days': 0,\n",
       "  'Weekly Death /%/ change': inf,\n",
       "  'Deaths in the last 7 days/1M pop': 20.158,\n",
       "  'Population': 99215,\n",
       "  'Continent': 'Africa'},\n",
       " {'#': '#',\n",
       "  'Date': '06:12:2021',\n",
       "  'Country, Other': 'Jamic',\n",
       "  'Cases in the last 7 days': 300,\n",
       "  'Cases in the preceding 7 days': 464,\n",
       "  'Weekly case /%/ change': -35.345,\n",
       "  'Cases in the last 7 days/1M pop': 100.685,\n",
       "  'Deaths in the last 7 days': 22,\n",
       "  'Deaths in the preceding 7 days': 30,\n",
       "  'Weekly Death /%/ change': -26.667,\n",
       "  'Deaths in the last 7 days/1M pop': 7.384,\n",
       "  'Population': 2979601,\n",
       "  'Continent': 'North Ameica'},\n",
       " {'#': '#',\n",
       "  'Date': '06:12:2021',\n",
       "  'Country, Other': 'Burkina Fso',\n",
       "  'Cases in the last 7 days': 289,\n",
       "  'Cases in the preceding 7 days': 197,\n",
       "  'Weekly case /%/ change': 46.701,\n",
       "  'Cases in the last 7 days/1M pop': 13.306,\n",
       "  'Deaths in the last 7 days': 5,\n",
       "  'Deaths in the preceding 7 days': 16,\n",
       "  'Weekly Death /%/ change': -68.75,\n",
       "  'Deaths in the last 7 days/1M pop': 0.23,\n",
       "  'Population': 21718793,\n",
       "  'Continent': 'Africa'},\n",
       " {'#': '#',\n",
       "  'Date': '06:12:2021',\n",
       "  'Country, Other': 'French Guia',\n",
       "  'Cases in the last 7 days': 278,\n",
       "  'Cases in the preceding 7 days': 248,\n",
       "  'Weekly case /%/ change': 12.097,\n",
       "  'Cases in the last 7 days/1M pop': 897.646,\n",
       "  'Deaths in the last 7 days': 2,\n",
       "  'Deaths in the preceding 7 days': 4,\n",
       "  'Weekly Death /%/ change': -50.0,\n",
       "  'Deaths in the last 7 days/1M pop': 6.458,\n",
       "  'Population': 309699,\n",
       "  'Continent': 'South America'},\n",
       " {'#': '#',\n",
       "  'Date': '06:12:2021',\n",
       "  'Country, Other': 'Suriname',\n",
       "  'Cases in the last 7 days': 252,\n",
       "  'Cases in the preceding 7 days': 303,\n",
       "  'Weekly case /%/ change': -16.832,\n",
       "  'Cases in the last 7 days/1M pop': 424.152,\n",
       "  'Deaths in the last 7 days': 6,\n",
       "  'Deaths in the preceding 7 days': 15,\n",
       "  'Weekly Death /%/ change': -60.0,\n",
       "  'Deaths in the last 7 days/1M pop': 10.099,\n",
       "  'Population': 594126,\n",
       "  'Continent': 'South America'},\n",
       " {'#': '#',\n",
       "  'Date': '06:12:2021',\n",
       "  'Country, Other': 'Grenlad',\n",
       "  'Cases in the last 7 days': 250,\n",
       "  'Cases in the preceding 7 days': 203,\n",
       "  'Weekly case /%/ change': 23.153,\n",
       "  'Cases in the last 7 days/1M pop': 4392.901,\n",
       "  'Deaths in the last 7 days': 0,\n",
       "  'Deaths in the preceding 7 days': 0,\n",
       "  'Weekly Death /%/ change': nan,\n",
       "  'Deaths in the last 7 days/1M pop': 0.0,\n",
       "  'Population': 56910,\n",
       "  'Continent': 'North Ameica'},\n",
       " {'#': '#',\n",
       "  'Date': '06:12:2021',\n",
       "  'Country, Other': 'Bahrin',\n",
       "  'Cases in the last 7 days': 246,\n",
       "  'Cases in the preceding 7 days': 196,\n",
       "  'Weekly case /%/ change': 25.51,\n",
       "  'Cases in the last 7 days/1M pop': 137.765,\n",
       "  'Deaths in the last 7 days': 0,\n",
       "  'Deaths in the preceding 7 days': 0,\n",
       "  'Weekly Death /%/ change': nan,\n",
       "  'Deaths in the last 7 days/1M pop': 0.0,\n",
       "  'Population': 1785655,\n",
       "  'Continent': 'Asia'},\n",
       " {'#': '#',\n",
       "  'Date': '06:12:2021',\n",
       "  'Country, Other': 'Afghanist',\n",
       "  'Cases in the last 7 days': 217,\n",
       "  'Cases in the preceding 7 days': 332,\n",
       "  'Weekly case /%/ change': -34.639,\n",
       "  'Cases in the last 7 days/1M pop': 5.401,\n",
       "  'Deaths in the last 7 days': 4,\n",
       "  'Deaths in the preceding 7 days': 5,\n",
       "  'Weekly Death /%/ change': -20.0,\n",
       "  'Deaths in the last 7 days/1M pop': 0.1,\n",
       "  'Population': 40176440,\n",
       "  'Continent': 'Asia'},\n",
       " {'#': '#',\n",
       "  'Date': '06:12:2021',\n",
       "  'Country, Other': 'Saudi Arb',\n",
       "  'Cases in the last 7 days': 217,\n",
       "  'Cases in the preceding 7 days': 216,\n",
       "  'Weekly case /%/ change': 0.463,\n",
       "  'Cases in the last 7 days/1M pop': 6.098,\n",
       "  'Deaths in the last 7 days': 11,\n",
       "  'Deaths in the preceding 7 days': 9,\n",
       "  'Weekly Death /%/ change': 22.222,\n",
       "  'Deaths in the last 7 days/1M pop': 0.309,\n",
       "  'Population': 35586345,\n",
       "  'Continent': 'Asia'},\n",
       " {'#': '#',\n",
       "  'Date': '06:12:2021',\n",
       "  'Country, Other': 'DRC',\n",
       "  'Cases in the last 7 days': 204,\n",
       "  'Cases in the preceding 7 days': 235,\n",
       "  'Weekly case /%/ change': -13.191,\n",
       "  'Cases in the last 7 days/1M pop': 2.183,\n",
       "  'Deaths in the last 7 days': 3,\n",
       "  'Deaths in the preceding 7 days': 0,\n",
       "  'Weekly Death /%/ change': inf,\n",
       "  'Deaths in the last 7 days/1M pop': 0.032,\n",
       "  'Population': 93434058,\n",
       "  'Continent': 'Africa'},\n",
       " {'#': '#',\n",
       "  'Date': '06:12:2021',\n",
       "  'Country, Other': 'Ugand',\n",
       "  'Cases in the last 7 days': 204,\n",
       "  'Cases in the preceding 7 days': 274,\n",
       "  'Weekly case /%/ change': -25.547,\n",
       "  'Cases in the last 7 days/1M pop': 4.268,\n",
       "  'Deaths in the last 7 days': 2,\n",
       "  'Deaths in the preceding 7 days': 4,\n",
       "  'Weekly Death /%/ change': -50.0,\n",
       "  'Deaths in the last 7 days/1M pop': 0.042,\n",
       "  'Population': 47795279,\n",
       "  'Continent': 'Africa'},\n",
       " {'#': '#',\n",
       "  'Date': '06:12:2021',\n",
       "  'Country, Other': 'Kuwait',\n",
       "  'Cases in the last 7 days': 194,\n",
       "  'Cases in the preceding 7 days': 160,\n",
       "  'Weekly case /%/ change': 21.25,\n",
       "  'Cases in the last 7 days/1M pop': 44.49,\n",
       "  'Deaths in the last 7 days': 0,\n",
       "  'Deaths in the preceding 7 days': 1,\n",
       "  'Weekly Death /%/ change': -100.0,\n",
       "  'Deaths in the last 7 days/1M pop': 0.0,\n",
       "  'Population': 4360563,\n",
       "  'Continent': 'Asia'},\n",
       " {'#': '#',\n",
       "  'Date': '06:12:2021',\n",
       "  'Country, Other': 'Gibralt',\n",
       "  'Cases in the last 7 days': 191,\n",
       "  'Cases in the preceding 7 days': 260,\n",
       "  'Weekly case /%/ change': -26.538,\n",
       "  'Cases in the last 7 days/1M pop': 5671.527,\n",
       "  'Deaths in the last 7 days': 1,\n",
       "  'Deaths in the preceding 7 days': 0,\n",
       "  'Weekly Death /%/ change': inf,\n",
       "  'Deaths in the last 7 days/1M pop': 29.694,\n",
       "  'Population': 33677,\n",
       "  'Continent': 'Europe'},\n",
       " {'#': '#',\n",
       "  'Date': '06:12:2021',\n",
       "  'Country, Other': 'San Mrio',\n",
       "  'Cases in the last 7 days': 189,\n",
       "  'Cases in the preceding 7 days': 136,\n",
       "  'Weekly case /%/ change': 38.971,\n",
       "  'Cases in the last 7 days/1M pop': 5553.433,\n",
       "  'Deaths in the last 7 days': 0,\n",
       "  'Deaths in the preceding 7 days': 1,\n",
       "  'Weekly Death /%/ change': -100.0,\n",
       "  'Deaths in the last 7 days/1M pop': 0.0,\n",
       "  'Population': 34033,\n",
       "  'Continent': 'Europe'},\n",
       " {'#': '#',\n",
       "  'Date': '06:12:2021',\n",
       "  'Country, Other': 'Gabon',\n",
       "  'Cases in the last 7 days': 179,\n",
       "  'Cases in the preceding 7 days': 253,\n",
       "  'Weekly case /%/ change': -29.249,\n",
       "  'Cases in the last 7 days/1M pop': 77.81,\n",
       "  'Deaths in the last 7 days': 1,\n",
       "  'Deaths in the preceding 7 days': 6,\n",
       "  'Weekly Death /%/ change': -83.333,\n",
       "  'Deaths in the last 7 days/1M pop': 0.435,\n",
       "  'Population': 2300490,\n",
       "  'Continent': 'Africa'},\n",
       " {'#': '#',\n",
       "  'Date': '06:12:2021',\n",
       "  'Country, Other': 'Cambodi',\n",
       "  'Cases in the last 7 days': 169,\n",
       "  'Cases in the preceding 7 days': 220,\n",
       "  'Weekly case /%/ change': -23.182,\n",
       "  'Cases in the last 7 days/1M pop': 9.913,\n",
       "  'Deaths in the last 7 days': 29,\n",
       "  'Deaths in the preceding 7 days': 31,\n",
       "  'Weekly Death /%/ change': -6.452,\n",
       "  'Deaths in the last 7 days/1M pop': 1.701,\n",
       "  'Population': 17048693,\n",
       "  'Continent': 'Asia'},\n",
       " {'#': '#',\n",
       "  'Date': '06:12:2021',\n",
       "  'Country, Other': 'Zambi',\n",
       "  'Cases in the last 7 days': 169,\n",
       "  'Cases in the preceding 7 days': 73,\n",
       "  'Weekly case /%/ change': 131.507,\n",
       "  'Cases in the last 7 days/1M pop': 8.841,\n",
       "  'Deaths in the last 7 days': 0,\n",
       "  'Deaths in the preceding 7 days': 0,\n",
       "  'Weekly Death /%/ change': nan,\n",
       "  'Deaths in the last 7 days/1M pop': 0.0,\n",
       "  'Population': 19116436,\n",
       "  'Continent': 'Africa'},\n",
       " {'#': '#',\n",
       "  'Date': '06:12:2021',\n",
       "  'Country, Other': 'Dominca',\n",
       "  'Cases in the last 7 days': 165,\n",
       "  'Cases in the preceding 7 days': 313,\n",
       "  'Weekly case /%/ change': -47.284,\n",
       "  'Cases in the last 7 days/1M pop': 2284.022,\n",
       "  'Deaths in the last 7 days': 1,\n",
       "  'Deaths in the preceding 7 days': 3,\n",
       "  'Weekly Death /%/ change': -66.667,\n",
       "  'Deaths in the last 7 days/1M pop': 13.843,\n",
       "  'Population': 72241,\n",
       "  'Continent': 'North Ameica'},\n",
       " {'#': '#',\n",
       "  'Date': '06:12:2021',\n",
       "  'Country, Other': 'Monac',\n",
       "  'Cases in the last 7 days': 157,\n",
       "  'Cases in the preceding 7 days': 174,\n",
       "  'Weekly case /%/ change': -9.77,\n",
       "  'Cases in the last 7 days/1M pop': 3960.746,\n",
       "  'Deaths in the last 7 days': 0,\n",
       "  'Deaths in the preceding 7 days': 0,\n",
       "  'Weekly Death /%/ change': nan,\n",
       "  'Deaths in the last 7 days/1M pop': 0.0,\n",
       "  'Population': 39639,\n",
       "  'Continent': 'Europe'},\n",
       " {'#': '#',\n",
       "  'Date': '06:12:2021',\n",
       "  'Country, Other': 'Cariben Nthlds',\n",
       "  'Cases in the last 7 days': 151,\n",
       "  'Cases in the preceding 7 days': 175,\n",
       "  'Weekly case /%/ change': -13.714,\n",
       "  'Cases in the last 7 days/1M pop': 5682.887,\n",
       "  'Deaths in the last 7 days': 0,\n",
       "  'Deaths in the preceding 7 days': 1,\n",
       "  'Weekly Death /%/ change': -100.0,\n",
       "  'Deaths in the last 7 days/1M pop': 0.0,\n",
       "  'Population': 26571,\n",
       "  'Continent': 'North Ameica'},\n",
       " {'#': '#',\n",
       "  'Date': '06:12:2021',\n",
       "  'Country, Other': 'Brunei ',\n",
       "  'Cases in the last 7 days': 150,\n",
       "  'Cases in the preceding 7 days': 445,\n",
       "  'Weekly case /%/ change': -66.292,\n",
       "  'Cases in the last 7 days/1M pop': 338.256,\n",
       "  'Deaths in the last 7 days': 1,\n",
       "  'Deaths in the preceding 7 days': 1,\n",
       "  'Weekly Death /%/ change': 0.0,\n",
       "  'Deaths in the last 7 days/1M pop': 2.255,\n",
       "  'Population': 443451,\n",
       "  'Continent': 'Asia'},\n",
       " {'#': '#',\n",
       "  'Date': '06:12:2021',\n",
       "  'Country, Other': 'New Caldoni',\n",
       "  'Cases in the last 7 days': 144,\n",
       "  'Cases in the preceding 7 days': 234,\n",
       "  'Weekly case /%/ change': -38.462,\n",
       "  'Cases in the last 7 days/1M pop': 497.562,\n",
       "  'Deaths in the last 7 days': 3,\n",
       "  'Deaths in the preceding 7 days': 0,\n",
       "  'Weekly Death /%/ change': inf,\n",
       "  'Deaths in the last 7 days/1M pop': 10.366,\n",
       "  'Population': 289411,\n",
       "  'Continent': 'Australi/Ocen'},\n",
       " {'#': '#',\n",
       "  'Date': '06:12:2021',\n",
       "  'Country, Other': 'Eritea',\n",
       "  'Cases in the last 7 days': 140,\n",
       "  'Cases in the preceding 7 days': 143,\n",
       "  'Weekly case /%/ change': -2.098,\n",
       "  'Cases in the last 7 days/1M pop': 38.713,\n",
       "  'Deaths in the last 7 days': 1,\n",
       "  'Deaths in the preceding 7 days': 6,\n",
       "  'Weekly Death /%/ change': -83.333,\n",
       "  'Deaths in the last 7 days/1M pop': 0.277,\n",
       "  'Population': 3616366,\n",
       "  'Continent': 'Africa'},\n",
       " {'#': '#',\n",
       "  'Date': '06:12:2021',\n",
       "  'Country, Other': 'Cong',\n",
       "  'Cases in the last 7 days': 133,\n",
       "  'Cases in the preceding 7 days': 120,\n",
       "  'Weekly case /%/ change': 10.833,\n",
       "  'Cases in the last 7 days/1M pop': 23.287,\n",
       "  'Deaths in the last 7 days': 5,\n",
       "  'Deaths in the preceding 7 days': 10,\n",
       "  'Weekly Death /%/ change': -50.0,\n",
       "  'Deaths in the last 7 days/1M pop': 0.875,\n",
       "  'Population': 5711397,\n",
       "  'Continent': 'Africa'},\n",
       " {'#': '#',\n",
       "  'Date': '06:12:2021',\n",
       "  'Country, Other': 'Aruba',\n",
       "  'Cases in the last 7 days': 126,\n",
       "  'Cases in the preceding 7 days': 122,\n",
       "  'Weekly case /%/ change': 3.279,\n",
       "  'Cases in the last 7 days/1M pop': 1173.042,\n",
       "  'Deaths in the last 7 days': 0,\n",
       "  'Deaths in the preceding 7 days': 1,\n",
       "  'Weekly Death /%/ change': -100.0,\n",
       "  'Deaths in the last 7 days/1M pop': 0.0,\n",
       "  'Population': 107413,\n",
       "  'Continent': 'North Ameica'},\n",
       " {'#': '#',\n",
       "  'Date': '06:12:2021',\n",
       "  'Country, Other': 'St. VinceGrads',\n",
       "  'Cases in the last 7 days': 123,\n",
       "  'Cases in the preceding 7 days': 109,\n",
       "  'Weekly case /%/ change': 12.844,\n",
       "  'Cases in the last 7 days/1M pop': 1103.703,\n",
       "  'Deaths in the last 7 days': 2,\n",
       "  'Deaths in the preceding 7 days': 1,\n",
       "  'Weekly Death /%/ change': 100.0,\n",
       "  'Deaths in the last 7 days/1M pop': 17.946,\n",
       "  'Population': 111443,\n",
       "  'Continent': 'North Ameica'},\n",
       " {'#': '#',\n",
       "  'Date': '06:12:2021',\n",
       "  'Country, Other': 'Ivory Cast',\n",
       "  'Cases in the last 7 days': 116,\n",
       "  'Cases in the preceding 7 days': 117,\n",
       "  'Weekly case /%/ change': -0.855,\n",
       "  'Cases in the last 7 days/1M pop': 4.248,\n",
       "  'Deaths in the last 7 days': 2,\n",
       "  'Deaths in the preceding 7 days': 2,\n",
       "  'Weekly Death /%/ change': 0.0,\n",
       "  'Deaths in the last 7 days/1M pop': 0.073,\n",
       "  'Population': 27307933,\n",
       "  'Continent': 'Africa'},\n",
       " {'#': '#',\n",
       "  'Date': '06:12:2021',\n",
       "  'Country, Other': 'Angola',\n",
       "  'Cases in the last 7 days': 115,\n",
       "  'Cases in the preceding 7 days': 120,\n",
       "  'Weekly case /%/ change': -4.167,\n",
       "  'Cases in the last 7 days/1M pop': 3.351,\n",
       "  'Deaths in the last 7 days': 2,\n",
       "  'Deaths in the preceding 7 days': 3,\n",
       "  'Weekly Death /%/ change': -33.333,\n",
       "  'Deaths in the last 7 days/1M pop': 0.058,\n",
       "  'Population': 34320243,\n",
       "  'Continent': 'Africa'},\n",
       " {'#': '#',\n",
       "  'Date': '06:12:2021',\n",
       "  'Country, Other': 'Niger',\n",
       "  'Cases in the last 7 days': 106,\n",
       "  'Cases in the preceding 7 days': 138,\n",
       "  'Weekly case /%/ change': -23.188,\n",
       "  'Cases in the last 7 days/1M pop': 4.165,\n",
       "  'Deaths in the last 7 days': 7,\n",
       "  'Deaths in the preceding 7 days': 12,\n",
       "  'Weekly Death /%/ change': -41.667,\n",
       "  'Deaths in the last 7 days/1M pop': 0.275,\n",
       "  'Population': 25452075,\n",
       "  'Continent': 'Africa'},\n",
       " {'#': '#',\n",
       "  'Date': '06:12:2021',\n",
       "  'Country, Other': 'Nicargu',\n",
       "  'Cases in the last 7 days': 102,\n",
       "  'Cases in the preceding 7 days': 129,\n",
       "  'Weekly case /%/ change': -20.93,\n",
       "  'Cases in the last 7 days/1M pop': 15.141,\n",
       "  'Deaths in the last 7 days': 1,\n",
       "  'Deaths in the preceding 7 days': 1,\n",
       "  'Weekly Death /%/ change': 0.0,\n",
       "  'Deaths in the last 7 days/1M pop': 0.148,\n",
       "  'Population': 6736892,\n",
       "  'Continent': 'North Ameica'},\n",
       " {'#': '#',\n",
       "  'Date': '06:12:2021',\n",
       "  'Country, Other': 'Bahms',\n",
       "  'Cases in the last 7 days': 91,\n",
       "  'Cases in the preceding 7 days': 73,\n",
       "  'Weekly case /%/ change': 24.658,\n",
       "  'Cases in the last 7 days/1M pop': 228.298,\n",
       "  'Deaths in the last 7 days': 24,\n",
       "  'Deaths in the preceding 7 days': 0,\n",
       "  'Weekly Death /%/ change': inf,\n",
       "  'Deaths in the last 7 days/1M pop': 60.211,\n",
       "  'Population': 398601,\n",
       "  'Continent': 'North Ameica'},\n",
       " {'#': '#',\n",
       "  'Date': '06:12:2021',\n",
       "  'Country, Other': 'Cabo Verd',\n",
       "  'Cases in the last 7 days': 88,\n",
       "  'Cases in the preceding 7 days': 35,\n",
       "  'Weekly case /%/ change': 151.429,\n",
       "  'Cases in the last 7 days/1M pop': 155.864,\n",
       "  'Deaths in the last 7 days': 2,\n",
       "  'Deaths in the preceding 7 days': 0,\n",
       "  'Weekly Death /%/ change': inf,\n",
       "  'Deaths in the last 7 days/1M pop': 3.542,\n",
       "  'Population': 564595,\n",
       "  'Continent': 'Africa'},\n",
       " {'#': '#',\n",
       "  'Date': '06:12:2021',\n",
       "  'Country, Other': 'Curaço',\n",
       "  'Cases in the last 7 days': 88,\n",
       "  'Cases in the preceding 7 days': 76,\n",
       "  'Weekly case /%/ change': 15.789,\n",
       "  'Cases in the last 7 days/1M pop': 533.172,\n",
       "  'Deaths in the last 7 days': 1,\n",
       "  'Deaths in the preceding 7 days': 2,\n",
       "  'Weekly Death /%/ change': -50.0,\n",
       "  'Deaths in the last 7 days/1M pop': 6.059,\n",
       "  'Population': 165050,\n",
       "  'Continent': 'North Ameica'},\n",
       " {'#': '#',\n",
       "  'Date': '06:12:2021',\n",
       "  'Country, Other': 'Malwi',\n",
       "  'Cases in the last 7 days': 84,\n",
       "  'Cases in the preceding 7 days': 34,\n",
       "  'Weekly case /%/ change': 147.059,\n",
       "  'Cases in the last 7 days/1M pop': 4.235,\n",
       "  'Deaths in the last 7 days': 2,\n",
       "  'Deaths in the preceding 7 days': 1,\n",
       "  'Weekly Death /%/ change': 100.0,\n",
       "  'Deaths in the last 7 days/1M pop': 0.101,\n",
       "  'Population': 19833401,\n",
       "  'Continent': 'Africa'},\n",
       " {'#': '#',\n",
       "  'Date': '06:12:2021',\n",
       "  'Country, Other': 'Rwand',\n",
       "  'Cases in the last 7 days': 84,\n",
       "  'Cases in the preceding 7 days': 113,\n",
       "  'Weekly case /%/ change': -25.664,\n",
       "  'Cases in the last 7 days/1M pop': 6.264,\n",
       "  'Deaths in the last 7 days': 1,\n",
       "  'Deaths in the preceding 7 days': 2,\n",
       "  'Weekly Death /%/ change': -50.0,\n",
       "  'Deaths in the last 7 days/1M pop': 0.075,\n",
       "  'Population': 13409173,\n",
       "  'Continent': 'Africa'},\n",
       " {'#': '#',\n",
       "  'Date': '06:12:2021',\n",
       "  'Country, Other': 'Anguila',\n",
       "  'Cases in the last 7 days': 80,\n",
       "  'Cases in the preceding 7 days': 66,\n",
       "  'Weekly case /%/ change': 21.212,\n",
       "  'Cases in the last 7 days/1M pop': 5265.236,\n",
       "  'Deaths in the last 7 days': 0,\n",
       "  'Deaths in the preceding 7 days': 0,\n",
       "  'Weekly Death /%/ change': nan,\n",
       "  'Deaths in the last 7 days/1M pop': 0.0,\n",
       "  'Population': 15194,\n",
       "  'Continent': 'North Ameica'},\n",
       " {'#': '#',\n",
       "  'Date': '06:12:2021',\n",
       "  'Country, Other': 'Ecuador',\n",
       "  'Cases in the last 7 days': 70,\n",
       "  'Cases in the preceding 7 days': 2447,\n",
       "  'Weekly case /%/ change': -97.139,\n",
       "  'Cases in the last 7 days/1M pop': 3.884,\n",
       "  'Deaths in the last 7 days': 16,\n",
       "  'Deaths in the preceding 7 days': 109,\n",
       "  'Weekly Death /%/ change': -85.321,\n",
       "  'Deaths in the last 7 days/1M pop': 0.888,\n",
       "  'Population': 18024776,\n",
       "  'Continent': 'South America'},\n",
       " {'#': '#',\n",
       "  'Date': '06:12:2021',\n",
       "  'Country, Other': 'Mayote',\n",
       "  'Cases in the last 7 days': 65,\n",
       "  'Cases in the preceding 7 days': 78,\n",
       "  'Weekly case /%/ change': -16.667,\n",
       "  'Cases in the last 7 days/1M pop': 230.346,\n",
       "  'Deaths in the last 7 days': 0,\n",
       "  'Deaths in the preceding 7 days': 0,\n",
       "  'Weekly Death /%/ change': nan,\n",
       "  'Deaths in the last 7 days/1M pop': 0.0,\n",
       "  'Population': 282184,\n",
       "  'Continent': 'Africa'},\n",
       " {'#': '#',\n",
       "  'Date': '06:12:2021',\n",
       "  'Country, Other': 'Taiwn',\n",
       "  'Cases in the last 7 days': 64,\n",
       "  'Cases in the preceding 7 days': 59,\n",
       "  'Weekly case /%/ change': 8.475,\n",
       "  'Cases in the last 7 days/1M pop': 2.68,\n",
       "  'Deaths in the last 7 days': 0,\n",
       "  'Deaths in the preceding 7 days': 0,\n",
       "  'Weekly Death /%/ change': nan,\n",
       "  'Deaths in the last 7 days/1M pop': 0.0,\n",
       "  'Population': 23878268,\n",
       "  'Continent': 'Asia'},\n",
       " {'#': '#',\n",
       "  'Date': '06:12:2021',\n",
       "  'Country, Other': 'Saint Luc',\n",
       "  'Cases in the last 7 days': 64,\n",
       "  'Cases in the preceding 7 days': 68,\n",
       "  'Weekly case /%/ change': -5.882,\n",
       "  'Cases in the last 7 days/1M pop': 346.275,\n",
       "  'Deaths in the last 7 days': 2,\n",
       "  'Deaths in the preceding 7 days': 2,\n",
       "  'Weekly Death /%/ change': 0.0,\n",
       "  'Deaths in the last 7 days/1M pop': 10.821,\n",
       "  'Population': 184824,\n",
       "  'Continent': 'North Ameica'},\n",
       " {'#': '#',\n",
       "  'Date': '06:12:2021',\n",
       "  'Country, Other': 'Oman',\n",
       "  'Cases in the last 7 days': 63,\n",
       "  'Cases in the preceding 7 days': 48,\n",
       "  'Weekly case /%/ change': 31.25,\n",
       "  'Cases in the last 7 days/1M pop': 11.906,\n",
       "  'Deaths in the last 7 days': 0,\n",
       "  'Deaths in the preceding 7 days': 0,\n",
       "  'Weekly Death /%/ change': nan,\n",
       "  'Deaths in the last 7 days/1M pop': 0.0,\n",
       "  'Population': 5291453,\n",
       "  'Continent': 'Asia'},\n",
       " {'#': '#',\n",
       "  'Date': '06:12:2021',\n",
       "  'Country, Other': 'Tog',\n",
       "  'Cases in the last 7 days': 63,\n",
       "  'Cases in the preceding 7 days': 34,\n",
       "  'Weekly case /%/ change': 85.294,\n",
       "  'Cases in the last 7 days/1M pop': 7.364,\n",
       "  'Deaths in the last 7 days': 0,\n",
       "  'Deaths in the preceding 7 days': 0,\n",
       "  'Weekly Death /%/ change': nan,\n",
       "  'Deaths in the last 7 days/1M pop': 0.0,\n",
       "  'Population': 8554917,\n",
       "  'Continent': 'Africa'},\n",
       " {'#': '#',\n",
       "  'Date': '06:12:2021',\n",
       "  'Country, Other': 'Lesoth',\n",
       "  'Cases in the last 7 days': 59,\n",
       "  'Cases in the preceding 7 days': 50,\n",
       "  'Weekly case /%/ change': 18.0,\n",
       "  'Cases in the last 7 days/1M pop': 27.233,\n",
       "  'Deaths in the last 7 days': 1,\n",
       "  'Deaths in the preceding 7 days': 1,\n",
       "  'Weekly Death /%/ change': 0.0,\n",
       "  'Deaths in the last 7 days/1M pop': 0.462,\n",
       "  'Population': 2166463,\n",
       "  'Continent': 'Africa'},\n",
       " {'#': '#',\n",
       "  'Date': '06:12:2021',\n",
       "  'Country, Other': 'Britsh VgnIlad',\n",
       "  'Cases in the last 7 days': 44,\n",
       "  'Cases in the preceding 7 days': 0,\n",
       "  'Weekly case /%/ change': inf,\n",
       "  'Cases in the last 7 days/1M pop': 1441.772,\n",
       "  'Deaths in the last 7 days': 0,\n",
       "  'Deaths in the preceding 7 days': 0,\n",
       "  'Weekly Death /%/ change': nan,\n",
       "  'Deaths in the last 7 days/1M pop': 0.0,\n",
       "  'Population': 30518,\n",
       "  'Continent': 'North Ameica'},\n",
       " {'#': '#',\n",
       "  'Date': '06:12:2021',\n",
       "  'Country, Other': 'Comrs',\n",
       "  'Cases in the last 7 days': 44,\n",
       "  'Cases in the preceding 7 days': 48,\n",
       "  'Weekly case /%/ change': -8.333,\n",
       "  'Cases in the last 7 days/1M pop': 49.108,\n",
       "  'Deaths in the last 7 days': 0,\n",
       "  'Deaths in the preceding 7 days': 0,\n",
       "  'Weekly Death /%/ change': nan,\n",
       "  'Deaths in the last 7 days/1M pop': 0.0,\n",
       "  'Population': 895976,\n",
       "  'Continent': 'Africa'},\n",
       " {'#': '#',\n",
       "  'Date': '06:12:2021',\n",
       "  'Country, Other': 'Burndi',\n",
       "  'Cases in the last 7 days': 43,\n",
       "  'Cases in the preceding 7 days': 64,\n",
       "  'Weekly case /%/ change': -32.812,\n",
       "  'Cases in the last 7 days/1M pop': 3.469,\n",
       "  'Deaths in the last 7 days': 0,\n",
       "  'Deaths in the preceding 7 days': 0,\n",
       "  'Weekly Death /%/ change': nan,\n",
       "  'Deaths in the last 7 days/1M pop': 0.0,\n",
       "  'Population': 12394511,\n",
       "  'Continent': 'Africa'},\n",
       " {'#': '#',\n",
       "  'Date': '06:12:2021',\n",
       "  'Country, Other': 'Chad',\n",
       "  'Cases in the last 7 days': 42,\n",
       "  'Cases in the preceding 7 days': 147,\n",
       "  'Weekly case /%/ change': -71.429,\n",
       "  'Cases in the last 7 days/1M pop': 2.457,\n",
       "  'Deaths in the last 7 days': 6,\n",
       "  'Deaths in the preceding 7 days': 0,\n",
       "  'Weekly Death /%/ change': inf,\n",
       "  'Deaths in the last 7 days/1M pop': 0.351,\n",
       "  'Population': 17096376,\n",
       "  'Continent': 'Africa'},\n",
       " {'#': '#',\n",
       "  'Date': '06:12:2021',\n",
       "  'Country, Other': 'South dan',\n",
       "  'Cases in the last 7 days': 41,\n",
       "  'Cases in the preceding 7 days': 79,\n",
       "  'Weekly case /%/ change': -48.101,\n",
       "  'Cases in the last 7 days/1M pop': 3.603,\n",
       "  'Deaths in the last 7 days': 0,\n",
       "  'Deaths in the preceding 7 days': 0,\n",
       "  'Weekly Death /%/ change': nan,\n",
       "  'Deaths in the last 7 days/1M pop': 0.0,\n",
       "  'Population': 11380783,\n",
       "  'Continent': 'Africa'},\n",
       " {'#': '#',\n",
       "  'Date': '06:12:2021',\n",
       "  'Country, Other': 'Sengal',\n",
       "  'Cases in the last 7 days': 39,\n",
       "  'Cases in the preceding 7 days': 17,\n",
       "  'Weekly case /%/ change': 129.412,\n",
       "  'Cases in the last 7 days/1M pop': 2.245,\n",
       "  'Deaths in the last 7 days': 1,\n",
       "  'Deaths in the preceding 7 days': 2,\n",
       "  'Weekly Death /%/ change': -50.0,\n",
       "  'Deaths in the last 7 days/1M pop': 0.058,\n",
       "  'Population': 17371795,\n",
       "  'Continent': 'Africa'},\n",
       " {'#': '#',\n",
       "  'Date': '06:12:2021',\n",
       "  'Country, Other': 'Guadelop',\n",
       "  'Cases in the last 7 days': 38,\n",
       "  'Cases in the preceding 7 days': 99,\n",
       "  'Weekly case /%/ change': -61.616,\n",
       "  'Cases in the last 7 days/1M pop': 94.947,\n",
       "  'Deaths in the last 7 days': 2,\n",
       "  'Deaths in the preceding 7 days': 0,\n",
       "  'Weekly Death /%/ change': inf,\n",
       "  'Deaths in the last 7 days/1M pop': 4.997,\n",
       "  'Population': 400222,\n",
       "  'Continent': 'North Ameica'},\n",
       " {'#': '#',\n",
       "  'Date': '06:12:2021',\n",
       "  'Country, Other': 'Yemn',\n",
       "  'Cases in the last 7 days': 38,\n",
       "  'Cases in the preceding 7 days': 32,\n",
       "  'Weekly case /%/ change': 18.75,\n",
       "  'Cases in the last 7 days/1M pop': 1.235,\n",
       "  'Deaths in the last 7 days': 8,\n",
       "  'Deaths in the preceding 7 days': 8,\n",
       "  'Weekly Death /%/ change': 0.0,\n",
       "  'Deaths in the last 7 days/1M pop': 0.26,\n",
       "  'Population': 30761184,\n",
       "  'Continent': 'Asia'},\n",
       " {'#': '#',\n",
       "  'Date': '06:12:2021',\n",
       "  'Country, Other': 'Fij',\n",
       "  'Cases in the last 7 days': 37,\n",
       "  'Cases in the preceding 7 days': 46,\n",
       "  'Weekly case /%/ change': -19.565,\n",
       "  'Cases in the last 7 days/1M pop': 40.852,\n",
       "  'Deaths in the last 7 days': 1,\n",
       "  'Deaths in the preceding 7 days': 1,\n",
       "  'Weekly Death /%/ change': 0.0,\n",
       "  'Deaths in the last 7 days/1M pop': 1.104,\n",
       "  'Population': 905708,\n",
       "  'Continent': 'Australi/Ocen'},\n",
       " {'#': '#',\n",
       "  'Date': '06:12:2021',\n",
       "  'Country, Other': 'Somali',\n",
       "  'Cases in the last 7 days': 35,\n",
       "  'Cases in the preceding 7 days': 47,\n",
       "  'Weekly case /%/ change': -25.532,\n",
       "  'Cases in the last 7 days/1M pop': 2.118,\n",
       "  'Deaths in the last 7 days': 4,\n",
       "  'Deaths in the preceding 7 days': 3,\n",
       "  'Weekly Death /%/ change': 33.333,\n",
       "  'Deaths in the last 7 days/1M pop': 0.242,\n",
       "  'Population': 16524060,\n",
       "  'Continent': 'Africa'},\n",
       " {'#': '#',\n",
       "  'Date': '06:12:2021',\n",
       "  'Country, Other': 'Hong K',\n",
       "  'Cases in the last 7 days': 34,\n",
       "  'Cases in the preceding 7 days': 26,\n",
       "  'Weekly case /%/ change': 30.769,\n",
       "  'Cases in the last 7 days/1M pop': 4.483,\n",
       "  'Deaths in the last 7 days': 0,\n",
       "  'Deaths in the preceding 7 days': 0,\n",
       "  'Weekly Death /%/ change': nan,\n",
       "  'Deaths in the last 7 days/1M pop': 0.0,\n",
       "  'Population': 7583704,\n",
       "  'Continent': 'Asia'},\n",
       " {'#': '#',\n",
       "  'Date': '06:12:2021',\n",
       "  'Country, Other': 'CAR',\n",
       "  'Cases in the last 7 days': 34,\n",
       "  'Cases in the preceding 7 days': 42,\n",
       "  'Weekly case /%/ change': -19.048,\n",
       "  'Cases in the last 7 days/1M pop': 6.87,\n",
       "  'Deaths in the last 7 days': 0,\n",
       "  'Deaths in the preceding 7 days': 0,\n",
       "  'Weekly Death /%/ change': nan,\n",
       "  'Deaths in the last 7 days/1M pop': 0.0,\n",
       "  'Population': 4949385,\n",
       "  'Continent': 'Africa'},\n",
       " {'#': '#',\n",
       "  'Date': '06:12:2021',\n",
       "  'Country, Other': 'Saint Mr',\n",
       "  'Cases in the last 7 days': 24,\n",
       "  'Cases in the preceding 7 days': 0,\n",
       "  'Weekly case /%/ change': inf,\n",
       "  'Cases in the last 7 days/1M pop': 605.984,\n",
       "  'Deaths in the last 7 days': 0,\n",
       "  'Deaths in the preceding 7 days': 0,\n",
       "  'Weekly Death /%/ change': nan,\n",
       "  'Deaths in the last 7 days/1M pop': 0.0,\n",
       "  'Population': 39605,\n",
       "  'Continent': 'North Ameica'},\n",
       " {'#': '#',\n",
       "  'Date': '06:12:2021',\n",
       "  'Country, Other': 'Sint Mare',\n",
       "  'Cases in the last 7 days': 23,\n",
       "  'Cases in the preceding 7 days': 14,\n",
       "  'Weekly case /%/ change': 64.286,\n",
       "  'Cases in the last 7 days/1M pop': 527.886,\n",
       "  'Deaths in the last 7 days': 0,\n",
       "  'Deaths in the preceding 7 days': 0,\n",
       "  'Weekly Death /%/ change': nan,\n",
       "  'Deaths in the last 7 days/1M pop': 0.0,\n",
       "  'Population': 43570,\n",
       "  'Continent': 'North Ameica'},\n",
       " {'#': '#',\n",
       "  'Date': '06:12:2021',\n",
       "  'Country, Other': 'Bermuda',\n",
       "  'Cases in the last 7 days': 21,\n",
       "  'Cases in the preceding 7 days': 15,\n",
       "  'Weekly case /%/ change': 40.0,\n",
       "  'Cases in the last 7 days/1M pop': 338.983,\n",
       "  'Deaths in the last 7 days': 0,\n",
       "  'Deaths in the preceding 7 days': 0,\n",
       "  'Weekly Death /%/ change': nan,\n",
       "  'Deaths in the last 7 days/1M pop': 0.0,\n",
       "  'Population': 61950,\n",
       "  'Continent': 'North Ameica'},\n",
       " {'#': '#',\n",
       "  'Date': '06:12:2021',\n",
       "  'Country, Other': 'Equatoril Gne',\n",
       "  'Cases in the last 7 days': 20,\n",
       "  'Cases in the preceding 7 days': 41,\n",
       "  'Weekly case /%/ change': -51.22,\n",
       "  'Cases in the last 7 days/1M pop': 13.619,\n",
       "  'Deaths in the last 7 days': 2,\n",
       "  'Deaths in the preceding 7 days': 3,\n",
       "  'Weekly Death /%/ change': -33.333,\n",
       "  'Deaths in the last 7 days/1M pop': 1.362,\n",
       "  'Population': 1468524,\n",
       "  'Continent': 'Africa'},\n",
       " {'#': '#',\n",
       "  'Date': '06:12:2021',\n",
       "  'Country, Other': 'Grenad',\n",
       "  'Cases in the last 7 days': 20,\n",
       "  'Cases in the preceding 7 days': 15,\n",
       "  'Weekly case /%/ change': 33.333,\n",
       "  'Cases in the last 7 days/1M pop': 176.574,\n",
       "  'Deaths in the last 7 days': 0,\n",
       "  'Deaths in the preceding 7 days': 0,\n",
       "  'Weekly Death /%/ change': nan,\n",
       "  'Deaths in the last 7 days/1M pop': 0.0,\n",
       "  'Population': 113267,\n",
       "  'Continent': 'North Ameica'},\n",
       " {'#': '#',\n",
       "  'Date': '06:12:2021',\n",
       "  'Country, Other': 'Beni',\n",
       "  'Cases in the last 7 days': 13,\n",
       "  'Cases in the preceding 7 days': 4,\n",
       "  'Weekly case /%/ change': 225.0,\n",
       "  'Cases in the last 7 days/1M pop': 1.034,\n",
       "  'Deaths in the last 7 days': 0,\n",
       "  'Deaths in the preceding 7 days': 0,\n",
       "  'Weekly Death /%/ change': nan,\n",
       "  'Deaths in the last 7 days/1M pop': 0.0,\n",
       "  'Population': 12575055,\n",
       "  'Continent': 'Africa'},\n",
       " {'#': '#',\n",
       "  'Date': '06:12:2021',\n",
       "  'Country, Other': 'Saint PerMqulo',\n",
       "  'Cases in the last 7 days': 11,\n",
       "  'Cases in the preceding 7 days': 31,\n",
       "  'Weekly case /%/ change': -64.516,\n",
       "  'Cases in the last 7 days/1M pop': 1911.714,\n",
       "  'Deaths in the last 7 days': 0,\n",
       "  'Deaths in the preceding 7 days': 0,\n",
       "  'Weekly Death /%/ change': nan,\n",
       "  'Deaths in the last 7 days/1M pop': 0.0,\n",
       "  'Population': 5754,\n",
       "  'Continent': 'North Ameica'},\n",
       " {'#': '#',\n",
       "  'Date': '06:12:2021',\n",
       "  'Country, Other': 'Tanzi',\n",
       "  'Cases in the last 7 days': 9,\n",
       "  'Cases in the preceding 7 days': 34,\n",
       "  'Weekly case /%/ change': -73.529,\n",
       "  'Cases in the last 7 days/1M pop': 0.145,\n",
       "  'Deaths in the last 7 days': 0,\n",
       "  'Deaths in the preceding 7 days': 3,\n",
       "  'Weekly Death /%/ change': -100.0,\n",
       "  'Deaths in the last 7 days/1M pop': 0.0,\n",
       "  'Population': 62154689,\n",
       "  'Continent': 'Africa'},\n",
       " {'#': '#',\n",
       "  'Date': '06:12:2021',\n",
       "  'Country, Other': 'Walis ndFut',\n",
       "  'Cases in the last 7 days': 9,\n",
       "  'Cases in the preceding 7 days': 0,\n",
       "  'Weekly case /%/ change': inf,\n",
       "  'Cases in the last 7 days/1M pop': 821.318,\n",
       "  'Deaths in the last 7 days': 0,\n",
       "  'Deaths in the preceding 7 days': 0,\n",
       "  'Weekly Death /%/ change': nan,\n",
       "  'Deaths in the last 7 days/1M pop': 0.0,\n",
       "  'Population': 10958,\n",
       "  'Continent': 'Australi/Ocen'},\n",
       " {'#': '#',\n",
       "  'Date': '06:12:2021',\n",
       "  'Country, Other': 'Saint KsdNev',\n",
       "  'Cases in the last 7 days': 8,\n",
       "  'Cases in the preceding 7 days': 16,\n",
       "  'Weekly case /%/ change': -50.0,\n",
       "  'Cases in the last 7 days/1M pop': 148.876,\n",
       "  'Deaths in the last 7 days': 0,\n",
       "  'Deaths in the preceding 7 days': 0,\n",
       "  'Weekly Death /%/ change': nan,\n",
       "  'Deaths in the last 7 days/1M pop': 0.0,\n",
       "  'Population': 53736,\n",
       "  'Continent': 'North Ameica'},\n",
       " {'#': '#',\n",
       "  'Date': '06:12:2021',\n",
       "  'Country, Other': 'Turks andCico',\n",
       "  'Cases in the last 7 days': 7,\n",
       "  'Cases in the preceding 7 days': 11,\n",
       "  'Weekly case /%/ change': -36.364,\n",
       "  'Cases in the last 7 days/1M pop': 177.381,\n",
       "  'Deaths in the last 7 days': 1,\n",
       "  'Deaths in the preceding 7 days': 1,\n",
       "  'Weekly Death /%/ change': 0.0,\n",
       "  'Deaths in the last 7 days/1M pop': 25.34,\n",
       "  'Population': 39463,\n",
       "  'Continent': 'North Ameica'},\n",
       " {'#': '#',\n",
       "  'Date': '06:12:2021',\n",
       "  'Country, Other': 'Antigua dBrb',\n",
       "  'Cases in the last 7 days': 6,\n",
       "  'Cases in the preceding 7 days': 6,\n",
       "  'Weekly case /%/ change': 0.0,\n",
       "  'Cases in the last 7 days/1M pop': 60.554,\n",
       "  'Deaths in the last 7 days': 0,\n",
       "  'Deaths in the preceding 7 days': 9,\n",
       "  'Weekly Death /%/ change': -100.0,\n",
       "  'Deaths in the last 7 days/1M pop': 0.0,\n",
       "  'Population': 99085,\n",
       "  'Continent': 'North Ameica'},\n",
       " {'#': '#',\n",
       "  'Date': '06:12:2021',\n",
       "  'Country, Other': 'Timor-Lest',\n",
       "  'Cases in the last 7 days': 6,\n",
       "  'Cases in the preceding 7 days': 3,\n",
       "  'Weekly case /%/ change': 100.0,\n",
       "  'Cases in the last 7 days/1M pop': 4.431,\n",
       "  'Deaths in the last 7 days': 0,\n",
       "  'Deaths in the preceding 7 days': 0,\n",
       "  'Weekly Death /%/ change': nan,\n",
       "  'Deaths in the last 7 days/1M pop': 0.0,\n",
       "  'Population': 1354209,\n",
       "  'Continent': 'Asia'},\n",
       " {'#': '#',\n",
       "  'Date': '06:12:2021',\n",
       "  'Country, Other': 'Djibout',\n",
       "  'Cases in the last 7 days': 4,\n",
       "  'Cases in the preceding 7 days': 3,\n",
       "  'Weekly case /%/ change': 33.333,\n",
       "  'Cases in the last 7 days/1M pop': 3.966,\n",
       "  'Deaths in the last 7 days': 1,\n",
       "  'Deaths in the preceding 7 days': 0,\n",
       "  'Weekly Death /%/ change': inf,\n",
       "  'Deaths in the last 7 days/1M pop': 0.992,\n",
       "  'Population': 1008473,\n",
       "  'Continent': 'Africa'},\n",
       " {'#': '#',\n",
       "  'Date': '06:12:2021',\n",
       "  'Country, Other': 'Falknd Is',\n",
       "  'Cases in the last 7 days': 4,\n",
       "  'Cases in the preceding 7 days': 0,\n",
       "  'Weekly case /%/ change': inf,\n",
       "  'Cases in the last 7 days/1M pop': 1103.753,\n",
       "  'Deaths in the last 7 days': 0,\n",
       "  'Deaths in the preceding 7 days': 0,\n",
       "  'Weekly Death /%/ change': nan,\n",
       "  'Deaths in the last 7 days/1M pop': 0.0,\n",
       "  'Population': 3624,\n",
       "  'Continent': 'South America'},\n",
       " {'#': '#',\n",
       "  'Date': '06:12:2021',\n",
       "  'Country, Other': 'Guinea-Bs',\n",
       "  'Cases in the last 7 days': 4,\n",
       "  'Cases in the preceding 7 days': 6,\n",
       "  'Weekly case /%/ change': -33.333,\n",
       "  'Cases in the last 7 days/1M pop': 1.966,\n",
       "  'Deaths in the last 7 days': 1,\n",
       "  'Deaths in the preceding 7 days': 2,\n",
       "  'Weekly Death /%/ change': -50.0,\n",
       "  'Deaths in the last 7 days/1M pop': 0.492,\n",
       "  'Population': 2034210,\n",
       "  'Continent': 'Africa'},\n",
       " {'#': '#',\n",
       "  'Date': '06:12:2021',\n",
       "  'Country, Other': 'Gambi',\n",
       "  'Cases in the last 7 days': 3,\n",
       "  'Cases in the preceding 7 days': 1,\n",
       "  'Weekly case /%/ change': 200.0,\n",
       "  'Cases in the last 7 days/1M pop': 1.194,\n",
       "  'Deaths in the last 7 days': 0,\n",
       "  'Deaths in the preceding 7 days': 0,\n",
       "  'Weekly Death /%/ change': nan,\n",
       "  'Deaths in the last 7 days/1M pop': 0.0,\n",
       "  'Population': 2513258,\n",
       "  'Continent': 'Africa'},\n",
       " {'#': '#',\n",
       "  'Date': '06:12:2021',\n",
       "  'Country, Other': 'Libera',\n",
       "  'Cases in the last 7 days': 3,\n",
       "  'Cases in the preceding 7 days': 3,\n",
       "  'Weekly case /%/ change': 0.0,\n",
       "  'Cases in the last 7 days/1M pop': 0.574,\n",
       "  'Deaths in the last 7 days': 0,\n",
       "  'Deaths in the preceding 7 days': 0,\n",
       "  'Weekly Death /%/ change': nan,\n",
       "  'Deaths in the last 7 days/1M pop': 0.0,\n",
       "  'Population': 5226892,\n",
       "  'Continent': 'Africa'},\n",
       " {'#': '#',\n",
       "  'Date': '06:12:2021',\n",
       "  'Country, Other': 'Guinea',\n",
       "  'Cases in the last 7 days': 2,\n",
       "  'Cases in the preceding 7 days': 53,\n",
       "  'Weekly case /%/ change': -96.226,\n",
       "  'Cases in the last 7 days/1M pop': 0.147,\n",
       "  'Deaths in the last 7 days': 0,\n",
       "  'Deaths in the preceding 7 days': 0,\n",
       "  'Weekly Death /%/ change': nan,\n",
       "  'Deaths in the last 7 days/1M pop': 0.0,\n",
       "  'Population': 13639640,\n",
       "  'Continent': 'Africa'},\n",
       " {'#': '#',\n",
       "  'Date': '06:12:2021',\n",
       "  'Country, Other': 'St. Barh',\n",
       "  'Cases in the last 7 days': 2,\n",
       "  'Cases in the preceding 7 days': 6,\n",
       "  'Weekly case /%/ change': -66.667,\n",
       "  'Cases in the last 7 days/1M pop': 201.613,\n",
       "  'Deaths in the last 7 days': 0,\n",
       "  'Deaths in the preceding 7 days': 0,\n",
       "  'Weekly Death /%/ change': nan,\n",
       "  'Deaths in the last 7 days/1M pop': 0.0,\n",
       "  'Population': 9920,\n",
       "  'Continent': 'North Ameica'},\n",
       " {'#': '#',\n",
       "  'Date': '06:12:2021',\n",
       "  'Country, Other': 'Sao TmendPricp',\n",
       "  'Cases in the last 7 days': 2,\n",
       "  'Cases in the preceding 7 days': 0,\n",
       "  'Weekly case /%/ change': inf,\n",
       "  'Cases in the last 7 days/1M pop': 8.891,\n",
       "  'Deaths in the last 7 days': 0,\n",
       "  'Deaths in the preceding 7 days': 0,\n",
       "  'Weekly Death /%/ change': nan,\n",
       "  'Deaths in the last 7 days/1M pop': 0.0,\n",
       "  'Population': 224955,\n",
       "  'Continent': 'Africa'},\n",
       " {'#': '#',\n",
       "  'Date': '06:12:2021',\n",
       "  'Country, Other': 'Bhutan',\n",
       "  'Cases in the last 7 days': 1,\n",
       "  'Cases in the preceding 7 days': 8,\n",
       "  'Weekly case /%/ change': -87.5,\n",
       "  'Cases in the last 7 days/1M pop': 1.276,\n",
       "  'Deaths in the last 7 days': 0,\n",
       "  'Deaths in the preceding 7 days': 0,\n",
       "  'Weekly Death /%/ change': nan,\n",
       "  'Deaths in the last 7 days/1M pop': 0.0,\n",
       "  'Population': 783719,\n",
       "  'Continent': 'Asia'},\n",
       " {'#': '#',\n",
       "  'Date': '06:12:2021',\n",
       "  'Country, Other': 'Siera Lon',\n",
       "  'Cases in the last 7 days': 1,\n",
       "  'Cases in the preceding 7 days': 1,\n",
       "  'Weekly case /%/ change': 0.0,\n",
       "  'Cases in the last 7 days/1M pop': 0.122,\n",
       "  'Deaths in the last 7 days': 0,\n",
       "  'Deaths in the preceding 7 days': 0,\n",
       "  'Weekly Death /%/ change': nan,\n",
       "  'Deaths in the last 7 days/1M pop': 0.0,\n",
       "  'Population': 8207979,\n",
       "  'Continent': 'Africa'},\n",
       " {'#': '#',\n",
       "  'Date': '06:12:2021',\n",
       "  'Country, Other': 'El Savdor',\n",
       "  'Cases in the last 7 days': 0,\n",
       "  'Cases in the preceding 7 days': 884,\n",
       "  'Weekly case /%/ change': -100.0,\n",
       "  'Cases in the last 7 days/1M pop': 0.0,\n",
       "  'Deaths in the last 7 days': 12,\n",
       "  'Deaths in the preceding 7 days': 18,\n",
       "  'Weekly Death /%/ change': -33.333,\n",
       "  'Deaths in the last 7 days/1M pop': 1.837,\n",
       "  'Population': 6532881,\n",
       "  'Continent': 'North Ameica'},\n",
       " {'#': '#',\n",
       "  'Date': '06:12:2021',\n",
       "  'Country, Other': 'Ghan',\n",
       "  'Cases in the last 7 days': 0,\n",
       "  'Cases in the preceding 7 days': 93,\n",
       "  'Weekly case /%/ change': -100.0,\n",
       "  'Cases in the last 7 days/1M pop': 0.0,\n",
       "  'Deaths in the last 7 days': 0,\n",
       "  'Deaths in the preceding 7 days': 1,\n",
       "  'Weekly Death /%/ change': -100.0,\n",
       "  'Deaths in the last 7 days/1M pop': 0.0,\n",
       "  'Population': 31996497,\n",
       "  'Continent': 'Africa'}]"
      ]
     },
     "execution_count": 26,
     "metadata": {},
     "output_type": "execute_result"
    }
   ],
   "source": [
    "country_lasted_week_result"
   ]
  },
  {
   "cell_type": "markdown",
   "metadata": {},
   "source": [
    "# TRỰC QUAN HÓA DỮ LIỆU\n",
    "***"
   ]
  },
  {
   "cell_type": "code",
   "execution_count": 27,
   "metadata": {},
   "outputs": [],
   "source": [
    "import plotly.express as px     #plotly 5.2.1\n",
    "from plotly.subplots import make_subplots\n",
    "import plotly.graph_objects as go"
   ]
  },
  {
   "cell_type": "code",
   "execution_count": 28,
   "metadata": {},
   "outputs": [],
   "source": [
    "def prepare_data_for_graph(list_dict, list_key_name):\n",
    "    df_value = pd.DataFrame(columns = list_key_name)\n",
    "    for each_dict in list_dict:\n",
    "        to_append = []\n",
    "        for each_name in list_key_name:\n",
    "            to_append.append(each_dict[each_name])\n",
    "        df_length = len(df_value)\n",
    "        df_value.loc[df_length] = to_append\n",
    "    return df_value"
   ]
  },
  {
   "cell_type": "markdown",
   "metadata": {},
   "source": [
    "### Tổng quan về tình hình thế giới\n",
    "***"
   ]
  },
  {
   "cell_type": "code",
   "execution_count": 29,
   "metadata": {},
   "outputs": [
    {
     "data": {
      "text/html": [
       "<div>\n",
       "<style scoped>\n",
       "    .dataframe tbody tr th:only-of-type {\n",
       "        vertical-align: middle;\n",
       "    }\n",
       "\n",
       "    .dataframe tbody tr th {\n",
       "        vertical-align: top;\n",
       "    }\n",
       "\n",
       "    .dataframe thead th {\n",
       "        text-align: right;\n",
       "    }\n",
       "</style>\n",
       "<table border=\"1\" class=\"dataframe\">\n",
       "  <thead>\n",
       "    <tr style=\"text-align: right;\">\n",
       "      <th></th>\n",
       "      <th>Date</th>\n",
       "      <th>New Cases</th>\n",
       "      <th>New Deaths</th>\n",
       "      <th>New Recovered</th>\n",
       "    </tr>\n",
       "  </thead>\n",
       "  <tbody>\n",
       "    <tr>\n",
       "      <th>0</th>\n",
       "      <td>27:11:2021</td>\n",
       "      <td>484205.0</td>\n",
       "      <td>6014.0</td>\n",
       "      <td>373473.0</td>\n",
       "    </tr>\n",
       "    <tr>\n",
       "      <th>1</th>\n",
       "      <td>28:11:2021</td>\n",
       "      <td>387788.0</td>\n",
       "      <td>4257.0</td>\n",
       "      <td>307047.0</td>\n",
       "    </tr>\n",
       "    <tr>\n",
       "      <th>2</th>\n",
       "      <td>29:11:2021</td>\n",
       "      <td>475969.0</td>\n",
       "      <td>5825.0</td>\n",
       "      <td>451875.0</td>\n",
       "    </tr>\n",
       "    <tr>\n",
       "      <th>3</th>\n",
       "      <td>30:11:2021</td>\n",
       "      <td>587982.0</td>\n",
       "      <td>7883.0</td>\n",
       "      <td>510886.0</td>\n",
       "    </tr>\n",
       "    <tr>\n",
       "      <th>4</th>\n",
       "      <td>01:12:2021</td>\n",
       "      <td>682525.0</td>\n",
       "      <td>8535.0</td>\n",
       "      <td>462696.0</td>\n",
       "    </tr>\n",
       "    <tr>\n",
       "      <th>5</th>\n",
       "      <td>02:12:2021</td>\n",
       "      <td>694394.0</td>\n",
       "      <td>7571.0</td>\n",
       "      <td>443518.0</td>\n",
       "    </tr>\n",
       "    <tr>\n",
       "      <th>6</th>\n",
       "      <td>03:12:2021</td>\n",
       "      <td>705204.0</td>\n",
       "      <td>7928.0</td>\n",
       "      <td>452414.0</td>\n",
       "    </tr>\n",
       "    <tr>\n",
       "      <th>7</th>\n",
       "      <td>04:12:2021</td>\n",
       "      <td>530432.0</td>\n",
       "      <td>5692.0</td>\n",
       "      <td>378011.0</td>\n",
       "    </tr>\n",
       "    <tr>\n",
       "      <th>8</th>\n",
       "      <td>05:12:2021</td>\n",
       "      <td>474423.0</td>\n",
       "      <td>4569.0</td>\n",
       "      <td>342523.0</td>\n",
       "    </tr>\n",
       "    <tr>\n",
       "      <th>9</th>\n",
       "      <td>06:12:2021</td>\n",
       "      <td>448248.0</td>\n",
       "      <td>5612.0</td>\n",
       "      <td>485818.0</td>\n",
       "    </tr>\n",
       "    <tr>\n",
       "      <th>10</th>\n",
       "      <td>07:12:2021</td>\n",
       "      <td>627031.0</td>\n",
       "      <td>8237.0</td>\n",
       "      <td>482526.0</td>\n",
       "    </tr>\n",
       "    <tr>\n",
       "      <th>11</th>\n",
       "      <td>08:12:2021</td>\n",
       "      <td>666364.0</td>\n",
       "      <td>7895.0</td>\n",
       "      <td>502513.0</td>\n",
       "    </tr>\n",
       "    <tr>\n",
       "      <th>12</th>\n",
       "      <td>09:12:2021</td>\n",
       "      <td>685385.0</td>\n",
       "      <td>8289.0</td>\n",
       "      <td>484503.0</td>\n",
       "    </tr>\n",
       "    <tr>\n",
       "      <th>13</th>\n",
       "      <td>10:12:2021</td>\n",
       "      <td>615462.0</td>\n",
       "      <td>7921.0</td>\n",
       "      <td>458478.0</td>\n",
       "    </tr>\n",
       "  </tbody>\n",
       "</table>\n",
       "</div>"
      ],
      "text/plain": [
       "          Date  New Cases  New Deaths  New Recovered\n",
       "0   27:11:2021   484205.0      6014.0       373473.0\n",
       "1   28:11:2021   387788.0      4257.0       307047.0\n",
       "2   29:11:2021   475969.0      5825.0       451875.0\n",
       "3   30:11:2021   587982.0      7883.0       510886.0\n",
       "4   01:12:2021   682525.0      8535.0       462696.0\n",
       "5   02:12:2021   694394.0      7571.0       443518.0\n",
       "6   03:12:2021   705204.0      7928.0       452414.0\n",
       "7   04:12:2021   530432.0      5692.0       378011.0\n",
       "8   05:12:2021   474423.0      4569.0       342523.0\n",
       "9   06:12:2021   448248.0      5612.0       485818.0\n",
       "10  07:12:2021   627031.0      8237.0       482526.0\n",
       "11  08:12:2021   666364.0      7895.0       502513.0\n",
       "12  09:12:2021   685385.0      8289.0       484503.0\n",
       "13  10:12:2021   615462.0      7921.0       458478.0"
      ]
     },
     "execution_count": 29,
     "metadata": {},
     "output_type": "execute_result"
    }
   ],
   "source": [
    "wolrd_plot = prepare_data_for_graph(world_day_result_by_date, day_header[0:16])\n",
    "wolrd_plot[['Date', 'New Cases', 'New Deaths','New Recovered']]"
   ]
  },
  {
   "cell_type": "code",
   "execution_count": 30,
   "metadata": {},
   "outputs": [
    {
     "data": {
      "application/vnd.plotly.v1+json": {
       "config": {
        "plotlyServerURL": "https://plot.ly"
       },
       "data": [
        {
         "hovertemplate": "variable=New Cases<br>Date=%{x}<br>value=%{y}<extra></extra>",
         "legendgroup": "New Cases",
         "line": {
          "color": "#636efa",
          "dash": "solid"
         },
         "marker": {
          "symbol": "circle"
         },
         "mode": "lines+markers",
         "name": "New Cases",
         "orientation": "v",
         "showlegend": true,
         "type": "scatter",
         "x": [
          "27:11:2021",
          "28:11:2021",
          "29:11:2021",
          "30:11:2021",
          "01:12:2021",
          "02:12:2021",
          "03:12:2021",
          "04:12:2021",
          "05:12:2021",
          "06:12:2021",
          "07:12:2021",
          "08:12:2021",
          "09:12:2021",
          "10:12:2021"
         ],
         "xaxis": "x",
         "y": [
          484205,
          387788,
          475969,
          587982,
          682525,
          694394,
          705204,
          530432,
          474423,
          448248,
          627031,
          666364,
          685385,
          615462
         ],
         "yaxis": "y"
        },
        {
         "hovertemplate": "variable=New Deaths<br>Date=%{x}<br>value=%{y}<extra></extra>",
         "legendgroup": "New Deaths",
         "line": {
          "color": "#EF553B",
          "dash": "solid"
         },
         "marker": {
          "symbol": "circle"
         },
         "mode": "lines+markers",
         "name": "New Deaths",
         "orientation": "v",
         "showlegend": true,
         "type": "scatter",
         "x": [
          "27:11:2021",
          "28:11:2021",
          "29:11:2021",
          "30:11:2021",
          "01:12:2021",
          "02:12:2021",
          "03:12:2021",
          "04:12:2021",
          "05:12:2021",
          "06:12:2021",
          "07:12:2021",
          "08:12:2021",
          "09:12:2021",
          "10:12:2021"
         ],
         "xaxis": "x",
         "y": [
          6014,
          4257,
          5825,
          7883,
          8535,
          7571,
          7928,
          5692,
          4569,
          5612,
          8237,
          7895,
          8289,
          7921
         ],
         "yaxis": "y"
        },
        {
         "hovertemplate": "variable=New Recovered<br>Date=%{x}<br>value=%{y}<extra></extra>",
         "legendgroup": "New Recovered",
         "line": {
          "color": "#00cc96",
          "dash": "solid"
         },
         "marker": {
          "symbol": "circle"
         },
         "mode": "lines+markers",
         "name": "New Recovered",
         "orientation": "v",
         "showlegend": true,
         "type": "scatter",
         "x": [
          "27:11:2021",
          "28:11:2021",
          "29:11:2021",
          "30:11:2021",
          "01:12:2021",
          "02:12:2021",
          "03:12:2021",
          "04:12:2021",
          "05:12:2021",
          "06:12:2021",
          "07:12:2021",
          "08:12:2021",
          "09:12:2021",
          "10:12:2021"
         ],
         "xaxis": "x",
         "y": [
          373473,
          307047,
          451875,
          510886,
          462696,
          443518,
          452414,
          378011,
          342523,
          485818,
          482526,
          502513,
          484503,
          458478
         ],
         "yaxis": "y"
        }
       ],
       "layout": {
        "legend": {
         "title": {
          "text": "variable"
         },
         "tracegroupgap": 0
        },
        "template": {
         "data": {
          "bar": [
           {
            "error_x": {
             "color": "#2a3f5f"
            },
            "error_y": {
             "color": "#2a3f5f"
            },
            "marker": {
             "line": {
              "color": "#E5ECF6",
              "width": 0.5
             },
             "pattern": {
              "fillmode": "overlay",
              "size": 10,
              "solidity": 0.2
             }
            },
            "type": "bar"
           }
          ],
          "barpolar": [
           {
            "marker": {
             "line": {
              "color": "#E5ECF6",
              "width": 0.5
             },
             "pattern": {
              "fillmode": "overlay",
              "size": 10,
              "solidity": 0.2
             }
            },
            "type": "barpolar"
           }
          ],
          "carpet": [
           {
            "aaxis": {
             "endlinecolor": "#2a3f5f",
             "gridcolor": "white",
             "linecolor": "white",
             "minorgridcolor": "white",
             "startlinecolor": "#2a3f5f"
            },
            "baxis": {
             "endlinecolor": "#2a3f5f",
             "gridcolor": "white",
             "linecolor": "white",
             "minorgridcolor": "white",
             "startlinecolor": "#2a3f5f"
            },
            "type": "carpet"
           }
          ],
          "choropleth": [
           {
            "colorbar": {
             "outlinewidth": 0,
             "ticks": ""
            },
            "type": "choropleth"
           }
          ],
          "contour": [
           {
            "colorbar": {
             "outlinewidth": 0,
             "ticks": ""
            },
            "colorscale": [
             [
              0,
              "#0d0887"
             ],
             [
              0.1111111111111111,
              "#46039f"
             ],
             [
              0.2222222222222222,
              "#7201a8"
             ],
             [
              0.3333333333333333,
              "#9c179e"
             ],
             [
              0.4444444444444444,
              "#bd3786"
             ],
             [
              0.5555555555555556,
              "#d8576b"
             ],
             [
              0.6666666666666666,
              "#ed7953"
             ],
             [
              0.7777777777777778,
              "#fb9f3a"
             ],
             [
              0.8888888888888888,
              "#fdca26"
             ],
             [
              1,
              "#f0f921"
             ]
            ],
            "type": "contour"
           }
          ],
          "contourcarpet": [
           {
            "colorbar": {
             "outlinewidth": 0,
             "ticks": ""
            },
            "type": "contourcarpet"
           }
          ],
          "heatmap": [
           {
            "colorbar": {
             "outlinewidth": 0,
             "ticks": ""
            },
            "colorscale": [
             [
              0,
              "#0d0887"
             ],
             [
              0.1111111111111111,
              "#46039f"
             ],
             [
              0.2222222222222222,
              "#7201a8"
             ],
             [
              0.3333333333333333,
              "#9c179e"
             ],
             [
              0.4444444444444444,
              "#bd3786"
             ],
             [
              0.5555555555555556,
              "#d8576b"
             ],
             [
              0.6666666666666666,
              "#ed7953"
             ],
             [
              0.7777777777777778,
              "#fb9f3a"
             ],
             [
              0.8888888888888888,
              "#fdca26"
             ],
             [
              1,
              "#f0f921"
             ]
            ],
            "type": "heatmap"
           }
          ],
          "heatmapgl": [
           {
            "colorbar": {
             "outlinewidth": 0,
             "ticks": ""
            },
            "colorscale": [
             [
              0,
              "#0d0887"
             ],
             [
              0.1111111111111111,
              "#46039f"
             ],
             [
              0.2222222222222222,
              "#7201a8"
             ],
             [
              0.3333333333333333,
              "#9c179e"
             ],
             [
              0.4444444444444444,
              "#bd3786"
             ],
             [
              0.5555555555555556,
              "#d8576b"
             ],
             [
              0.6666666666666666,
              "#ed7953"
             ],
             [
              0.7777777777777778,
              "#fb9f3a"
             ],
             [
              0.8888888888888888,
              "#fdca26"
             ],
             [
              1,
              "#f0f921"
             ]
            ],
            "type": "heatmapgl"
           }
          ],
          "histogram": [
           {
            "marker": {
             "pattern": {
              "fillmode": "overlay",
              "size": 10,
              "solidity": 0.2
             }
            },
            "type": "histogram"
           }
          ],
          "histogram2d": [
           {
            "colorbar": {
             "outlinewidth": 0,
             "ticks": ""
            },
            "colorscale": [
             [
              0,
              "#0d0887"
             ],
             [
              0.1111111111111111,
              "#46039f"
             ],
             [
              0.2222222222222222,
              "#7201a8"
             ],
             [
              0.3333333333333333,
              "#9c179e"
             ],
             [
              0.4444444444444444,
              "#bd3786"
             ],
             [
              0.5555555555555556,
              "#d8576b"
             ],
             [
              0.6666666666666666,
              "#ed7953"
             ],
             [
              0.7777777777777778,
              "#fb9f3a"
             ],
             [
              0.8888888888888888,
              "#fdca26"
             ],
             [
              1,
              "#f0f921"
             ]
            ],
            "type": "histogram2d"
           }
          ],
          "histogram2dcontour": [
           {
            "colorbar": {
             "outlinewidth": 0,
             "ticks": ""
            },
            "colorscale": [
             [
              0,
              "#0d0887"
             ],
             [
              0.1111111111111111,
              "#46039f"
             ],
             [
              0.2222222222222222,
              "#7201a8"
             ],
             [
              0.3333333333333333,
              "#9c179e"
             ],
             [
              0.4444444444444444,
              "#bd3786"
             ],
             [
              0.5555555555555556,
              "#d8576b"
             ],
             [
              0.6666666666666666,
              "#ed7953"
             ],
             [
              0.7777777777777778,
              "#fb9f3a"
             ],
             [
              0.8888888888888888,
              "#fdca26"
             ],
             [
              1,
              "#f0f921"
             ]
            ],
            "type": "histogram2dcontour"
           }
          ],
          "mesh3d": [
           {
            "colorbar": {
             "outlinewidth": 0,
             "ticks": ""
            },
            "type": "mesh3d"
           }
          ],
          "parcoords": [
           {
            "line": {
             "colorbar": {
              "outlinewidth": 0,
              "ticks": ""
             }
            },
            "type": "parcoords"
           }
          ],
          "pie": [
           {
            "automargin": true,
            "type": "pie"
           }
          ],
          "scatter": [
           {
            "marker": {
             "colorbar": {
              "outlinewidth": 0,
              "ticks": ""
             }
            },
            "type": "scatter"
           }
          ],
          "scatter3d": [
           {
            "line": {
             "colorbar": {
              "outlinewidth": 0,
              "ticks": ""
             }
            },
            "marker": {
             "colorbar": {
              "outlinewidth": 0,
              "ticks": ""
             }
            },
            "type": "scatter3d"
           }
          ],
          "scattercarpet": [
           {
            "marker": {
             "colorbar": {
              "outlinewidth": 0,
              "ticks": ""
             }
            },
            "type": "scattercarpet"
           }
          ],
          "scattergeo": [
           {
            "marker": {
             "colorbar": {
              "outlinewidth": 0,
              "ticks": ""
             }
            },
            "type": "scattergeo"
           }
          ],
          "scattergl": [
           {
            "marker": {
             "colorbar": {
              "outlinewidth": 0,
              "ticks": ""
             }
            },
            "type": "scattergl"
           }
          ],
          "scattermapbox": [
           {
            "marker": {
             "colorbar": {
              "outlinewidth": 0,
              "ticks": ""
             }
            },
            "type": "scattermapbox"
           }
          ],
          "scatterpolar": [
           {
            "marker": {
             "colorbar": {
              "outlinewidth": 0,
              "ticks": ""
             }
            },
            "type": "scatterpolar"
           }
          ],
          "scatterpolargl": [
           {
            "marker": {
             "colorbar": {
              "outlinewidth": 0,
              "ticks": ""
             }
            },
            "type": "scatterpolargl"
           }
          ],
          "scatterternary": [
           {
            "marker": {
             "colorbar": {
              "outlinewidth": 0,
              "ticks": ""
             }
            },
            "type": "scatterternary"
           }
          ],
          "surface": [
           {
            "colorbar": {
             "outlinewidth": 0,
             "ticks": ""
            },
            "colorscale": [
             [
              0,
              "#0d0887"
             ],
             [
              0.1111111111111111,
              "#46039f"
             ],
             [
              0.2222222222222222,
              "#7201a8"
             ],
             [
              0.3333333333333333,
              "#9c179e"
             ],
             [
              0.4444444444444444,
              "#bd3786"
             ],
             [
              0.5555555555555556,
              "#d8576b"
             ],
             [
              0.6666666666666666,
              "#ed7953"
             ],
             [
              0.7777777777777778,
              "#fb9f3a"
             ],
             [
              0.8888888888888888,
              "#fdca26"
             ],
             [
              1,
              "#f0f921"
             ]
            ],
            "type": "surface"
           }
          ],
          "table": [
           {
            "cells": {
             "fill": {
              "color": "#EBF0F8"
             },
             "line": {
              "color": "white"
             }
            },
            "header": {
             "fill": {
              "color": "#C8D4E3"
             },
             "line": {
              "color": "white"
             }
            },
            "type": "table"
           }
          ]
         },
         "layout": {
          "annotationdefaults": {
           "arrowcolor": "#2a3f5f",
           "arrowhead": 0,
           "arrowwidth": 1
          },
          "autotypenumbers": "strict",
          "coloraxis": {
           "colorbar": {
            "outlinewidth": 0,
            "ticks": ""
           }
          },
          "colorscale": {
           "diverging": [
            [
             0,
             "#8e0152"
            ],
            [
             0.1,
             "#c51b7d"
            ],
            [
             0.2,
             "#de77ae"
            ],
            [
             0.3,
             "#f1b6da"
            ],
            [
             0.4,
             "#fde0ef"
            ],
            [
             0.5,
             "#f7f7f7"
            ],
            [
             0.6,
             "#e6f5d0"
            ],
            [
             0.7,
             "#b8e186"
            ],
            [
             0.8,
             "#7fbc41"
            ],
            [
             0.9,
             "#4d9221"
            ],
            [
             1,
             "#276419"
            ]
           ],
           "sequential": [
            [
             0,
             "#0d0887"
            ],
            [
             0.1111111111111111,
             "#46039f"
            ],
            [
             0.2222222222222222,
             "#7201a8"
            ],
            [
             0.3333333333333333,
             "#9c179e"
            ],
            [
             0.4444444444444444,
             "#bd3786"
            ],
            [
             0.5555555555555556,
             "#d8576b"
            ],
            [
             0.6666666666666666,
             "#ed7953"
            ],
            [
             0.7777777777777778,
             "#fb9f3a"
            ],
            [
             0.8888888888888888,
             "#fdca26"
            ],
            [
             1,
             "#f0f921"
            ]
           ],
           "sequentialminus": [
            [
             0,
             "#0d0887"
            ],
            [
             0.1111111111111111,
             "#46039f"
            ],
            [
             0.2222222222222222,
             "#7201a8"
            ],
            [
             0.3333333333333333,
             "#9c179e"
            ],
            [
             0.4444444444444444,
             "#bd3786"
            ],
            [
             0.5555555555555556,
             "#d8576b"
            ],
            [
             0.6666666666666666,
             "#ed7953"
            ],
            [
             0.7777777777777778,
             "#fb9f3a"
            ],
            [
             0.8888888888888888,
             "#fdca26"
            ],
            [
             1,
             "#f0f921"
            ]
           ]
          },
          "colorway": [
           "#636efa",
           "#EF553B",
           "#00cc96",
           "#ab63fa",
           "#FFA15A",
           "#19d3f3",
           "#FF6692",
           "#B6E880",
           "#FF97FF",
           "#FECB52"
          ],
          "font": {
           "color": "#2a3f5f"
          },
          "geo": {
           "bgcolor": "white",
           "lakecolor": "white",
           "landcolor": "#E5ECF6",
           "showlakes": true,
           "showland": true,
           "subunitcolor": "white"
          },
          "hoverlabel": {
           "align": "left"
          },
          "hovermode": "closest",
          "mapbox": {
           "style": "light"
          },
          "paper_bgcolor": "white",
          "plot_bgcolor": "#E5ECF6",
          "polar": {
           "angularaxis": {
            "gridcolor": "white",
            "linecolor": "white",
            "ticks": ""
           },
           "bgcolor": "#E5ECF6",
           "radialaxis": {
            "gridcolor": "white",
            "linecolor": "white",
            "ticks": ""
           }
          },
          "scene": {
           "xaxis": {
            "backgroundcolor": "#E5ECF6",
            "gridcolor": "white",
            "gridwidth": 2,
            "linecolor": "white",
            "showbackground": true,
            "ticks": "",
            "zerolinecolor": "white"
           },
           "yaxis": {
            "backgroundcolor": "#E5ECF6",
            "gridcolor": "white",
            "gridwidth": 2,
            "linecolor": "white",
            "showbackground": true,
            "ticks": "",
            "zerolinecolor": "white"
           },
           "zaxis": {
            "backgroundcolor": "#E5ECF6",
            "gridcolor": "white",
            "gridwidth": 2,
            "linecolor": "white",
            "showbackground": true,
            "ticks": "",
            "zerolinecolor": "white"
           }
          },
          "shapedefaults": {
           "line": {
            "color": "#2a3f5f"
           }
          },
          "ternary": {
           "aaxis": {
            "gridcolor": "white",
            "linecolor": "white",
            "ticks": ""
           },
           "baxis": {
            "gridcolor": "white",
            "linecolor": "white",
            "ticks": ""
           },
           "bgcolor": "#E5ECF6",
           "caxis": {
            "gridcolor": "white",
            "linecolor": "white",
            "ticks": ""
           }
          },
          "title": {
           "x": 0.05
          },
          "xaxis": {
           "automargin": true,
           "gridcolor": "white",
           "linecolor": "white",
           "ticks": "",
           "title": {
            "standoff": 15
           },
           "zerolinecolor": "white",
           "zerolinewidth": 2
          },
          "yaxis": {
           "automargin": true,
           "gridcolor": "white",
           "linecolor": "white",
           "ticks": "",
           "title": {
            "standoff": 15
           },
           "zerolinecolor": "white",
           "zerolinewidth": 2
          }
         }
        },
        "title": {
         "text": "World Overview"
        },
        "xaxis": {
         "anchor": "y",
         "domain": [
          0,
          1
         ],
         "title": {
          "text": "Date"
         }
        },
        "yaxis": {
         "anchor": "x",
         "domain": [
          0,
          1
         ],
         "title": {
          "text": "value"
         }
        }
       }
      }
     },
     "metadata": {},
     "output_type": "display_data"
    }
   ],
   "source": [
    "fig = px.line(wolrd_plot, x=\"Date\", y=['New Cases', 'New Deaths','New Recovered'], markers = True, title=\"World Overview\") \n",
    "fig\n",
    "fig.show()"
   ]
  },
  {
   "cell_type": "code",
   "execution_count": 31,
   "metadata": {},
   "outputs": [
    {
     "data": {
      "text/html": [
       "<div>\n",
       "<style scoped>\n",
       "    .dataframe tbody tr th:only-of-type {\n",
       "        vertical-align: middle;\n",
       "    }\n",
       "\n",
       "    .dataframe tbody tr th {\n",
       "        vertical-align: top;\n",
       "    }\n",
       "\n",
       "    .dataframe thead th {\n",
       "        text-align: right;\n",
       "    }\n",
       "</style>\n",
       "<table border=\"1\" class=\"dataframe\">\n",
       "  <thead>\n",
       "    <tr style=\"text-align: right;\">\n",
       "      <th></th>\n",
       "      <th>Date</th>\n",
       "      <th>New Cases</th>\n",
       "      <th>New Recovered</th>\n",
       "      <th>New Deaths</th>\n",
       "    </tr>\n",
       "  </thead>\n",
       "  <tbody>\n",
       "    <tr>\n",
       "      <th>0</th>\n",
       "      <td>27:11:2021</td>\n",
       "      <td>484205.0</td>\n",
       "      <td>373473.0</td>\n",
       "      <td>6014.0</td>\n",
       "    </tr>\n",
       "    <tr>\n",
       "      <th>1</th>\n",
       "      <td>28:11:2021</td>\n",
       "      <td>387788.0</td>\n",
       "      <td>307047.0</td>\n",
       "      <td>4257.0</td>\n",
       "    </tr>\n",
       "    <tr>\n",
       "      <th>2</th>\n",
       "      <td>29:11:2021</td>\n",
       "      <td>475969.0</td>\n",
       "      <td>451875.0</td>\n",
       "      <td>5825.0</td>\n",
       "    </tr>\n",
       "    <tr>\n",
       "      <th>3</th>\n",
       "      <td>30:11:2021</td>\n",
       "      <td>587982.0</td>\n",
       "      <td>510886.0</td>\n",
       "      <td>7883.0</td>\n",
       "    </tr>\n",
       "    <tr>\n",
       "      <th>4</th>\n",
       "      <td>01:12:2021</td>\n",
       "      <td>682525.0</td>\n",
       "      <td>462696.0</td>\n",
       "      <td>8535.0</td>\n",
       "    </tr>\n",
       "    <tr>\n",
       "      <th>5</th>\n",
       "      <td>02:12:2021</td>\n",
       "      <td>694394.0</td>\n",
       "      <td>443518.0</td>\n",
       "      <td>7571.0</td>\n",
       "    </tr>\n",
       "    <tr>\n",
       "      <th>6</th>\n",
       "      <td>03:12:2021</td>\n",
       "      <td>705204.0</td>\n",
       "      <td>452414.0</td>\n",
       "      <td>7928.0</td>\n",
       "    </tr>\n",
       "    <tr>\n",
       "      <th>7</th>\n",
       "      <td>04:12:2021</td>\n",
       "      <td>530432.0</td>\n",
       "      <td>378011.0</td>\n",
       "      <td>5692.0</td>\n",
       "    </tr>\n",
       "    <tr>\n",
       "      <th>8</th>\n",
       "      <td>05:12:2021</td>\n",
       "      <td>474423.0</td>\n",
       "      <td>342523.0</td>\n",
       "      <td>4569.0</td>\n",
       "    </tr>\n",
       "    <tr>\n",
       "      <th>9</th>\n",
       "      <td>06:12:2021</td>\n",
       "      <td>448248.0</td>\n",
       "      <td>485818.0</td>\n",
       "      <td>5612.0</td>\n",
       "    </tr>\n",
       "    <tr>\n",
       "      <th>10</th>\n",
       "      <td>07:12:2021</td>\n",
       "      <td>627031.0</td>\n",
       "      <td>482526.0</td>\n",
       "      <td>8237.0</td>\n",
       "    </tr>\n",
       "    <tr>\n",
       "      <th>11</th>\n",
       "      <td>08:12:2021</td>\n",
       "      <td>666364.0</td>\n",
       "      <td>502513.0</td>\n",
       "      <td>7895.0</td>\n",
       "    </tr>\n",
       "    <tr>\n",
       "      <th>12</th>\n",
       "      <td>09:12:2021</td>\n",
       "      <td>685385.0</td>\n",
       "      <td>484503.0</td>\n",
       "      <td>8289.0</td>\n",
       "    </tr>\n",
       "    <tr>\n",
       "      <th>13</th>\n",
       "      <td>10:12:2021</td>\n",
       "      <td>615462.0</td>\n",
       "      <td>458478.0</td>\n",
       "      <td>7921.0</td>\n",
       "    </tr>\n",
       "  </tbody>\n",
       "</table>\n",
       "</div>"
      ],
      "text/plain": [
       "          Date  New Cases  New Recovered  New Deaths\n",
       "0   27:11:2021   484205.0       373473.0      6014.0\n",
       "1   28:11:2021   387788.0       307047.0      4257.0\n",
       "2   29:11:2021   475969.0       451875.0      5825.0\n",
       "3   30:11:2021   587982.0       510886.0      7883.0\n",
       "4   01:12:2021   682525.0       462696.0      8535.0\n",
       "5   02:12:2021   694394.0       443518.0      7571.0\n",
       "6   03:12:2021   705204.0       452414.0      7928.0\n",
       "7   04:12:2021   530432.0       378011.0      5692.0\n",
       "8   05:12:2021   474423.0       342523.0      4569.0\n",
       "9   06:12:2021   448248.0       485818.0      5612.0\n",
       "10  07:12:2021   627031.0       482526.0      8237.0\n",
       "11  08:12:2021   666364.0       502513.0      7895.0\n",
       "12  09:12:2021   685385.0       484503.0      8289.0\n",
       "13  10:12:2021   615462.0       458478.0      7921.0"
      ]
     },
     "execution_count": 31,
     "metadata": {},
     "output_type": "execute_result"
    }
   ],
   "source": [
    "wolrd_plot[['Date', 'New Cases', 'New Recovered', 'New Deaths']]"
   ]
  },
  {
   "cell_type": "code",
   "execution_count": 32,
   "metadata": {},
   "outputs": [
    {
     "name": "stderr",
     "output_type": "stream",
     "text": [
      "C:\\Users\\Oaki\\anaconda3\\lib\\site-packages\\plotly\\graph_objs\\_deprecations.py:378: DeprecationWarning:\n",
      "\n",
      "plotly.graph_objs.Line is deprecated.\n",
      "Please replace it with one of the following more specific types\n",
      "  - plotly.graph_objs.scatter.Line\n",
      "  - plotly.graph_objs.layout.shape.Line\n",
      "  - etc.\n",
      "\n",
      "\n"
     ]
    },
    {
     "data": {
      "application/vnd.plotly.v1+json": {
       "config": {
        "plotlyServerURL": "https://plot.ly"
       },
       "data": [
        {
         "name": "New Cases",
         "type": "scatter",
         "x": [
          "27:11:2021",
          "28:11:2021",
          "29:11:2021",
          "30:11:2021",
          "01:12:2021",
          "02:12:2021",
          "03:12:2021",
          "04:12:2021",
          "05:12:2021",
          "06:12:2021",
          "07:12:2021",
          "08:12:2021",
          "09:12:2021",
          "10:12:2021"
         ],
         "xaxis": "x",
         "y": [
          484205,
          387788,
          475969,
          587982,
          682525,
          694394,
          705204,
          530432,
          474423,
          448248,
          627031,
          666364,
          685385,
          615462
         ],
         "yaxis": "y"
        },
        {
         "name": "New Deaths",
         "type": "scatter",
         "x": [
          "27:11:2021",
          "28:11:2021",
          "29:11:2021",
          "30:11:2021",
          "01:12:2021",
          "02:12:2021",
          "03:12:2021",
          "04:12:2021",
          "05:12:2021",
          "06:12:2021",
          "07:12:2021",
          "08:12:2021",
          "09:12:2021",
          "10:12:2021"
         ],
         "xaxis": "x2",
         "y": [
          6014,
          4257,
          5825,
          7883,
          8535,
          7571,
          7928,
          5692,
          4569,
          5612,
          8237,
          7895,
          8289,
          7921
         ],
         "yaxis": "y2"
        },
        {
         "name": "New Recovered",
         "type": "scatter",
         "x": [
          "27:11:2021",
          "28:11:2021",
          "29:11:2021",
          "30:11:2021",
          "01:12:2021",
          "02:12:2021",
          "03:12:2021",
          "04:12:2021",
          "05:12:2021",
          "06:12:2021",
          "07:12:2021",
          "08:12:2021",
          "09:12:2021",
          "10:12:2021"
         ],
         "xaxis": "x3",
         "y": [
          373473,
          307047,
          451875,
          510886,
          462696,
          443518,
          452414,
          378011,
          342523,
          485818,
          482526,
          502513,
          484503,
          458478
         ],
         "yaxis": "y3"
        }
       ],
       "layout": {
        "height": 900,
        "template": {
         "data": {
          "bar": [
           {
            "error_x": {
             "color": "#2a3f5f"
            },
            "error_y": {
             "color": "#2a3f5f"
            },
            "marker": {
             "line": {
              "color": "#E5ECF6",
              "width": 0.5
             },
             "pattern": {
              "fillmode": "overlay",
              "size": 10,
              "solidity": 0.2
             }
            },
            "type": "bar"
           }
          ],
          "barpolar": [
           {
            "marker": {
             "line": {
              "color": "#E5ECF6",
              "width": 0.5
             },
             "pattern": {
              "fillmode": "overlay",
              "size": 10,
              "solidity": 0.2
             }
            },
            "type": "barpolar"
           }
          ],
          "carpet": [
           {
            "aaxis": {
             "endlinecolor": "#2a3f5f",
             "gridcolor": "white",
             "linecolor": "white",
             "minorgridcolor": "white",
             "startlinecolor": "#2a3f5f"
            },
            "baxis": {
             "endlinecolor": "#2a3f5f",
             "gridcolor": "white",
             "linecolor": "white",
             "minorgridcolor": "white",
             "startlinecolor": "#2a3f5f"
            },
            "type": "carpet"
           }
          ],
          "choropleth": [
           {
            "colorbar": {
             "outlinewidth": 0,
             "ticks": ""
            },
            "type": "choropleth"
           }
          ],
          "contour": [
           {
            "colorbar": {
             "outlinewidth": 0,
             "ticks": ""
            },
            "colorscale": [
             [
              0,
              "#0d0887"
             ],
             [
              0.1111111111111111,
              "#46039f"
             ],
             [
              0.2222222222222222,
              "#7201a8"
             ],
             [
              0.3333333333333333,
              "#9c179e"
             ],
             [
              0.4444444444444444,
              "#bd3786"
             ],
             [
              0.5555555555555556,
              "#d8576b"
             ],
             [
              0.6666666666666666,
              "#ed7953"
             ],
             [
              0.7777777777777778,
              "#fb9f3a"
             ],
             [
              0.8888888888888888,
              "#fdca26"
             ],
             [
              1,
              "#f0f921"
             ]
            ],
            "type": "contour"
           }
          ],
          "contourcarpet": [
           {
            "colorbar": {
             "outlinewidth": 0,
             "ticks": ""
            },
            "type": "contourcarpet"
           }
          ],
          "heatmap": [
           {
            "colorbar": {
             "outlinewidth": 0,
             "ticks": ""
            },
            "colorscale": [
             [
              0,
              "#0d0887"
             ],
             [
              0.1111111111111111,
              "#46039f"
             ],
             [
              0.2222222222222222,
              "#7201a8"
             ],
             [
              0.3333333333333333,
              "#9c179e"
             ],
             [
              0.4444444444444444,
              "#bd3786"
             ],
             [
              0.5555555555555556,
              "#d8576b"
             ],
             [
              0.6666666666666666,
              "#ed7953"
             ],
             [
              0.7777777777777778,
              "#fb9f3a"
             ],
             [
              0.8888888888888888,
              "#fdca26"
             ],
             [
              1,
              "#f0f921"
             ]
            ],
            "type": "heatmap"
           }
          ],
          "heatmapgl": [
           {
            "colorbar": {
             "outlinewidth": 0,
             "ticks": ""
            },
            "colorscale": [
             [
              0,
              "#0d0887"
             ],
             [
              0.1111111111111111,
              "#46039f"
             ],
             [
              0.2222222222222222,
              "#7201a8"
             ],
             [
              0.3333333333333333,
              "#9c179e"
             ],
             [
              0.4444444444444444,
              "#bd3786"
             ],
             [
              0.5555555555555556,
              "#d8576b"
             ],
             [
              0.6666666666666666,
              "#ed7953"
             ],
             [
              0.7777777777777778,
              "#fb9f3a"
             ],
             [
              0.8888888888888888,
              "#fdca26"
             ],
             [
              1,
              "#f0f921"
             ]
            ],
            "type": "heatmapgl"
           }
          ],
          "histogram": [
           {
            "marker": {
             "pattern": {
              "fillmode": "overlay",
              "size": 10,
              "solidity": 0.2
             }
            },
            "type": "histogram"
           }
          ],
          "histogram2d": [
           {
            "colorbar": {
             "outlinewidth": 0,
             "ticks": ""
            },
            "colorscale": [
             [
              0,
              "#0d0887"
             ],
             [
              0.1111111111111111,
              "#46039f"
             ],
             [
              0.2222222222222222,
              "#7201a8"
             ],
             [
              0.3333333333333333,
              "#9c179e"
             ],
             [
              0.4444444444444444,
              "#bd3786"
             ],
             [
              0.5555555555555556,
              "#d8576b"
             ],
             [
              0.6666666666666666,
              "#ed7953"
             ],
             [
              0.7777777777777778,
              "#fb9f3a"
             ],
             [
              0.8888888888888888,
              "#fdca26"
             ],
             [
              1,
              "#f0f921"
             ]
            ],
            "type": "histogram2d"
           }
          ],
          "histogram2dcontour": [
           {
            "colorbar": {
             "outlinewidth": 0,
             "ticks": ""
            },
            "colorscale": [
             [
              0,
              "#0d0887"
             ],
             [
              0.1111111111111111,
              "#46039f"
             ],
             [
              0.2222222222222222,
              "#7201a8"
             ],
             [
              0.3333333333333333,
              "#9c179e"
             ],
             [
              0.4444444444444444,
              "#bd3786"
             ],
             [
              0.5555555555555556,
              "#d8576b"
             ],
             [
              0.6666666666666666,
              "#ed7953"
             ],
             [
              0.7777777777777778,
              "#fb9f3a"
             ],
             [
              0.8888888888888888,
              "#fdca26"
             ],
             [
              1,
              "#f0f921"
             ]
            ],
            "type": "histogram2dcontour"
           }
          ],
          "mesh3d": [
           {
            "colorbar": {
             "outlinewidth": 0,
             "ticks": ""
            },
            "type": "mesh3d"
           }
          ],
          "parcoords": [
           {
            "line": {
             "colorbar": {
              "outlinewidth": 0,
              "ticks": ""
             }
            },
            "type": "parcoords"
           }
          ],
          "pie": [
           {
            "automargin": true,
            "type": "pie"
           }
          ],
          "scatter": [
           {
            "marker": {
             "colorbar": {
              "outlinewidth": 0,
              "ticks": ""
             }
            },
            "type": "scatter"
           }
          ],
          "scatter3d": [
           {
            "line": {
             "colorbar": {
              "outlinewidth": 0,
              "ticks": ""
             }
            },
            "marker": {
             "colorbar": {
              "outlinewidth": 0,
              "ticks": ""
             }
            },
            "type": "scatter3d"
           }
          ],
          "scattercarpet": [
           {
            "marker": {
             "colorbar": {
              "outlinewidth": 0,
              "ticks": ""
             }
            },
            "type": "scattercarpet"
           }
          ],
          "scattergeo": [
           {
            "marker": {
             "colorbar": {
              "outlinewidth": 0,
              "ticks": ""
             }
            },
            "type": "scattergeo"
           }
          ],
          "scattergl": [
           {
            "marker": {
             "colorbar": {
              "outlinewidth": 0,
              "ticks": ""
             }
            },
            "type": "scattergl"
           }
          ],
          "scattermapbox": [
           {
            "marker": {
             "colorbar": {
              "outlinewidth": 0,
              "ticks": ""
             }
            },
            "type": "scattermapbox"
           }
          ],
          "scatterpolar": [
           {
            "marker": {
             "colorbar": {
              "outlinewidth": 0,
              "ticks": ""
             }
            },
            "type": "scatterpolar"
           }
          ],
          "scatterpolargl": [
           {
            "marker": {
             "colorbar": {
              "outlinewidth": 0,
              "ticks": ""
             }
            },
            "type": "scatterpolargl"
           }
          ],
          "scatterternary": [
           {
            "marker": {
             "colorbar": {
              "outlinewidth": 0,
              "ticks": ""
             }
            },
            "type": "scatterternary"
           }
          ],
          "surface": [
           {
            "colorbar": {
             "outlinewidth": 0,
             "ticks": ""
            },
            "colorscale": [
             [
              0,
              "#0d0887"
             ],
             [
              0.1111111111111111,
              "#46039f"
             ],
             [
              0.2222222222222222,
              "#7201a8"
             ],
             [
              0.3333333333333333,
              "#9c179e"
             ],
             [
              0.4444444444444444,
              "#bd3786"
             ],
             [
              0.5555555555555556,
              "#d8576b"
             ],
             [
              0.6666666666666666,
              "#ed7953"
             ],
             [
              0.7777777777777778,
              "#fb9f3a"
             ],
             [
              0.8888888888888888,
              "#fdca26"
             ],
             [
              1,
              "#f0f921"
             ]
            ],
            "type": "surface"
           }
          ],
          "table": [
           {
            "cells": {
             "fill": {
              "color": "#EBF0F8"
             },
             "line": {
              "color": "white"
             }
            },
            "header": {
             "fill": {
              "color": "#C8D4E3"
             },
             "line": {
              "color": "white"
             }
            },
            "type": "table"
           }
          ]
         },
         "layout": {
          "annotationdefaults": {
           "arrowcolor": "#2a3f5f",
           "arrowhead": 0,
           "arrowwidth": 1
          },
          "autotypenumbers": "strict",
          "coloraxis": {
           "colorbar": {
            "outlinewidth": 0,
            "ticks": ""
           }
          },
          "colorscale": {
           "diverging": [
            [
             0,
             "#8e0152"
            ],
            [
             0.1,
             "#c51b7d"
            ],
            [
             0.2,
             "#de77ae"
            ],
            [
             0.3,
             "#f1b6da"
            ],
            [
             0.4,
             "#fde0ef"
            ],
            [
             0.5,
             "#f7f7f7"
            ],
            [
             0.6,
             "#e6f5d0"
            ],
            [
             0.7,
             "#b8e186"
            ],
            [
             0.8,
             "#7fbc41"
            ],
            [
             0.9,
             "#4d9221"
            ],
            [
             1,
             "#276419"
            ]
           ],
           "sequential": [
            [
             0,
             "#0d0887"
            ],
            [
             0.1111111111111111,
             "#46039f"
            ],
            [
             0.2222222222222222,
             "#7201a8"
            ],
            [
             0.3333333333333333,
             "#9c179e"
            ],
            [
             0.4444444444444444,
             "#bd3786"
            ],
            [
             0.5555555555555556,
             "#d8576b"
            ],
            [
             0.6666666666666666,
             "#ed7953"
            ],
            [
             0.7777777777777778,
             "#fb9f3a"
            ],
            [
             0.8888888888888888,
             "#fdca26"
            ],
            [
             1,
             "#f0f921"
            ]
           ],
           "sequentialminus": [
            [
             0,
             "#0d0887"
            ],
            [
             0.1111111111111111,
             "#46039f"
            ],
            [
             0.2222222222222222,
             "#7201a8"
            ],
            [
             0.3333333333333333,
             "#9c179e"
            ],
            [
             0.4444444444444444,
             "#bd3786"
            ],
            [
             0.5555555555555556,
             "#d8576b"
            ],
            [
             0.6666666666666666,
             "#ed7953"
            ],
            [
             0.7777777777777778,
             "#fb9f3a"
            ],
            [
             0.8888888888888888,
             "#fdca26"
            ],
            [
             1,
             "#f0f921"
            ]
           ]
          },
          "colorway": [
           "#636efa",
           "#EF553B",
           "#00cc96",
           "#ab63fa",
           "#FFA15A",
           "#19d3f3",
           "#FF6692",
           "#B6E880",
           "#FF97FF",
           "#FECB52"
          ],
          "font": {
           "color": "#2a3f5f"
          },
          "geo": {
           "bgcolor": "white",
           "lakecolor": "white",
           "landcolor": "#E5ECF6",
           "showlakes": true,
           "showland": true,
           "subunitcolor": "white"
          },
          "hoverlabel": {
           "align": "left"
          },
          "hovermode": "closest",
          "mapbox": {
           "style": "light"
          },
          "paper_bgcolor": "white",
          "plot_bgcolor": "#E5ECF6",
          "polar": {
           "angularaxis": {
            "gridcolor": "white",
            "linecolor": "white",
            "ticks": ""
           },
           "bgcolor": "#E5ECF6",
           "radialaxis": {
            "gridcolor": "white",
            "linecolor": "white",
            "ticks": ""
           }
          },
          "scene": {
           "xaxis": {
            "backgroundcolor": "#E5ECF6",
            "gridcolor": "white",
            "gridwidth": 2,
            "linecolor": "white",
            "showbackground": true,
            "ticks": "",
            "zerolinecolor": "white"
           },
           "yaxis": {
            "backgroundcolor": "#E5ECF6",
            "gridcolor": "white",
            "gridwidth": 2,
            "linecolor": "white",
            "showbackground": true,
            "ticks": "",
            "zerolinecolor": "white"
           },
           "zaxis": {
            "backgroundcolor": "#E5ECF6",
            "gridcolor": "white",
            "gridwidth": 2,
            "linecolor": "white",
            "showbackground": true,
            "ticks": "",
            "zerolinecolor": "white"
           }
          },
          "shapedefaults": {
           "line": {
            "color": "#2a3f5f"
           }
          },
          "ternary": {
           "aaxis": {
            "gridcolor": "white",
            "linecolor": "white",
            "ticks": ""
           },
           "baxis": {
            "gridcolor": "white",
            "linecolor": "white",
            "ticks": ""
           },
           "bgcolor": "#E5ECF6",
           "caxis": {
            "gridcolor": "white",
            "linecolor": "white",
            "ticks": ""
           }
          },
          "title": {
           "x": 0.05
          },
          "xaxis": {
           "automargin": true,
           "gridcolor": "white",
           "linecolor": "white",
           "ticks": "",
           "title": {
            "standoff": 15
           },
           "zerolinecolor": "white",
           "zerolinewidth": 2
          },
          "yaxis": {
           "automargin": true,
           "gridcolor": "white",
           "linecolor": "white",
           "ticks": "",
           "title": {
            "standoff": 15
           },
           "zerolinecolor": "white",
           "zerolinewidth": 2
          }
         }
        },
        "title": {
         "text": "World Overview"
        },
        "width": 900,
        "xaxis": {
         "anchor": "y",
         "domain": [
          0,
          1
         ]
        },
        "xaxis2": {
         "anchor": "y2",
         "domain": [
          0,
          1
         ]
        },
        "xaxis3": {
         "anchor": "y3",
         "domain": [
          0,
          1
         ]
        },
        "yaxis": {
         "anchor": "x",
         "domain": [
          0.7333333333333333,
          1
         ]
        },
        "yaxis2": {
         "anchor": "x2",
         "domain": [
          0.36666666666666664,
          0.6333333333333333
         ]
        },
        "yaxis3": {
         "anchor": "x3",
         "domain": [
          0,
          0.26666666666666666
         ]
        }
       }
      }
     },
     "metadata": {},
     "output_type": "display_data"
    }
   ],
   "source": [
    "fig = make_subplots(rows=3, cols=1)\n",
    "\n",
    "fig.append_trace(go.Line(\n",
    "    x=wolrd_plot['Date'],\n",
    "    y=wolrd_plot['New Cases'],\n",
    "    name = \"New Cases\"\n",
    "), row=1, col=1)\n",
    "\n",
    "fig.append_trace(go.Scatter(\n",
    "    x=wolrd_plot['Date'],\n",
    "    y=wolrd_plot['New Deaths'],\n",
    "    name = \"New Deaths\"\n",
    "), row=2, col=1)\n",
    "\n",
    "fig.append_trace(go.Scatter(\n",
    "    x=wolrd_plot['Date'],\n",
    "    y=wolrd_plot['New Recovered'],\n",
    "    name = \"New Recovered\"\n",
    "), row=3, col=1)\n",
    "\n",
    "\n",
    "fig.update_layout(height=900, width=900, title_text=\"World Overview\")\n",
    "fig.show()"
   ]
  },
  {
   "cell_type": "markdown",
   "metadata": {},
   "source": [
    "### Tổng quan về tình hình các châu lục\n",
    "***"
   ]
  },
  {
   "cell_type": "code",
   "execution_count": 33,
   "metadata": {},
   "outputs": [
    {
     "data": {
      "application/vnd.plotly.v1+json": {
       "config": {
        "plotlyServerURL": "https://plot.ly"
       },
       "data": [
        {
         "domain": {
          "x": [
           0,
           0.45
          ],
          "y": [
           0.7777777777777778,
           1
          ]
         },
         "labels": [
          "North Ameica",
          "Asia",
          "South America",
          "Europe",
          "Africa",
          "Australi/Ocen"
         ],
         "type": "pie",
         "values": [
          834441750,
          1153840887,
          546805148,
          1050597407,
          123271500,
          5242858
         ]
        },
        {
         "domain": {
          "x": [
           0.55,
           1
          ],
          "y": [
           0.7777777777777778,
           1
          ]
         },
         "labels": [
          "North Ameica",
          "Asia",
          "South America",
          "Europe",
          "Africa",
          "Australi/Ocen"
         ],
         "type": "pie",
         "values": [
          1494673,
          1162477,
          248206,
          4893967,
          242710,
          23379
         ]
        },
        {
         "domain": {
          "x": [
           0,
           0.45
          ],
          "y": [
           0.3888888888888889,
           0.6111111111111112
          ]
         },
         "labels": [
          "North Ameica",
          "Asia",
          "South America",
          "Europe",
          "Africa",
          "Australi/Ocen"
         ],
         "type": "pie",
         "values": [
          16797510,
          17076963,
          16567358,
          20008024,
          3138079,
          59539
         ]
        },
        {
         "domain": {
          "x": [
           0.55,
           1
          ],
          "y": [
           0.3888888888888889,
           0.6111111111111112
          ]
         },
         "labels": [
          "North Ameica",
          "Asia",
          "South America",
          "Europe",
          "Africa",
          "Australi/Ocen"
         ],
         "type": "pie",
         "values": [
          18033,
          18395,
          4962,
          52910,
          1791,
          137
         ]
        },
        {
         "domain": {
          "x": [
           0,
           0.45
          ],
          "y": [
           0,
           0.22222222222222224
          ]
         },
         "labels": [
          "North Ameica",
          "Asia",
          "South America",
          "Europe",
          "Africa",
          "Australi/Ocen"
         ],
         "type": "pie",
         "values": [
          671573396,
          1115540328,
          495733917,
          922084822,
          114066428,
          4215709
         ]
        },
        {
         "domain": {
          "x": [
           0.55,
           1
          ],
          "y": [
           0,
           0.22222222222222224
          ]
         },
         "labels": [
          "North Ameica",
          "Asia",
          "South America",
          "Europe",
          "Africa",
          "Australi/Ocen"
         ],
         "type": "pie",
         "values": [
          1048838,
          1152745,
          231136,
          3588960,
          94543,
          20059
         ]
        }
       ],
       "layout": {
        "annotations": [
         {
          "font": {
           "size": 16
          },
          "showarrow": false,
          "text": "Total Cases",
          "x": 0.225,
          "xanchor": "center",
          "xref": "paper",
          "y": 1,
          "yanchor": "bottom",
          "yref": "paper"
         },
         {
          "font": {
           "size": 16
          },
          "showarrow": false,
          "text": "New Cases",
          "x": 0.775,
          "xanchor": "center",
          "xref": "paper",
          "y": 1,
          "yanchor": "bottom",
          "yref": "paper"
         },
         {
          "font": {
           "size": 16
          },
          "showarrow": false,
          "text": "Total Deaths",
          "x": 0.225,
          "xanchor": "center",
          "xref": "paper",
          "y": 0.6111111111111112,
          "yanchor": "bottom",
          "yref": "paper"
         },
         {
          "font": {
           "size": 16
          },
          "showarrow": false,
          "text": "New Deaths",
          "x": 0.775,
          "xanchor": "center",
          "xref": "paper",
          "y": 0.6111111111111112,
          "yanchor": "bottom",
          "yref": "paper"
         },
         {
          "font": {
           "size": 16
          },
          "showarrow": false,
          "text": "Total Recovered",
          "x": 0.225,
          "xanchor": "center",
          "xref": "paper",
          "y": 0.22222222222222224,
          "yanchor": "bottom",
          "yref": "paper"
         },
         {
          "font": {
           "size": 16
          },
          "showarrow": false,
          "text": "New Recovered",
          "x": 0.775,
          "xanchor": "center",
          "xref": "paper",
          "y": 0.22222222222222224,
          "yanchor": "bottom",
          "yref": "paper"
         }
        ],
        "height": 900,
        "template": {
         "data": {
          "bar": [
           {
            "error_x": {
             "color": "#2a3f5f"
            },
            "error_y": {
             "color": "#2a3f5f"
            },
            "marker": {
             "line": {
              "color": "#E5ECF6",
              "width": 0.5
             },
             "pattern": {
              "fillmode": "overlay",
              "size": 10,
              "solidity": 0.2
             }
            },
            "type": "bar"
           }
          ],
          "barpolar": [
           {
            "marker": {
             "line": {
              "color": "#E5ECF6",
              "width": 0.5
             },
             "pattern": {
              "fillmode": "overlay",
              "size": 10,
              "solidity": 0.2
             }
            },
            "type": "barpolar"
           }
          ],
          "carpet": [
           {
            "aaxis": {
             "endlinecolor": "#2a3f5f",
             "gridcolor": "white",
             "linecolor": "white",
             "minorgridcolor": "white",
             "startlinecolor": "#2a3f5f"
            },
            "baxis": {
             "endlinecolor": "#2a3f5f",
             "gridcolor": "white",
             "linecolor": "white",
             "minorgridcolor": "white",
             "startlinecolor": "#2a3f5f"
            },
            "type": "carpet"
           }
          ],
          "choropleth": [
           {
            "colorbar": {
             "outlinewidth": 0,
             "ticks": ""
            },
            "type": "choropleth"
           }
          ],
          "contour": [
           {
            "colorbar": {
             "outlinewidth": 0,
             "ticks": ""
            },
            "colorscale": [
             [
              0,
              "#0d0887"
             ],
             [
              0.1111111111111111,
              "#46039f"
             ],
             [
              0.2222222222222222,
              "#7201a8"
             ],
             [
              0.3333333333333333,
              "#9c179e"
             ],
             [
              0.4444444444444444,
              "#bd3786"
             ],
             [
              0.5555555555555556,
              "#d8576b"
             ],
             [
              0.6666666666666666,
              "#ed7953"
             ],
             [
              0.7777777777777778,
              "#fb9f3a"
             ],
             [
              0.8888888888888888,
              "#fdca26"
             ],
             [
              1,
              "#f0f921"
             ]
            ],
            "type": "contour"
           }
          ],
          "contourcarpet": [
           {
            "colorbar": {
             "outlinewidth": 0,
             "ticks": ""
            },
            "type": "contourcarpet"
           }
          ],
          "heatmap": [
           {
            "colorbar": {
             "outlinewidth": 0,
             "ticks": ""
            },
            "colorscale": [
             [
              0,
              "#0d0887"
             ],
             [
              0.1111111111111111,
              "#46039f"
             ],
             [
              0.2222222222222222,
              "#7201a8"
             ],
             [
              0.3333333333333333,
              "#9c179e"
             ],
             [
              0.4444444444444444,
              "#bd3786"
             ],
             [
              0.5555555555555556,
              "#d8576b"
             ],
             [
              0.6666666666666666,
              "#ed7953"
             ],
             [
              0.7777777777777778,
              "#fb9f3a"
             ],
             [
              0.8888888888888888,
              "#fdca26"
             ],
             [
              1,
              "#f0f921"
             ]
            ],
            "type": "heatmap"
           }
          ],
          "heatmapgl": [
           {
            "colorbar": {
             "outlinewidth": 0,
             "ticks": ""
            },
            "colorscale": [
             [
              0,
              "#0d0887"
             ],
             [
              0.1111111111111111,
              "#46039f"
             ],
             [
              0.2222222222222222,
              "#7201a8"
             ],
             [
              0.3333333333333333,
              "#9c179e"
             ],
             [
              0.4444444444444444,
              "#bd3786"
             ],
             [
              0.5555555555555556,
              "#d8576b"
             ],
             [
              0.6666666666666666,
              "#ed7953"
             ],
             [
              0.7777777777777778,
              "#fb9f3a"
             ],
             [
              0.8888888888888888,
              "#fdca26"
             ],
             [
              1,
              "#f0f921"
             ]
            ],
            "type": "heatmapgl"
           }
          ],
          "histogram": [
           {
            "marker": {
             "pattern": {
              "fillmode": "overlay",
              "size": 10,
              "solidity": 0.2
             }
            },
            "type": "histogram"
           }
          ],
          "histogram2d": [
           {
            "colorbar": {
             "outlinewidth": 0,
             "ticks": ""
            },
            "colorscale": [
             [
              0,
              "#0d0887"
             ],
             [
              0.1111111111111111,
              "#46039f"
             ],
             [
              0.2222222222222222,
              "#7201a8"
             ],
             [
              0.3333333333333333,
              "#9c179e"
             ],
             [
              0.4444444444444444,
              "#bd3786"
             ],
             [
              0.5555555555555556,
              "#d8576b"
             ],
             [
              0.6666666666666666,
              "#ed7953"
             ],
             [
              0.7777777777777778,
              "#fb9f3a"
             ],
             [
              0.8888888888888888,
              "#fdca26"
             ],
             [
              1,
              "#f0f921"
             ]
            ],
            "type": "histogram2d"
           }
          ],
          "histogram2dcontour": [
           {
            "colorbar": {
             "outlinewidth": 0,
             "ticks": ""
            },
            "colorscale": [
             [
              0,
              "#0d0887"
             ],
             [
              0.1111111111111111,
              "#46039f"
             ],
             [
              0.2222222222222222,
              "#7201a8"
             ],
             [
              0.3333333333333333,
              "#9c179e"
             ],
             [
              0.4444444444444444,
              "#bd3786"
             ],
             [
              0.5555555555555556,
              "#d8576b"
             ],
             [
              0.6666666666666666,
              "#ed7953"
             ],
             [
              0.7777777777777778,
              "#fb9f3a"
             ],
             [
              0.8888888888888888,
              "#fdca26"
             ],
             [
              1,
              "#f0f921"
             ]
            ],
            "type": "histogram2dcontour"
           }
          ],
          "mesh3d": [
           {
            "colorbar": {
             "outlinewidth": 0,
             "ticks": ""
            },
            "type": "mesh3d"
           }
          ],
          "parcoords": [
           {
            "line": {
             "colorbar": {
              "outlinewidth": 0,
              "ticks": ""
             }
            },
            "type": "parcoords"
           }
          ],
          "pie": [
           {
            "automargin": true,
            "type": "pie"
           }
          ],
          "scatter": [
           {
            "marker": {
             "colorbar": {
              "outlinewidth": 0,
              "ticks": ""
             }
            },
            "type": "scatter"
           }
          ],
          "scatter3d": [
           {
            "line": {
             "colorbar": {
              "outlinewidth": 0,
              "ticks": ""
             }
            },
            "marker": {
             "colorbar": {
              "outlinewidth": 0,
              "ticks": ""
             }
            },
            "type": "scatter3d"
           }
          ],
          "scattercarpet": [
           {
            "marker": {
             "colorbar": {
              "outlinewidth": 0,
              "ticks": ""
             }
            },
            "type": "scattercarpet"
           }
          ],
          "scattergeo": [
           {
            "marker": {
             "colorbar": {
              "outlinewidth": 0,
              "ticks": ""
             }
            },
            "type": "scattergeo"
           }
          ],
          "scattergl": [
           {
            "marker": {
             "colorbar": {
              "outlinewidth": 0,
              "ticks": ""
             }
            },
            "type": "scattergl"
           }
          ],
          "scattermapbox": [
           {
            "marker": {
             "colorbar": {
              "outlinewidth": 0,
              "ticks": ""
             }
            },
            "type": "scattermapbox"
           }
          ],
          "scatterpolar": [
           {
            "marker": {
             "colorbar": {
              "outlinewidth": 0,
              "ticks": ""
             }
            },
            "type": "scatterpolar"
           }
          ],
          "scatterpolargl": [
           {
            "marker": {
             "colorbar": {
              "outlinewidth": 0,
              "ticks": ""
             }
            },
            "type": "scatterpolargl"
           }
          ],
          "scatterternary": [
           {
            "marker": {
             "colorbar": {
              "outlinewidth": 0,
              "ticks": ""
             }
            },
            "type": "scatterternary"
           }
          ],
          "surface": [
           {
            "colorbar": {
             "outlinewidth": 0,
             "ticks": ""
            },
            "colorscale": [
             [
              0,
              "#0d0887"
             ],
             [
              0.1111111111111111,
              "#46039f"
             ],
             [
              0.2222222222222222,
              "#7201a8"
             ],
             [
              0.3333333333333333,
              "#9c179e"
             ],
             [
              0.4444444444444444,
              "#bd3786"
             ],
             [
              0.5555555555555556,
              "#d8576b"
             ],
             [
              0.6666666666666666,
              "#ed7953"
             ],
             [
              0.7777777777777778,
              "#fb9f3a"
             ],
             [
              0.8888888888888888,
              "#fdca26"
             ],
             [
              1,
              "#f0f921"
             ]
            ],
            "type": "surface"
           }
          ],
          "table": [
           {
            "cells": {
             "fill": {
              "color": "#EBF0F8"
             },
             "line": {
              "color": "white"
             }
            },
            "header": {
             "fill": {
              "color": "#C8D4E3"
             },
             "line": {
              "color": "white"
             }
            },
            "type": "table"
           }
          ]
         },
         "layout": {
          "annotationdefaults": {
           "arrowcolor": "#2a3f5f",
           "arrowhead": 0,
           "arrowwidth": 1
          },
          "autotypenumbers": "strict",
          "coloraxis": {
           "colorbar": {
            "outlinewidth": 0,
            "ticks": ""
           }
          },
          "colorscale": {
           "diverging": [
            [
             0,
             "#8e0152"
            ],
            [
             0.1,
             "#c51b7d"
            ],
            [
             0.2,
             "#de77ae"
            ],
            [
             0.3,
             "#f1b6da"
            ],
            [
             0.4,
             "#fde0ef"
            ],
            [
             0.5,
             "#f7f7f7"
            ],
            [
             0.6,
             "#e6f5d0"
            ],
            [
             0.7,
             "#b8e186"
            ],
            [
             0.8,
             "#7fbc41"
            ],
            [
             0.9,
             "#4d9221"
            ],
            [
             1,
             "#276419"
            ]
           ],
           "sequential": [
            [
             0,
             "#0d0887"
            ],
            [
             0.1111111111111111,
             "#46039f"
            ],
            [
             0.2222222222222222,
             "#7201a8"
            ],
            [
             0.3333333333333333,
             "#9c179e"
            ],
            [
             0.4444444444444444,
             "#bd3786"
            ],
            [
             0.5555555555555556,
             "#d8576b"
            ],
            [
             0.6666666666666666,
             "#ed7953"
            ],
            [
             0.7777777777777778,
             "#fb9f3a"
            ],
            [
             0.8888888888888888,
             "#fdca26"
            ],
            [
             1,
             "#f0f921"
            ]
           ],
           "sequentialminus": [
            [
             0,
             "#0d0887"
            ],
            [
             0.1111111111111111,
             "#46039f"
            ],
            [
             0.2222222222222222,
             "#7201a8"
            ],
            [
             0.3333333333333333,
             "#9c179e"
            ],
            [
             0.4444444444444444,
             "#bd3786"
            ],
            [
             0.5555555555555556,
             "#d8576b"
            ],
            [
             0.6666666666666666,
             "#ed7953"
            ],
            [
             0.7777777777777778,
             "#fb9f3a"
            ],
            [
             0.8888888888888888,
             "#fdca26"
            ],
            [
             1,
             "#f0f921"
            ]
           ]
          },
          "colorway": [
           "#636efa",
           "#EF553B",
           "#00cc96",
           "#ab63fa",
           "#FFA15A",
           "#19d3f3",
           "#FF6692",
           "#B6E880",
           "#FF97FF",
           "#FECB52"
          ],
          "font": {
           "color": "#2a3f5f"
          },
          "geo": {
           "bgcolor": "white",
           "lakecolor": "white",
           "landcolor": "#E5ECF6",
           "showlakes": true,
           "showland": true,
           "subunitcolor": "white"
          },
          "hoverlabel": {
           "align": "left"
          },
          "hovermode": "closest",
          "mapbox": {
           "style": "light"
          },
          "paper_bgcolor": "white",
          "plot_bgcolor": "#E5ECF6",
          "polar": {
           "angularaxis": {
            "gridcolor": "white",
            "linecolor": "white",
            "ticks": ""
           },
           "bgcolor": "#E5ECF6",
           "radialaxis": {
            "gridcolor": "white",
            "linecolor": "white",
            "ticks": ""
           }
          },
          "scene": {
           "xaxis": {
            "backgroundcolor": "#E5ECF6",
            "gridcolor": "white",
            "gridwidth": 2,
            "linecolor": "white",
            "showbackground": true,
            "ticks": "",
            "zerolinecolor": "white"
           },
           "yaxis": {
            "backgroundcolor": "#E5ECF6",
            "gridcolor": "white",
            "gridwidth": 2,
            "linecolor": "white",
            "showbackground": true,
            "ticks": "",
            "zerolinecolor": "white"
           },
           "zaxis": {
            "backgroundcolor": "#E5ECF6",
            "gridcolor": "white",
            "gridwidth": 2,
            "linecolor": "white",
            "showbackground": true,
            "ticks": "",
            "zerolinecolor": "white"
           }
          },
          "shapedefaults": {
           "line": {
            "color": "#2a3f5f"
           }
          },
          "ternary": {
           "aaxis": {
            "gridcolor": "white",
            "linecolor": "white",
            "ticks": ""
           },
           "baxis": {
            "gridcolor": "white",
            "linecolor": "white",
            "ticks": ""
           },
           "bgcolor": "#E5ECF6",
           "caxis": {
            "gridcolor": "white",
            "linecolor": "white",
            "ticks": ""
           }
          },
          "title": {
           "x": 0.05
          },
          "xaxis": {
           "automargin": true,
           "gridcolor": "white",
           "linecolor": "white",
           "ticks": "",
           "title": {
            "standoff": 15
           },
           "zerolinecolor": "white",
           "zerolinewidth": 2
          },
          "yaxis": {
           "automargin": true,
           "gridcolor": "white",
           "linecolor": "white",
           "ticks": "",
           "title": {
            "standoff": 15
           },
           "zerolinecolor": "white",
           "zerolinewidth": 2
          }
         }
        },
        "title": {
         "text": "Continent Overview"
        },
        "width": 900
       }
      }
     },
     "metadata": {},
     "output_type": "display_data"
    }
   ],
   "source": [
    "continent_plots = prepare_data_for_graph(continent_day_result, day_header[0:17])\n",
    "labels = continent_plots['Continent']\n",
    "specs = [[{'type':'domain'}, {'type':'domain'}], [{'type':'domain'}, {'type':'domain'}], [{'type':'domain'}, {'type':'domain'}]]\n",
    "fig = make_subplots(rows=3, cols=2, specs = specs, subplot_titles=['Total Cases', 'New Cases', 'Total Deaths', 'New Deaths', 'Total Recovered', 'New Recovered'])\n",
    "fig.add_trace(go.Pie(labels=labels, values=continent_plots['Total Cases']), 1, 1)\n",
    "fig.add_trace(go.Pie(labels=labels, values=continent_plots['New Cases']), 1, 2)\n",
    "\n",
    "fig.add_trace(go.Pie(labels=labels, values=continent_plots['Total Deaths']), 2, 1)\n",
    "fig.add_trace(go.Pie(labels=labels, values=continent_plots['New Deaths']), 2, 2)\n",
    "\n",
    "fig.add_trace(go.Pie(labels=labels, values=continent_plots['Total Recovered']), 3, 1)\n",
    "fig.add_trace(go.Pie(labels=labels, values=continent_plots['New Recovered']), 3, 2)\n",
    "\n",
    "fig.update_layout(height=900, width=900,title_text='Continent Overview')\n",
    "fig.show()"
   ]
  },
  {
   "cell_type": "code",
   "execution_count": 34,
   "metadata": {},
   "outputs": [
    {
     "data": {
      "text/html": [
       "<div>\n",
       "<style scoped>\n",
       "    .dataframe tbody tr th:only-of-type {\n",
       "        vertical-align: middle;\n",
       "    }\n",
       "\n",
       "    .dataframe tbody tr th {\n",
       "        vertical-align: top;\n",
       "    }\n",
       "\n",
       "    .dataframe thead th {\n",
       "        text-align: right;\n",
       "    }\n",
       "</style>\n",
       "<table border=\"1\" class=\"dataframe\">\n",
       "  <thead>\n",
       "    <tr style=\"text-align: right;\">\n",
       "      <th></th>\n",
       "      <th>Continent</th>\n",
       "      <th>Total Cases</th>\n",
       "      <th>New Cases</th>\n",
       "      <th>Total Deaths</th>\n",
       "      <th>New Deaths</th>\n",
       "      <th>Total Recovered</th>\n",
       "      <th>New Recovered</th>\n",
       "    </tr>\n",
       "  </thead>\n",
       "  <tbody>\n",
       "    <tr>\n",
       "      <th>0</th>\n",
       "      <td>North Ameica</td>\n",
       "      <td>834441750</td>\n",
       "      <td>1494673.0</td>\n",
       "      <td>16797510.0</td>\n",
       "      <td>18033.0</td>\n",
       "      <td>6.715734e+08</td>\n",
       "      <td>1048838.0</td>\n",
       "    </tr>\n",
       "    <tr>\n",
       "      <th>1</th>\n",
       "      <td>Asia</td>\n",
       "      <td>1153840887</td>\n",
       "      <td>1162477.0</td>\n",
       "      <td>17076963.0</td>\n",
       "      <td>18395.0</td>\n",
       "      <td>1.115540e+09</td>\n",
       "      <td>1152745.0</td>\n",
       "    </tr>\n",
       "    <tr>\n",
       "      <th>2</th>\n",
       "      <td>South America</td>\n",
       "      <td>546805148</td>\n",
       "      <td>248206.0</td>\n",
       "      <td>16567358.0</td>\n",
       "      <td>4962.0</td>\n",
       "      <td>4.957339e+08</td>\n",
       "      <td>231136.0</td>\n",
       "    </tr>\n",
       "    <tr>\n",
       "      <th>3</th>\n",
       "      <td>Europe</td>\n",
       "      <td>1050597407</td>\n",
       "      <td>4893967.0</td>\n",
       "      <td>20008024.0</td>\n",
       "      <td>52910.0</td>\n",
       "      <td>9.220848e+08</td>\n",
       "      <td>3588960.0</td>\n",
       "    </tr>\n",
       "    <tr>\n",
       "      <th>4</th>\n",
       "      <td>Africa</td>\n",
       "      <td>123271500</td>\n",
       "      <td>242710.0</td>\n",
       "      <td>3138079.0</td>\n",
       "      <td>1791.0</td>\n",
       "      <td>1.140664e+08</td>\n",
       "      <td>94543.0</td>\n",
       "    </tr>\n",
       "    <tr>\n",
       "      <th>5</th>\n",
       "      <td>Australi/Ocen</td>\n",
       "      <td>5242858</td>\n",
       "      <td>23379.0</td>\n",
       "      <td>59539.0</td>\n",
       "      <td>137.0</td>\n",
       "      <td>4.215709e+06</td>\n",
       "      <td>20059.0</td>\n",
       "    </tr>\n",
       "  </tbody>\n",
       "</table>\n",
       "</div>"
      ],
      "text/plain": [
       "       Continent Total Cases  New Cases  Total Deaths  New Deaths  \\\n",
       "0   North Ameica   834441750  1494673.0    16797510.0     18033.0   \n",
       "1           Asia  1153840887  1162477.0    17076963.0     18395.0   \n",
       "2  South America   546805148   248206.0    16567358.0      4962.0   \n",
       "3         Europe  1050597407  4893967.0    20008024.0     52910.0   \n",
       "4         Africa   123271500   242710.0     3138079.0      1791.0   \n",
       "5  Australi/Ocen     5242858    23379.0       59539.0       137.0   \n",
       "\n",
       "   Total Recovered  New Recovered  \n",
       "0     6.715734e+08      1048838.0  \n",
       "1     1.115540e+09      1152745.0  \n",
       "2     4.957339e+08       231136.0  \n",
       "3     9.220848e+08      3588960.0  \n",
       "4     1.140664e+08        94543.0  \n",
       "5     4.215709e+06        20059.0  "
      ]
     },
     "execution_count": 34,
     "metadata": {},
     "output_type": "execute_result"
    }
   ],
   "source": [
    "continent_plots[['Continent', 'Total Cases', 'New Cases', 'Total Deaths', 'New Deaths', 'Total Recovered', 'New Recovered']]"
   ]
  },
  {
   "cell_type": "markdown",
   "metadata": {},
   "source": [
    "### Số các ca mắc, nhiễm và tử vong mỗi ngày\n",
    "***"
   ]
  },
  {
   "cell_type": "code",
   "execution_count": 35,
   "metadata": {},
   "outputs": [],
   "source": [
    "continent_date_plots = []\n",
    "continent_name = []\n",
    "for each_continent in continent_day_result_by_date:\n",
    "    continent_date_plots.append(prepare_data_for_graph(each_continent,day_header[0:17]))\n",
    "    continent_name.append(each_continent[0].get('Continent'))"
   ]
  },
  {
   "cell_type": "code",
   "execution_count": 36,
   "metadata": {},
   "outputs": [
    {
     "name": "stdout",
     "output_type": "stream",
     "text": [
      "North Ameica\n"
     ]
    },
    {
     "data": {
      "text/html": [
       "<div>\n",
       "<style scoped>\n",
       "    .dataframe tbody tr th:only-of-type {\n",
       "        vertical-align: middle;\n",
       "    }\n",
       "\n",
       "    .dataframe tbody tr th {\n",
       "        vertical-align: top;\n",
       "    }\n",
       "\n",
       "    .dataframe thead th {\n",
       "        text-align: right;\n",
       "    }\n",
       "</style>\n",
       "<table border=\"1\" class=\"dataframe\">\n",
       "  <thead>\n",
       "    <tr style=\"text-align: right;\">\n",
       "      <th>Date</th>\n",
       "      <th>27:11:2021</th>\n",
       "      <th>28:11:2021</th>\n",
       "      <th>29:11:2021</th>\n",
       "      <th>30:11:2021</th>\n",
       "      <th>01:12:2021</th>\n",
       "      <th>02:12:2021</th>\n",
       "      <th>03:12:2021</th>\n",
       "      <th>04:12:2021</th>\n",
       "      <th>05:12:2021</th>\n",
       "      <th>06:12:2021</th>\n",
       "      <th>07:12:2021</th>\n",
       "      <th>08:12:2021</th>\n",
       "      <th>09:12:2021</th>\n",
       "      <th>10:12:2021</th>\n",
       "    </tr>\n",
       "  </thead>\n",
       "  <tbody>\n",
       "    <tr>\n",
       "      <th>New Cases</th>\n",
       "      <td>31908.0</td>\n",
       "      <td>27052.0</td>\n",
       "      <td>81346.0</td>\n",
       "      <td>112969.0</td>\n",
       "      <td>140693.0</td>\n",
       "      <td>142172.0</td>\n",
       "      <td>156853.0</td>\n",
       "      <td>64996.0</td>\n",
       "      <td>86268.0</td>\n",
       "      <td>94194.0</td>\n",
       "      <td>128644.0</td>\n",
       "      <td>136868.0</td>\n",
       "      <td>143311.0</td>\n",
       "      <td>147399.0</td>\n",
       "    </tr>\n",
       "    <tr>\n",
       "      <th>New Recovered</th>\n",
       "      <td>26991.0</td>\n",
       "      <td>24595.0</td>\n",
       "      <td>98837.0</td>\n",
       "      <td>115075.0</td>\n",
       "      <td>91377.0</td>\n",
       "      <td>80774.0</td>\n",
       "      <td>83473.0</td>\n",
       "      <td>40653.0</td>\n",
       "      <td>50237.0</td>\n",
       "      <td>128638.0</td>\n",
       "      <td>77046.0</td>\n",
       "      <td>79481.0</td>\n",
       "      <td>71979.0</td>\n",
       "      <td>79682.0</td>\n",
       "    </tr>\n",
       "    <tr>\n",
       "      <th>New Deaths</th>\n",
       "      <td>365.0</td>\n",
       "      <td>394.0</td>\n",
       "      <td>626.0</td>\n",
       "      <td>1571.0</td>\n",
       "      <td>2060.0</td>\n",
       "      <td>1531.0</td>\n",
       "      <td>1711.0</td>\n",
       "      <td>722.0</td>\n",
       "      <td>719.0</td>\n",
       "      <td>789.0</td>\n",
       "      <td>2133.0</td>\n",
       "      <td>1683.0</td>\n",
       "      <td>1777.0</td>\n",
       "      <td>1952.0</td>\n",
       "    </tr>\n",
       "  </tbody>\n",
       "</table>\n",
       "</div>"
      ],
      "text/plain": [
       "Date           27:11:2021  28:11:2021  29:11:2021  30:11:2021  01:12:2021  \\\n",
       "New Cases         31908.0     27052.0     81346.0    112969.0    140693.0   \n",
       "New Recovered     26991.0     24595.0     98837.0    115075.0     91377.0   \n",
       "New Deaths          365.0       394.0       626.0      1571.0      2060.0   \n",
       "\n",
       "Date           02:12:2021  03:12:2021  04:12:2021  05:12:2021  06:12:2021  \\\n",
       "New Cases        142172.0    156853.0     64996.0     86268.0     94194.0   \n",
       "New Recovered     80774.0     83473.0     40653.0     50237.0    128638.0   \n",
       "New Deaths         1531.0      1711.0       722.0       719.0       789.0   \n",
       "\n",
       "Date           07:12:2021  08:12:2021  09:12:2021  10:12:2021  \n",
       "New Cases        128644.0    136868.0    143311.0    147399.0  \n",
       "New Recovered     77046.0     79481.0     71979.0     79682.0  \n",
       "New Deaths         2133.0      1683.0      1777.0      1952.0  "
      ]
     },
     "metadata": {},
     "output_type": "display_data"
    },
    {
     "name": "stdout",
     "output_type": "stream",
     "text": [
      "Asia\n"
     ]
    },
    {
     "data": {
      "text/html": [
       "<div>\n",
       "<style scoped>\n",
       "    .dataframe tbody tr th:only-of-type {\n",
       "        vertical-align: middle;\n",
       "    }\n",
       "\n",
       "    .dataframe tbody tr th {\n",
       "        vertical-align: top;\n",
       "    }\n",
       "\n",
       "    .dataframe thead th {\n",
       "        text-align: right;\n",
       "    }\n",
       "</style>\n",
       "<table border=\"1\" class=\"dataframe\">\n",
       "  <thead>\n",
       "    <tr style=\"text-align: right;\">\n",
       "      <th>Date</th>\n",
       "      <th>27:11:2021</th>\n",
       "      <th>28:11:2021</th>\n",
       "      <th>29:11:2021</th>\n",
       "      <th>30:11:2021</th>\n",
       "      <th>01:12:2021</th>\n",
       "      <th>02:12:2021</th>\n",
       "      <th>03:12:2021</th>\n",
       "      <th>04:12:2021</th>\n",
       "      <th>05:12:2021</th>\n",
       "      <th>06:12:2021</th>\n",
       "      <th>07:12:2021</th>\n",
       "      <th>08:12:2021</th>\n",
       "      <th>09:12:2021</th>\n",
       "      <th>10:12:2021</th>\n",
       "    </tr>\n",
       "  </thead>\n",
       "  <tbody>\n",
       "    <tr>\n",
       "      <th>New Cases</th>\n",
       "      <td>87041.0</td>\n",
       "      <td>77542.0</td>\n",
       "      <td>79819.0</td>\n",
       "      <td>88590.0</td>\n",
       "      <td>90435.0</td>\n",
       "      <td>86599.0</td>\n",
       "      <td>84194.0</td>\n",
       "      <td>79355.0</td>\n",
       "      <td>78617.0</td>\n",
       "      <td>74687.0</td>\n",
       "      <td>85080.0</td>\n",
       "      <td>85928.0</td>\n",
       "      <td>84304.0</td>\n",
       "      <td>80286.0</td>\n",
       "    </tr>\n",
       "    <tr>\n",
       "      <th>New Recovered</th>\n",
       "      <td>84218.0</td>\n",
       "      <td>74874.0</td>\n",
       "      <td>93437.0</td>\n",
       "      <td>92670.0</td>\n",
       "      <td>80390.0</td>\n",
       "      <td>88616.0</td>\n",
       "      <td>72302.0</td>\n",
       "      <td>63354.0</td>\n",
       "      <td>71301.0</td>\n",
       "      <td>75968.0</td>\n",
       "      <td>76900.0</td>\n",
       "      <td>102946.0</td>\n",
       "      <td>101863.0</td>\n",
       "      <td>73906.0</td>\n",
       "    </tr>\n",
       "    <tr>\n",
       "      <th>New Deaths</th>\n",
       "      <td>1630.0</td>\n",
       "      <td>1052.0</td>\n",
       "      <td>1158.0</td>\n",
       "      <td>1267.0</td>\n",
       "      <td>1551.0</td>\n",
       "      <td>1323.0</td>\n",
       "      <td>1452.0</td>\n",
       "      <td>1198.0</td>\n",
       "      <td>1185.0</td>\n",
       "      <td>1171.0</td>\n",
       "      <td>1197.0</td>\n",
       "      <td>1217.0</td>\n",
       "      <td>1727.0</td>\n",
       "      <td>1267.0</td>\n",
       "    </tr>\n",
       "  </tbody>\n",
       "</table>\n",
       "</div>"
      ],
      "text/plain": [
       "Date           27:11:2021  28:11:2021  29:11:2021  30:11:2021  01:12:2021  \\\n",
       "New Cases         87041.0     77542.0     79819.0     88590.0     90435.0   \n",
       "New Recovered     84218.0     74874.0     93437.0     92670.0     80390.0   \n",
       "New Deaths         1630.0      1052.0      1158.0      1267.0      1551.0   \n",
       "\n",
       "Date           02:12:2021  03:12:2021  04:12:2021  05:12:2021  06:12:2021  \\\n",
       "New Cases         86599.0     84194.0     79355.0     78617.0     74687.0   \n",
       "New Recovered     88616.0     72302.0     63354.0     71301.0     75968.0   \n",
       "New Deaths         1323.0      1452.0      1198.0      1185.0      1171.0   \n",
       "\n",
       "Date           07:12:2021  08:12:2021  09:12:2021  10:12:2021  \n",
       "New Cases         85080.0     85928.0     84304.0     80286.0  \n",
       "New Recovered     76900.0    102946.0    101863.0     73906.0  \n",
       "New Deaths         1197.0      1217.0      1727.0      1267.0  "
      ]
     },
     "metadata": {},
     "output_type": "display_data"
    },
    {
     "name": "stdout",
     "output_type": "stream",
     "text": [
      "South America\n"
     ]
    },
    {
     "data": {
      "text/html": [
       "<div>\n",
       "<style scoped>\n",
       "    .dataframe tbody tr th:only-of-type {\n",
       "        vertical-align: middle;\n",
       "    }\n",
       "\n",
       "    .dataframe tbody tr th {\n",
       "        vertical-align: top;\n",
       "    }\n",
       "\n",
       "    .dataframe thead th {\n",
       "        text-align: right;\n",
       "    }\n",
       "</style>\n",
       "<table border=\"1\" class=\"dataframe\">\n",
       "  <thead>\n",
       "    <tr style=\"text-align: right;\">\n",
       "      <th>Date</th>\n",
       "      <th>27:11:2021</th>\n",
       "      <th>28:11:2021</th>\n",
       "      <th>29:11:2021</th>\n",
       "      <th>30:11:2021</th>\n",
       "      <th>01:12:2021</th>\n",
       "      <th>02:12:2021</th>\n",
       "      <th>03:12:2021</th>\n",
       "      <th>04:12:2021</th>\n",
       "      <th>05:12:2021</th>\n",
       "      <th>06:12:2021</th>\n",
       "      <th>07:12:2021</th>\n",
       "      <th>08:12:2021</th>\n",
       "      <th>09:12:2021</th>\n",
       "      <th>10:12:2021</th>\n",
       "    </tr>\n",
       "  </thead>\n",
       "  <tbody>\n",
       "    <tr>\n",
       "      <th>New Cases</th>\n",
       "      <td>20069.0</td>\n",
       "      <td>11059.0</td>\n",
       "      <td>12373.0</td>\n",
       "      <td>18627.0</td>\n",
       "      <td>20624.0</td>\n",
       "      <td>23991.0</td>\n",
       "      <td>21028.0</td>\n",
       "      <td>18900.0</td>\n",
       "      <td>12877.0</td>\n",
       "      <td>10961.0</td>\n",
       "      <td>20436.0</td>\n",
       "      <td>19383.0</td>\n",
       "      <td>19291.0</td>\n",
       "      <td>18587.0</td>\n",
       "    </tr>\n",
       "    <tr>\n",
       "      <th>New Recovered</th>\n",
       "      <td>13437.0</td>\n",
       "      <td>12649.0</td>\n",
       "      <td>18102.0</td>\n",
       "      <td>24551.0</td>\n",
       "      <td>24254.0</td>\n",
       "      <td>19305.0</td>\n",
       "      <td>13163.0</td>\n",
       "      <td>10108.0</td>\n",
       "      <td>11973.0</td>\n",
       "      <td>15929.0</td>\n",
       "      <td>23835.0</td>\n",
       "      <td>19782.0</td>\n",
       "      <td>16225.0</td>\n",
       "      <td>7823.0</td>\n",
       "    </tr>\n",
       "    <tr>\n",
       "      <th>New Deaths</th>\n",
       "      <td>412.0</td>\n",
       "      <td>197.0</td>\n",
       "      <td>285.0</td>\n",
       "      <td>467.0</td>\n",
       "      <td>405.0</td>\n",
       "      <td>424.0</td>\n",
       "      <td>393.0</td>\n",
       "      <td>283.0</td>\n",
       "      <td>190.0</td>\n",
       "      <td>234.0</td>\n",
       "      <td>434.0</td>\n",
       "      <td>370.0</td>\n",
       "      <td>383.0</td>\n",
       "      <td>485.0</td>\n",
       "    </tr>\n",
       "  </tbody>\n",
       "</table>\n",
       "</div>"
      ],
      "text/plain": [
       "Date           27:11:2021  28:11:2021  29:11:2021  30:11:2021  01:12:2021  \\\n",
       "New Cases         20069.0     11059.0     12373.0     18627.0     20624.0   \n",
       "New Recovered     13437.0     12649.0     18102.0     24551.0     24254.0   \n",
       "New Deaths          412.0       197.0       285.0       467.0       405.0   \n",
       "\n",
       "Date           02:12:2021  03:12:2021  04:12:2021  05:12:2021  06:12:2021  \\\n",
       "New Cases         23991.0     21028.0     18900.0     12877.0     10961.0   \n",
       "New Recovered     19305.0     13163.0     10108.0     11973.0     15929.0   \n",
       "New Deaths          424.0       393.0       283.0       190.0       234.0   \n",
       "\n",
       "Date           07:12:2021  08:12:2021  09:12:2021  10:12:2021  \n",
       "New Cases         20436.0     19383.0     19291.0     18587.0  \n",
       "New Recovered     23835.0     19782.0     16225.0      7823.0  \n",
       "New Deaths          434.0       370.0       383.0       485.0  "
      ]
     },
     "metadata": {},
     "output_type": "display_data"
    },
    {
     "name": "stdout",
     "output_type": "stream",
     "text": [
      "Europe\n"
     ]
    },
    {
     "data": {
      "text/html": [
       "<div>\n",
       "<style scoped>\n",
       "    .dataframe tbody tr th:only-of-type {\n",
       "        vertical-align: middle;\n",
       "    }\n",
       "\n",
       "    .dataframe tbody tr th {\n",
       "        vertical-align: top;\n",
       "    }\n",
       "\n",
       "    .dataframe thead th {\n",
       "        text-align: right;\n",
       "    }\n",
       "</style>\n",
       "<table border=\"1\" class=\"dataframe\">\n",
       "  <thead>\n",
       "    <tr style=\"text-align: right;\">\n",
       "      <th>Date</th>\n",
       "      <th>27:11:2021</th>\n",
       "      <th>28:11:2021</th>\n",
       "      <th>29:11:2021</th>\n",
       "      <th>30:11:2021</th>\n",
       "      <th>01:12:2021</th>\n",
       "      <th>02:12:2021</th>\n",
       "      <th>03:12:2021</th>\n",
       "      <th>04:12:2021</th>\n",
       "      <th>05:12:2021</th>\n",
       "      <th>06:12:2021</th>\n",
       "      <th>07:12:2021</th>\n",
       "      <th>08:12:2021</th>\n",
       "      <th>09:12:2021</th>\n",
       "      <th>10:12:2021</th>\n",
       "    </tr>\n",
       "  </thead>\n",
       "  <tbody>\n",
       "    <tr>\n",
       "      <th>New Cases</th>\n",
       "      <td>337747.0</td>\n",
       "      <td>265266.0</td>\n",
       "      <td>294719.0</td>\n",
       "      <td>355993.0</td>\n",
       "      <td>416308.0</td>\n",
       "      <td>423249.0</td>\n",
       "      <td>420727.0</td>\n",
       "      <td>344801.0</td>\n",
       "      <td>280441.0</td>\n",
       "      <td>256202.0</td>\n",
       "      <td>367513.0</td>\n",
       "      <td>392308.0</td>\n",
       "      <td>402955.0</td>\n",
       "      <td>335738.0</td>\n",
       "    </tr>\n",
       "    <tr>\n",
       "      <th>New Recovered</th>\n",
       "      <td>244225.0</td>\n",
       "      <td>188807.0</td>\n",
       "      <td>233859.0</td>\n",
       "      <td>272774.0</td>\n",
       "      <td>259246.0</td>\n",
       "      <td>248229.0</td>\n",
       "      <td>275579.0</td>\n",
       "      <td>258736.0</td>\n",
       "      <td>201443.0</td>\n",
       "      <td>257433.0</td>\n",
       "      <td>290376.0</td>\n",
       "      <td>289641.0</td>\n",
       "      <td>286486.0</td>\n",
       "      <td>282126.0</td>\n",
       "    </tr>\n",
       "    <tr>\n",
       "      <th>New Deaths</th>\n",
       "      <td>3483.0</td>\n",
       "      <td>2535.0</td>\n",
       "      <td>3589.0</td>\n",
       "      <td>4421.0</td>\n",
       "      <td>4364.0</td>\n",
       "      <td>4114.0</td>\n",
       "      <td>4242.0</td>\n",
       "      <td>3381.0</td>\n",
       "      <td>2384.0</td>\n",
       "      <td>3275.0</td>\n",
       "      <td>4307.0</td>\n",
       "      <td>4462.0</td>\n",
       "      <td>4283.0</td>\n",
       "      <td>4070.0</td>\n",
       "    </tr>\n",
       "  </tbody>\n",
       "</table>\n",
       "</div>"
      ],
      "text/plain": [
       "Date           27:11:2021  28:11:2021  29:11:2021  30:11:2021  01:12:2021  \\\n",
       "New Cases        337747.0    265266.0    294719.0    355993.0    416308.0   \n",
       "New Recovered    244225.0    188807.0    233859.0    272774.0    259246.0   \n",
       "New Deaths         3483.0      2535.0      3589.0      4421.0      4364.0   \n",
       "\n",
       "Date           02:12:2021  03:12:2021  04:12:2021  05:12:2021  06:12:2021  \\\n",
       "New Cases        423249.0    420727.0    344801.0    280441.0    256202.0   \n",
       "New Recovered    248229.0    275579.0    258736.0    201443.0    257433.0   \n",
       "New Deaths         4114.0      4242.0      3381.0      2384.0      3275.0   \n",
       "\n",
       "Date           07:12:2021  08:12:2021  09:12:2021  10:12:2021  \n",
       "New Cases        367513.0    392308.0    402955.0    335738.0  \n",
       "New Recovered    290376.0    289641.0    286486.0    282126.0  \n",
       "New Deaths         4307.0      4462.0      4283.0      4070.0  "
      ]
     },
     "metadata": {},
     "output_type": "display_data"
    },
    {
     "name": "stdout",
     "output_type": "stream",
     "text": [
      "Africa\n"
     ]
    },
    {
     "data": {
      "text/html": [
       "<div>\n",
       "<style scoped>\n",
       "    .dataframe tbody tr th:only-of-type {\n",
       "        vertical-align: middle;\n",
       "    }\n",
       "\n",
       "    .dataframe tbody tr th {\n",
       "        vertical-align: top;\n",
       "    }\n",
       "\n",
       "    .dataframe thead th {\n",
       "        text-align: right;\n",
       "    }\n",
       "</style>\n",
       "<table border=\"1\" class=\"dataframe\">\n",
       "  <thead>\n",
       "    <tr style=\"text-align: right;\">\n",
       "      <th>Date</th>\n",
       "      <th>27:11:2021</th>\n",
       "      <th>28:11:2021</th>\n",
       "      <th>29:11:2021</th>\n",
       "      <th>30:11:2021</th>\n",
       "      <th>01:12:2021</th>\n",
       "      <th>02:12:2021</th>\n",
       "      <th>03:12:2021</th>\n",
       "      <th>04:12:2021</th>\n",
       "      <th>05:12:2021</th>\n",
       "      <th>06:12:2021</th>\n",
       "      <th>07:12:2021</th>\n",
       "      <th>08:12:2021</th>\n",
       "      <th>09:12:2021</th>\n",
       "      <th>10:12:2021</th>\n",
       "    </tr>\n",
       "  </thead>\n",
       "  <tbody>\n",
       "    <tr>\n",
       "      <th>New Cases</th>\n",
       "      <td>5743.0</td>\n",
       "      <td>5400.0</td>\n",
       "      <td>6273.0</td>\n",
       "      <td>10465.0</td>\n",
       "      <td>12802.0</td>\n",
       "      <td>16376.0</td>\n",
       "      <td>20710.0</td>\n",
       "      <td>20567.0</td>\n",
       "      <td>14686.0</td>\n",
       "      <td>10757.0</td>\n",
       "      <td>23708.0</td>\n",
       "      <td>30007.0</td>\n",
       "      <td>33606.0</td>\n",
       "      <td>31610.0</td>\n",
       "    </tr>\n",
       "    <tr>\n",
       "      <th>New Recovered</th>\n",
       "      <td>3727.0</td>\n",
       "      <td>5687.0</td>\n",
       "      <td>6493.0</td>\n",
       "      <td>5662.0</td>\n",
       "      <td>5173.0</td>\n",
       "      <td>5576.0</td>\n",
       "      <td>6524.0</td>\n",
       "      <td>5019.0</td>\n",
       "      <td>7103.0</td>\n",
       "      <td>7563.0</td>\n",
       "      <td>9264.0</td>\n",
       "      <td>7234.0</td>\n",
       "      <td>6145.0</td>\n",
       "      <td>13373.0</td>\n",
       "    </tr>\n",
       "    <tr>\n",
       "      <th>New Deaths</th>\n",
       "      <td>119.0</td>\n",
       "      <td>71.0</td>\n",
       "      <td>164.0</td>\n",
       "      <td>146.0</td>\n",
       "      <td>149.0</td>\n",
       "      <td>165.0</td>\n",
       "      <td>117.0</td>\n",
       "      <td>98.0</td>\n",
       "      <td>82.0</td>\n",
       "      <td>137.0</td>\n",
       "      <td>134.0</td>\n",
       "      <td>155.0</td>\n",
       "      <td>109.0</td>\n",
       "      <td>145.0</td>\n",
       "    </tr>\n",
       "  </tbody>\n",
       "</table>\n",
       "</div>"
      ],
      "text/plain": [
       "Date           27:11:2021  28:11:2021  29:11:2021  30:11:2021  01:12:2021  \\\n",
       "New Cases          5743.0      5400.0      6273.0     10465.0     12802.0   \n",
       "New Recovered      3727.0      5687.0      6493.0      5662.0      5173.0   \n",
       "New Deaths          119.0        71.0       164.0       146.0       149.0   \n",
       "\n",
       "Date           02:12:2021  03:12:2021  04:12:2021  05:12:2021  06:12:2021  \\\n",
       "New Cases         16376.0     20710.0     20567.0     14686.0     10757.0   \n",
       "New Recovered      5576.0      6524.0      5019.0      7103.0      7563.0   \n",
       "New Deaths          165.0       117.0        98.0        82.0       137.0   \n",
       "\n",
       "Date           07:12:2021  08:12:2021  09:12:2021  10:12:2021  \n",
       "New Cases         23708.0     30007.0     33606.0     31610.0  \n",
       "New Recovered      9264.0      7234.0      6145.0     13373.0  \n",
       "New Deaths          134.0       155.0       109.0       145.0  "
      ]
     },
     "metadata": {},
     "output_type": "display_data"
    },
    {
     "name": "stdout",
     "output_type": "stream",
     "text": [
      "Australi/Ocen\n"
     ]
    },
    {
     "data": {
      "text/html": [
       "<div>\n",
       "<style scoped>\n",
       "    .dataframe tbody tr th:only-of-type {\n",
       "        vertical-align: middle;\n",
       "    }\n",
       "\n",
       "    .dataframe tbody tr th {\n",
       "        vertical-align: top;\n",
       "    }\n",
       "\n",
       "    .dataframe thead th {\n",
       "        text-align: right;\n",
       "    }\n",
       "</style>\n",
       "<table border=\"1\" class=\"dataframe\">\n",
       "  <thead>\n",
       "    <tr style=\"text-align: right;\">\n",
       "      <th>Date</th>\n",
       "      <th>27:11:2021</th>\n",
       "      <th>28:11:2021</th>\n",
       "      <th>29:11:2021</th>\n",
       "      <th>30:11:2021</th>\n",
       "      <th>01:12:2021</th>\n",
       "      <th>02:12:2021</th>\n",
       "      <th>03:12:2021</th>\n",
       "      <th>04:12:2021</th>\n",
       "      <th>05:12:2021</th>\n",
       "      <th>06:12:2021</th>\n",
       "      <th>07:12:2021</th>\n",
       "      <th>08:12:2021</th>\n",
       "      <th>09:12:2021</th>\n",
       "      <th>10:12:2021</th>\n",
       "    </tr>\n",
       "  </thead>\n",
       "  <tbody>\n",
       "    <tr>\n",
       "      <th>New Cases</th>\n",
       "      <td>1697.0</td>\n",
       "      <td>1469.0</td>\n",
       "      <td>1439.0</td>\n",
       "      <td>1338.0</td>\n",
       "      <td>1663.0</td>\n",
       "      <td>2007.0</td>\n",
       "      <td>1692.0</td>\n",
       "      <td>1813.0</td>\n",
       "      <td>1534.0</td>\n",
       "      <td>1447.0</td>\n",
       "      <td>1650.0</td>\n",
       "      <td>1870.0</td>\n",
       "      <td>1918.0</td>\n",
       "      <td>1842.0</td>\n",
       "    </tr>\n",
       "    <tr>\n",
       "      <th>New Recovered</th>\n",
       "      <td>875.0</td>\n",
       "      <td>435.0</td>\n",
       "      <td>1147.0</td>\n",
       "      <td>154.0</td>\n",
       "      <td>2256.0</td>\n",
       "      <td>1018.0</td>\n",
       "      <td>1373.0</td>\n",
       "      <td>141.0</td>\n",
       "      <td>466.0</td>\n",
       "      <td>287.0</td>\n",
       "      <td>5105.0</td>\n",
       "      <td>3429.0</td>\n",
       "      <td>1805.0</td>\n",
       "      <td>1568.0</td>\n",
       "    </tr>\n",
       "    <tr>\n",
       "      <th>New Deaths</th>\n",
       "      <td>5.0</td>\n",
       "      <td>8.0</td>\n",
       "      <td>3.0</td>\n",
       "      <td>11.0</td>\n",
       "      <td>6.0</td>\n",
       "      <td>14.0</td>\n",
       "      <td>13.0</td>\n",
       "      <td>10.0</td>\n",
       "      <td>9.0</td>\n",
       "      <td>6.0</td>\n",
       "      <td>32.0</td>\n",
       "      <td>8.0</td>\n",
       "      <td>10.0</td>\n",
       "      <td>2.0</td>\n",
       "    </tr>\n",
       "  </tbody>\n",
       "</table>\n",
       "</div>"
      ],
      "text/plain": [
       "Date           27:11:2021  28:11:2021  29:11:2021  30:11:2021  01:12:2021  \\\n",
       "New Cases          1697.0      1469.0      1439.0      1338.0      1663.0   \n",
       "New Recovered       875.0       435.0      1147.0       154.0      2256.0   \n",
       "New Deaths            5.0         8.0         3.0        11.0         6.0   \n",
       "\n",
       "Date           02:12:2021  03:12:2021  04:12:2021  05:12:2021  06:12:2021  \\\n",
       "New Cases          2007.0      1692.0      1813.0      1534.0      1447.0   \n",
       "New Recovered      1018.0      1373.0       141.0       466.0       287.0   \n",
       "New Deaths           14.0        13.0        10.0         9.0         6.0   \n",
       "\n",
       "Date           07:12:2021  08:12:2021  09:12:2021  10:12:2021  \n",
       "New Cases          1650.0      1870.0      1918.0      1842.0  \n",
       "New Recovered      5105.0      3429.0      1805.0      1568.0  \n",
       "New Deaths           32.0         8.0        10.0         2.0  "
      ]
     },
     "metadata": {},
     "output_type": "display_data"
    }
   ],
   "source": [
    "for i in range(6):\n",
    "    df_tmp = continent_date_plots[i][['Date', 'New Cases', 'New Recovered', 'New Deaths']]\n",
    "    df_tmp.set_index('Date',inplace=True)\n",
    "    print(continent_date_plots[i]['Continent'][0])\n",
    "    display(df_tmp.T)"
   ]
  },
  {
   "cell_type": "code",
   "execution_count": 37,
   "metadata": {},
   "outputs": [
    {
     "data": {
      "application/vnd.plotly.v1+json": {
       "config": {
        "plotlyServerURL": "https://plot.ly"
       },
       "data": [
        {
         "name": "North Ameica",
         "type": "bar",
         "x": [
          "27:11:2021",
          "28:11:2021",
          "29:11:2021",
          "30:11:2021",
          "01:12:2021",
          "02:12:2021",
          "03:12:2021",
          "04:12:2021",
          "05:12:2021",
          "06:12:2021",
          "07:12:2021",
          "08:12:2021",
          "09:12:2021",
          "10:12:2021"
         ],
         "y": [
          31908,
          27052,
          81346,
          112969,
          140693,
          142172,
          156853,
          64996,
          86268,
          94194,
          128644,
          136868,
          143311,
          147399
         ]
        },
        {
         "name": "Asia",
         "type": "bar",
         "x": [
          "27:11:2021",
          "28:11:2021",
          "29:11:2021",
          "30:11:2021",
          "01:12:2021",
          "02:12:2021",
          "03:12:2021",
          "04:12:2021",
          "05:12:2021",
          "06:12:2021",
          "07:12:2021",
          "08:12:2021",
          "09:12:2021",
          "10:12:2021"
         ],
         "y": [
          87041,
          77542,
          79819,
          88590,
          90435,
          86599,
          84194,
          79355,
          78617,
          74687,
          85080,
          85928,
          84304,
          80286
         ]
        },
        {
         "name": "South America",
         "type": "bar",
         "x": [
          "27:11:2021",
          "28:11:2021",
          "29:11:2021",
          "30:11:2021",
          "01:12:2021",
          "02:12:2021",
          "03:12:2021",
          "04:12:2021",
          "05:12:2021",
          "06:12:2021",
          "07:12:2021",
          "08:12:2021",
          "09:12:2021",
          "10:12:2021"
         ],
         "y": [
          20069,
          11059,
          12373,
          18627,
          20624,
          23991,
          21028,
          18900,
          12877,
          10961,
          20436,
          19383,
          19291,
          18587
         ]
        },
        {
         "name": "Europe",
         "type": "bar",
         "x": [
          "27:11:2021",
          "28:11:2021",
          "29:11:2021",
          "30:11:2021",
          "01:12:2021",
          "02:12:2021",
          "03:12:2021",
          "04:12:2021",
          "05:12:2021",
          "06:12:2021",
          "07:12:2021",
          "08:12:2021",
          "09:12:2021",
          "10:12:2021"
         ],
         "y": [
          337747,
          265266,
          294719,
          355993,
          416308,
          423249,
          420727,
          344801,
          280441,
          256202,
          367513,
          392308,
          402955,
          335738
         ]
        },
        {
         "name": "Africa",
         "type": "bar",
         "x": [
          "27:11:2021",
          "28:11:2021",
          "29:11:2021",
          "30:11:2021",
          "01:12:2021",
          "02:12:2021",
          "03:12:2021",
          "04:12:2021",
          "05:12:2021",
          "06:12:2021",
          "07:12:2021",
          "08:12:2021",
          "09:12:2021",
          "10:12:2021"
         ],
         "y": [
          5743,
          5400,
          6273,
          10465,
          12802,
          16376,
          20710,
          20567,
          14686,
          10757,
          23708,
          30007,
          33606,
          31610
         ]
        },
        {
         "name": "Australi/Ocen",
         "type": "bar",
         "x": [
          "27:11:2021",
          "28:11:2021",
          "29:11:2021",
          "30:11:2021",
          "01:12:2021",
          "02:12:2021",
          "03:12:2021",
          "04:12:2021",
          "05:12:2021",
          "06:12:2021",
          "07:12:2021",
          "08:12:2021",
          "09:12:2021",
          "10:12:2021"
         ],
         "y": [
          1697,
          1469,
          1439,
          1338,
          1663,
          2007,
          1692,
          1813,
          1534,
          1447,
          1650,
          1870,
          1918,
          1842
         ]
        }
       ],
       "layout": {
        "barmode": "group",
        "template": {
         "data": {
          "bar": [
           {
            "error_x": {
             "color": "#2a3f5f"
            },
            "error_y": {
             "color": "#2a3f5f"
            },
            "marker": {
             "line": {
              "color": "#E5ECF6",
              "width": 0.5
             },
             "pattern": {
              "fillmode": "overlay",
              "size": 10,
              "solidity": 0.2
             }
            },
            "type": "bar"
           }
          ],
          "barpolar": [
           {
            "marker": {
             "line": {
              "color": "#E5ECF6",
              "width": 0.5
             },
             "pattern": {
              "fillmode": "overlay",
              "size": 10,
              "solidity": 0.2
             }
            },
            "type": "barpolar"
           }
          ],
          "carpet": [
           {
            "aaxis": {
             "endlinecolor": "#2a3f5f",
             "gridcolor": "white",
             "linecolor": "white",
             "minorgridcolor": "white",
             "startlinecolor": "#2a3f5f"
            },
            "baxis": {
             "endlinecolor": "#2a3f5f",
             "gridcolor": "white",
             "linecolor": "white",
             "minorgridcolor": "white",
             "startlinecolor": "#2a3f5f"
            },
            "type": "carpet"
           }
          ],
          "choropleth": [
           {
            "colorbar": {
             "outlinewidth": 0,
             "ticks": ""
            },
            "type": "choropleth"
           }
          ],
          "contour": [
           {
            "colorbar": {
             "outlinewidth": 0,
             "ticks": ""
            },
            "colorscale": [
             [
              0,
              "#0d0887"
             ],
             [
              0.1111111111111111,
              "#46039f"
             ],
             [
              0.2222222222222222,
              "#7201a8"
             ],
             [
              0.3333333333333333,
              "#9c179e"
             ],
             [
              0.4444444444444444,
              "#bd3786"
             ],
             [
              0.5555555555555556,
              "#d8576b"
             ],
             [
              0.6666666666666666,
              "#ed7953"
             ],
             [
              0.7777777777777778,
              "#fb9f3a"
             ],
             [
              0.8888888888888888,
              "#fdca26"
             ],
             [
              1,
              "#f0f921"
             ]
            ],
            "type": "contour"
           }
          ],
          "contourcarpet": [
           {
            "colorbar": {
             "outlinewidth": 0,
             "ticks": ""
            },
            "type": "contourcarpet"
           }
          ],
          "heatmap": [
           {
            "colorbar": {
             "outlinewidth": 0,
             "ticks": ""
            },
            "colorscale": [
             [
              0,
              "#0d0887"
             ],
             [
              0.1111111111111111,
              "#46039f"
             ],
             [
              0.2222222222222222,
              "#7201a8"
             ],
             [
              0.3333333333333333,
              "#9c179e"
             ],
             [
              0.4444444444444444,
              "#bd3786"
             ],
             [
              0.5555555555555556,
              "#d8576b"
             ],
             [
              0.6666666666666666,
              "#ed7953"
             ],
             [
              0.7777777777777778,
              "#fb9f3a"
             ],
             [
              0.8888888888888888,
              "#fdca26"
             ],
             [
              1,
              "#f0f921"
             ]
            ],
            "type": "heatmap"
           }
          ],
          "heatmapgl": [
           {
            "colorbar": {
             "outlinewidth": 0,
             "ticks": ""
            },
            "colorscale": [
             [
              0,
              "#0d0887"
             ],
             [
              0.1111111111111111,
              "#46039f"
             ],
             [
              0.2222222222222222,
              "#7201a8"
             ],
             [
              0.3333333333333333,
              "#9c179e"
             ],
             [
              0.4444444444444444,
              "#bd3786"
             ],
             [
              0.5555555555555556,
              "#d8576b"
             ],
             [
              0.6666666666666666,
              "#ed7953"
             ],
             [
              0.7777777777777778,
              "#fb9f3a"
             ],
             [
              0.8888888888888888,
              "#fdca26"
             ],
             [
              1,
              "#f0f921"
             ]
            ],
            "type": "heatmapgl"
           }
          ],
          "histogram": [
           {
            "marker": {
             "pattern": {
              "fillmode": "overlay",
              "size": 10,
              "solidity": 0.2
             }
            },
            "type": "histogram"
           }
          ],
          "histogram2d": [
           {
            "colorbar": {
             "outlinewidth": 0,
             "ticks": ""
            },
            "colorscale": [
             [
              0,
              "#0d0887"
             ],
             [
              0.1111111111111111,
              "#46039f"
             ],
             [
              0.2222222222222222,
              "#7201a8"
             ],
             [
              0.3333333333333333,
              "#9c179e"
             ],
             [
              0.4444444444444444,
              "#bd3786"
             ],
             [
              0.5555555555555556,
              "#d8576b"
             ],
             [
              0.6666666666666666,
              "#ed7953"
             ],
             [
              0.7777777777777778,
              "#fb9f3a"
             ],
             [
              0.8888888888888888,
              "#fdca26"
             ],
             [
              1,
              "#f0f921"
             ]
            ],
            "type": "histogram2d"
           }
          ],
          "histogram2dcontour": [
           {
            "colorbar": {
             "outlinewidth": 0,
             "ticks": ""
            },
            "colorscale": [
             [
              0,
              "#0d0887"
             ],
             [
              0.1111111111111111,
              "#46039f"
             ],
             [
              0.2222222222222222,
              "#7201a8"
             ],
             [
              0.3333333333333333,
              "#9c179e"
             ],
             [
              0.4444444444444444,
              "#bd3786"
             ],
             [
              0.5555555555555556,
              "#d8576b"
             ],
             [
              0.6666666666666666,
              "#ed7953"
             ],
             [
              0.7777777777777778,
              "#fb9f3a"
             ],
             [
              0.8888888888888888,
              "#fdca26"
             ],
             [
              1,
              "#f0f921"
             ]
            ],
            "type": "histogram2dcontour"
           }
          ],
          "mesh3d": [
           {
            "colorbar": {
             "outlinewidth": 0,
             "ticks": ""
            },
            "type": "mesh3d"
           }
          ],
          "parcoords": [
           {
            "line": {
             "colorbar": {
              "outlinewidth": 0,
              "ticks": ""
             }
            },
            "type": "parcoords"
           }
          ],
          "pie": [
           {
            "automargin": true,
            "type": "pie"
           }
          ],
          "scatter": [
           {
            "marker": {
             "colorbar": {
              "outlinewidth": 0,
              "ticks": ""
             }
            },
            "type": "scatter"
           }
          ],
          "scatter3d": [
           {
            "line": {
             "colorbar": {
              "outlinewidth": 0,
              "ticks": ""
             }
            },
            "marker": {
             "colorbar": {
              "outlinewidth": 0,
              "ticks": ""
             }
            },
            "type": "scatter3d"
           }
          ],
          "scattercarpet": [
           {
            "marker": {
             "colorbar": {
              "outlinewidth": 0,
              "ticks": ""
             }
            },
            "type": "scattercarpet"
           }
          ],
          "scattergeo": [
           {
            "marker": {
             "colorbar": {
              "outlinewidth": 0,
              "ticks": ""
             }
            },
            "type": "scattergeo"
           }
          ],
          "scattergl": [
           {
            "marker": {
             "colorbar": {
              "outlinewidth": 0,
              "ticks": ""
             }
            },
            "type": "scattergl"
           }
          ],
          "scattermapbox": [
           {
            "marker": {
             "colorbar": {
              "outlinewidth": 0,
              "ticks": ""
             }
            },
            "type": "scattermapbox"
           }
          ],
          "scatterpolar": [
           {
            "marker": {
             "colorbar": {
              "outlinewidth": 0,
              "ticks": ""
             }
            },
            "type": "scatterpolar"
           }
          ],
          "scatterpolargl": [
           {
            "marker": {
             "colorbar": {
              "outlinewidth": 0,
              "ticks": ""
             }
            },
            "type": "scatterpolargl"
           }
          ],
          "scatterternary": [
           {
            "marker": {
             "colorbar": {
              "outlinewidth": 0,
              "ticks": ""
             }
            },
            "type": "scatterternary"
           }
          ],
          "surface": [
           {
            "colorbar": {
             "outlinewidth": 0,
             "ticks": ""
            },
            "colorscale": [
             [
              0,
              "#0d0887"
             ],
             [
              0.1111111111111111,
              "#46039f"
             ],
             [
              0.2222222222222222,
              "#7201a8"
             ],
             [
              0.3333333333333333,
              "#9c179e"
             ],
             [
              0.4444444444444444,
              "#bd3786"
             ],
             [
              0.5555555555555556,
              "#d8576b"
             ],
             [
              0.6666666666666666,
              "#ed7953"
             ],
             [
              0.7777777777777778,
              "#fb9f3a"
             ],
             [
              0.8888888888888888,
              "#fdca26"
             ],
             [
              1,
              "#f0f921"
             ]
            ],
            "type": "surface"
           }
          ],
          "table": [
           {
            "cells": {
             "fill": {
              "color": "#EBF0F8"
             },
             "line": {
              "color": "white"
             }
            },
            "header": {
             "fill": {
              "color": "#C8D4E3"
             },
             "line": {
              "color": "white"
             }
            },
            "type": "table"
           }
          ]
         },
         "layout": {
          "annotationdefaults": {
           "arrowcolor": "#2a3f5f",
           "arrowhead": 0,
           "arrowwidth": 1
          },
          "autotypenumbers": "strict",
          "coloraxis": {
           "colorbar": {
            "outlinewidth": 0,
            "ticks": ""
           }
          },
          "colorscale": {
           "diverging": [
            [
             0,
             "#8e0152"
            ],
            [
             0.1,
             "#c51b7d"
            ],
            [
             0.2,
             "#de77ae"
            ],
            [
             0.3,
             "#f1b6da"
            ],
            [
             0.4,
             "#fde0ef"
            ],
            [
             0.5,
             "#f7f7f7"
            ],
            [
             0.6,
             "#e6f5d0"
            ],
            [
             0.7,
             "#b8e186"
            ],
            [
             0.8,
             "#7fbc41"
            ],
            [
             0.9,
             "#4d9221"
            ],
            [
             1,
             "#276419"
            ]
           ],
           "sequential": [
            [
             0,
             "#0d0887"
            ],
            [
             0.1111111111111111,
             "#46039f"
            ],
            [
             0.2222222222222222,
             "#7201a8"
            ],
            [
             0.3333333333333333,
             "#9c179e"
            ],
            [
             0.4444444444444444,
             "#bd3786"
            ],
            [
             0.5555555555555556,
             "#d8576b"
            ],
            [
             0.6666666666666666,
             "#ed7953"
            ],
            [
             0.7777777777777778,
             "#fb9f3a"
            ],
            [
             0.8888888888888888,
             "#fdca26"
            ],
            [
             1,
             "#f0f921"
            ]
           ],
           "sequentialminus": [
            [
             0,
             "#0d0887"
            ],
            [
             0.1111111111111111,
             "#46039f"
            ],
            [
             0.2222222222222222,
             "#7201a8"
            ],
            [
             0.3333333333333333,
             "#9c179e"
            ],
            [
             0.4444444444444444,
             "#bd3786"
            ],
            [
             0.5555555555555556,
             "#d8576b"
            ],
            [
             0.6666666666666666,
             "#ed7953"
            ],
            [
             0.7777777777777778,
             "#fb9f3a"
            ],
            [
             0.8888888888888888,
             "#fdca26"
            ],
            [
             1,
             "#f0f921"
            ]
           ]
          },
          "colorway": [
           "#636efa",
           "#EF553B",
           "#00cc96",
           "#ab63fa",
           "#FFA15A",
           "#19d3f3",
           "#FF6692",
           "#B6E880",
           "#FF97FF",
           "#FECB52"
          ],
          "font": {
           "color": "#2a3f5f"
          },
          "geo": {
           "bgcolor": "white",
           "lakecolor": "white",
           "landcolor": "#E5ECF6",
           "showlakes": true,
           "showland": true,
           "subunitcolor": "white"
          },
          "hoverlabel": {
           "align": "left"
          },
          "hovermode": "closest",
          "mapbox": {
           "style": "light"
          },
          "paper_bgcolor": "white",
          "plot_bgcolor": "#E5ECF6",
          "polar": {
           "angularaxis": {
            "gridcolor": "white",
            "linecolor": "white",
            "ticks": ""
           },
           "bgcolor": "#E5ECF6",
           "radialaxis": {
            "gridcolor": "white",
            "linecolor": "white",
            "ticks": ""
           }
          },
          "scene": {
           "xaxis": {
            "backgroundcolor": "#E5ECF6",
            "gridcolor": "white",
            "gridwidth": 2,
            "linecolor": "white",
            "showbackground": true,
            "ticks": "",
            "zerolinecolor": "white"
           },
           "yaxis": {
            "backgroundcolor": "#E5ECF6",
            "gridcolor": "white",
            "gridwidth": 2,
            "linecolor": "white",
            "showbackground": true,
            "ticks": "",
            "zerolinecolor": "white"
           },
           "zaxis": {
            "backgroundcolor": "#E5ECF6",
            "gridcolor": "white",
            "gridwidth": 2,
            "linecolor": "white",
            "showbackground": true,
            "ticks": "",
            "zerolinecolor": "white"
           }
          },
          "shapedefaults": {
           "line": {
            "color": "#2a3f5f"
           }
          },
          "ternary": {
           "aaxis": {
            "gridcolor": "white",
            "linecolor": "white",
            "ticks": ""
           },
           "baxis": {
            "gridcolor": "white",
            "linecolor": "white",
            "ticks": ""
           },
           "bgcolor": "#E5ECF6",
           "caxis": {
            "gridcolor": "white",
            "linecolor": "white",
            "ticks": ""
           }
          },
          "title": {
           "x": 0.05
          },
          "xaxis": {
           "automargin": true,
           "gridcolor": "white",
           "linecolor": "white",
           "ticks": "",
           "title": {
            "standoff": 15
           },
           "zerolinecolor": "white",
           "zerolinewidth": 2
          },
          "yaxis": {
           "automargin": true,
           "gridcolor": "white",
           "linecolor": "white",
           "ticks": "",
           "title": {
            "standoff": 15
           },
           "zerolinecolor": "white",
           "zerolinewidth": 2
          }
         }
        },
        "title": {
         "text": "New Cases Contient Per Day"
        }
       }
      }
     },
     "metadata": {},
     "output_type": "display_data"
    }
   ],
   "source": [
    "fig = go.Figure(data=[\n",
    "    go.Bar(x=continent_date_plots[0]['Date'], y=continent_date_plots[0]['New Cases'], name = continent_name[0]),\n",
    "    go.Bar(x=continent_date_plots[0]['Date'], y=continent_date_plots[1]['New Cases'], name = continent_name[1]),\n",
    "    go.Bar(x=continent_date_plots[0]['Date'], y=continent_date_plots[2]['New Cases'], name = continent_name[2]),\n",
    "    go.Bar(x=continent_date_plots[0]['Date'], y=continent_date_plots[3]['New Cases'], name = continent_name[3]),\n",
    "    go.Bar(x=continent_date_plots[0]['Date'], y=continent_date_plots[4]['New Cases'], name = continent_name[4]),\n",
    "    go.Bar(x=continent_date_plots[0]['Date'], y=continent_date_plots[5]['New Cases'], name = continent_name[5]),\n",
    "])\n",
    "# Change the bar mode\n",
    "fig.update_layout(barmode='group', title_text = 'New Cases Contient Per Day')\n",
    "fig.show()"
   ]
  },
  {
   "cell_type": "code",
   "execution_count": 38,
   "metadata": {},
   "outputs": [
    {
     "data": {
      "application/vnd.plotly.v1+json": {
       "config": {
        "plotlyServerURL": "https://plot.ly"
       },
       "data": [
        {
         "name": "North Ameica",
         "type": "bar",
         "x": [
          "27:11:2021",
          "28:11:2021",
          "29:11:2021",
          "30:11:2021",
          "01:12:2021",
          "02:12:2021",
          "03:12:2021",
          "04:12:2021",
          "05:12:2021",
          "06:12:2021",
          "07:12:2021",
          "08:12:2021",
          "09:12:2021",
          "10:12:2021"
         ],
         "y": [
          365,
          394,
          626,
          1571,
          2060,
          1531,
          1711,
          722,
          719,
          789,
          2133,
          1683,
          1777,
          1952
         ]
        },
        {
         "name": "Asia",
         "type": "bar",
         "x": [
          "27:11:2021",
          "28:11:2021",
          "29:11:2021",
          "30:11:2021",
          "01:12:2021",
          "02:12:2021",
          "03:12:2021",
          "04:12:2021",
          "05:12:2021",
          "06:12:2021",
          "07:12:2021",
          "08:12:2021",
          "09:12:2021",
          "10:12:2021"
         ],
         "y": [
          1630,
          1052,
          1158,
          1267,
          1551,
          1323,
          1452,
          1198,
          1185,
          1171,
          1197,
          1217,
          1727,
          1267
         ]
        },
        {
         "name": "South America",
         "type": "bar",
         "x": [
          "27:11:2021",
          "28:11:2021",
          "29:11:2021",
          "30:11:2021",
          "01:12:2021",
          "02:12:2021",
          "03:12:2021",
          "04:12:2021",
          "05:12:2021",
          "06:12:2021",
          "07:12:2021",
          "08:12:2021",
          "09:12:2021",
          "10:12:2021"
         ],
         "y": [
          412,
          197,
          285,
          467,
          405,
          424,
          393,
          283,
          190,
          234,
          434,
          370,
          383,
          485
         ]
        },
        {
         "name": "Europe",
         "type": "bar",
         "x": [
          "27:11:2021",
          "28:11:2021",
          "29:11:2021",
          "30:11:2021",
          "01:12:2021",
          "02:12:2021",
          "03:12:2021",
          "04:12:2021",
          "05:12:2021",
          "06:12:2021",
          "07:12:2021",
          "08:12:2021",
          "09:12:2021",
          "10:12:2021"
         ],
         "y": [
          3483,
          2535,
          3589,
          4421,
          4364,
          4114,
          4242,
          3381,
          2384,
          3275,
          4307,
          4462,
          4283,
          4070
         ]
        },
        {
         "name": "Africa",
         "type": "bar",
         "x": [
          "27:11:2021",
          "28:11:2021",
          "29:11:2021",
          "30:11:2021",
          "01:12:2021",
          "02:12:2021",
          "03:12:2021",
          "04:12:2021",
          "05:12:2021",
          "06:12:2021",
          "07:12:2021",
          "08:12:2021",
          "09:12:2021",
          "10:12:2021"
         ],
         "y": [
          119,
          71,
          164,
          146,
          149,
          165,
          117,
          98,
          82,
          137,
          134,
          155,
          109,
          145
         ]
        },
        {
         "name": "Australi/Ocen",
         "type": "bar",
         "x": [
          "27:11:2021",
          "28:11:2021",
          "29:11:2021",
          "30:11:2021",
          "01:12:2021",
          "02:12:2021",
          "03:12:2021",
          "04:12:2021",
          "05:12:2021",
          "06:12:2021",
          "07:12:2021",
          "08:12:2021",
          "09:12:2021",
          "10:12:2021"
         ],
         "y": [
          5,
          8,
          3,
          11,
          6,
          14,
          13,
          10,
          9,
          6,
          32,
          8,
          10,
          2
         ]
        }
       ],
       "layout": {
        "barmode": "group",
        "template": {
         "data": {
          "bar": [
           {
            "error_x": {
             "color": "#2a3f5f"
            },
            "error_y": {
             "color": "#2a3f5f"
            },
            "marker": {
             "line": {
              "color": "#E5ECF6",
              "width": 0.5
             },
             "pattern": {
              "fillmode": "overlay",
              "size": 10,
              "solidity": 0.2
             }
            },
            "type": "bar"
           }
          ],
          "barpolar": [
           {
            "marker": {
             "line": {
              "color": "#E5ECF6",
              "width": 0.5
             },
             "pattern": {
              "fillmode": "overlay",
              "size": 10,
              "solidity": 0.2
             }
            },
            "type": "barpolar"
           }
          ],
          "carpet": [
           {
            "aaxis": {
             "endlinecolor": "#2a3f5f",
             "gridcolor": "white",
             "linecolor": "white",
             "minorgridcolor": "white",
             "startlinecolor": "#2a3f5f"
            },
            "baxis": {
             "endlinecolor": "#2a3f5f",
             "gridcolor": "white",
             "linecolor": "white",
             "minorgridcolor": "white",
             "startlinecolor": "#2a3f5f"
            },
            "type": "carpet"
           }
          ],
          "choropleth": [
           {
            "colorbar": {
             "outlinewidth": 0,
             "ticks": ""
            },
            "type": "choropleth"
           }
          ],
          "contour": [
           {
            "colorbar": {
             "outlinewidth": 0,
             "ticks": ""
            },
            "colorscale": [
             [
              0,
              "#0d0887"
             ],
             [
              0.1111111111111111,
              "#46039f"
             ],
             [
              0.2222222222222222,
              "#7201a8"
             ],
             [
              0.3333333333333333,
              "#9c179e"
             ],
             [
              0.4444444444444444,
              "#bd3786"
             ],
             [
              0.5555555555555556,
              "#d8576b"
             ],
             [
              0.6666666666666666,
              "#ed7953"
             ],
             [
              0.7777777777777778,
              "#fb9f3a"
             ],
             [
              0.8888888888888888,
              "#fdca26"
             ],
             [
              1,
              "#f0f921"
             ]
            ],
            "type": "contour"
           }
          ],
          "contourcarpet": [
           {
            "colorbar": {
             "outlinewidth": 0,
             "ticks": ""
            },
            "type": "contourcarpet"
           }
          ],
          "heatmap": [
           {
            "colorbar": {
             "outlinewidth": 0,
             "ticks": ""
            },
            "colorscale": [
             [
              0,
              "#0d0887"
             ],
             [
              0.1111111111111111,
              "#46039f"
             ],
             [
              0.2222222222222222,
              "#7201a8"
             ],
             [
              0.3333333333333333,
              "#9c179e"
             ],
             [
              0.4444444444444444,
              "#bd3786"
             ],
             [
              0.5555555555555556,
              "#d8576b"
             ],
             [
              0.6666666666666666,
              "#ed7953"
             ],
             [
              0.7777777777777778,
              "#fb9f3a"
             ],
             [
              0.8888888888888888,
              "#fdca26"
             ],
             [
              1,
              "#f0f921"
             ]
            ],
            "type": "heatmap"
           }
          ],
          "heatmapgl": [
           {
            "colorbar": {
             "outlinewidth": 0,
             "ticks": ""
            },
            "colorscale": [
             [
              0,
              "#0d0887"
             ],
             [
              0.1111111111111111,
              "#46039f"
             ],
             [
              0.2222222222222222,
              "#7201a8"
             ],
             [
              0.3333333333333333,
              "#9c179e"
             ],
             [
              0.4444444444444444,
              "#bd3786"
             ],
             [
              0.5555555555555556,
              "#d8576b"
             ],
             [
              0.6666666666666666,
              "#ed7953"
             ],
             [
              0.7777777777777778,
              "#fb9f3a"
             ],
             [
              0.8888888888888888,
              "#fdca26"
             ],
             [
              1,
              "#f0f921"
             ]
            ],
            "type": "heatmapgl"
           }
          ],
          "histogram": [
           {
            "marker": {
             "pattern": {
              "fillmode": "overlay",
              "size": 10,
              "solidity": 0.2
             }
            },
            "type": "histogram"
           }
          ],
          "histogram2d": [
           {
            "colorbar": {
             "outlinewidth": 0,
             "ticks": ""
            },
            "colorscale": [
             [
              0,
              "#0d0887"
             ],
             [
              0.1111111111111111,
              "#46039f"
             ],
             [
              0.2222222222222222,
              "#7201a8"
             ],
             [
              0.3333333333333333,
              "#9c179e"
             ],
             [
              0.4444444444444444,
              "#bd3786"
             ],
             [
              0.5555555555555556,
              "#d8576b"
             ],
             [
              0.6666666666666666,
              "#ed7953"
             ],
             [
              0.7777777777777778,
              "#fb9f3a"
             ],
             [
              0.8888888888888888,
              "#fdca26"
             ],
             [
              1,
              "#f0f921"
             ]
            ],
            "type": "histogram2d"
           }
          ],
          "histogram2dcontour": [
           {
            "colorbar": {
             "outlinewidth": 0,
             "ticks": ""
            },
            "colorscale": [
             [
              0,
              "#0d0887"
             ],
             [
              0.1111111111111111,
              "#46039f"
             ],
             [
              0.2222222222222222,
              "#7201a8"
             ],
             [
              0.3333333333333333,
              "#9c179e"
             ],
             [
              0.4444444444444444,
              "#bd3786"
             ],
             [
              0.5555555555555556,
              "#d8576b"
             ],
             [
              0.6666666666666666,
              "#ed7953"
             ],
             [
              0.7777777777777778,
              "#fb9f3a"
             ],
             [
              0.8888888888888888,
              "#fdca26"
             ],
             [
              1,
              "#f0f921"
             ]
            ],
            "type": "histogram2dcontour"
           }
          ],
          "mesh3d": [
           {
            "colorbar": {
             "outlinewidth": 0,
             "ticks": ""
            },
            "type": "mesh3d"
           }
          ],
          "parcoords": [
           {
            "line": {
             "colorbar": {
              "outlinewidth": 0,
              "ticks": ""
             }
            },
            "type": "parcoords"
           }
          ],
          "pie": [
           {
            "automargin": true,
            "type": "pie"
           }
          ],
          "scatter": [
           {
            "marker": {
             "colorbar": {
              "outlinewidth": 0,
              "ticks": ""
             }
            },
            "type": "scatter"
           }
          ],
          "scatter3d": [
           {
            "line": {
             "colorbar": {
              "outlinewidth": 0,
              "ticks": ""
             }
            },
            "marker": {
             "colorbar": {
              "outlinewidth": 0,
              "ticks": ""
             }
            },
            "type": "scatter3d"
           }
          ],
          "scattercarpet": [
           {
            "marker": {
             "colorbar": {
              "outlinewidth": 0,
              "ticks": ""
             }
            },
            "type": "scattercarpet"
           }
          ],
          "scattergeo": [
           {
            "marker": {
             "colorbar": {
              "outlinewidth": 0,
              "ticks": ""
             }
            },
            "type": "scattergeo"
           }
          ],
          "scattergl": [
           {
            "marker": {
             "colorbar": {
              "outlinewidth": 0,
              "ticks": ""
             }
            },
            "type": "scattergl"
           }
          ],
          "scattermapbox": [
           {
            "marker": {
             "colorbar": {
              "outlinewidth": 0,
              "ticks": ""
             }
            },
            "type": "scattermapbox"
           }
          ],
          "scatterpolar": [
           {
            "marker": {
             "colorbar": {
              "outlinewidth": 0,
              "ticks": ""
             }
            },
            "type": "scatterpolar"
           }
          ],
          "scatterpolargl": [
           {
            "marker": {
             "colorbar": {
              "outlinewidth": 0,
              "ticks": ""
             }
            },
            "type": "scatterpolargl"
           }
          ],
          "scatterternary": [
           {
            "marker": {
             "colorbar": {
              "outlinewidth": 0,
              "ticks": ""
             }
            },
            "type": "scatterternary"
           }
          ],
          "surface": [
           {
            "colorbar": {
             "outlinewidth": 0,
             "ticks": ""
            },
            "colorscale": [
             [
              0,
              "#0d0887"
             ],
             [
              0.1111111111111111,
              "#46039f"
             ],
             [
              0.2222222222222222,
              "#7201a8"
             ],
             [
              0.3333333333333333,
              "#9c179e"
             ],
             [
              0.4444444444444444,
              "#bd3786"
             ],
             [
              0.5555555555555556,
              "#d8576b"
             ],
             [
              0.6666666666666666,
              "#ed7953"
             ],
             [
              0.7777777777777778,
              "#fb9f3a"
             ],
             [
              0.8888888888888888,
              "#fdca26"
             ],
             [
              1,
              "#f0f921"
             ]
            ],
            "type": "surface"
           }
          ],
          "table": [
           {
            "cells": {
             "fill": {
              "color": "#EBF0F8"
             },
             "line": {
              "color": "white"
             }
            },
            "header": {
             "fill": {
              "color": "#C8D4E3"
             },
             "line": {
              "color": "white"
             }
            },
            "type": "table"
           }
          ]
         },
         "layout": {
          "annotationdefaults": {
           "arrowcolor": "#2a3f5f",
           "arrowhead": 0,
           "arrowwidth": 1
          },
          "autotypenumbers": "strict",
          "coloraxis": {
           "colorbar": {
            "outlinewidth": 0,
            "ticks": ""
           }
          },
          "colorscale": {
           "diverging": [
            [
             0,
             "#8e0152"
            ],
            [
             0.1,
             "#c51b7d"
            ],
            [
             0.2,
             "#de77ae"
            ],
            [
             0.3,
             "#f1b6da"
            ],
            [
             0.4,
             "#fde0ef"
            ],
            [
             0.5,
             "#f7f7f7"
            ],
            [
             0.6,
             "#e6f5d0"
            ],
            [
             0.7,
             "#b8e186"
            ],
            [
             0.8,
             "#7fbc41"
            ],
            [
             0.9,
             "#4d9221"
            ],
            [
             1,
             "#276419"
            ]
           ],
           "sequential": [
            [
             0,
             "#0d0887"
            ],
            [
             0.1111111111111111,
             "#46039f"
            ],
            [
             0.2222222222222222,
             "#7201a8"
            ],
            [
             0.3333333333333333,
             "#9c179e"
            ],
            [
             0.4444444444444444,
             "#bd3786"
            ],
            [
             0.5555555555555556,
             "#d8576b"
            ],
            [
             0.6666666666666666,
             "#ed7953"
            ],
            [
             0.7777777777777778,
             "#fb9f3a"
            ],
            [
             0.8888888888888888,
             "#fdca26"
            ],
            [
             1,
             "#f0f921"
            ]
           ],
           "sequentialminus": [
            [
             0,
             "#0d0887"
            ],
            [
             0.1111111111111111,
             "#46039f"
            ],
            [
             0.2222222222222222,
             "#7201a8"
            ],
            [
             0.3333333333333333,
             "#9c179e"
            ],
            [
             0.4444444444444444,
             "#bd3786"
            ],
            [
             0.5555555555555556,
             "#d8576b"
            ],
            [
             0.6666666666666666,
             "#ed7953"
            ],
            [
             0.7777777777777778,
             "#fb9f3a"
            ],
            [
             0.8888888888888888,
             "#fdca26"
            ],
            [
             1,
             "#f0f921"
            ]
           ]
          },
          "colorway": [
           "#636efa",
           "#EF553B",
           "#00cc96",
           "#ab63fa",
           "#FFA15A",
           "#19d3f3",
           "#FF6692",
           "#B6E880",
           "#FF97FF",
           "#FECB52"
          ],
          "font": {
           "color": "#2a3f5f"
          },
          "geo": {
           "bgcolor": "white",
           "lakecolor": "white",
           "landcolor": "#E5ECF6",
           "showlakes": true,
           "showland": true,
           "subunitcolor": "white"
          },
          "hoverlabel": {
           "align": "left"
          },
          "hovermode": "closest",
          "mapbox": {
           "style": "light"
          },
          "paper_bgcolor": "white",
          "plot_bgcolor": "#E5ECF6",
          "polar": {
           "angularaxis": {
            "gridcolor": "white",
            "linecolor": "white",
            "ticks": ""
           },
           "bgcolor": "#E5ECF6",
           "radialaxis": {
            "gridcolor": "white",
            "linecolor": "white",
            "ticks": ""
           }
          },
          "scene": {
           "xaxis": {
            "backgroundcolor": "#E5ECF6",
            "gridcolor": "white",
            "gridwidth": 2,
            "linecolor": "white",
            "showbackground": true,
            "ticks": "",
            "zerolinecolor": "white"
           },
           "yaxis": {
            "backgroundcolor": "#E5ECF6",
            "gridcolor": "white",
            "gridwidth": 2,
            "linecolor": "white",
            "showbackground": true,
            "ticks": "",
            "zerolinecolor": "white"
           },
           "zaxis": {
            "backgroundcolor": "#E5ECF6",
            "gridcolor": "white",
            "gridwidth": 2,
            "linecolor": "white",
            "showbackground": true,
            "ticks": "",
            "zerolinecolor": "white"
           }
          },
          "shapedefaults": {
           "line": {
            "color": "#2a3f5f"
           }
          },
          "ternary": {
           "aaxis": {
            "gridcolor": "white",
            "linecolor": "white",
            "ticks": ""
           },
           "baxis": {
            "gridcolor": "white",
            "linecolor": "white",
            "ticks": ""
           },
           "bgcolor": "#E5ECF6",
           "caxis": {
            "gridcolor": "white",
            "linecolor": "white",
            "ticks": ""
           }
          },
          "title": {
           "x": 0.05
          },
          "xaxis": {
           "automargin": true,
           "gridcolor": "white",
           "linecolor": "white",
           "ticks": "",
           "title": {
            "standoff": 15
           },
           "zerolinecolor": "white",
           "zerolinewidth": 2
          },
          "yaxis": {
           "automargin": true,
           "gridcolor": "white",
           "linecolor": "white",
           "ticks": "",
           "title": {
            "standoff": 15
           },
           "zerolinecolor": "white",
           "zerolinewidth": 2
          }
         }
        },
        "title": {
         "text": "New Deaths Contient Per Day"
        }
       }
      }
     },
     "metadata": {},
     "output_type": "display_data"
    }
   ],
   "source": [
    "fig = go.Figure(data=[\n",
    "    go.Bar(x=continent_date_plots[0]['Date'], y=continent_date_plots[0]['New Deaths'], name = continent_name[0]),\n",
    "    go.Bar(x=continent_date_plots[0]['Date'], y=continent_date_plots[1]['New Deaths'], name = continent_name[1]),\n",
    "    go.Bar(x=continent_date_plots[0]['Date'], y=continent_date_plots[2]['New Deaths'], name = continent_name[2]),\n",
    "    go.Bar(x=continent_date_plots[0]['Date'], y=continent_date_plots[3]['New Deaths'], name = continent_name[3]),\n",
    "    go.Bar(x=continent_date_plots[0]['Date'], y=continent_date_plots[4]['New Deaths'], name = continent_name[4]),\n",
    "    go.Bar(x=continent_date_plots[0]['Date'], y=continent_date_plots[5]['New Deaths'], name = continent_name[5]),\n",
    "])\n",
    "# Change the bar mode\n",
    "fig.update_layout(barmode='group', title_text = 'New Deaths Contient Per Day')\n",
    "fig.show()"
   ]
  },
  {
   "cell_type": "code",
   "execution_count": 39,
   "metadata": {},
   "outputs": [
    {
     "data": {
      "application/vnd.plotly.v1+json": {
       "config": {
        "plotlyServerURL": "https://plot.ly"
       },
       "data": [
        {
         "name": "North Ameica",
         "type": "bar",
         "x": [
          "27:11:2021",
          "28:11:2021",
          "29:11:2021",
          "30:11:2021",
          "01:12:2021",
          "02:12:2021",
          "03:12:2021",
          "04:12:2021",
          "05:12:2021",
          "06:12:2021",
          "07:12:2021",
          "08:12:2021",
          "09:12:2021",
          "10:12:2021"
         ],
         "y": [
          26991,
          24595,
          98837,
          115075,
          91377,
          80774,
          83473,
          40653,
          50237,
          128638,
          77046,
          79481,
          71979,
          79682
         ]
        },
        {
         "name": "Asia",
         "type": "bar",
         "x": [
          "27:11:2021",
          "28:11:2021",
          "29:11:2021",
          "30:11:2021",
          "01:12:2021",
          "02:12:2021",
          "03:12:2021",
          "04:12:2021",
          "05:12:2021",
          "06:12:2021",
          "07:12:2021",
          "08:12:2021",
          "09:12:2021",
          "10:12:2021"
         ],
         "y": [
          84218,
          74874,
          93437,
          92670,
          80390,
          88616,
          72302,
          63354,
          71301,
          75968,
          76900,
          102946,
          101863,
          73906
         ]
        },
        {
         "name": "South America",
         "type": "bar",
         "x": [
          "27:11:2021",
          "28:11:2021",
          "29:11:2021",
          "30:11:2021",
          "01:12:2021",
          "02:12:2021",
          "03:12:2021",
          "04:12:2021",
          "05:12:2021",
          "06:12:2021",
          "07:12:2021",
          "08:12:2021",
          "09:12:2021",
          "10:12:2021"
         ],
         "y": [
          13437,
          12649,
          18102,
          24551,
          24254,
          19305,
          13163,
          10108,
          11973,
          15929,
          23835,
          19782,
          16225,
          7823
         ]
        },
        {
         "name": "Europe",
         "type": "bar",
         "x": [
          "27:11:2021",
          "28:11:2021",
          "29:11:2021",
          "30:11:2021",
          "01:12:2021",
          "02:12:2021",
          "03:12:2021",
          "04:12:2021",
          "05:12:2021",
          "06:12:2021",
          "07:12:2021",
          "08:12:2021",
          "09:12:2021",
          "10:12:2021"
         ],
         "y": [
          244225,
          188807,
          233859,
          272774,
          259246,
          248229,
          275579,
          258736,
          201443,
          257433,
          290376,
          289641,
          286486,
          282126
         ]
        },
        {
         "name": "Africa",
         "type": "bar",
         "x": [
          "27:11:2021",
          "28:11:2021",
          "29:11:2021",
          "30:11:2021",
          "01:12:2021",
          "02:12:2021",
          "03:12:2021",
          "04:12:2021",
          "05:12:2021",
          "06:12:2021",
          "07:12:2021",
          "08:12:2021",
          "09:12:2021",
          "10:12:2021"
         ],
         "y": [
          3727,
          5687,
          6493,
          5662,
          5173,
          5576,
          6524,
          5019,
          7103,
          7563,
          9264,
          7234,
          6145,
          13373
         ]
        },
        {
         "name": "Australi/Ocen",
         "type": "bar",
         "x": [
          "27:11:2021",
          "28:11:2021",
          "29:11:2021",
          "30:11:2021",
          "01:12:2021",
          "02:12:2021",
          "03:12:2021",
          "04:12:2021",
          "05:12:2021",
          "06:12:2021",
          "07:12:2021",
          "08:12:2021",
          "09:12:2021",
          "10:12:2021"
         ],
         "y": [
          875,
          435,
          1147,
          154,
          2256,
          1018,
          1373,
          141,
          466,
          287,
          5105,
          3429,
          1805,
          1568
         ]
        }
       ],
       "layout": {
        "barmode": "group",
        "template": {
         "data": {
          "bar": [
           {
            "error_x": {
             "color": "#2a3f5f"
            },
            "error_y": {
             "color": "#2a3f5f"
            },
            "marker": {
             "line": {
              "color": "#E5ECF6",
              "width": 0.5
             },
             "pattern": {
              "fillmode": "overlay",
              "size": 10,
              "solidity": 0.2
             }
            },
            "type": "bar"
           }
          ],
          "barpolar": [
           {
            "marker": {
             "line": {
              "color": "#E5ECF6",
              "width": 0.5
             },
             "pattern": {
              "fillmode": "overlay",
              "size": 10,
              "solidity": 0.2
             }
            },
            "type": "barpolar"
           }
          ],
          "carpet": [
           {
            "aaxis": {
             "endlinecolor": "#2a3f5f",
             "gridcolor": "white",
             "linecolor": "white",
             "minorgridcolor": "white",
             "startlinecolor": "#2a3f5f"
            },
            "baxis": {
             "endlinecolor": "#2a3f5f",
             "gridcolor": "white",
             "linecolor": "white",
             "minorgridcolor": "white",
             "startlinecolor": "#2a3f5f"
            },
            "type": "carpet"
           }
          ],
          "choropleth": [
           {
            "colorbar": {
             "outlinewidth": 0,
             "ticks": ""
            },
            "type": "choropleth"
           }
          ],
          "contour": [
           {
            "colorbar": {
             "outlinewidth": 0,
             "ticks": ""
            },
            "colorscale": [
             [
              0,
              "#0d0887"
             ],
             [
              0.1111111111111111,
              "#46039f"
             ],
             [
              0.2222222222222222,
              "#7201a8"
             ],
             [
              0.3333333333333333,
              "#9c179e"
             ],
             [
              0.4444444444444444,
              "#bd3786"
             ],
             [
              0.5555555555555556,
              "#d8576b"
             ],
             [
              0.6666666666666666,
              "#ed7953"
             ],
             [
              0.7777777777777778,
              "#fb9f3a"
             ],
             [
              0.8888888888888888,
              "#fdca26"
             ],
             [
              1,
              "#f0f921"
             ]
            ],
            "type": "contour"
           }
          ],
          "contourcarpet": [
           {
            "colorbar": {
             "outlinewidth": 0,
             "ticks": ""
            },
            "type": "contourcarpet"
           }
          ],
          "heatmap": [
           {
            "colorbar": {
             "outlinewidth": 0,
             "ticks": ""
            },
            "colorscale": [
             [
              0,
              "#0d0887"
             ],
             [
              0.1111111111111111,
              "#46039f"
             ],
             [
              0.2222222222222222,
              "#7201a8"
             ],
             [
              0.3333333333333333,
              "#9c179e"
             ],
             [
              0.4444444444444444,
              "#bd3786"
             ],
             [
              0.5555555555555556,
              "#d8576b"
             ],
             [
              0.6666666666666666,
              "#ed7953"
             ],
             [
              0.7777777777777778,
              "#fb9f3a"
             ],
             [
              0.8888888888888888,
              "#fdca26"
             ],
             [
              1,
              "#f0f921"
             ]
            ],
            "type": "heatmap"
           }
          ],
          "heatmapgl": [
           {
            "colorbar": {
             "outlinewidth": 0,
             "ticks": ""
            },
            "colorscale": [
             [
              0,
              "#0d0887"
             ],
             [
              0.1111111111111111,
              "#46039f"
             ],
             [
              0.2222222222222222,
              "#7201a8"
             ],
             [
              0.3333333333333333,
              "#9c179e"
             ],
             [
              0.4444444444444444,
              "#bd3786"
             ],
             [
              0.5555555555555556,
              "#d8576b"
             ],
             [
              0.6666666666666666,
              "#ed7953"
             ],
             [
              0.7777777777777778,
              "#fb9f3a"
             ],
             [
              0.8888888888888888,
              "#fdca26"
             ],
             [
              1,
              "#f0f921"
             ]
            ],
            "type": "heatmapgl"
           }
          ],
          "histogram": [
           {
            "marker": {
             "pattern": {
              "fillmode": "overlay",
              "size": 10,
              "solidity": 0.2
             }
            },
            "type": "histogram"
           }
          ],
          "histogram2d": [
           {
            "colorbar": {
             "outlinewidth": 0,
             "ticks": ""
            },
            "colorscale": [
             [
              0,
              "#0d0887"
             ],
             [
              0.1111111111111111,
              "#46039f"
             ],
             [
              0.2222222222222222,
              "#7201a8"
             ],
             [
              0.3333333333333333,
              "#9c179e"
             ],
             [
              0.4444444444444444,
              "#bd3786"
             ],
             [
              0.5555555555555556,
              "#d8576b"
             ],
             [
              0.6666666666666666,
              "#ed7953"
             ],
             [
              0.7777777777777778,
              "#fb9f3a"
             ],
             [
              0.8888888888888888,
              "#fdca26"
             ],
             [
              1,
              "#f0f921"
             ]
            ],
            "type": "histogram2d"
           }
          ],
          "histogram2dcontour": [
           {
            "colorbar": {
             "outlinewidth": 0,
             "ticks": ""
            },
            "colorscale": [
             [
              0,
              "#0d0887"
             ],
             [
              0.1111111111111111,
              "#46039f"
             ],
             [
              0.2222222222222222,
              "#7201a8"
             ],
             [
              0.3333333333333333,
              "#9c179e"
             ],
             [
              0.4444444444444444,
              "#bd3786"
             ],
             [
              0.5555555555555556,
              "#d8576b"
             ],
             [
              0.6666666666666666,
              "#ed7953"
             ],
             [
              0.7777777777777778,
              "#fb9f3a"
             ],
             [
              0.8888888888888888,
              "#fdca26"
             ],
             [
              1,
              "#f0f921"
             ]
            ],
            "type": "histogram2dcontour"
           }
          ],
          "mesh3d": [
           {
            "colorbar": {
             "outlinewidth": 0,
             "ticks": ""
            },
            "type": "mesh3d"
           }
          ],
          "parcoords": [
           {
            "line": {
             "colorbar": {
              "outlinewidth": 0,
              "ticks": ""
             }
            },
            "type": "parcoords"
           }
          ],
          "pie": [
           {
            "automargin": true,
            "type": "pie"
           }
          ],
          "scatter": [
           {
            "marker": {
             "colorbar": {
              "outlinewidth": 0,
              "ticks": ""
             }
            },
            "type": "scatter"
           }
          ],
          "scatter3d": [
           {
            "line": {
             "colorbar": {
              "outlinewidth": 0,
              "ticks": ""
             }
            },
            "marker": {
             "colorbar": {
              "outlinewidth": 0,
              "ticks": ""
             }
            },
            "type": "scatter3d"
           }
          ],
          "scattercarpet": [
           {
            "marker": {
             "colorbar": {
              "outlinewidth": 0,
              "ticks": ""
             }
            },
            "type": "scattercarpet"
           }
          ],
          "scattergeo": [
           {
            "marker": {
             "colorbar": {
              "outlinewidth": 0,
              "ticks": ""
             }
            },
            "type": "scattergeo"
           }
          ],
          "scattergl": [
           {
            "marker": {
             "colorbar": {
              "outlinewidth": 0,
              "ticks": ""
             }
            },
            "type": "scattergl"
           }
          ],
          "scattermapbox": [
           {
            "marker": {
             "colorbar": {
              "outlinewidth": 0,
              "ticks": ""
             }
            },
            "type": "scattermapbox"
           }
          ],
          "scatterpolar": [
           {
            "marker": {
             "colorbar": {
              "outlinewidth": 0,
              "ticks": ""
             }
            },
            "type": "scatterpolar"
           }
          ],
          "scatterpolargl": [
           {
            "marker": {
             "colorbar": {
              "outlinewidth": 0,
              "ticks": ""
             }
            },
            "type": "scatterpolargl"
           }
          ],
          "scatterternary": [
           {
            "marker": {
             "colorbar": {
              "outlinewidth": 0,
              "ticks": ""
             }
            },
            "type": "scatterternary"
           }
          ],
          "surface": [
           {
            "colorbar": {
             "outlinewidth": 0,
             "ticks": ""
            },
            "colorscale": [
             [
              0,
              "#0d0887"
             ],
             [
              0.1111111111111111,
              "#46039f"
             ],
             [
              0.2222222222222222,
              "#7201a8"
             ],
             [
              0.3333333333333333,
              "#9c179e"
             ],
             [
              0.4444444444444444,
              "#bd3786"
             ],
             [
              0.5555555555555556,
              "#d8576b"
             ],
             [
              0.6666666666666666,
              "#ed7953"
             ],
             [
              0.7777777777777778,
              "#fb9f3a"
             ],
             [
              0.8888888888888888,
              "#fdca26"
             ],
             [
              1,
              "#f0f921"
             ]
            ],
            "type": "surface"
           }
          ],
          "table": [
           {
            "cells": {
             "fill": {
              "color": "#EBF0F8"
             },
             "line": {
              "color": "white"
             }
            },
            "header": {
             "fill": {
              "color": "#C8D4E3"
             },
             "line": {
              "color": "white"
             }
            },
            "type": "table"
           }
          ]
         },
         "layout": {
          "annotationdefaults": {
           "arrowcolor": "#2a3f5f",
           "arrowhead": 0,
           "arrowwidth": 1
          },
          "autotypenumbers": "strict",
          "coloraxis": {
           "colorbar": {
            "outlinewidth": 0,
            "ticks": ""
           }
          },
          "colorscale": {
           "diverging": [
            [
             0,
             "#8e0152"
            ],
            [
             0.1,
             "#c51b7d"
            ],
            [
             0.2,
             "#de77ae"
            ],
            [
             0.3,
             "#f1b6da"
            ],
            [
             0.4,
             "#fde0ef"
            ],
            [
             0.5,
             "#f7f7f7"
            ],
            [
             0.6,
             "#e6f5d0"
            ],
            [
             0.7,
             "#b8e186"
            ],
            [
             0.8,
             "#7fbc41"
            ],
            [
             0.9,
             "#4d9221"
            ],
            [
             1,
             "#276419"
            ]
           ],
           "sequential": [
            [
             0,
             "#0d0887"
            ],
            [
             0.1111111111111111,
             "#46039f"
            ],
            [
             0.2222222222222222,
             "#7201a8"
            ],
            [
             0.3333333333333333,
             "#9c179e"
            ],
            [
             0.4444444444444444,
             "#bd3786"
            ],
            [
             0.5555555555555556,
             "#d8576b"
            ],
            [
             0.6666666666666666,
             "#ed7953"
            ],
            [
             0.7777777777777778,
             "#fb9f3a"
            ],
            [
             0.8888888888888888,
             "#fdca26"
            ],
            [
             1,
             "#f0f921"
            ]
           ],
           "sequentialminus": [
            [
             0,
             "#0d0887"
            ],
            [
             0.1111111111111111,
             "#46039f"
            ],
            [
             0.2222222222222222,
             "#7201a8"
            ],
            [
             0.3333333333333333,
             "#9c179e"
            ],
            [
             0.4444444444444444,
             "#bd3786"
            ],
            [
             0.5555555555555556,
             "#d8576b"
            ],
            [
             0.6666666666666666,
             "#ed7953"
            ],
            [
             0.7777777777777778,
             "#fb9f3a"
            ],
            [
             0.8888888888888888,
             "#fdca26"
            ],
            [
             1,
             "#f0f921"
            ]
           ]
          },
          "colorway": [
           "#636efa",
           "#EF553B",
           "#00cc96",
           "#ab63fa",
           "#FFA15A",
           "#19d3f3",
           "#FF6692",
           "#B6E880",
           "#FF97FF",
           "#FECB52"
          ],
          "font": {
           "color": "#2a3f5f"
          },
          "geo": {
           "bgcolor": "white",
           "lakecolor": "white",
           "landcolor": "#E5ECF6",
           "showlakes": true,
           "showland": true,
           "subunitcolor": "white"
          },
          "hoverlabel": {
           "align": "left"
          },
          "hovermode": "closest",
          "mapbox": {
           "style": "light"
          },
          "paper_bgcolor": "white",
          "plot_bgcolor": "#E5ECF6",
          "polar": {
           "angularaxis": {
            "gridcolor": "white",
            "linecolor": "white",
            "ticks": ""
           },
           "bgcolor": "#E5ECF6",
           "radialaxis": {
            "gridcolor": "white",
            "linecolor": "white",
            "ticks": ""
           }
          },
          "scene": {
           "xaxis": {
            "backgroundcolor": "#E5ECF6",
            "gridcolor": "white",
            "gridwidth": 2,
            "linecolor": "white",
            "showbackground": true,
            "ticks": "",
            "zerolinecolor": "white"
           },
           "yaxis": {
            "backgroundcolor": "#E5ECF6",
            "gridcolor": "white",
            "gridwidth": 2,
            "linecolor": "white",
            "showbackground": true,
            "ticks": "",
            "zerolinecolor": "white"
           },
           "zaxis": {
            "backgroundcolor": "#E5ECF6",
            "gridcolor": "white",
            "gridwidth": 2,
            "linecolor": "white",
            "showbackground": true,
            "ticks": "",
            "zerolinecolor": "white"
           }
          },
          "shapedefaults": {
           "line": {
            "color": "#2a3f5f"
           }
          },
          "ternary": {
           "aaxis": {
            "gridcolor": "white",
            "linecolor": "white",
            "ticks": ""
           },
           "baxis": {
            "gridcolor": "white",
            "linecolor": "white",
            "ticks": ""
           },
           "bgcolor": "#E5ECF6",
           "caxis": {
            "gridcolor": "white",
            "linecolor": "white",
            "ticks": ""
           }
          },
          "title": {
           "x": 0.05
          },
          "xaxis": {
           "automargin": true,
           "gridcolor": "white",
           "linecolor": "white",
           "ticks": "",
           "title": {
            "standoff": 15
           },
           "zerolinecolor": "white",
           "zerolinewidth": 2
          },
          "yaxis": {
           "automargin": true,
           "gridcolor": "white",
           "linecolor": "white",
           "ticks": "",
           "title": {
            "standoff": 15
           },
           "zerolinecolor": "white",
           "zerolinewidth": 2
          }
         }
        },
        "title": {
         "text": "New Recovered Contient Per Day"
        }
       }
      }
     },
     "metadata": {},
     "output_type": "display_data"
    }
   ],
   "source": [
    "fig = go.Figure(data=[\n",
    "    go.Bar(x=continent_date_plots[0]['Date'], y=continent_date_plots[0]['New Recovered'], name = continent_name[0]),\n",
    "    go.Bar(x=continent_date_plots[0]['Date'], y=continent_date_plots[1]['New Recovered'], name = continent_name[1]),\n",
    "    go.Bar(x=continent_date_plots[0]['Date'], y=continent_date_plots[2]['New Recovered'], name = continent_name[2]),\n",
    "    go.Bar(x=continent_date_plots[0]['Date'], y=continent_date_plots[3]['New Recovered'], name = continent_name[3]),\n",
    "    go.Bar(x=continent_date_plots[0]['Date'], y=continent_date_plots[4]['New Recovered'], name = continent_name[4]),\n",
    "    go.Bar(x=continent_date_plots[0]['Date'], y=continent_date_plots[5]['New Recovered'], name = continent_name[5]),\n",
    "])\n",
    "# Change the bar mode\n",
    "fig.update_layout(barmode='group', title_text = 'New Recovered Contient Per Day')\n",
    "fig.show()"
   ]
  },
  {
   "cell_type": "markdown",
   "metadata": {},
   "source": [
    "### Tỉ lệ số ca nguy kịch so với các ca bệnh hiện tại\n",
    "***"
   ]
  },
  {
   "cell_type": "code",
   "execution_count": 40,
   "metadata": {},
   "outputs": [
    {
     "data": {
      "application/vnd.plotly.v1+json": {
       "config": {
        "plotlyServerURL": "https://plot.ly"
       },
       "data": [
        {
         "domain": {
          "x": [
           0,
           0.45
          ],
          "y": [
           0.7777777777777778,
           1
          ]
         },
         "insidetextorientation": "horizontal",
         "labels": [
          "Active Cases",
          "Serious, Critical"
         ],
         "rotation": 90,
         "type": "pie",
         "values": [
          146009841,
          276141
         ]
        },
        {
         "domain": {
          "x": [
           0.55,
           1
          ],
          "y": [
           0.7777777777777778,
           1
          ]
         },
         "insidetextorientation": "horizontal",
         "labels": [
          "Active Cases",
          "Serious, Critical"
         ],
         "rotation": 90,
         "type": "pie",
         "values": [
          21223596,
          420570
         ]
        },
        {
         "domain": {
          "x": [
           0,
           0.45
          ],
          "y": [
           0.3888888888888889,
           0.6111111111111112
          ]
         },
         "insidetextorientation": "horizontal",
         "labels": [
          "Active Cases",
          "Serious, Critical"
         ],
         "rotation": 90,
         "type": "pie",
         "values": [
          5940878,
          178224
         ]
        },
        {
         "domain": {
          "x": [
           0.55,
           1
          ],
          "y": [
           0.3888888888888889,
           0.6111111111111112
          ]
         },
         "insidetextorientation": "horizontal",
         "labels": [
          "Active Cases",
          "Serious, Critical"
         ],
         "rotation": 90,
         "type": "pie",
         "values": [
          108504561,
          308793
         ]
        },
        {
         "domain": {
          "x": [
           0,
           0.45
          ],
          "y": [
           0,
           0.22222222222222224
          ]
         },
         "insidetextorientation": "horizontal",
         "labels": [
          "Active Cases",
          "Serious, Critical"
         ],
         "rotation": 90,
         "type": "pie",
         "values": [
          5621380,
          25639
         ]
        },
        {
         "domain": {
          "x": [
           0.55,
           1
          ],
          "y": [
           0,
           0.22222222222222224
          ]
         },
         "insidetextorientation": "horizontal",
         "labels": [
          "Active Cases",
          "Serious, Critical"
         ],
         "rotation": 90,
         "type": "pie",
         "values": [
          330821,
          2152
         ]
        }
       ],
       "layout": {
        "annotations": [
         {
          "font": {
           "size": 16
          },
          "showarrow": false,
          "text": "North Ameica",
          "x": 0.225,
          "xanchor": "center",
          "xref": "paper",
          "y": 1,
          "yanchor": "bottom",
          "yref": "paper"
         },
         {
          "font": {
           "size": 16
          },
          "showarrow": false,
          "text": "Asia",
          "x": 0.775,
          "xanchor": "center",
          "xref": "paper",
          "y": 1,
          "yanchor": "bottom",
          "yref": "paper"
         },
         {
          "font": {
           "size": 16
          },
          "showarrow": false,
          "text": "South America",
          "x": 0.225,
          "xanchor": "center",
          "xref": "paper",
          "y": 0.6111111111111112,
          "yanchor": "bottom",
          "yref": "paper"
         },
         {
          "font": {
           "size": 16
          },
          "showarrow": false,
          "text": "Europe",
          "x": 0.775,
          "xanchor": "center",
          "xref": "paper",
          "y": 0.6111111111111112,
          "yanchor": "bottom",
          "yref": "paper"
         },
         {
          "font": {
           "size": 16
          },
          "showarrow": false,
          "text": "Africa",
          "x": 0.225,
          "xanchor": "center",
          "xref": "paper",
          "y": 0.22222222222222224,
          "yanchor": "bottom",
          "yref": "paper"
         },
         {
          "font": {
           "size": 16
          },
          "showarrow": false,
          "text": "Australi/Ocen",
          "x": 0.775,
          "xanchor": "center",
          "xref": "paper",
          "y": 0.22222222222222224,
          "yanchor": "bottom",
          "yref": "paper"
         }
        ],
        "height": 800,
        "template": {
         "data": {
          "bar": [
           {
            "error_x": {
             "color": "#2a3f5f"
            },
            "error_y": {
             "color": "#2a3f5f"
            },
            "marker": {
             "line": {
              "color": "#E5ECF6",
              "width": 0.5
             },
             "pattern": {
              "fillmode": "overlay",
              "size": 10,
              "solidity": 0.2
             }
            },
            "type": "bar"
           }
          ],
          "barpolar": [
           {
            "marker": {
             "line": {
              "color": "#E5ECF6",
              "width": 0.5
             },
             "pattern": {
              "fillmode": "overlay",
              "size": 10,
              "solidity": 0.2
             }
            },
            "type": "barpolar"
           }
          ],
          "carpet": [
           {
            "aaxis": {
             "endlinecolor": "#2a3f5f",
             "gridcolor": "white",
             "linecolor": "white",
             "minorgridcolor": "white",
             "startlinecolor": "#2a3f5f"
            },
            "baxis": {
             "endlinecolor": "#2a3f5f",
             "gridcolor": "white",
             "linecolor": "white",
             "minorgridcolor": "white",
             "startlinecolor": "#2a3f5f"
            },
            "type": "carpet"
           }
          ],
          "choropleth": [
           {
            "colorbar": {
             "outlinewidth": 0,
             "ticks": ""
            },
            "type": "choropleth"
           }
          ],
          "contour": [
           {
            "colorbar": {
             "outlinewidth": 0,
             "ticks": ""
            },
            "colorscale": [
             [
              0,
              "#0d0887"
             ],
             [
              0.1111111111111111,
              "#46039f"
             ],
             [
              0.2222222222222222,
              "#7201a8"
             ],
             [
              0.3333333333333333,
              "#9c179e"
             ],
             [
              0.4444444444444444,
              "#bd3786"
             ],
             [
              0.5555555555555556,
              "#d8576b"
             ],
             [
              0.6666666666666666,
              "#ed7953"
             ],
             [
              0.7777777777777778,
              "#fb9f3a"
             ],
             [
              0.8888888888888888,
              "#fdca26"
             ],
             [
              1,
              "#f0f921"
             ]
            ],
            "type": "contour"
           }
          ],
          "contourcarpet": [
           {
            "colorbar": {
             "outlinewidth": 0,
             "ticks": ""
            },
            "type": "contourcarpet"
           }
          ],
          "heatmap": [
           {
            "colorbar": {
             "outlinewidth": 0,
             "ticks": ""
            },
            "colorscale": [
             [
              0,
              "#0d0887"
             ],
             [
              0.1111111111111111,
              "#46039f"
             ],
             [
              0.2222222222222222,
              "#7201a8"
             ],
             [
              0.3333333333333333,
              "#9c179e"
             ],
             [
              0.4444444444444444,
              "#bd3786"
             ],
             [
              0.5555555555555556,
              "#d8576b"
             ],
             [
              0.6666666666666666,
              "#ed7953"
             ],
             [
              0.7777777777777778,
              "#fb9f3a"
             ],
             [
              0.8888888888888888,
              "#fdca26"
             ],
             [
              1,
              "#f0f921"
             ]
            ],
            "type": "heatmap"
           }
          ],
          "heatmapgl": [
           {
            "colorbar": {
             "outlinewidth": 0,
             "ticks": ""
            },
            "colorscale": [
             [
              0,
              "#0d0887"
             ],
             [
              0.1111111111111111,
              "#46039f"
             ],
             [
              0.2222222222222222,
              "#7201a8"
             ],
             [
              0.3333333333333333,
              "#9c179e"
             ],
             [
              0.4444444444444444,
              "#bd3786"
             ],
             [
              0.5555555555555556,
              "#d8576b"
             ],
             [
              0.6666666666666666,
              "#ed7953"
             ],
             [
              0.7777777777777778,
              "#fb9f3a"
             ],
             [
              0.8888888888888888,
              "#fdca26"
             ],
             [
              1,
              "#f0f921"
             ]
            ],
            "type": "heatmapgl"
           }
          ],
          "histogram": [
           {
            "marker": {
             "pattern": {
              "fillmode": "overlay",
              "size": 10,
              "solidity": 0.2
             }
            },
            "type": "histogram"
           }
          ],
          "histogram2d": [
           {
            "colorbar": {
             "outlinewidth": 0,
             "ticks": ""
            },
            "colorscale": [
             [
              0,
              "#0d0887"
             ],
             [
              0.1111111111111111,
              "#46039f"
             ],
             [
              0.2222222222222222,
              "#7201a8"
             ],
             [
              0.3333333333333333,
              "#9c179e"
             ],
             [
              0.4444444444444444,
              "#bd3786"
             ],
             [
              0.5555555555555556,
              "#d8576b"
             ],
             [
              0.6666666666666666,
              "#ed7953"
             ],
             [
              0.7777777777777778,
              "#fb9f3a"
             ],
             [
              0.8888888888888888,
              "#fdca26"
             ],
             [
              1,
              "#f0f921"
             ]
            ],
            "type": "histogram2d"
           }
          ],
          "histogram2dcontour": [
           {
            "colorbar": {
             "outlinewidth": 0,
             "ticks": ""
            },
            "colorscale": [
             [
              0,
              "#0d0887"
             ],
             [
              0.1111111111111111,
              "#46039f"
             ],
             [
              0.2222222222222222,
              "#7201a8"
             ],
             [
              0.3333333333333333,
              "#9c179e"
             ],
             [
              0.4444444444444444,
              "#bd3786"
             ],
             [
              0.5555555555555556,
              "#d8576b"
             ],
             [
              0.6666666666666666,
              "#ed7953"
             ],
             [
              0.7777777777777778,
              "#fb9f3a"
             ],
             [
              0.8888888888888888,
              "#fdca26"
             ],
             [
              1,
              "#f0f921"
             ]
            ],
            "type": "histogram2dcontour"
           }
          ],
          "mesh3d": [
           {
            "colorbar": {
             "outlinewidth": 0,
             "ticks": ""
            },
            "type": "mesh3d"
           }
          ],
          "parcoords": [
           {
            "line": {
             "colorbar": {
              "outlinewidth": 0,
              "ticks": ""
             }
            },
            "type": "parcoords"
           }
          ],
          "pie": [
           {
            "automargin": true,
            "type": "pie"
           }
          ],
          "scatter": [
           {
            "marker": {
             "colorbar": {
              "outlinewidth": 0,
              "ticks": ""
             }
            },
            "type": "scatter"
           }
          ],
          "scatter3d": [
           {
            "line": {
             "colorbar": {
              "outlinewidth": 0,
              "ticks": ""
             }
            },
            "marker": {
             "colorbar": {
              "outlinewidth": 0,
              "ticks": ""
             }
            },
            "type": "scatter3d"
           }
          ],
          "scattercarpet": [
           {
            "marker": {
             "colorbar": {
              "outlinewidth": 0,
              "ticks": ""
             }
            },
            "type": "scattercarpet"
           }
          ],
          "scattergeo": [
           {
            "marker": {
             "colorbar": {
              "outlinewidth": 0,
              "ticks": ""
             }
            },
            "type": "scattergeo"
           }
          ],
          "scattergl": [
           {
            "marker": {
             "colorbar": {
              "outlinewidth": 0,
              "ticks": ""
             }
            },
            "type": "scattergl"
           }
          ],
          "scattermapbox": [
           {
            "marker": {
             "colorbar": {
              "outlinewidth": 0,
              "ticks": ""
             }
            },
            "type": "scattermapbox"
           }
          ],
          "scatterpolar": [
           {
            "marker": {
             "colorbar": {
              "outlinewidth": 0,
              "ticks": ""
             }
            },
            "type": "scatterpolar"
           }
          ],
          "scatterpolargl": [
           {
            "marker": {
             "colorbar": {
              "outlinewidth": 0,
              "ticks": ""
             }
            },
            "type": "scatterpolargl"
           }
          ],
          "scatterternary": [
           {
            "marker": {
             "colorbar": {
              "outlinewidth": 0,
              "ticks": ""
             }
            },
            "type": "scatterternary"
           }
          ],
          "surface": [
           {
            "colorbar": {
             "outlinewidth": 0,
             "ticks": ""
            },
            "colorscale": [
             [
              0,
              "#0d0887"
             ],
             [
              0.1111111111111111,
              "#46039f"
             ],
             [
              0.2222222222222222,
              "#7201a8"
             ],
             [
              0.3333333333333333,
              "#9c179e"
             ],
             [
              0.4444444444444444,
              "#bd3786"
             ],
             [
              0.5555555555555556,
              "#d8576b"
             ],
             [
              0.6666666666666666,
              "#ed7953"
             ],
             [
              0.7777777777777778,
              "#fb9f3a"
             ],
             [
              0.8888888888888888,
              "#fdca26"
             ],
             [
              1,
              "#f0f921"
             ]
            ],
            "type": "surface"
           }
          ],
          "table": [
           {
            "cells": {
             "fill": {
              "color": "#EBF0F8"
             },
             "line": {
              "color": "white"
             }
            },
            "header": {
             "fill": {
              "color": "#C8D4E3"
             },
             "line": {
              "color": "white"
             }
            },
            "type": "table"
           }
          ]
         },
         "layout": {
          "annotationdefaults": {
           "arrowcolor": "#2a3f5f",
           "arrowhead": 0,
           "arrowwidth": 1
          },
          "autotypenumbers": "strict",
          "coloraxis": {
           "colorbar": {
            "outlinewidth": 0,
            "ticks": ""
           }
          },
          "colorscale": {
           "diverging": [
            [
             0,
             "#8e0152"
            ],
            [
             0.1,
             "#c51b7d"
            ],
            [
             0.2,
             "#de77ae"
            ],
            [
             0.3,
             "#f1b6da"
            ],
            [
             0.4,
             "#fde0ef"
            ],
            [
             0.5,
             "#f7f7f7"
            ],
            [
             0.6,
             "#e6f5d0"
            ],
            [
             0.7,
             "#b8e186"
            ],
            [
             0.8,
             "#7fbc41"
            ],
            [
             0.9,
             "#4d9221"
            ],
            [
             1,
             "#276419"
            ]
           ],
           "sequential": [
            [
             0,
             "#0d0887"
            ],
            [
             0.1111111111111111,
             "#46039f"
            ],
            [
             0.2222222222222222,
             "#7201a8"
            ],
            [
             0.3333333333333333,
             "#9c179e"
            ],
            [
             0.4444444444444444,
             "#bd3786"
            ],
            [
             0.5555555555555556,
             "#d8576b"
            ],
            [
             0.6666666666666666,
             "#ed7953"
            ],
            [
             0.7777777777777778,
             "#fb9f3a"
            ],
            [
             0.8888888888888888,
             "#fdca26"
            ],
            [
             1,
             "#f0f921"
            ]
           ],
           "sequentialminus": [
            [
             0,
             "#0d0887"
            ],
            [
             0.1111111111111111,
             "#46039f"
            ],
            [
             0.2222222222222222,
             "#7201a8"
            ],
            [
             0.3333333333333333,
             "#9c179e"
            ],
            [
             0.4444444444444444,
             "#bd3786"
            ],
            [
             0.5555555555555556,
             "#d8576b"
            ],
            [
             0.6666666666666666,
             "#ed7953"
            ],
            [
             0.7777777777777778,
             "#fb9f3a"
            ],
            [
             0.8888888888888888,
             "#fdca26"
            ],
            [
             1,
             "#f0f921"
            ]
           ]
          },
          "colorway": [
           "#636efa",
           "#EF553B",
           "#00cc96",
           "#ab63fa",
           "#FFA15A",
           "#19d3f3",
           "#FF6692",
           "#B6E880",
           "#FF97FF",
           "#FECB52"
          ],
          "font": {
           "color": "#2a3f5f"
          },
          "geo": {
           "bgcolor": "white",
           "lakecolor": "white",
           "landcolor": "#E5ECF6",
           "showlakes": true,
           "showland": true,
           "subunitcolor": "white"
          },
          "hoverlabel": {
           "align": "left"
          },
          "hovermode": "closest",
          "mapbox": {
           "style": "light"
          },
          "paper_bgcolor": "white",
          "plot_bgcolor": "#E5ECF6",
          "polar": {
           "angularaxis": {
            "gridcolor": "white",
            "linecolor": "white",
            "ticks": ""
           },
           "bgcolor": "#E5ECF6",
           "radialaxis": {
            "gridcolor": "white",
            "linecolor": "white",
            "ticks": ""
           }
          },
          "scene": {
           "xaxis": {
            "backgroundcolor": "#E5ECF6",
            "gridcolor": "white",
            "gridwidth": 2,
            "linecolor": "white",
            "showbackground": true,
            "ticks": "",
            "zerolinecolor": "white"
           },
           "yaxis": {
            "backgroundcolor": "#E5ECF6",
            "gridcolor": "white",
            "gridwidth": 2,
            "linecolor": "white",
            "showbackground": true,
            "ticks": "",
            "zerolinecolor": "white"
           },
           "zaxis": {
            "backgroundcolor": "#E5ECF6",
            "gridcolor": "white",
            "gridwidth": 2,
            "linecolor": "white",
            "showbackground": true,
            "ticks": "",
            "zerolinecolor": "white"
           }
          },
          "shapedefaults": {
           "line": {
            "color": "#2a3f5f"
           }
          },
          "ternary": {
           "aaxis": {
            "gridcolor": "white",
            "linecolor": "white",
            "ticks": ""
           },
           "baxis": {
            "gridcolor": "white",
            "linecolor": "white",
            "ticks": ""
           },
           "bgcolor": "#E5ECF6",
           "caxis": {
            "gridcolor": "white",
            "linecolor": "white",
            "ticks": ""
           }
          },
          "title": {
           "x": 0.05
          },
          "xaxis": {
           "automargin": true,
           "gridcolor": "white",
           "linecolor": "white",
           "ticks": "",
           "title": {
            "standoff": 15
           },
           "zerolinecolor": "white",
           "zerolinewidth": 2
          },
          "yaxis": {
           "automargin": true,
           "gridcolor": "white",
           "linecolor": "white",
           "ticks": "",
           "title": {
            "standoff": 15
           },
           "zerolinecolor": "white",
           "zerolinewidth": 2
          }
         }
        },
        "title": {
         "text": "Continent Overview"
        },
        "width": 800
       }
      }
     },
     "metadata": {},
     "output_type": "display_data"
    }
   ],
   "source": [
    "specs = [[{'type':'domain'}, {'type':'domain'}], [{'type':'domain'}, {'type':'domain'}], [{'type':'domain'}, {'type':'domain'}]]\n",
    "fig = make_subplots(rows=3, cols=2, specs = specs, subplot_titles=[\n",
    "                    continent_day_result[0]['Continent'],\n",
    "                    continent_day_result[1]['Continent'],\n",
    "                    continent_day_result[2]['Continent'], \n",
    "                    continent_day_result[3]['Continent'], \n",
    "                    continent_day_result[4]['Continent'], \n",
    "                    continent_day_result[5]['Continent']])\n",
    "\n",
    "fig.add_trace(go.Pie(labels=['Active Cases', 'Serious, Critical'], values=[continent_day_result[0]['Active Cases'], continent_day_result[0]['Serious, Critical']], \n",
    "                     insidetextorientation='horizontal', rotation = 90), 1, 1)\n",
    "fig.add_trace(go.Pie(labels=['Active Cases', 'Serious, Critical'], values=[continent_day_result[1]['Active Cases'], continent_day_result[1]['Serious, Critical']], \n",
    "                     insidetextorientation='horizontal', rotation = 90), 1, 2)                     \n",
    "fig.add_trace(go.Pie(labels=['Active Cases', 'Serious, Critical'], values=[continent_day_result[2]['Active Cases'], continent_day_result[2]['Serious, Critical']], \n",
    "                     insidetextorientation='horizontal', rotation = 90), 2, 1)\n",
    "fig.add_trace(go.Pie(labels=['Active Cases', 'Serious, Critical'], values=[continent_day_result[3]['Active Cases'], continent_day_result[3]['Serious, Critical']], \n",
    "                     insidetextorientation='horizontal', rotation = 90), 2, 2)\n",
    "fig.add_trace(go.Pie(labels=['Active Cases', 'Serious, Critical'], values=[continent_day_result[4]['Active Cases'], continent_day_result[4]['Serious, Critical']], \n",
    "                     insidetextorientation='horizontal', rotation = 90), 3, 1)\n",
    "fig.add_trace(go.Pie(labels=['Active Cases', 'Serious, Critical'], values=[continent_day_result[5]['Active Cases'], continent_day_result[5]['Serious, Critical']], \n",
    "                     insidetextorientation='horizontal', rotation = 90), 3, 2)\n",
    "\n",
    "\n",
    "fig.update_layout(height=800, width=800,title_text='Continent Overview')\n",
    "fig.show()"
   ]
  },
  {
   "cell_type": "code",
   "execution_count": 41,
   "metadata": {},
   "outputs": [
    {
     "data": {
      "text/html": [
       "<div>\n",
       "<style scoped>\n",
       "    .dataframe tbody tr th:only-of-type {\n",
       "        vertical-align: middle;\n",
       "    }\n",
       "\n",
       "    .dataframe tbody tr th {\n",
       "        vertical-align: top;\n",
       "    }\n",
       "\n",
       "    .dataframe thead th {\n",
       "        text-align: right;\n",
       "    }\n",
       "</style>\n",
       "<table border=\"1\" class=\"dataframe\">\n",
       "  <thead>\n",
       "    <tr style=\"text-align: right;\">\n",
       "      <th></th>\n",
       "      <th>Continent</th>\n",
       "      <th>Serious, Critical</th>\n",
       "      <th>Active Cases</th>\n",
       "      <th>%</th>\n",
       "    </tr>\n",
       "  </thead>\n",
       "  <tbody>\n",
       "    <tr>\n",
       "      <th>0</th>\n",
       "      <td>North Ameica</td>\n",
       "      <td>276141.0</td>\n",
       "      <td>146009841.0</td>\n",
       "      <td>0.19%</td>\n",
       "    </tr>\n",
       "    <tr>\n",
       "      <th>1</th>\n",
       "      <td>Asia</td>\n",
       "      <td>420570.0</td>\n",
       "      <td>21223596.0</td>\n",
       "      <td>1.98%</td>\n",
       "    </tr>\n",
       "    <tr>\n",
       "      <th>2</th>\n",
       "      <td>South America</td>\n",
       "      <td>178224.0</td>\n",
       "      <td>5940878.0</td>\n",
       "      <td>3.0%</td>\n",
       "    </tr>\n",
       "    <tr>\n",
       "      <th>3</th>\n",
       "      <td>Europe</td>\n",
       "      <td>308793.0</td>\n",
       "      <td>108504561.0</td>\n",
       "      <td>0.28%</td>\n",
       "    </tr>\n",
       "    <tr>\n",
       "      <th>4</th>\n",
       "      <td>Africa</td>\n",
       "      <td>25639.0</td>\n",
       "      <td>5621380.0</td>\n",
       "      <td>0.46%</td>\n",
       "    </tr>\n",
       "    <tr>\n",
       "      <th>5</th>\n",
       "      <td>Australi/Ocen</td>\n",
       "      <td>2152.0</td>\n",
       "      <td>330821.0</td>\n",
       "      <td>0.65%</td>\n",
       "    </tr>\n",
       "  </tbody>\n",
       "</table>\n",
       "</div>"
      ],
      "text/plain": [
       "       Continent  Serious, Critical  Active Cases      %\n",
       "0   North Ameica           276141.0   146009841.0  0.19%\n",
       "1           Asia           420570.0    21223596.0  1.98%\n",
       "2  South America           178224.0     5940878.0   3.0%\n",
       "3         Europe           308793.0   108504561.0  0.28%\n",
       "4         Africa            25639.0     5621380.0  0.46%\n",
       "5  Australi/Ocen             2152.0      330821.0  0.65%"
      ]
     },
     "execution_count": 41,
     "metadata": {},
     "output_type": "execute_result"
    }
   ],
   "source": [
    "continent_plots['%'] = ((continent_plots['Serious, Critical'] / continent_plots['Active Cases'])*100).round(2).astype(str) + '%'\n",
    "continent_plots[['Continent', 'Serious, Critical', 'Active Cases', '%']]"
   ]
  },
  {
   "cell_type": "code",
   "execution_count": 42,
   "metadata": {},
   "outputs": [
    {
     "data": {
      "application/vnd.plotly.v1+json": {
       "config": {
        "plotlyServerURL": "https://plot.ly"
       },
       "data": [
        {
         "type": "bar",
         "x": [
          "North Ameica",
          "Asia",
          "South America",
          "Europe",
          "Africa",
          "Australi/Ocen"
         ],
         "y": [
          276141,
          420570,
          178224,
          308793,
          25639,
          2152
         ]
        }
       ],
       "layout": {
        "height": 500,
        "template": {
         "data": {
          "bar": [
           {
            "error_x": {
             "color": "#2a3f5f"
            },
            "error_y": {
             "color": "#2a3f5f"
            },
            "marker": {
             "line": {
              "color": "#E5ECF6",
              "width": 0.5
             },
             "pattern": {
              "fillmode": "overlay",
              "size": 10,
              "solidity": 0.2
             }
            },
            "type": "bar"
           }
          ],
          "barpolar": [
           {
            "marker": {
             "line": {
              "color": "#E5ECF6",
              "width": 0.5
             },
             "pattern": {
              "fillmode": "overlay",
              "size": 10,
              "solidity": 0.2
             }
            },
            "type": "barpolar"
           }
          ],
          "carpet": [
           {
            "aaxis": {
             "endlinecolor": "#2a3f5f",
             "gridcolor": "white",
             "linecolor": "white",
             "minorgridcolor": "white",
             "startlinecolor": "#2a3f5f"
            },
            "baxis": {
             "endlinecolor": "#2a3f5f",
             "gridcolor": "white",
             "linecolor": "white",
             "minorgridcolor": "white",
             "startlinecolor": "#2a3f5f"
            },
            "type": "carpet"
           }
          ],
          "choropleth": [
           {
            "colorbar": {
             "outlinewidth": 0,
             "ticks": ""
            },
            "type": "choropleth"
           }
          ],
          "contour": [
           {
            "colorbar": {
             "outlinewidth": 0,
             "ticks": ""
            },
            "colorscale": [
             [
              0,
              "#0d0887"
             ],
             [
              0.1111111111111111,
              "#46039f"
             ],
             [
              0.2222222222222222,
              "#7201a8"
             ],
             [
              0.3333333333333333,
              "#9c179e"
             ],
             [
              0.4444444444444444,
              "#bd3786"
             ],
             [
              0.5555555555555556,
              "#d8576b"
             ],
             [
              0.6666666666666666,
              "#ed7953"
             ],
             [
              0.7777777777777778,
              "#fb9f3a"
             ],
             [
              0.8888888888888888,
              "#fdca26"
             ],
             [
              1,
              "#f0f921"
             ]
            ],
            "type": "contour"
           }
          ],
          "contourcarpet": [
           {
            "colorbar": {
             "outlinewidth": 0,
             "ticks": ""
            },
            "type": "contourcarpet"
           }
          ],
          "heatmap": [
           {
            "colorbar": {
             "outlinewidth": 0,
             "ticks": ""
            },
            "colorscale": [
             [
              0,
              "#0d0887"
             ],
             [
              0.1111111111111111,
              "#46039f"
             ],
             [
              0.2222222222222222,
              "#7201a8"
             ],
             [
              0.3333333333333333,
              "#9c179e"
             ],
             [
              0.4444444444444444,
              "#bd3786"
             ],
             [
              0.5555555555555556,
              "#d8576b"
             ],
             [
              0.6666666666666666,
              "#ed7953"
             ],
             [
              0.7777777777777778,
              "#fb9f3a"
             ],
             [
              0.8888888888888888,
              "#fdca26"
             ],
             [
              1,
              "#f0f921"
             ]
            ],
            "type": "heatmap"
           }
          ],
          "heatmapgl": [
           {
            "colorbar": {
             "outlinewidth": 0,
             "ticks": ""
            },
            "colorscale": [
             [
              0,
              "#0d0887"
             ],
             [
              0.1111111111111111,
              "#46039f"
             ],
             [
              0.2222222222222222,
              "#7201a8"
             ],
             [
              0.3333333333333333,
              "#9c179e"
             ],
             [
              0.4444444444444444,
              "#bd3786"
             ],
             [
              0.5555555555555556,
              "#d8576b"
             ],
             [
              0.6666666666666666,
              "#ed7953"
             ],
             [
              0.7777777777777778,
              "#fb9f3a"
             ],
             [
              0.8888888888888888,
              "#fdca26"
             ],
             [
              1,
              "#f0f921"
             ]
            ],
            "type": "heatmapgl"
           }
          ],
          "histogram": [
           {
            "marker": {
             "pattern": {
              "fillmode": "overlay",
              "size": 10,
              "solidity": 0.2
             }
            },
            "type": "histogram"
           }
          ],
          "histogram2d": [
           {
            "colorbar": {
             "outlinewidth": 0,
             "ticks": ""
            },
            "colorscale": [
             [
              0,
              "#0d0887"
             ],
             [
              0.1111111111111111,
              "#46039f"
             ],
             [
              0.2222222222222222,
              "#7201a8"
             ],
             [
              0.3333333333333333,
              "#9c179e"
             ],
             [
              0.4444444444444444,
              "#bd3786"
             ],
             [
              0.5555555555555556,
              "#d8576b"
             ],
             [
              0.6666666666666666,
              "#ed7953"
             ],
             [
              0.7777777777777778,
              "#fb9f3a"
             ],
             [
              0.8888888888888888,
              "#fdca26"
             ],
             [
              1,
              "#f0f921"
             ]
            ],
            "type": "histogram2d"
           }
          ],
          "histogram2dcontour": [
           {
            "colorbar": {
             "outlinewidth": 0,
             "ticks": ""
            },
            "colorscale": [
             [
              0,
              "#0d0887"
             ],
             [
              0.1111111111111111,
              "#46039f"
             ],
             [
              0.2222222222222222,
              "#7201a8"
             ],
             [
              0.3333333333333333,
              "#9c179e"
             ],
             [
              0.4444444444444444,
              "#bd3786"
             ],
             [
              0.5555555555555556,
              "#d8576b"
             ],
             [
              0.6666666666666666,
              "#ed7953"
             ],
             [
              0.7777777777777778,
              "#fb9f3a"
             ],
             [
              0.8888888888888888,
              "#fdca26"
             ],
             [
              1,
              "#f0f921"
             ]
            ],
            "type": "histogram2dcontour"
           }
          ],
          "mesh3d": [
           {
            "colorbar": {
             "outlinewidth": 0,
             "ticks": ""
            },
            "type": "mesh3d"
           }
          ],
          "parcoords": [
           {
            "line": {
             "colorbar": {
              "outlinewidth": 0,
              "ticks": ""
             }
            },
            "type": "parcoords"
           }
          ],
          "pie": [
           {
            "automargin": true,
            "type": "pie"
           }
          ],
          "scatter": [
           {
            "marker": {
             "colorbar": {
              "outlinewidth": 0,
              "ticks": ""
             }
            },
            "type": "scatter"
           }
          ],
          "scatter3d": [
           {
            "line": {
             "colorbar": {
              "outlinewidth": 0,
              "ticks": ""
             }
            },
            "marker": {
             "colorbar": {
              "outlinewidth": 0,
              "ticks": ""
             }
            },
            "type": "scatter3d"
           }
          ],
          "scattercarpet": [
           {
            "marker": {
             "colorbar": {
              "outlinewidth": 0,
              "ticks": ""
             }
            },
            "type": "scattercarpet"
           }
          ],
          "scattergeo": [
           {
            "marker": {
             "colorbar": {
              "outlinewidth": 0,
              "ticks": ""
             }
            },
            "type": "scattergeo"
           }
          ],
          "scattergl": [
           {
            "marker": {
             "colorbar": {
              "outlinewidth": 0,
              "ticks": ""
             }
            },
            "type": "scattergl"
           }
          ],
          "scattermapbox": [
           {
            "marker": {
             "colorbar": {
              "outlinewidth": 0,
              "ticks": ""
             }
            },
            "type": "scattermapbox"
           }
          ],
          "scatterpolar": [
           {
            "marker": {
             "colorbar": {
              "outlinewidth": 0,
              "ticks": ""
             }
            },
            "type": "scatterpolar"
           }
          ],
          "scatterpolargl": [
           {
            "marker": {
             "colorbar": {
              "outlinewidth": 0,
              "ticks": ""
             }
            },
            "type": "scatterpolargl"
           }
          ],
          "scatterternary": [
           {
            "marker": {
             "colorbar": {
              "outlinewidth": 0,
              "ticks": ""
             }
            },
            "type": "scatterternary"
           }
          ],
          "surface": [
           {
            "colorbar": {
             "outlinewidth": 0,
             "ticks": ""
            },
            "colorscale": [
             [
              0,
              "#0d0887"
             ],
             [
              0.1111111111111111,
              "#46039f"
             ],
             [
              0.2222222222222222,
              "#7201a8"
             ],
             [
              0.3333333333333333,
              "#9c179e"
             ],
             [
              0.4444444444444444,
              "#bd3786"
             ],
             [
              0.5555555555555556,
              "#d8576b"
             ],
             [
              0.6666666666666666,
              "#ed7953"
             ],
             [
              0.7777777777777778,
              "#fb9f3a"
             ],
             [
              0.8888888888888888,
              "#fdca26"
             ],
             [
              1,
              "#f0f921"
             ]
            ],
            "type": "surface"
           }
          ],
          "table": [
           {
            "cells": {
             "fill": {
              "color": "#EBF0F8"
             },
             "line": {
              "color": "white"
             }
            },
            "header": {
             "fill": {
              "color": "#C8D4E3"
             },
             "line": {
              "color": "white"
             }
            },
            "type": "table"
           }
          ]
         },
         "layout": {
          "annotationdefaults": {
           "arrowcolor": "#2a3f5f",
           "arrowhead": 0,
           "arrowwidth": 1
          },
          "autotypenumbers": "strict",
          "coloraxis": {
           "colorbar": {
            "outlinewidth": 0,
            "ticks": ""
           }
          },
          "colorscale": {
           "diverging": [
            [
             0,
             "#8e0152"
            ],
            [
             0.1,
             "#c51b7d"
            ],
            [
             0.2,
             "#de77ae"
            ],
            [
             0.3,
             "#f1b6da"
            ],
            [
             0.4,
             "#fde0ef"
            ],
            [
             0.5,
             "#f7f7f7"
            ],
            [
             0.6,
             "#e6f5d0"
            ],
            [
             0.7,
             "#b8e186"
            ],
            [
             0.8,
             "#7fbc41"
            ],
            [
             0.9,
             "#4d9221"
            ],
            [
             1,
             "#276419"
            ]
           ],
           "sequential": [
            [
             0,
             "#0d0887"
            ],
            [
             0.1111111111111111,
             "#46039f"
            ],
            [
             0.2222222222222222,
             "#7201a8"
            ],
            [
             0.3333333333333333,
             "#9c179e"
            ],
            [
             0.4444444444444444,
             "#bd3786"
            ],
            [
             0.5555555555555556,
             "#d8576b"
            ],
            [
             0.6666666666666666,
             "#ed7953"
            ],
            [
             0.7777777777777778,
             "#fb9f3a"
            ],
            [
             0.8888888888888888,
             "#fdca26"
            ],
            [
             1,
             "#f0f921"
            ]
           ],
           "sequentialminus": [
            [
             0,
             "#0d0887"
            ],
            [
             0.1111111111111111,
             "#46039f"
            ],
            [
             0.2222222222222222,
             "#7201a8"
            ],
            [
             0.3333333333333333,
             "#9c179e"
            ],
            [
             0.4444444444444444,
             "#bd3786"
            ],
            [
             0.5555555555555556,
             "#d8576b"
            ],
            [
             0.6666666666666666,
             "#ed7953"
            ],
            [
             0.7777777777777778,
             "#fb9f3a"
            ],
            [
             0.8888888888888888,
             "#fdca26"
            ],
            [
             1,
             "#f0f921"
            ]
           ]
          },
          "colorway": [
           "#636efa",
           "#EF553B",
           "#00cc96",
           "#ab63fa",
           "#FFA15A",
           "#19d3f3",
           "#FF6692",
           "#B6E880",
           "#FF97FF",
           "#FECB52"
          ],
          "font": {
           "color": "#2a3f5f"
          },
          "geo": {
           "bgcolor": "white",
           "lakecolor": "white",
           "landcolor": "#E5ECF6",
           "showlakes": true,
           "showland": true,
           "subunitcolor": "white"
          },
          "hoverlabel": {
           "align": "left"
          },
          "hovermode": "closest",
          "mapbox": {
           "style": "light"
          },
          "paper_bgcolor": "white",
          "plot_bgcolor": "#E5ECF6",
          "polar": {
           "angularaxis": {
            "gridcolor": "white",
            "linecolor": "white",
            "ticks": ""
           },
           "bgcolor": "#E5ECF6",
           "radialaxis": {
            "gridcolor": "white",
            "linecolor": "white",
            "ticks": ""
           }
          },
          "scene": {
           "xaxis": {
            "backgroundcolor": "#E5ECF6",
            "gridcolor": "white",
            "gridwidth": 2,
            "linecolor": "white",
            "showbackground": true,
            "ticks": "",
            "zerolinecolor": "white"
           },
           "yaxis": {
            "backgroundcolor": "#E5ECF6",
            "gridcolor": "white",
            "gridwidth": 2,
            "linecolor": "white",
            "showbackground": true,
            "ticks": "",
            "zerolinecolor": "white"
           },
           "zaxis": {
            "backgroundcolor": "#E5ECF6",
            "gridcolor": "white",
            "gridwidth": 2,
            "linecolor": "white",
            "showbackground": true,
            "ticks": "",
            "zerolinecolor": "white"
           }
          },
          "shapedefaults": {
           "line": {
            "color": "#2a3f5f"
           }
          },
          "ternary": {
           "aaxis": {
            "gridcolor": "white",
            "linecolor": "white",
            "ticks": ""
           },
           "baxis": {
            "gridcolor": "white",
            "linecolor": "white",
            "ticks": ""
           },
           "bgcolor": "#E5ECF6",
           "caxis": {
            "gridcolor": "white",
            "linecolor": "white",
            "ticks": ""
           }
          },
          "title": {
           "x": 0.05
          },
          "xaxis": {
           "automargin": true,
           "gridcolor": "white",
           "linecolor": "white",
           "ticks": "",
           "title": {
            "standoff": 15
           },
           "zerolinecolor": "white",
           "zerolinewidth": 2
          },
          "yaxis": {
           "automargin": true,
           "gridcolor": "white",
           "linecolor": "white",
           "ticks": "",
           "title": {
            "standoff": 15
           },
           "zerolinecolor": "white",
           "zerolinewidth": 2
          }
         }
        },
        "title": {
         "text": "Serious, Critical Cases Contient"
        },
        "width": 800
       }
      }
     },
     "metadata": {},
     "output_type": "display_data"
    }
   ],
   "source": [
    "fig = go.Figure(data=[\n",
    "    go.Bar(x=continent_plots['Continent'], y=continent_plots['Serious, Critical'])\n",
    "])\n",
    "# Change the bar mode\n",
    "fig.update_layout(title_text = 'Serious, Critical Cases Contient')\n",
    "fig.update_layout(height=500, width=800)\n",
    "fig.show()"
   ]
  },
  {
   "cell_type": "markdown",
   "metadata": {},
   "source": [
    "### So sánh tỉ lệ ca mắc và tử vong với tuần trước đó\n",
    "***"
   ]
  },
  {
   "cell_type": "code",
   "execution_count": 43,
   "metadata": {},
   "outputs": [],
   "source": [
    "continent_week_plots = prepare_data_for_graph(continent_week_result, week_header[0:13])"
   ]
  },
  {
   "cell_type": "code",
   "execution_count": 44,
   "metadata": {},
   "outputs": [
    {
     "data": {
      "text/html": [
       "<div>\n",
       "<style scoped>\n",
       "    .dataframe tbody tr th:only-of-type {\n",
       "        vertical-align: middle;\n",
       "    }\n",
       "\n",
       "    .dataframe tbody tr th {\n",
       "        vertical-align: top;\n",
       "    }\n",
       "\n",
       "    .dataframe thead th {\n",
       "        text-align: right;\n",
       "    }\n",
       "</style>\n",
       "<table border=\"1\" class=\"dataframe\">\n",
       "  <thead>\n",
       "    <tr style=\"text-align: right;\">\n",
       "      <th></th>\n",
       "      <th>Continent</th>\n",
       "      <th>Weekly case /%/ change</th>\n",
       "    </tr>\n",
       "  </thead>\n",
       "  <tbody>\n",
       "    <tr>\n",
       "      <th>0</th>\n",
       "      <td>North Ameica</td>\n",
       "      <td>-8.254</td>\n",
       "    </tr>\n",
       "    <tr>\n",
       "      <th>1</th>\n",
       "      <td>Europe</td>\n",
       "      <td>4.452</td>\n",
       "    </tr>\n",
       "    <tr>\n",
       "      <th>2</th>\n",
       "      <td>Asia</td>\n",
       "      <td>-1.936</td>\n",
       "    </tr>\n",
       "    <tr>\n",
       "      <th>3</th>\n",
       "      <td>South America</td>\n",
       "      <td>-0.934</td>\n",
       "    </tr>\n",
       "    <tr>\n",
       "      <th>4</th>\n",
       "      <td>Africa</td>\n",
       "      <td>118.960</td>\n",
       "    </tr>\n",
       "    <tr>\n",
       "      <th>5</th>\n",
       "      <td>Australi/Ocen</td>\n",
       "      <td>0.743</td>\n",
       "    </tr>\n",
       "  </tbody>\n",
       "</table>\n",
       "</div>"
      ],
      "text/plain": [
       "       Continent  Weekly case /%/ change\n",
       "0   North Ameica                  -8.254\n",
       "1         Europe                   4.452\n",
       "2           Asia                  -1.936\n",
       "3  South America                  -0.934\n",
       "4         Africa                 118.960\n",
       "5  Australi/Ocen                   0.743"
      ]
     },
     "execution_count": 44,
     "metadata": {},
     "output_type": "execute_result"
    }
   ],
   "source": [
    "continent_week_plots[['Continent', 'Weekly case /%/ change']]"
   ]
  },
  {
   "cell_type": "code",
   "execution_count": 45,
   "metadata": {},
   "outputs": [
    {
     "data": {
      "application/vnd.plotly.v1+json": {
       "config": {
        "plotlyServerURL": "https://plot.ly"
       },
       "data": [
        {
         "text": [
          -8.254,
          4.452,
          -1.936,
          -0.934,
          118.96,
          0.743
         ],
         "type": "bar",
         "x": [
          "North Ameica",
          "Europe",
          "Asia",
          "South America",
          "Africa",
          "Australi/Ocen"
         ],
         "y": [
          -8.254,
          4.452,
          -1.936,
          -0.934,
          118.96,
          0.743
         ]
        }
       ],
       "layout": {
        "height": 500,
        "template": {
         "data": {
          "bar": [
           {
            "error_x": {
             "color": "#2a3f5f"
            },
            "error_y": {
             "color": "#2a3f5f"
            },
            "marker": {
             "line": {
              "color": "#E5ECF6",
              "width": 0.5
             },
             "pattern": {
              "fillmode": "overlay",
              "size": 10,
              "solidity": 0.2
             }
            },
            "type": "bar"
           }
          ],
          "barpolar": [
           {
            "marker": {
             "line": {
              "color": "#E5ECF6",
              "width": 0.5
             },
             "pattern": {
              "fillmode": "overlay",
              "size": 10,
              "solidity": 0.2
             }
            },
            "type": "barpolar"
           }
          ],
          "carpet": [
           {
            "aaxis": {
             "endlinecolor": "#2a3f5f",
             "gridcolor": "white",
             "linecolor": "white",
             "minorgridcolor": "white",
             "startlinecolor": "#2a3f5f"
            },
            "baxis": {
             "endlinecolor": "#2a3f5f",
             "gridcolor": "white",
             "linecolor": "white",
             "minorgridcolor": "white",
             "startlinecolor": "#2a3f5f"
            },
            "type": "carpet"
           }
          ],
          "choropleth": [
           {
            "colorbar": {
             "outlinewidth": 0,
             "ticks": ""
            },
            "type": "choropleth"
           }
          ],
          "contour": [
           {
            "colorbar": {
             "outlinewidth": 0,
             "ticks": ""
            },
            "colorscale": [
             [
              0,
              "#0d0887"
             ],
             [
              0.1111111111111111,
              "#46039f"
             ],
             [
              0.2222222222222222,
              "#7201a8"
             ],
             [
              0.3333333333333333,
              "#9c179e"
             ],
             [
              0.4444444444444444,
              "#bd3786"
             ],
             [
              0.5555555555555556,
              "#d8576b"
             ],
             [
              0.6666666666666666,
              "#ed7953"
             ],
             [
              0.7777777777777778,
              "#fb9f3a"
             ],
             [
              0.8888888888888888,
              "#fdca26"
             ],
             [
              1,
              "#f0f921"
             ]
            ],
            "type": "contour"
           }
          ],
          "contourcarpet": [
           {
            "colorbar": {
             "outlinewidth": 0,
             "ticks": ""
            },
            "type": "contourcarpet"
           }
          ],
          "heatmap": [
           {
            "colorbar": {
             "outlinewidth": 0,
             "ticks": ""
            },
            "colorscale": [
             [
              0,
              "#0d0887"
             ],
             [
              0.1111111111111111,
              "#46039f"
             ],
             [
              0.2222222222222222,
              "#7201a8"
             ],
             [
              0.3333333333333333,
              "#9c179e"
             ],
             [
              0.4444444444444444,
              "#bd3786"
             ],
             [
              0.5555555555555556,
              "#d8576b"
             ],
             [
              0.6666666666666666,
              "#ed7953"
             ],
             [
              0.7777777777777778,
              "#fb9f3a"
             ],
             [
              0.8888888888888888,
              "#fdca26"
             ],
             [
              1,
              "#f0f921"
             ]
            ],
            "type": "heatmap"
           }
          ],
          "heatmapgl": [
           {
            "colorbar": {
             "outlinewidth": 0,
             "ticks": ""
            },
            "colorscale": [
             [
              0,
              "#0d0887"
             ],
             [
              0.1111111111111111,
              "#46039f"
             ],
             [
              0.2222222222222222,
              "#7201a8"
             ],
             [
              0.3333333333333333,
              "#9c179e"
             ],
             [
              0.4444444444444444,
              "#bd3786"
             ],
             [
              0.5555555555555556,
              "#d8576b"
             ],
             [
              0.6666666666666666,
              "#ed7953"
             ],
             [
              0.7777777777777778,
              "#fb9f3a"
             ],
             [
              0.8888888888888888,
              "#fdca26"
             ],
             [
              1,
              "#f0f921"
             ]
            ],
            "type": "heatmapgl"
           }
          ],
          "histogram": [
           {
            "marker": {
             "pattern": {
              "fillmode": "overlay",
              "size": 10,
              "solidity": 0.2
             }
            },
            "type": "histogram"
           }
          ],
          "histogram2d": [
           {
            "colorbar": {
             "outlinewidth": 0,
             "ticks": ""
            },
            "colorscale": [
             [
              0,
              "#0d0887"
             ],
             [
              0.1111111111111111,
              "#46039f"
             ],
             [
              0.2222222222222222,
              "#7201a8"
             ],
             [
              0.3333333333333333,
              "#9c179e"
             ],
             [
              0.4444444444444444,
              "#bd3786"
             ],
             [
              0.5555555555555556,
              "#d8576b"
             ],
             [
              0.6666666666666666,
              "#ed7953"
             ],
             [
              0.7777777777777778,
              "#fb9f3a"
             ],
             [
              0.8888888888888888,
              "#fdca26"
             ],
             [
              1,
              "#f0f921"
             ]
            ],
            "type": "histogram2d"
           }
          ],
          "histogram2dcontour": [
           {
            "colorbar": {
             "outlinewidth": 0,
             "ticks": ""
            },
            "colorscale": [
             [
              0,
              "#0d0887"
             ],
             [
              0.1111111111111111,
              "#46039f"
             ],
             [
              0.2222222222222222,
              "#7201a8"
             ],
             [
              0.3333333333333333,
              "#9c179e"
             ],
             [
              0.4444444444444444,
              "#bd3786"
             ],
             [
              0.5555555555555556,
              "#d8576b"
             ],
             [
              0.6666666666666666,
              "#ed7953"
             ],
             [
              0.7777777777777778,
              "#fb9f3a"
             ],
             [
              0.8888888888888888,
              "#fdca26"
             ],
             [
              1,
              "#f0f921"
             ]
            ],
            "type": "histogram2dcontour"
           }
          ],
          "mesh3d": [
           {
            "colorbar": {
             "outlinewidth": 0,
             "ticks": ""
            },
            "type": "mesh3d"
           }
          ],
          "parcoords": [
           {
            "line": {
             "colorbar": {
              "outlinewidth": 0,
              "ticks": ""
             }
            },
            "type": "parcoords"
           }
          ],
          "pie": [
           {
            "automargin": true,
            "type": "pie"
           }
          ],
          "scatter": [
           {
            "marker": {
             "colorbar": {
              "outlinewidth": 0,
              "ticks": ""
             }
            },
            "type": "scatter"
           }
          ],
          "scatter3d": [
           {
            "line": {
             "colorbar": {
              "outlinewidth": 0,
              "ticks": ""
             }
            },
            "marker": {
             "colorbar": {
              "outlinewidth": 0,
              "ticks": ""
             }
            },
            "type": "scatter3d"
           }
          ],
          "scattercarpet": [
           {
            "marker": {
             "colorbar": {
              "outlinewidth": 0,
              "ticks": ""
             }
            },
            "type": "scattercarpet"
           }
          ],
          "scattergeo": [
           {
            "marker": {
             "colorbar": {
              "outlinewidth": 0,
              "ticks": ""
             }
            },
            "type": "scattergeo"
           }
          ],
          "scattergl": [
           {
            "marker": {
             "colorbar": {
              "outlinewidth": 0,
              "ticks": ""
             }
            },
            "type": "scattergl"
           }
          ],
          "scattermapbox": [
           {
            "marker": {
             "colorbar": {
              "outlinewidth": 0,
              "ticks": ""
             }
            },
            "type": "scattermapbox"
           }
          ],
          "scatterpolar": [
           {
            "marker": {
             "colorbar": {
              "outlinewidth": 0,
              "ticks": ""
             }
            },
            "type": "scatterpolar"
           }
          ],
          "scatterpolargl": [
           {
            "marker": {
             "colorbar": {
              "outlinewidth": 0,
              "ticks": ""
             }
            },
            "type": "scatterpolargl"
           }
          ],
          "scatterternary": [
           {
            "marker": {
             "colorbar": {
              "outlinewidth": 0,
              "ticks": ""
             }
            },
            "type": "scatterternary"
           }
          ],
          "surface": [
           {
            "colorbar": {
             "outlinewidth": 0,
             "ticks": ""
            },
            "colorscale": [
             [
              0,
              "#0d0887"
             ],
             [
              0.1111111111111111,
              "#46039f"
             ],
             [
              0.2222222222222222,
              "#7201a8"
             ],
             [
              0.3333333333333333,
              "#9c179e"
             ],
             [
              0.4444444444444444,
              "#bd3786"
             ],
             [
              0.5555555555555556,
              "#d8576b"
             ],
             [
              0.6666666666666666,
              "#ed7953"
             ],
             [
              0.7777777777777778,
              "#fb9f3a"
             ],
             [
              0.8888888888888888,
              "#fdca26"
             ],
             [
              1,
              "#f0f921"
             ]
            ],
            "type": "surface"
           }
          ],
          "table": [
           {
            "cells": {
             "fill": {
              "color": "#EBF0F8"
             },
             "line": {
              "color": "white"
             }
            },
            "header": {
             "fill": {
              "color": "#C8D4E3"
             },
             "line": {
              "color": "white"
             }
            },
            "type": "table"
           }
          ]
         },
         "layout": {
          "annotationdefaults": {
           "arrowcolor": "#2a3f5f",
           "arrowhead": 0,
           "arrowwidth": 1
          },
          "autotypenumbers": "strict",
          "coloraxis": {
           "colorbar": {
            "outlinewidth": 0,
            "ticks": ""
           }
          },
          "colorscale": {
           "diverging": [
            [
             0,
             "#8e0152"
            ],
            [
             0.1,
             "#c51b7d"
            ],
            [
             0.2,
             "#de77ae"
            ],
            [
             0.3,
             "#f1b6da"
            ],
            [
             0.4,
             "#fde0ef"
            ],
            [
             0.5,
             "#f7f7f7"
            ],
            [
             0.6,
             "#e6f5d0"
            ],
            [
             0.7,
             "#b8e186"
            ],
            [
             0.8,
             "#7fbc41"
            ],
            [
             0.9,
             "#4d9221"
            ],
            [
             1,
             "#276419"
            ]
           ],
           "sequential": [
            [
             0,
             "#0d0887"
            ],
            [
             0.1111111111111111,
             "#46039f"
            ],
            [
             0.2222222222222222,
             "#7201a8"
            ],
            [
             0.3333333333333333,
             "#9c179e"
            ],
            [
             0.4444444444444444,
             "#bd3786"
            ],
            [
             0.5555555555555556,
             "#d8576b"
            ],
            [
             0.6666666666666666,
             "#ed7953"
            ],
            [
             0.7777777777777778,
             "#fb9f3a"
            ],
            [
             0.8888888888888888,
             "#fdca26"
            ],
            [
             1,
             "#f0f921"
            ]
           ],
           "sequentialminus": [
            [
             0,
             "#0d0887"
            ],
            [
             0.1111111111111111,
             "#46039f"
            ],
            [
             0.2222222222222222,
             "#7201a8"
            ],
            [
             0.3333333333333333,
             "#9c179e"
            ],
            [
             0.4444444444444444,
             "#bd3786"
            ],
            [
             0.5555555555555556,
             "#d8576b"
            ],
            [
             0.6666666666666666,
             "#ed7953"
            ],
            [
             0.7777777777777778,
             "#fb9f3a"
            ],
            [
             0.8888888888888888,
             "#fdca26"
            ],
            [
             1,
             "#f0f921"
            ]
           ]
          },
          "colorway": [
           "#636efa",
           "#EF553B",
           "#00cc96",
           "#ab63fa",
           "#FFA15A",
           "#19d3f3",
           "#FF6692",
           "#B6E880",
           "#FF97FF",
           "#FECB52"
          ],
          "font": {
           "color": "#2a3f5f"
          },
          "geo": {
           "bgcolor": "white",
           "lakecolor": "white",
           "landcolor": "#E5ECF6",
           "showlakes": true,
           "showland": true,
           "subunitcolor": "white"
          },
          "hoverlabel": {
           "align": "left"
          },
          "hovermode": "closest",
          "mapbox": {
           "style": "light"
          },
          "paper_bgcolor": "white",
          "plot_bgcolor": "#E5ECF6",
          "polar": {
           "angularaxis": {
            "gridcolor": "white",
            "linecolor": "white",
            "ticks": ""
           },
           "bgcolor": "#E5ECF6",
           "radialaxis": {
            "gridcolor": "white",
            "linecolor": "white",
            "ticks": ""
           }
          },
          "scene": {
           "xaxis": {
            "backgroundcolor": "#E5ECF6",
            "gridcolor": "white",
            "gridwidth": 2,
            "linecolor": "white",
            "showbackground": true,
            "ticks": "",
            "zerolinecolor": "white"
           },
           "yaxis": {
            "backgroundcolor": "#E5ECF6",
            "gridcolor": "white",
            "gridwidth": 2,
            "linecolor": "white",
            "showbackground": true,
            "ticks": "",
            "zerolinecolor": "white"
           },
           "zaxis": {
            "backgroundcolor": "#E5ECF6",
            "gridcolor": "white",
            "gridwidth": 2,
            "linecolor": "white",
            "showbackground": true,
            "ticks": "",
            "zerolinecolor": "white"
           }
          },
          "shapedefaults": {
           "line": {
            "color": "#2a3f5f"
           }
          },
          "ternary": {
           "aaxis": {
            "gridcolor": "white",
            "linecolor": "white",
            "ticks": ""
           },
           "baxis": {
            "gridcolor": "white",
            "linecolor": "white",
            "ticks": ""
           },
           "bgcolor": "#E5ECF6",
           "caxis": {
            "gridcolor": "white",
            "linecolor": "white",
            "ticks": ""
           }
          },
          "title": {
           "x": 0.05
          },
          "xaxis": {
           "automargin": true,
           "gridcolor": "white",
           "linecolor": "white",
           "ticks": "",
           "title": {
            "standoff": 15
           },
           "zerolinecolor": "white",
           "zerolinewidth": 2
          },
          "yaxis": {
           "automargin": true,
           "gridcolor": "white",
           "linecolor": "white",
           "ticks": "",
           "title": {
            "standoff": 15
           },
           "zerolinecolor": "white",
           "zerolinewidth": 2
          }
         }
        },
        "title": {
         "text": "Weekly case /%/ change"
        },
        "width": 800
       }
      }
     },
     "metadata": {},
     "output_type": "display_data"
    }
   ],
   "source": [
    "fig = go.Figure(data=[\n",
    "    go.Bar(x=continent_week_plots['Continent'], y=continent_week_plots['Weekly case /%/ change'], text=continent_week_plots['Weekly case /%/ change'])\n",
    "])\n",
    "# Change the bar mode\n",
    "fig.update_layout(title_text = 'Weekly case /%/ change')\n",
    "fig.update_layout(height=500, width=800)\n",
    "fig.show()"
   ]
  },
  {
   "cell_type": "code",
   "execution_count": 46,
   "metadata": {},
   "outputs": [
    {
     "data": {
      "text/html": [
       "<div>\n",
       "<style scoped>\n",
       "    .dataframe tbody tr th:only-of-type {\n",
       "        vertical-align: middle;\n",
       "    }\n",
       "\n",
       "    .dataframe tbody tr th {\n",
       "        vertical-align: top;\n",
       "    }\n",
       "\n",
       "    .dataframe thead th {\n",
       "        text-align: right;\n",
       "    }\n",
       "</style>\n",
       "<table border=\"1\" class=\"dataframe\">\n",
       "  <thead>\n",
       "    <tr style=\"text-align: right;\">\n",
       "      <th></th>\n",
       "      <th>Continent</th>\n",
       "      <th>Weekly Death /%/ change</th>\n",
       "    </tr>\n",
       "  </thead>\n",
       "  <tbody>\n",
       "    <tr>\n",
       "      <th>0</th>\n",
       "      <td>North Ameica</td>\n",
       "      <td>-7.630</td>\n",
       "    </tr>\n",
       "    <tr>\n",
       "      <th>1</th>\n",
       "      <td>Europe</td>\n",
       "      <td>-1.044</td>\n",
       "    </tr>\n",
       "    <tr>\n",
       "      <th>2</th>\n",
       "      <td>Asia</td>\n",
       "      <td>-3.133</td>\n",
       "    </tr>\n",
       "    <tr>\n",
       "      <th>3</th>\n",
       "      <td>South America</td>\n",
       "      <td>-1.448</td>\n",
       "    </tr>\n",
       "    <tr>\n",
       "      <th>4</th>\n",
       "      <td>Africa</td>\n",
       "      <td>-6.005</td>\n",
       "    </tr>\n",
       "    <tr>\n",
       "      <th>5</th>\n",
       "      <td>Australi/Ocen</td>\n",
       "      <td>-28.571</td>\n",
       "    </tr>\n",
       "  </tbody>\n",
       "</table>\n",
       "</div>"
      ],
      "text/plain": [
       "       Continent  Weekly Death /%/ change\n",
       "0   North Ameica                   -7.630\n",
       "1         Europe                   -1.044\n",
       "2           Asia                   -3.133\n",
       "3  South America                   -1.448\n",
       "4         Africa                   -6.005\n",
       "5  Australi/Ocen                  -28.571"
      ]
     },
     "execution_count": 46,
     "metadata": {},
     "output_type": "execute_result"
    }
   ],
   "source": [
    "continent_week_plots[['Continent', 'Weekly Death /%/ change']]"
   ]
  },
  {
   "cell_type": "code",
   "execution_count": 47,
   "metadata": {},
   "outputs": [
    {
     "data": {
      "application/vnd.plotly.v1+json": {
       "config": {
        "plotlyServerURL": "https://plot.ly"
       },
       "data": [
        {
         "text": [
          -7.63,
          -1.044,
          -3.133,
          -1.448,
          -6.005,
          -28.571
         ],
         "type": "bar",
         "x": [
          "North Ameica",
          "Europe",
          "Asia",
          "South America",
          "Africa",
          "Australi/Ocen"
         ],
         "y": [
          -7.63,
          -1.044,
          -3.133,
          -1.448,
          -6.005,
          -28.571
         ]
        }
       ],
       "layout": {
        "height": 500,
        "template": {
         "data": {
          "bar": [
           {
            "error_x": {
             "color": "#2a3f5f"
            },
            "error_y": {
             "color": "#2a3f5f"
            },
            "marker": {
             "line": {
              "color": "#E5ECF6",
              "width": 0.5
             },
             "pattern": {
              "fillmode": "overlay",
              "size": 10,
              "solidity": 0.2
             }
            },
            "type": "bar"
           }
          ],
          "barpolar": [
           {
            "marker": {
             "line": {
              "color": "#E5ECF6",
              "width": 0.5
             },
             "pattern": {
              "fillmode": "overlay",
              "size": 10,
              "solidity": 0.2
             }
            },
            "type": "barpolar"
           }
          ],
          "carpet": [
           {
            "aaxis": {
             "endlinecolor": "#2a3f5f",
             "gridcolor": "white",
             "linecolor": "white",
             "minorgridcolor": "white",
             "startlinecolor": "#2a3f5f"
            },
            "baxis": {
             "endlinecolor": "#2a3f5f",
             "gridcolor": "white",
             "linecolor": "white",
             "minorgridcolor": "white",
             "startlinecolor": "#2a3f5f"
            },
            "type": "carpet"
           }
          ],
          "choropleth": [
           {
            "colorbar": {
             "outlinewidth": 0,
             "ticks": ""
            },
            "type": "choropleth"
           }
          ],
          "contour": [
           {
            "colorbar": {
             "outlinewidth": 0,
             "ticks": ""
            },
            "colorscale": [
             [
              0,
              "#0d0887"
             ],
             [
              0.1111111111111111,
              "#46039f"
             ],
             [
              0.2222222222222222,
              "#7201a8"
             ],
             [
              0.3333333333333333,
              "#9c179e"
             ],
             [
              0.4444444444444444,
              "#bd3786"
             ],
             [
              0.5555555555555556,
              "#d8576b"
             ],
             [
              0.6666666666666666,
              "#ed7953"
             ],
             [
              0.7777777777777778,
              "#fb9f3a"
             ],
             [
              0.8888888888888888,
              "#fdca26"
             ],
             [
              1,
              "#f0f921"
             ]
            ],
            "type": "contour"
           }
          ],
          "contourcarpet": [
           {
            "colorbar": {
             "outlinewidth": 0,
             "ticks": ""
            },
            "type": "contourcarpet"
           }
          ],
          "heatmap": [
           {
            "colorbar": {
             "outlinewidth": 0,
             "ticks": ""
            },
            "colorscale": [
             [
              0,
              "#0d0887"
             ],
             [
              0.1111111111111111,
              "#46039f"
             ],
             [
              0.2222222222222222,
              "#7201a8"
             ],
             [
              0.3333333333333333,
              "#9c179e"
             ],
             [
              0.4444444444444444,
              "#bd3786"
             ],
             [
              0.5555555555555556,
              "#d8576b"
             ],
             [
              0.6666666666666666,
              "#ed7953"
             ],
             [
              0.7777777777777778,
              "#fb9f3a"
             ],
             [
              0.8888888888888888,
              "#fdca26"
             ],
             [
              1,
              "#f0f921"
             ]
            ],
            "type": "heatmap"
           }
          ],
          "heatmapgl": [
           {
            "colorbar": {
             "outlinewidth": 0,
             "ticks": ""
            },
            "colorscale": [
             [
              0,
              "#0d0887"
             ],
             [
              0.1111111111111111,
              "#46039f"
             ],
             [
              0.2222222222222222,
              "#7201a8"
             ],
             [
              0.3333333333333333,
              "#9c179e"
             ],
             [
              0.4444444444444444,
              "#bd3786"
             ],
             [
              0.5555555555555556,
              "#d8576b"
             ],
             [
              0.6666666666666666,
              "#ed7953"
             ],
             [
              0.7777777777777778,
              "#fb9f3a"
             ],
             [
              0.8888888888888888,
              "#fdca26"
             ],
             [
              1,
              "#f0f921"
             ]
            ],
            "type": "heatmapgl"
           }
          ],
          "histogram": [
           {
            "marker": {
             "pattern": {
              "fillmode": "overlay",
              "size": 10,
              "solidity": 0.2
             }
            },
            "type": "histogram"
           }
          ],
          "histogram2d": [
           {
            "colorbar": {
             "outlinewidth": 0,
             "ticks": ""
            },
            "colorscale": [
             [
              0,
              "#0d0887"
             ],
             [
              0.1111111111111111,
              "#46039f"
             ],
             [
              0.2222222222222222,
              "#7201a8"
             ],
             [
              0.3333333333333333,
              "#9c179e"
             ],
             [
              0.4444444444444444,
              "#bd3786"
             ],
             [
              0.5555555555555556,
              "#d8576b"
             ],
             [
              0.6666666666666666,
              "#ed7953"
             ],
             [
              0.7777777777777778,
              "#fb9f3a"
             ],
             [
              0.8888888888888888,
              "#fdca26"
             ],
             [
              1,
              "#f0f921"
             ]
            ],
            "type": "histogram2d"
           }
          ],
          "histogram2dcontour": [
           {
            "colorbar": {
             "outlinewidth": 0,
             "ticks": ""
            },
            "colorscale": [
             [
              0,
              "#0d0887"
             ],
             [
              0.1111111111111111,
              "#46039f"
             ],
             [
              0.2222222222222222,
              "#7201a8"
             ],
             [
              0.3333333333333333,
              "#9c179e"
             ],
             [
              0.4444444444444444,
              "#bd3786"
             ],
             [
              0.5555555555555556,
              "#d8576b"
             ],
             [
              0.6666666666666666,
              "#ed7953"
             ],
             [
              0.7777777777777778,
              "#fb9f3a"
             ],
             [
              0.8888888888888888,
              "#fdca26"
             ],
             [
              1,
              "#f0f921"
             ]
            ],
            "type": "histogram2dcontour"
           }
          ],
          "mesh3d": [
           {
            "colorbar": {
             "outlinewidth": 0,
             "ticks": ""
            },
            "type": "mesh3d"
           }
          ],
          "parcoords": [
           {
            "line": {
             "colorbar": {
              "outlinewidth": 0,
              "ticks": ""
             }
            },
            "type": "parcoords"
           }
          ],
          "pie": [
           {
            "automargin": true,
            "type": "pie"
           }
          ],
          "scatter": [
           {
            "marker": {
             "colorbar": {
              "outlinewidth": 0,
              "ticks": ""
             }
            },
            "type": "scatter"
           }
          ],
          "scatter3d": [
           {
            "line": {
             "colorbar": {
              "outlinewidth": 0,
              "ticks": ""
             }
            },
            "marker": {
             "colorbar": {
              "outlinewidth": 0,
              "ticks": ""
             }
            },
            "type": "scatter3d"
           }
          ],
          "scattercarpet": [
           {
            "marker": {
             "colorbar": {
              "outlinewidth": 0,
              "ticks": ""
             }
            },
            "type": "scattercarpet"
           }
          ],
          "scattergeo": [
           {
            "marker": {
             "colorbar": {
              "outlinewidth": 0,
              "ticks": ""
             }
            },
            "type": "scattergeo"
           }
          ],
          "scattergl": [
           {
            "marker": {
             "colorbar": {
              "outlinewidth": 0,
              "ticks": ""
             }
            },
            "type": "scattergl"
           }
          ],
          "scattermapbox": [
           {
            "marker": {
             "colorbar": {
              "outlinewidth": 0,
              "ticks": ""
             }
            },
            "type": "scattermapbox"
           }
          ],
          "scatterpolar": [
           {
            "marker": {
             "colorbar": {
              "outlinewidth": 0,
              "ticks": ""
             }
            },
            "type": "scatterpolar"
           }
          ],
          "scatterpolargl": [
           {
            "marker": {
             "colorbar": {
              "outlinewidth": 0,
              "ticks": ""
             }
            },
            "type": "scatterpolargl"
           }
          ],
          "scatterternary": [
           {
            "marker": {
             "colorbar": {
              "outlinewidth": 0,
              "ticks": ""
             }
            },
            "type": "scatterternary"
           }
          ],
          "surface": [
           {
            "colorbar": {
             "outlinewidth": 0,
             "ticks": ""
            },
            "colorscale": [
             [
              0,
              "#0d0887"
             ],
             [
              0.1111111111111111,
              "#46039f"
             ],
             [
              0.2222222222222222,
              "#7201a8"
             ],
             [
              0.3333333333333333,
              "#9c179e"
             ],
             [
              0.4444444444444444,
              "#bd3786"
             ],
             [
              0.5555555555555556,
              "#d8576b"
             ],
             [
              0.6666666666666666,
              "#ed7953"
             ],
             [
              0.7777777777777778,
              "#fb9f3a"
             ],
             [
              0.8888888888888888,
              "#fdca26"
             ],
             [
              1,
              "#f0f921"
             ]
            ],
            "type": "surface"
           }
          ],
          "table": [
           {
            "cells": {
             "fill": {
              "color": "#EBF0F8"
             },
             "line": {
              "color": "white"
             }
            },
            "header": {
             "fill": {
              "color": "#C8D4E3"
             },
             "line": {
              "color": "white"
             }
            },
            "type": "table"
           }
          ]
         },
         "layout": {
          "annotationdefaults": {
           "arrowcolor": "#2a3f5f",
           "arrowhead": 0,
           "arrowwidth": 1
          },
          "autotypenumbers": "strict",
          "coloraxis": {
           "colorbar": {
            "outlinewidth": 0,
            "ticks": ""
           }
          },
          "colorscale": {
           "diverging": [
            [
             0,
             "#8e0152"
            ],
            [
             0.1,
             "#c51b7d"
            ],
            [
             0.2,
             "#de77ae"
            ],
            [
             0.3,
             "#f1b6da"
            ],
            [
             0.4,
             "#fde0ef"
            ],
            [
             0.5,
             "#f7f7f7"
            ],
            [
             0.6,
             "#e6f5d0"
            ],
            [
             0.7,
             "#b8e186"
            ],
            [
             0.8,
             "#7fbc41"
            ],
            [
             0.9,
             "#4d9221"
            ],
            [
             1,
             "#276419"
            ]
           ],
           "sequential": [
            [
             0,
             "#0d0887"
            ],
            [
             0.1111111111111111,
             "#46039f"
            ],
            [
             0.2222222222222222,
             "#7201a8"
            ],
            [
             0.3333333333333333,
             "#9c179e"
            ],
            [
             0.4444444444444444,
             "#bd3786"
            ],
            [
             0.5555555555555556,
             "#d8576b"
            ],
            [
             0.6666666666666666,
             "#ed7953"
            ],
            [
             0.7777777777777778,
             "#fb9f3a"
            ],
            [
             0.8888888888888888,
             "#fdca26"
            ],
            [
             1,
             "#f0f921"
            ]
           ],
           "sequentialminus": [
            [
             0,
             "#0d0887"
            ],
            [
             0.1111111111111111,
             "#46039f"
            ],
            [
             0.2222222222222222,
             "#7201a8"
            ],
            [
             0.3333333333333333,
             "#9c179e"
            ],
            [
             0.4444444444444444,
             "#bd3786"
            ],
            [
             0.5555555555555556,
             "#d8576b"
            ],
            [
             0.6666666666666666,
             "#ed7953"
            ],
            [
             0.7777777777777778,
             "#fb9f3a"
            ],
            [
             0.8888888888888888,
             "#fdca26"
            ],
            [
             1,
             "#f0f921"
            ]
           ]
          },
          "colorway": [
           "#636efa",
           "#EF553B",
           "#00cc96",
           "#ab63fa",
           "#FFA15A",
           "#19d3f3",
           "#FF6692",
           "#B6E880",
           "#FF97FF",
           "#FECB52"
          ],
          "font": {
           "color": "#2a3f5f"
          },
          "geo": {
           "bgcolor": "white",
           "lakecolor": "white",
           "landcolor": "#E5ECF6",
           "showlakes": true,
           "showland": true,
           "subunitcolor": "white"
          },
          "hoverlabel": {
           "align": "left"
          },
          "hovermode": "closest",
          "mapbox": {
           "style": "light"
          },
          "paper_bgcolor": "white",
          "plot_bgcolor": "#E5ECF6",
          "polar": {
           "angularaxis": {
            "gridcolor": "white",
            "linecolor": "white",
            "ticks": ""
           },
           "bgcolor": "#E5ECF6",
           "radialaxis": {
            "gridcolor": "white",
            "linecolor": "white",
            "ticks": ""
           }
          },
          "scene": {
           "xaxis": {
            "backgroundcolor": "#E5ECF6",
            "gridcolor": "white",
            "gridwidth": 2,
            "linecolor": "white",
            "showbackground": true,
            "ticks": "",
            "zerolinecolor": "white"
           },
           "yaxis": {
            "backgroundcolor": "#E5ECF6",
            "gridcolor": "white",
            "gridwidth": 2,
            "linecolor": "white",
            "showbackground": true,
            "ticks": "",
            "zerolinecolor": "white"
           },
           "zaxis": {
            "backgroundcolor": "#E5ECF6",
            "gridcolor": "white",
            "gridwidth": 2,
            "linecolor": "white",
            "showbackground": true,
            "ticks": "",
            "zerolinecolor": "white"
           }
          },
          "shapedefaults": {
           "line": {
            "color": "#2a3f5f"
           }
          },
          "ternary": {
           "aaxis": {
            "gridcolor": "white",
            "linecolor": "white",
            "ticks": ""
           },
           "baxis": {
            "gridcolor": "white",
            "linecolor": "white",
            "ticks": ""
           },
           "bgcolor": "#E5ECF6",
           "caxis": {
            "gridcolor": "white",
            "linecolor": "white",
            "ticks": ""
           }
          },
          "title": {
           "x": 0.05
          },
          "xaxis": {
           "automargin": true,
           "gridcolor": "white",
           "linecolor": "white",
           "ticks": "",
           "title": {
            "standoff": 15
           },
           "zerolinecolor": "white",
           "zerolinewidth": 2
          },
          "yaxis": {
           "automargin": true,
           "gridcolor": "white",
           "linecolor": "white",
           "ticks": "",
           "title": {
            "standoff": 15
           },
           "zerolinecolor": "white",
           "zerolinewidth": 2
          }
         }
        },
        "title": {
         "text": "Weekly Death /%/ change"
        },
        "width": 800
       }
      }
     },
     "metadata": {},
     "output_type": "display_data"
    }
   ],
   "source": [
    "fig = go.Figure(data=[\n",
    "    go.Bar(x=continent_week_plots['Continent'], y=continent_week_plots['Weekly Death /%/ change'], text=continent_week_plots['Weekly Death /%/ change'])\n",
    "])\n",
    "# Change the bar mode\n",
    "fig.update_layout(title_text = 'Weekly Death /%/ change')\n",
    "fig.update_layout(height=500, width=800)\n",
    "fig.show()"
   ]
  },
  {
   "cell_type": "markdown",
   "metadata": {},
   "source": [
    "### Mối liên hệ giữa tỉ lệ ca mắc và tỉ lệ ca tử vong\n",
    "***"
   ]
  },
  {
   "cell_type": "code",
   "execution_count": 48,
   "metadata": {},
   "outputs": [
    {
     "data": {
      "application/vnd.plotly.v1+json": {
       "config": {
        "plotlyServerURL": "https://plot.ly"
       },
       "data": [
        {
         "hovertemplate": "Tot Cases/1M Pop=%{x}<br>Deaths/1M Pop=%{y}<extra></extra>",
         "legendgroup": "",
         "marker": {
          "color": "#636efa",
          "symbol": "circle"
         },
         "mode": "markers",
         "name": "",
         "orientation": "v",
         "showlegend": false,
         "type": "scatter",
         "x": [
          149429.81633073743,
          24746.197765339148,
          103065.07933113913,
          152068.5637325675,
          66772.23416889163,
          103564.67980082435,
          119779.95067350229,
          71668.53634560577,
          72420.16555915841,
          116598.05532347303,
          111176.82300960709,
          98289.25628771572,
          84275.41634412347,
          15333.843539612888,
          29765.20246901898,
          96086.06057363052,
          80212.32310958355,
          49974.59410685975,
          25380.768708997115,
          80443.47769138982,
          158001.76700918798,
          66660.12832831201,
          206009.0560683083,
          30441.681003041776,
          50196.38815225319,
          47219.28859713154,
          93618.59511689778,
          91427.01937250758,
          13719.55566264218,
          154927.47099937612,
          9442.623795584805,
          144272.89298734718,
          5666.14837874085,
          145145.24954035247,
          119037.71664496914,
          13068.145480904343,
          114331.12130836539,
          130412.57139321949,
          117459.31798076771,
          119346.65890250738,
          51003.72518886336,
          85083.85891336827,
          25321.772593049503,
          93807.59721533941,
          92589.98249960254,
          215921.12220138038,
          27516.66415478783,
          73777.59457314154,
          59872.074506850106,
          102003.26437978582,
          99724.79316568641,
          130419.38087198956,
          69963.53994876053,
          33683.76945842746,
          153256.37321415718,
          57802.2882494139,
          109937.25544282672,
          26302.565907720495,
          116798.46337341833,
          15452.57779313048,
          45505.34100562177,
          29289.304801403097,
          9534.88576283125,
          108510.24617617317,
          86848.61693679402,
          178733.68531347593,
          63836.83905792728,
          9089.418969842009,
          15315.139096294957,
          81879.04968422276,
          205404.3258405429,
          94819.99237617468,
          37093.477283892484,
          114756.25856341355,
          114170.64963140793,
          37336.17499611038,
          3125.828709887632,
          53434.73017247897,
          90940.69106838311,
          3442.5488225909153,
          114410.87802133869,
          57567.25468677452,
          155578.52907645245,
          85207.95646689626,
          45246.524151337515,
          51413.23848805229,
          4604.78691079124,
          138009.42547161216,
          86899.50233112954,
          168892.28702530288,
          104032.66431073502,
          1006.0902508867094,
          11002.21347208672,
          4695.688949857121,
          8321.82933192932,
          70010.84260052176,
          80757.68784301628,
          5678.473249210567,
          27486.00385154562,
          34432.58536447323,
          3918.242866684251,
          251678.54756627663,
          4674.701512714844,
          9306.514387746001,
          111546.31953152777,
          4095.5639415022797,
          49767.62268837455,
          2670.3194245483783,
          7051.208439093164,
          18337.489982678813,
          3897.0157748073684,
          7488.515503544156,
          68.80229963927569,
          166176.27759630975,
          30673.645631961706,
          141584.9841586791,
          4260.893485142675,
          10506.288740528731,
          52714.56467651834,
          1901.016148176105,
          3125.032437580335,
          2262.9340573595064,
          67993.51555141428,
          627.2105831240954,
          138035.73022077064,
          58009.827075832145,
          85729.80880695568,
          2678.1646510056967,
          40589.2714602709,
          148960.6932187072,
          162845.29655214158,
          120832.72039067758,
          1551.3885840402825,
          960.0073429317018,
          89748.4947719918,
          8180.268701704759,
          68056.27353681745,
          48087.97689189659,
          16270.346394452563,
          3853.849435262668,
          2256.5995158302067,
          75114.84196708634,
          422.79033807941454,
          3074.0372106538503,
          2192.338754969759,
          89669.80823092483,
          1977.3959789157595,
          236643.55158273052,
          1394.290429390458,
          57235.581790845245,
          10109.05498407212,
          17166.197357982808,
          74420.22477143646,
          1650.1397565756986,
          14640.763035685273,
          3322.3086245897694,
          53209.25100538626,
          105800.64015898378,
          107064.12955675731,
          843.7753796697788,
          2561.0974194186206,
          1736.9383657367327,
          232660.07116938796,
          696.9731102225668,
          152886.30218426103,
          738.2850785069874,
          34157.496737355425,
          9258.151259196131,
          13394.183963414824,
          70475.253371589,
          1123.125364849575,
          1642.1283650379094,
          42248.55009401127,
          2372.526219122254,
          2397.5216123513837,
          137278.76954681732,
          3976.3517634821633,
          325.73566444938905,
          2058.456661185429,
          217717.47568285264,
          277.2026244475482,
          110640.5267883867,
          3167.4869149475985,
          780.3717239077928,
          52102.77780580585,
          1114.6213519516923,
          84119.72694409947,
          177388.8879560757,
          92809.22765436882,
          50136.3941688929,
          323.526612050628,
          105561.3665203178,
          5052.478874191657,
          126086.34000903029,
          41843.046223939564,
          100146.09072053386,
          16591.08186085325,
          97445.07395554018,
          78032.44651617238,
          78694.15061143813,
          113178.12785633636,
          51882.002009879245,
          91716.17022670992,
          3370.4760154812216,
          161537.4645372197,
          93465.28136900005,
          27484.361350697338,
          null,
          41077.31817648516,
          22588.402254898097,
          116.32737847943498,
          12513.655775151456,
          8807.045636509207,
          33582.08955223881,
          28.136835056245534,
          16.175961181390527,
          null,
          439.15713199024447,
          18.9070466562888,
          66.93616441434442,
          14.978249442060207,
          327.71535580524346,
          8.566159509232484,
          9.31104888965742
         ],
         "xaxis": "x",
         "y": [
          2420.651518219934,
          336.98068285750617,
          2866.3604655906192,
          2126.480790843383,
          1913.4984147920457,
          905.3333346190382,
          1824.7564301002685,
          1521.088006012835,
          1228.0377443460015,
          2547.397402219359,
          1884.152444518404,
          2491.6406842902943,
          2222.808549585845,
          518.1606885264233,
          2252.656608467794,
          2252.9906053381774,
          2019.40318563408,
          1489.6463750593773,
          439.7616109335797,
          927.2984201887833,
          1140.556600829832,
          5987.2635933224865,
          3123.6664853533566,
          298.21532378366,
          575.1031482152238,
          778.7540463872955,
          2985.7607267244002,
          1987.0839121195008,
          145.82426617232667,
          2326.559775204126,
          167.6089713003171,
          879.3618455316932,
          126.68679768450427,
          1363.188790082855,
          1485.412474983097,
          263.6358319301259,
          1822.6569701774488,
          1399.5747363390162,
          3649.3777991735096,
          1328.5027607336656,
          667.2527165464692,
          733.9927936790755,
          393.89400350731916,
          1131.873425894138,
          1784.8619443376754,
          3081.7654915807466,
          386.06840684692355,
          213.50339121144185,
          2116.8267101028255,
          4186.506702344838,
          1291.755369877248,
          2694.2500457328406,
          544.0957769500898,
          868.7577533317693,
          2731.227037910158,
          772.1825211447705,
          1416.719706566966,
          669.8105275600647,
          1138.028321115108,
          248.45837538672845,
          1614.2757810935748,
          1849.5453061758212,
          348.2199993574036,
          1671.0940417340698,
          503.30464692353223,
          2553.4622713588074,
          2270.5423760462977,
          73.86646863855499,
          182.88421919454888,
          862.4995174752047,
          2538.6086579193143,
          565.3654562738235,
          382.6335970657365,
          1756.9921917505667,
          599.3990417539156,
          1027.8662819817353,
          57.01025263726196,
          782.8679884915439,
          2286.5572279579255,
          196.50289078759735,
          2572.1106457863534,
          777.3435263046586,
          780.7369987647265,
          3903.1266837077364,
          125.52296203280548,
          198.87423785833164,
          96.2156022524029,
          2287.0358058344227,
          217.6331435307753,
          1366.648315582416,
          3659.7652324668725,
          13.958213344809097,
          191.85731588270667,
          135.46207932546417,
          78.54146358233882,
          1081.7492702325271,
          999.8948256151417,
          41.36740279273024,
          412.4348458846886,
          245.18388791593696,
          182.02764382933506,
          3691.16726029472,
          59.723018386271775,
          310.5812582582603,
          491.4466155354514,
          37.99957146502897,
          1371.1168520976828,
          68.11757968291374,
          173.24132320237786,
          578.8380863039932,
          65.6162228751064,
          100.15656088334667,
          3.2209570058543937,
          455.324447029601,
          806.6132360612477,
          1373.6802988571585,
          108.55378852351863,
          26.06773690854686,
          1584.400387823985,
          50.54698308879652,
          116.29446566923191,
          25.820982466749843,
          426.0888643669504,
          11.877163840922337,
          1867.53761310703,
          769.263407810082,
          1968.605704411942,
          152.92491818530686,
          1060.0930542305066,
          1060.550074432255,
          2245.609787469074,
          1906.8550744410916,
          33.77799152891872,
          69.9373377661646,
          1056.3993141059525,
          173.77193563395093,
          620.4370234913348,
          1264.5925100695692,
          121.65870937560142,
          60.37418874224597,
          28.396164517175123,
          1419.5013498046392,
          11.759563811206593,
          28.40648155415685,
          64.19187381492102,
          816.8199403314522,
          12.804010756959595,
          1277.1851817721054,
          80.46003426632562,
          1732.711858028375,
          305.9693230145179,
          380.5720437110974,
          655.6424232543964,
          3.066113722642096,
          90.09408185268879,
          62.110447985426475,
          101.627491688323,
          1085.8294282712072,
          593.2665263048619,
          29.114982799896946,
          31.140830818280943,
          12.599026461032748,
          1704.5234436538785,
          35.51363882573076,
          1625.2615114932057,
          13.172561642901622,
          220.03320149596803,
          118.8857043345611,
          185.43613757916452,
          1522.7029600727187,
          11.686735046075613,
          28.08715404340296,
          959.8577564355389,
          20.407524112702067,
          8.739186684449674,
          772.0346698592997,
          136.088436337045,
          63.47424041904016,
          16.848633887876588,
          2937.5707880325276,
          10.255537226690775,
          102.62111429426605,
          72.97078534895522,
          14.742549825467007,
          1765.7683110173853,
          54.911764393162,
          551.7279565894906,
          2743.170408180398,
          1711.045467228406,
          672.3565938376499,
          10.487560328646213,
          1721.4300000983674,
          167.82333217890016,
          1632.5418770313486,
          1180.829897055855,
          1414.0138876363965,
          249.9029919135583,
          908.2259320128016,
          264.62026991267527,
          624.4705575707552,
          828.0015054572826,
          521.0798049672729,
          1245.1959311116418,
          3.8280149445703433,
          604.847420037731,
          220.95811198345163,
          0,
          null,
          638.7777183902801,
          0,
          0,
          0,
          200.16012810248196,
          0,
          0,
          1.6175961181390528,
          null,
          0,
          3.1511744427148,
          0,
          0,
          0,
          0,
          0
         ],
         "yaxis": "y"
        }
       ],
       "layout": {
        "height": 500,
        "legend": {
         "tracegroupgap": 0
        },
        "margin": {
         "t": 60
        },
        "template": {
         "data": {
          "bar": [
           {
            "error_x": {
             "color": "#2a3f5f"
            },
            "error_y": {
             "color": "#2a3f5f"
            },
            "marker": {
             "line": {
              "color": "#E5ECF6",
              "width": 0.5
             },
             "pattern": {
              "fillmode": "overlay",
              "size": 10,
              "solidity": 0.2
             }
            },
            "type": "bar"
           }
          ],
          "barpolar": [
           {
            "marker": {
             "line": {
              "color": "#E5ECF6",
              "width": 0.5
             },
             "pattern": {
              "fillmode": "overlay",
              "size": 10,
              "solidity": 0.2
             }
            },
            "type": "barpolar"
           }
          ],
          "carpet": [
           {
            "aaxis": {
             "endlinecolor": "#2a3f5f",
             "gridcolor": "white",
             "linecolor": "white",
             "minorgridcolor": "white",
             "startlinecolor": "#2a3f5f"
            },
            "baxis": {
             "endlinecolor": "#2a3f5f",
             "gridcolor": "white",
             "linecolor": "white",
             "minorgridcolor": "white",
             "startlinecolor": "#2a3f5f"
            },
            "type": "carpet"
           }
          ],
          "choropleth": [
           {
            "colorbar": {
             "outlinewidth": 0,
             "ticks": ""
            },
            "type": "choropleth"
           }
          ],
          "contour": [
           {
            "colorbar": {
             "outlinewidth": 0,
             "ticks": ""
            },
            "colorscale": [
             [
              0,
              "#0d0887"
             ],
             [
              0.1111111111111111,
              "#46039f"
             ],
             [
              0.2222222222222222,
              "#7201a8"
             ],
             [
              0.3333333333333333,
              "#9c179e"
             ],
             [
              0.4444444444444444,
              "#bd3786"
             ],
             [
              0.5555555555555556,
              "#d8576b"
             ],
             [
              0.6666666666666666,
              "#ed7953"
             ],
             [
              0.7777777777777778,
              "#fb9f3a"
             ],
             [
              0.8888888888888888,
              "#fdca26"
             ],
             [
              1,
              "#f0f921"
             ]
            ],
            "type": "contour"
           }
          ],
          "contourcarpet": [
           {
            "colorbar": {
             "outlinewidth": 0,
             "ticks": ""
            },
            "type": "contourcarpet"
           }
          ],
          "heatmap": [
           {
            "colorbar": {
             "outlinewidth": 0,
             "ticks": ""
            },
            "colorscale": [
             [
              0,
              "#0d0887"
             ],
             [
              0.1111111111111111,
              "#46039f"
             ],
             [
              0.2222222222222222,
              "#7201a8"
             ],
             [
              0.3333333333333333,
              "#9c179e"
             ],
             [
              0.4444444444444444,
              "#bd3786"
             ],
             [
              0.5555555555555556,
              "#d8576b"
             ],
             [
              0.6666666666666666,
              "#ed7953"
             ],
             [
              0.7777777777777778,
              "#fb9f3a"
             ],
             [
              0.8888888888888888,
              "#fdca26"
             ],
             [
              1,
              "#f0f921"
             ]
            ],
            "type": "heatmap"
           }
          ],
          "heatmapgl": [
           {
            "colorbar": {
             "outlinewidth": 0,
             "ticks": ""
            },
            "colorscale": [
             [
              0,
              "#0d0887"
             ],
             [
              0.1111111111111111,
              "#46039f"
             ],
             [
              0.2222222222222222,
              "#7201a8"
             ],
             [
              0.3333333333333333,
              "#9c179e"
             ],
             [
              0.4444444444444444,
              "#bd3786"
             ],
             [
              0.5555555555555556,
              "#d8576b"
             ],
             [
              0.6666666666666666,
              "#ed7953"
             ],
             [
              0.7777777777777778,
              "#fb9f3a"
             ],
             [
              0.8888888888888888,
              "#fdca26"
             ],
             [
              1,
              "#f0f921"
             ]
            ],
            "type": "heatmapgl"
           }
          ],
          "histogram": [
           {
            "marker": {
             "pattern": {
              "fillmode": "overlay",
              "size": 10,
              "solidity": 0.2
             }
            },
            "type": "histogram"
           }
          ],
          "histogram2d": [
           {
            "colorbar": {
             "outlinewidth": 0,
             "ticks": ""
            },
            "colorscale": [
             [
              0,
              "#0d0887"
             ],
             [
              0.1111111111111111,
              "#46039f"
             ],
             [
              0.2222222222222222,
              "#7201a8"
             ],
             [
              0.3333333333333333,
              "#9c179e"
             ],
             [
              0.4444444444444444,
              "#bd3786"
             ],
             [
              0.5555555555555556,
              "#d8576b"
             ],
             [
              0.6666666666666666,
              "#ed7953"
             ],
             [
              0.7777777777777778,
              "#fb9f3a"
             ],
             [
              0.8888888888888888,
              "#fdca26"
             ],
             [
              1,
              "#f0f921"
             ]
            ],
            "type": "histogram2d"
           }
          ],
          "histogram2dcontour": [
           {
            "colorbar": {
             "outlinewidth": 0,
             "ticks": ""
            },
            "colorscale": [
             [
              0,
              "#0d0887"
             ],
             [
              0.1111111111111111,
              "#46039f"
             ],
             [
              0.2222222222222222,
              "#7201a8"
             ],
             [
              0.3333333333333333,
              "#9c179e"
             ],
             [
              0.4444444444444444,
              "#bd3786"
             ],
             [
              0.5555555555555556,
              "#d8576b"
             ],
             [
              0.6666666666666666,
              "#ed7953"
             ],
             [
              0.7777777777777778,
              "#fb9f3a"
             ],
             [
              0.8888888888888888,
              "#fdca26"
             ],
             [
              1,
              "#f0f921"
             ]
            ],
            "type": "histogram2dcontour"
           }
          ],
          "mesh3d": [
           {
            "colorbar": {
             "outlinewidth": 0,
             "ticks": ""
            },
            "type": "mesh3d"
           }
          ],
          "parcoords": [
           {
            "line": {
             "colorbar": {
              "outlinewidth": 0,
              "ticks": ""
             }
            },
            "type": "parcoords"
           }
          ],
          "pie": [
           {
            "automargin": true,
            "type": "pie"
           }
          ],
          "scatter": [
           {
            "marker": {
             "colorbar": {
              "outlinewidth": 0,
              "ticks": ""
             }
            },
            "type": "scatter"
           }
          ],
          "scatter3d": [
           {
            "line": {
             "colorbar": {
              "outlinewidth": 0,
              "ticks": ""
             }
            },
            "marker": {
             "colorbar": {
              "outlinewidth": 0,
              "ticks": ""
             }
            },
            "type": "scatter3d"
           }
          ],
          "scattercarpet": [
           {
            "marker": {
             "colorbar": {
              "outlinewidth": 0,
              "ticks": ""
             }
            },
            "type": "scattercarpet"
           }
          ],
          "scattergeo": [
           {
            "marker": {
             "colorbar": {
              "outlinewidth": 0,
              "ticks": ""
             }
            },
            "type": "scattergeo"
           }
          ],
          "scattergl": [
           {
            "marker": {
             "colorbar": {
              "outlinewidth": 0,
              "ticks": ""
             }
            },
            "type": "scattergl"
           }
          ],
          "scattermapbox": [
           {
            "marker": {
             "colorbar": {
              "outlinewidth": 0,
              "ticks": ""
             }
            },
            "type": "scattermapbox"
           }
          ],
          "scatterpolar": [
           {
            "marker": {
             "colorbar": {
              "outlinewidth": 0,
              "ticks": ""
             }
            },
            "type": "scatterpolar"
           }
          ],
          "scatterpolargl": [
           {
            "marker": {
             "colorbar": {
              "outlinewidth": 0,
              "ticks": ""
             }
            },
            "type": "scatterpolargl"
           }
          ],
          "scatterternary": [
           {
            "marker": {
             "colorbar": {
              "outlinewidth": 0,
              "ticks": ""
             }
            },
            "type": "scatterternary"
           }
          ],
          "surface": [
           {
            "colorbar": {
             "outlinewidth": 0,
             "ticks": ""
            },
            "colorscale": [
             [
              0,
              "#0d0887"
             ],
             [
              0.1111111111111111,
              "#46039f"
             ],
             [
              0.2222222222222222,
              "#7201a8"
             ],
             [
              0.3333333333333333,
              "#9c179e"
             ],
             [
              0.4444444444444444,
              "#bd3786"
             ],
             [
              0.5555555555555556,
              "#d8576b"
             ],
             [
              0.6666666666666666,
              "#ed7953"
             ],
             [
              0.7777777777777778,
              "#fb9f3a"
             ],
             [
              0.8888888888888888,
              "#fdca26"
             ],
             [
              1,
              "#f0f921"
             ]
            ],
            "type": "surface"
           }
          ],
          "table": [
           {
            "cells": {
             "fill": {
              "color": "#EBF0F8"
             },
             "line": {
              "color": "white"
             }
            },
            "header": {
             "fill": {
              "color": "#C8D4E3"
             },
             "line": {
              "color": "white"
             }
            },
            "type": "table"
           }
          ]
         },
         "layout": {
          "annotationdefaults": {
           "arrowcolor": "#2a3f5f",
           "arrowhead": 0,
           "arrowwidth": 1
          },
          "autotypenumbers": "strict",
          "coloraxis": {
           "colorbar": {
            "outlinewidth": 0,
            "ticks": ""
           }
          },
          "colorscale": {
           "diverging": [
            [
             0,
             "#8e0152"
            ],
            [
             0.1,
             "#c51b7d"
            ],
            [
             0.2,
             "#de77ae"
            ],
            [
             0.3,
             "#f1b6da"
            ],
            [
             0.4,
             "#fde0ef"
            ],
            [
             0.5,
             "#f7f7f7"
            ],
            [
             0.6,
             "#e6f5d0"
            ],
            [
             0.7,
             "#b8e186"
            ],
            [
             0.8,
             "#7fbc41"
            ],
            [
             0.9,
             "#4d9221"
            ],
            [
             1,
             "#276419"
            ]
           ],
           "sequential": [
            [
             0,
             "#0d0887"
            ],
            [
             0.1111111111111111,
             "#46039f"
            ],
            [
             0.2222222222222222,
             "#7201a8"
            ],
            [
             0.3333333333333333,
             "#9c179e"
            ],
            [
             0.4444444444444444,
             "#bd3786"
            ],
            [
             0.5555555555555556,
             "#d8576b"
            ],
            [
             0.6666666666666666,
             "#ed7953"
            ],
            [
             0.7777777777777778,
             "#fb9f3a"
            ],
            [
             0.8888888888888888,
             "#fdca26"
            ],
            [
             1,
             "#f0f921"
            ]
           ],
           "sequentialminus": [
            [
             0,
             "#0d0887"
            ],
            [
             0.1111111111111111,
             "#46039f"
            ],
            [
             0.2222222222222222,
             "#7201a8"
            ],
            [
             0.3333333333333333,
             "#9c179e"
            ],
            [
             0.4444444444444444,
             "#bd3786"
            ],
            [
             0.5555555555555556,
             "#d8576b"
            ],
            [
             0.6666666666666666,
             "#ed7953"
            ],
            [
             0.7777777777777778,
             "#fb9f3a"
            ],
            [
             0.8888888888888888,
             "#fdca26"
            ],
            [
             1,
             "#f0f921"
            ]
           ]
          },
          "colorway": [
           "#636efa",
           "#EF553B",
           "#00cc96",
           "#ab63fa",
           "#FFA15A",
           "#19d3f3",
           "#FF6692",
           "#B6E880",
           "#FF97FF",
           "#FECB52"
          ],
          "font": {
           "color": "#2a3f5f"
          },
          "geo": {
           "bgcolor": "white",
           "lakecolor": "white",
           "landcolor": "#E5ECF6",
           "showlakes": true,
           "showland": true,
           "subunitcolor": "white"
          },
          "hoverlabel": {
           "align": "left"
          },
          "hovermode": "closest",
          "mapbox": {
           "style": "light"
          },
          "paper_bgcolor": "white",
          "plot_bgcolor": "#E5ECF6",
          "polar": {
           "angularaxis": {
            "gridcolor": "white",
            "linecolor": "white",
            "ticks": ""
           },
           "bgcolor": "#E5ECF6",
           "radialaxis": {
            "gridcolor": "white",
            "linecolor": "white",
            "ticks": ""
           }
          },
          "scene": {
           "xaxis": {
            "backgroundcolor": "#E5ECF6",
            "gridcolor": "white",
            "gridwidth": 2,
            "linecolor": "white",
            "showbackground": true,
            "ticks": "",
            "zerolinecolor": "white"
           },
           "yaxis": {
            "backgroundcolor": "#E5ECF6",
            "gridcolor": "white",
            "gridwidth": 2,
            "linecolor": "white",
            "showbackground": true,
            "ticks": "",
            "zerolinecolor": "white"
           },
           "zaxis": {
            "backgroundcolor": "#E5ECF6",
            "gridcolor": "white",
            "gridwidth": 2,
            "linecolor": "white",
            "showbackground": true,
            "ticks": "",
            "zerolinecolor": "white"
           }
          },
          "shapedefaults": {
           "line": {
            "color": "#2a3f5f"
           }
          },
          "ternary": {
           "aaxis": {
            "gridcolor": "white",
            "linecolor": "white",
            "ticks": ""
           },
           "baxis": {
            "gridcolor": "white",
            "linecolor": "white",
            "ticks": ""
           },
           "bgcolor": "#E5ECF6",
           "caxis": {
            "gridcolor": "white",
            "linecolor": "white",
            "ticks": ""
           }
          },
          "title": {
           "x": 0.05
          },
          "xaxis": {
           "automargin": true,
           "gridcolor": "white",
           "linecolor": "white",
           "ticks": "",
           "title": {
            "standoff": 15
           },
           "zerolinecolor": "white",
           "zerolinewidth": 2
          },
          "yaxis": {
           "automargin": true,
           "gridcolor": "white",
           "linecolor": "white",
           "ticks": "",
           "title": {
            "standoff": 15
           },
           "zerolinecolor": "white",
           "zerolinewidth": 2
          }
         }
        },
        "width": 800,
        "xaxis": {
         "anchor": "y",
         "domain": [
          0,
          1
         ],
         "title": {
          "text": "Tot Cases/1M Pop"
         }
        },
        "yaxis": {
         "anchor": "x",
         "domain": [
          0,
          1
         ],
         "title": {
          "text": "Deaths/1M Pop"
         }
        }
       }
      }
     },
     "metadata": {},
     "output_type": "display_data"
    }
   ],
   "source": [
    "scatter_day = prepare_data_for_graph(country_day_result, day_header[0:16])\n",
    "fig = px.scatter(scatter_day, x=scatter_day['Tot Cases/1M Pop'], y=scatter_day['Deaths/1M Pop'])\n",
    "fig.update_layout(height=500, width=800)\n",
    "fig.show()"
   ]
  },
  {
   "cell_type": "code",
   "execution_count": 49,
   "metadata": {},
   "outputs": [
    {
     "data": {
      "application/vnd.plotly.v1+json": {
       "config": {
        "plotlyServerURL": "https://plot.ly"
       },
       "data": [
        {
         "hovertemplate": "Cases in the last 7 days/1M pop=%{x}<br>Deaths in the last 7 days/1M pop=%{y}<extra></extra>",
         "legendgroup": "",
         "marker": {
          "color": "#636efa",
          "symbol": "circle"
         },
         "mode": "markers",
         "name": "",
         "orientation": "v",
         "showlegend": false,
         "type": "scatter",
         "x": [
          2144.577,
          4715.416,
          4653.76,
          4539.066,
          1583.578,
          4328.816,
          1810.779,
          8864.705,
          10921.625,
          9301.67,
          1678.413,
          993.719,
          1740.223,
          1164.202,
          6854.919,
          289.618,
          11259.258,
          43.287,
          1211.442,
          6078.956,
          4030.278,
          4462.958,
          1060.655,
          491.479,
          6816.83,
          3155.438,
          626.08,
          5185.1,
          6812.499,
          6699.944,
          299.128,
          2371.412,
          4291.928,
          520.569,
          133.734,
          303.759,
          310.743,
          2008.207,
          1527.543,
          679.168,
          6101.919,
          1267.776,
          4471.027,
          1579.81,
          1032.672,
          380.378,
          476.894,
          1610.301,
          847.869,
          254.889,
          1119.715,
          596.81,
          1154.169,
          61.323,
          239.633,
          264.861,
          333.197,
          3554.887,
          2648.091,
          113.811,
          1362.366,
          149.077,
          950.856,
          397.276,
          2916.652,
          2593.748,
          487.976,
          27.449,
          51.811,
          939.705,
          4162.458,
          11.612,
          774.712,
          1100.203,
          121.93,
          756.966,
          410.988,
          2366.149,
          6.299,
          57.357,
          155.685,
          9.932,
          2535.901,
          451.746,
          8895.928,
          348.858,
          43.969,
          31.629,
          29.28,
          16761.147,
          98.792,
          388.56,
          3671.707,
          820.53,
          8.007,
          186.921,
          76.877,
          22.886,
          11837.419,
          9034.141,
          600.104,
          6.02,
          1348.12,
          25.362,
          1579.351,
          2443.296,
          36.121,
          126.54,
          1835.07,
          236.337,
          27.324,
          2.483,
          1411.231,
          1262.536,
          0.353,
          55.396,
          8.763,
          41.636,
          57.321,
          8365.901,
          40.753,
          12.307,
          162.448,
          488.658,
          10082.541,
          78.78,
          54.96,
          35.838,
          12.879,
          3426.901,
          100.685,
          13.306,
          897.646,
          424.152,
          4392.901,
          137.765,
          5.401,
          6.098,
          2.183,
          4.268,
          44.49,
          5671.527,
          5553.433,
          77.81,
          9.913,
          8.841,
          2284.022,
          3960.746,
          5682.887,
          338.256,
          497.562,
          38.713,
          23.287,
          1173.042,
          1103.703,
          4.248,
          3.351,
          4.165,
          15.141,
          228.298,
          155.864,
          533.172,
          4.235,
          6.264,
          5265.236,
          3.884,
          230.346,
          2.68,
          346.275,
          11.906,
          7.364,
          27.233,
          1441.772,
          49.108,
          3.469,
          2.457,
          3.603,
          2.245,
          94.947,
          1.235,
          40.852,
          2.118,
          4.483,
          6.87,
          605.984,
          527.886,
          338.983,
          13.619,
          176.574,
          1.034,
          1911.714,
          0.145,
          821.318,
          148.876,
          177.381,
          60.554,
          4.431,
          3.966,
          1103.753,
          1.966,
          1.194,
          0.574,
          0.147,
          201.613,
          8.891,
          1.276,
          0.122,
          0,
          0
         ],
         "xaxis": "x",
         "y": [
          22.282,
          26.056,
          12.135,
          9.789,
          58.367,
          69.811,
          16.162,
          20.42,
          67.428,
          23.925,
          8.569,
          13.977,
          72.949,
          2.799,
          130.489,
          6.334,
          101.036,
          1.515,
          3.591,
          44.935,
          61.447,
          9.606,
          9.254,
          3.383,
          10.964,
          20.295,
          5.922,
          12.712,
          112.8,
          104.82,
          6.676,
          11.818,
          3.466,
          3.271,
          9.896,
          6.64,
          2.555,
          109.256,
          37.872,
          9.716,
          55.306,
          11.435,
          56.595,
          9.732,
          15.58,
          2.16,
          38.101,
          9.184,
          0.785,
          7.494,
          6.464,
          5.126,
          9.804,
          3.616,
          7.242,
          5.341,
          0.33,
          104.555,
          65.179,
          2.216,
          71.04,
          1.942,
          36.811,
          1.608,
          5.738,
          24.1,
          7.852,
          9.189,
          0.965,
          56.88,
          21.858,
          0.256,
          7.753,
          45.122,
          3.154,
          7.309,
          3.985,
          3.317,
          0.213,
          0.602,
          0.727,
          0.138,
          70.044,
          1.432,
          5.677,
          2.72,
          0.615,
          1.104,
          1,
          12.913,
          3.168,
          0,
          45.158,
          0,
          0.504,
          0.2,
          0.795,
          0.373,
          44.895,
          0,
          0,
          0.048,
          10.828,
          0.174,
          0,
          0,
          2.099,
          3.876,
          0,
          0.384,
          0.617,
          0.019,
          24.01,
          22.064,
          0,
          0.544,
          0.036,
          2.069,
          2.067,
          0,
          0.199,
          0.031,
          1.24,
          23.991,
          26.121,
          1.866,
          2.546,
          0.987,
          0.473,
          20.158,
          7.384,
          0.23,
          6.458,
          10.099,
          0,
          0,
          0.1,
          0.309,
          0.032,
          0.042,
          0,
          29.694,
          0,
          0.435,
          1.701,
          0,
          13.843,
          0,
          0,
          2.255,
          10.366,
          0.277,
          0.875,
          0,
          17.946,
          0.073,
          0.058,
          0.275,
          0.148,
          60.211,
          3.542,
          6.059,
          0.101,
          0.075,
          0,
          0.888,
          0,
          0,
          10.821,
          0,
          0,
          0.462,
          0,
          0,
          0,
          0.351,
          0,
          0.058,
          4.997,
          0.26,
          1.104,
          0.242,
          0,
          0,
          0,
          0,
          0,
          1.362,
          0,
          0,
          0,
          0,
          0,
          0,
          25.34,
          0,
          0,
          0.992,
          0,
          0.492,
          0,
          0,
          0,
          0,
          0,
          0,
          0,
          1.837,
          0
         ],
         "yaxis": "y"
        }
       ],
       "layout": {
        "height": 500,
        "legend": {
         "tracegroupgap": 0
        },
        "margin": {
         "t": 60
        },
        "template": {
         "data": {
          "bar": [
           {
            "error_x": {
             "color": "#2a3f5f"
            },
            "error_y": {
             "color": "#2a3f5f"
            },
            "marker": {
             "line": {
              "color": "#E5ECF6",
              "width": 0.5
             },
             "pattern": {
              "fillmode": "overlay",
              "size": 10,
              "solidity": 0.2
             }
            },
            "type": "bar"
           }
          ],
          "barpolar": [
           {
            "marker": {
             "line": {
              "color": "#E5ECF6",
              "width": 0.5
             },
             "pattern": {
              "fillmode": "overlay",
              "size": 10,
              "solidity": 0.2
             }
            },
            "type": "barpolar"
           }
          ],
          "carpet": [
           {
            "aaxis": {
             "endlinecolor": "#2a3f5f",
             "gridcolor": "white",
             "linecolor": "white",
             "minorgridcolor": "white",
             "startlinecolor": "#2a3f5f"
            },
            "baxis": {
             "endlinecolor": "#2a3f5f",
             "gridcolor": "white",
             "linecolor": "white",
             "minorgridcolor": "white",
             "startlinecolor": "#2a3f5f"
            },
            "type": "carpet"
           }
          ],
          "choropleth": [
           {
            "colorbar": {
             "outlinewidth": 0,
             "ticks": ""
            },
            "type": "choropleth"
           }
          ],
          "contour": [
           {
            "colorbar": {
             "outlinewidth": 0,
             "ticks": ""
            },
            "colorscale": [
             [
              0,
              "#0d0887"
             ],
             [
              0.1111111111111111,
              "#46039f"
             ],
             [
              0.2222222222222222,
              "#7201a8"
             ],
             [
              0.3333333333333333,
              "#9c179e"
             ],
             [
              0.4444444444444444,
              "#bd3786"
             ],
             [
              0.5555555555555556,
              "#d8576b"
             ],
             [
              0.6666666666666666,
              "#ed7953"
             ],
             [
              0.7777777777777778,
              "#fb9f3a"
             ],
             [
              0.8888888888888888,
              "#fdca26"
             ],
             [
              1,
              "#f0f921"
             ]
            ],
            "type": "contour"
           }
          ],
          "contourcarpet": [
           {
            "colorbar": {
             "outlinewidth": 0,
             "ticks": ""
            },
            "type": "contourcarpet"
           }
          ],
          "heatmap": [
           {
            "colorbar": {
             "outlinewidth": 0,
             "ticks": ""
            },
            "colorscale": [
             [
              0,
              "#0d0887"
             ],
             [
              0.1111111111111111,
              "#46039f"
             ],
             [
              0.2222222222222222,
              "#7201a8"
             ],
             [
              0.3333333333333333,
              "#9c179e"
             ],
             [
              0.4444444444444444,
              "#bd3786"
             ],
             [
              0.5555555555555556,
              "#d8576b"
             ],
             [
              0.6666666666666666,
              "#ed7953"
             ],
             [
              0.7777777777777778,
              "#fb9f3a"
             ],
             [
              0.8888888888888888,
              "#fdca26"
             ],
             [
              1,
              "#f0f921"
             ]
            ],
            "type": "heatmap"
           }
          ],
          "heatmapgl": [
           {
            "colorbar": {
             "outlinewidth": 0,
             "ticks": ""
            },
            "colorscale": [
             [
              0,
              "#0d0887"
             ],
             [
              0.1111111111111111,
              "#46039f"
             ],
             [
              0.2222222222222222,
              "#7201a8"
             ],
             [
              0.3333333333333333,
              "#9c179e"
             ],
             [
              0.4444444444444444,
              "#bd3786"
             ],
             [
              0.5555555555555556,
              "#d8576b"
             ],
             [
              0.6666666666666666,
              "#ed7953"
             ],
             [
              0.7777777777777778,
              "#fb9f3a"
             ],
             [
              0.8888888888888888,
              "#fdca26"
             ],
             [
              1,
              "#f0f921"
             ]
            ],
            "type": "heatmapgl"
           }
          ],
          "histogram": [
           {
            "marker": {
             "pattern": {
              "fillmode": "overlay",
              "size": 10,
              "solidity": 0.2
             }
            },
            "type": "histogram"
           }
          ],
          "histogram2d": [
           {
            "colorbar": {
             "outlinewidth": 0,
             "ticks": ""
            },
            "colorscale": [
             [
              0,
              "#0d0887"
             ],
             [
              0.1111111111111111,
              "#46039f"
             ],
             [
              0.2222222222222222,
              "#7201a8"
             ],
             [
              0.3333333333333333,
              "#9c179e"
             ],
             [
              0.4444444444444444,
              "#bd3786"
             ],
             [
              0.5555555555555556,
              "#d8576b"
             ],
             [
              0.6666666666666666,
              "#ed7953"
             ],
             [
              0.7777777777777778,
              "#fb9f3a"
             ],
             [
              0.8888888888888888,
              "#fdca26"
             ],
             [
              1,
              "#f0f921"
             ]
            ],
            "type": "histogram2d"
           }
          ],
          "histogram2dcontour": [
           {
            "colorbar": {
             "outlinewidth": 0,
             "ticks": ""
            },
            "colorscale": [
             [
              0,
              "#0d0887"
             ],
             [
              0.1111111111111111,
              "#46039f"
             ],
             [
              0.2222222222222222,
              "#7201a8"
             ],
             [
              0.3333333333333333,
              "#9c179e"
             ],
             [
              0.4444444444444444,
              "#bd3786"
             ],
             [
              0.5555555555555556,
              "#d8576b"
             ],
             [
              0.6666666666666666,
              "#ed7953"
             ],
             [
              0.7777777777777778,
              "#fb9f3a"
             ],
             [
              0.8888888888888888,
              "#fdca26"
             ],
             [
              1,
              "#f0f921"
             ]
            ],
            "type": "histogram2dcontour"
           }
          ],
          "mesh3d": [
           {
            "colorbar": {
             "outlinewidth": 0,
             "ticks": ""
            },
            "type": "mesh3d"
           }
          ],
          "parcoords": [
           {
            "line": {
             "colorbar": {
              "outlinewidth": 0,
              "ticks": ""
             }
            },
            "type": "parcoords"
           }
          ],
          "pie": [
           {
            "automargin": true,
            "type": "pie"
           }
          ],
          "scatter": [
           {
            "marker": {
             "colorbar": {
              "outlinewidth": 0,
              "ticks": ""
             }
            },
            "type": "scatter"
           }
          ],
          "scatter3d": [
           {
            "line": {
             "colorbar": {
              "outlinewidth": 0,
              "ticks": ""
             }
            },
            "marker": {
             "colorbar": {
              "outlinewidth": 0,
              "ticks": ""
             }
            },
            "type": "scatter3d"
           }
          ],
          "scattercarpet": [
           {
            "marker": {
             "colorbar": {
              "outlinewidth": 0,
              "ticks": ""
             }
            },
            "type": "scattercarpet"
           }
          ],
          "scattergeo": [
           {
            "marker": {
             "colorbar": {
              "outlinewidth": 0,
              "ticks": ""
             }
            },
            "type": "scattergeo"
           }
          ],
          "scattergl": [
           {
            "marker": {
             "colorbar": {
              "outlinewidth": 0,
              "ticks": ""
             }
            },
            "type": "scattergl"
           }
          ],
          "scattermapbox": [
           {
            "marker": {
             "colorbar": {
              "outlinewidth": 0,
              "ticks": ""
             }
            },
            "type": "scattermapbox"
           }
          ],
          "scatterpolar": [
           {
            "marker": {
             "colorbar": {
              "outlinewidth": 0,
              "ticks": ""
             }
            },
            "type": "scatterpolar"
           }
          ],
          "scatterpolargl": [
           {
            "marker": {
             "colorbar": {
              "outlinewidth": 0,
              "ticks": ""
             }
            },
            "type": "scatterpolargl"
           }
          ],
          "scatterternary": [
           {
            "marker": {
             "colorbar": {
              "outlinewidth": 0,
              "ticks": ""
             }
            },
            "type": "scatterternary"
           }
          ],
          "surface": [
           {
            "colorbar": {
             "outlinewidth": 0,
             "ticks": ""
            },
            "colorscale": [
             [
              0,
              "#0d0887"
             ],
             [
              0.1111111111111111,
              "#46039f"
             ],
             [
              0.2222222222222222,
              "#7201a8"
             ],
             [
              0.3333333333333333,
              "#9c179e"
             ],
             [
              0.4444444444444444,
              "#bd3786"
             ],
             [
              0.5555555555555556,
              "#d8576b"
             ],
             [
              0.6666666666666666,
              "#ed7953"
             ],
             [
              0.7777777777777778,
              "#fb9f3a"
             ],
             [
              0.8888888888888888,
              "#fdca26"
             ],
             [
              1,
              "#f0f921"
             ]
            ],
            "type": "surface"
           }
          ],
          "table": [
           {
            "cells": {
             "fill": {
              "color": "#EBF0F8"
             },
             "line": {
              "color": "white"
             }
            },
            "header": {
             "fill": {
              "color": "#C8D4E3"
             },
             "line": {
              "color": "white"
             }
            },
            "type": "table"
           }
          ]
         },
         "layout": {
          "annotationdefaults": {
           "arrowcolor": "#2a3f5f",
           "arrowhead": 0,
           "arrowwidth": 1
          },
          "autotypenumbers": "strict",
          "coloraxis": {
           "colorbar": {
            "outlinewidth": 0,
            "ticks": ""
           }
          },
          "colorscale": {
           "diverging": [
            [
             0,
             "#8e0152"
            ],
            [
             0.1,
             "#c51b7d"
            ],
            [
             0.2,
             "#de77ae"
            ],
            [
             0.3,
             "#f1b6da"
            ],
            [
             0.4,
             "#fde0ef"
            ],
            [
             0.5,
             "#f7f7f7"
            ],
            [
             0.6,
             "#e6f5d0"
            ],
            [
             0.7,
             "#b8e186"
            ],
            [
             0.8,
             "#7fbc41"
            ],
            [
             0.9,
             "#4d9221"
            ],
            [
             1,
             "#276419"
            ]
           ],
           "sequential": [
            [
             0,
             "#0d0887"
            ],
            [
             0.1111111111111111,
             "#46039f"
            ],
            [
             0.2222222222222222,
             "#7201a8"
            ],
            [
             0.3333333333333333,
             "#9c179e"
            ],
            [
             0.4444444444444444,
             "#bd3786"
            ],
            [
             0.5555555555555556,
             "#d8576b"
            ],
            [
             0.6666666666666666,
             "#ed7953"
            ],
            [
             0.7777777777777778,
             "#fb9f3a"
            ],
            [
             0.8888888888888888,
             "#fdca26"
            ],
            [
             1,
             "#f0f921"
            ]
           ],
           "sequentialminus": [
            [
             0,
             "#0d0887"
            ],
            [
             0.1111111111111111,
             "#46039f"
            ],
            [
             0.2222222222222222,
             "#7201a8"
            ],
            [
             0.3333333333333333,
             "#9c179e"
            ],
            [
             0.4444444444444444,
             "#bd3786"
            ],
            [
             0.5555555555555556,
             "#d8576b"
            ],
            [
             0.6666666666666666,
             "#ed7953"
            ],
            [
             0.7777777777777778,
             "#fb9f3a"
            ],
            [
             0.8888888888888888,
             "#fdca26"
            ],
            [
             1,
             "#f0f921"
            ]
           ]
          },
          "colorway": [
           "#636efa",
           "#EF553B",
           "#00cc96",
           "#ab63fa",
           "#FFA15A",
           "#19d3f3",
           "#FF6692",
           "#B6E880",
           "#FF97FF",
           "#FECB52"
          ],
          "font": {
           "color": "#2a3f5f"
          },
          "geo": {
           "bgcolor": "white",
           "lakecolor": "white",
           "landcolor": "#E5ECF6",
           "showlakes": true,
           "showland": true,
           "subunitcolor": "white"
          },
          "hoverlabel": {
           "align": "left"
          },
          "hovermode": "closest",
          "mapbox": {
           "style": "light"
          },
          "paper_bgcolor": "white",
          "plot_bgcolor": "#E5ECF6",
          "polar": {
           "angularaxis": {
            "gridcolor": "white",
            "linecolor": "white",
            "ticks": ""
           },
           "bgcolor": "#E5ECF6",
           "radialaxis": {
            "gridcolor": "white",
            "linecolor": "white",
            "ticks": ""
           }
          },
          "scene": {
           "xaxis": {
            "backgroundcolor": "#E5ECF6",
            "gridcolor": "white",
            "gridwidth": 2,
            "linecolor": "white",
            "showbackground": true,
            "ticks": "",
            "zerolinecolor": "white"
           },
           "yaxis": {
            "backgroundcolor": "#E5ECF6",
            "gridcolor": "white",
            "gridwidth": 2,
            "linecolor": "white",
            "showbackground": true,
            "ticks": "",
            "zerolinecolor": "white"
           },
           "zaxis": {
            "backgroundcolor": "#E5ECF6",
            "gridcolor": "white",
            "gridwidth": 2,
            "linecolor": "white",
            "showbackground": true,
            "ticks": "",
            "zerolinecolor": "white"
           }
          },
          "shapedefaults": {
           "line": {
            "color": "#2a3f5f"
           }
          },
          "ternary": {
           "aaxis": {
            "gridcolor": "white",
            "linecolor": "white",
            "ticks": ""
           },
           "baxis": {
            "gridcolor": "white",
            "linecolor": "white",
            "ticks": ""
           },
           "bgcolor": "#E5ECF6",
           "caxis": {
            "gridcolor": "white",
            "linecolor": "white",
            "ticks": ""
           }
          },
          "title": {
           "x": 0.05
          },
          "xaxis": {
           "automargin": true,
           "gridcolor": "white",
           "linecolor": "white",
           "ticks": "",
           "title": {
            "standoff": 15
           },
           "zerolinecolor": "white",
           "zerolinewidth": 2
          },
          "yaxis": {
           "automargin": true,
           "gridcolor": "white",
           "linecolor": "white",
           "ticks": "",
           "title": {
            "standoff": 15
           },
           "zerolinecolor": "white",
           "zerolinewidth": 2
          }
         }
        },
        "width": 800,
        "xaxis": {
         "anchor": "y",
         "domain": [
          0,
          1
         ],
         "title": {
          "text": "Cases in the last 7 days/1M pop"
         }
        },
        "yaxis": {
         "anchor": "x",
         "domain": [
          0,
          1
         ],
         "title": {
          "text": "Deaths in the last 7 days/1M pop"
         }
        }
       }
      }
     },
     "metadata": {},
     "output_type": "display_data"
    }
   ],
   "source": [
    "scatter_week = prepare_data_for_graph(country_lasted_week_result, week_header[0:13])\n",
    "fig = px.scatter(scatter_week, y=scatter_week['Deaths in the last 7 days/1M pop'], x=scatter_week['Cases in the last 7 days/1M pop'])\n",
    "fig.update_layout(height=500, width=800)\n",
    "fig.show()"
   ]
  },
  {
   "cell_type": "markdown",
   "metadata": {},
   "source": [
    "### Phân bố số lượng ca mắc giữa các quốc gia ở mỗi châu lục trong 1 tuần vừa qua\n",
    "***"
   ]
  },
  {
   "cell_type": "code",
   "execution_count": 50,
   "metadata": {},
   "outputs": [],
   "source": [
    "def q1(x):\n",
    "    return x.quantile(0.25)\n",
    "\n",
    "def q3(x):\n",
    "    return x.quantile(0.75)\n",
    "\n",
    "f = {'Cases in the last 7 days/1M pop': ['median', 'std', q1, q3]}"
   ]
  },
  {
   "cell_type": "code",
   "execution_count": 51,
   "metadata": {},
   "outputs": [
    {
     "data": {
      "text/html": [
       "<div>\n",
       "<style scoped>\n",
       "    .dataframe tbody tr th:only-of-type {\n",
       "        vertical-align: middle;\n",
       "    }\n",
       "\n",
       "    .dataframe tbody tr th {\n",
       "        vertical-align: top;\n",
       "    }\n",
       "\n",
       "    .dataframe thead tr th {\n",
       "        text-align: left;\n",
       "    }\n",
       "\n",
       "    .dataframe thead tr:last-of-type th {\n",
       "        text-align: right;\n",
       "    }\n",
       "</style>\n",
       "<table border=\"1\" class=\"dataframe\">\n",
       "  <thead>\n",
       "    <tr>\n",
       "      <th></th>\n",
       "      <th colspan=\"4\" halign=\"left\">Cases in the last 7 days/1M pop</th>\n",
       "    </tr>\n",
       "    <tr>\n",
       "      <th></th>\n",
       "      <th>median</th>\n",
       "      <th>std</th>\n",
       "      <th>q1</th>\n",
       "      <th>q3</th>\n",
       "    </tr>\n",
       "    <tr>\n",
       "      <th>Continent</th>\n",
       "      <th></th>\n",
       "      <th></th>\n",
       "      <th></th>\n",
       "      <th></th>\n",
       "    </tr>\n",
       "  </thead>\n",
       "  <tbody>\n",
       "    <tr>\n",
       "      <th>Africa</th>\n",
       "      <td>10.5990</td>\n",
       "      <td>575.557166</td>\n",
       "      <td>3.43950</td>\n",
       "      <td>65.44475</td>\n",
       "    </tr>\n",
       "    <tr>\n",
       "      <th>Asia</th>\n",
       "      <td>113.8110</td>\n",
       "      <td>1161.603657</td>\n",
       "      <td>10.77200</td>\n",
       "      <td>857.20850</td>\n",
       "    </tr>\n",
       "    <tr>\n",
       "      <th>Australi/Ocen</th>\n",
       "      <td>380.3780</td>\n",
       "      <td>844.397688</td>\n",
       "      <td>121.15850</td>\n",
       "      <td>659.44000</td>\n",
       "    </tr>\n",
       "    <tr>\n",
       "      <th>Europe</th>\n",
       "      <td>4291.9280</td>\n",
       "      <td>3510.539980</td>\n",
       "      <td>1644.35700</td>\n",
       "      <td>6457.20900</td>\n",
       "    </tr>\n",
       "    <tr>\n",
       "      <th>North Ameica</th>\n",
       "      <td>347.5665</td>\n",
       "      <td>2309.022198</td>\n",
       "      <td>128.33850</td>\n",
       "      <td>1434.13675</td>\n",
       "    </tr>\n",
       "    <tr>\n",
       "      <th>South America</th>\n",
       "      <td>367.4475</td>\n",
       "      <td>309.640077</td>\n",
       "      <td>263.57125</td>\n",
       "      <td>569.77200</td>\n",
       "    </tr>\n",
       "  </tbody>\n",
       "</table>\n",
       "</div>"
      ],
      "text/plain": [
       "              Cases in the last 7 days/1M pop                           \\\n",
       "                                       median          std          q1   \n",
       "Continent                                                                \n",
       "Africa                                10.5990   575.557166     3.43950   \n",
       "Asia                                 113.8110  1161.603657    10.77200   \n",
       "Australi/Ocen                        380.3780   844.397688   121.15850   \n",
       "Europe                              4291.9280  3510.539980  1644.35700   \n",
       "North Ameica                         347.5665  2309.022198   128.33850   \n",
       "South America                        367.4475   309.640077   263.57125   \n",
       "\n",
       "                           \n",
       "                       q3  \n",
       "Continent                  \n",
       "Africa           65.44475  \n",
       "Asia            857.20850  \n",
       "Australi/Ocen   659.44000  \n",
       "Europe         6457.20900  \n",
       "North Ameica   1434.13675  \n",
       "South America   569.77200  "
      ]
     },
     "execution_count": 51,
     "metadata": {},
     "output_type": "execute_result"
    }
   ],
   "source": [
    "fig = px.box(df_week, x=\"Continent\", y=\"Cases in the last 7 days/1M pop\", points = 'all')\n",
    "df1 = scatter_week.groupby('Continent').agg(f)\n",
    "df1"
   ]
  },
  {
   "cell_type": "code",
   "execution_count": 52,
   "metadata": {},
   "outputs": [
    {
     "data": {
      "application/vnd.plotly.v1+json": {
       "config": {
        "plotlyServerURL": "https://plot.ly"
       },
       "data": [
        {
         "alignmentgroup": "True",
         "boxpoints": "all",
         "hovertemplate": "Continent=%{x}<br>Cases in the last 7 days/1M pop=%{y}<extra></extra>",
         "legendgroup": "",
         "marker": {
          "color": "#636efa"
         },
         "name": "",
         "notched": false,
         "offsetgroup": "",
         "orientation": "v",
         "showlegend": false,
         "type": "box",
         "x": [
          "North America",
          "Europe",
          "Europe",
          "Europe",
          "Europe",
          "Asia",
          "Europe",
          "Europe",
          "Europe",
          "Europe",
          "Europe",
          "Asia",
          "Europe",
          "Europe",
          "Europe",
          "South America",
          "Asia",
          "Europe",
          "Europe",
          "Europe",
          "Asia",
          "Europe",
          "Asia",
          "Europe",
          "Asia",
          "Europe",
          "Europe",
          "Asia",
          "Asia",
          "Asia",
          "North America",
          "Europe",
          "North America",
          "Europe",
          "Europe",
          "South America",
          "Europe",
          "South America",
          "Europe",
          "Europe",
          "Africa",
          "Europe",
          "Asia",
          "Europe",
          "South America",
          "Asia",
          "South America",
          "Australia/Oceania",
          "Asia",
          "Asia",
          "Europe",
          "Europe",
          "South America",
          "Africa",
          "Europe",
          "Asia",
          "Asia",
          "Asia",
          "South America",
          "Asia",
          "North America",
          "Europe",
          "Europe",
          "North America",
          "Asia",
          "Africa",
          "North America",
          "Asia",
          "Asia",
          "Europe",
          "Europe",
          "Europe",
          "Asia",
          "Asia",
          "Europe",
          "Europe",
          "Africa",
          "Asia",
          "Asia",
          "Europe",
          "Asia",
          "Asia",
          "North America",
          "South America",
          "Asia",
          "North America",
          "Asia",
          "Australia/Oceania",
          "North America",
          "North America",
          "Africa",
          "Africa",
          "Asia",
          "Africa",
          "Europe",
          "Africa",
          "North America",
          "Africa",
          "Asia",
          "Asia",
          "Asia",
          "North America",
          "North America",
          "Europe",
          "Africa",
          "Australia/Oceania",
          "Europe",
          "Africa",
          "Europe",
          "Africa",
          "Africa",
          "Asia",
          "Africa",
          "North America",
          "South America",
          "Asia",
          "North America",
          "South America",
          "Asia",
          "Africa",
          "Africa",
          "Africa",
          "Europe",
          "Africa",
          "Asia",
          "North America",
          "South America",
          "Europe",
          "Africa",
          "Europe",
          "North America",
          "Africa",
          "South America",
          "Africa",
          "Africa",
          "Australia/Oceania",
          "Asia",
          "Asia",
          "North America",
          "Africa",
          "Asia",
          "North America",
          "Europe",
          "Asia",
          "Africa",
          "Europe",
          "Asia",
          "North America",
          "North America",
          "Africa",
          "Africa",
          "Africa",
          "Africa",
          "Africa",
          "North America",
          "Africa",
          "Africa",
          "South America",
          "Africa",
          "Africa",
          "North America",
          "North America",
          "Africa",
          "North America",
          "North America",
          "Asia",
          "Africa",
          "Africa",
          "Africa",
          "Africa",
          "Africa",
          "Australia/Oceania",
          "Africa",
          "Africa",
          "Africa",
          "Africa",
          "Africa",
          "Africa",
          "Africa",
          "Africa",
          "Asia",
          "Asia",
          "Asia",
          "Africa",
          "North America",
          "North America",
          "North America",
          "North America",
          "North America",
          "North America",
          "Asia",
          "North America",
          "Africa",
          "North America",
          "Africa",
          "Africa",
          "Africa",
          "Asia",
          "Africa",
          "Africa",
          "North America",
          "Australia/Oceania",
          "North America",
          "North America",
          "North America",
          "North America",
          "Asia",
          "North America",
          "Europe",
          "Europe",
          "Europe",
          "Europe",
          "Europe",
          "Asia",
          "Europe",
          "Europe",
          "Europe",
          "Europe",
          "Asia",
          "Europe",
          "Africa",
          "Europe",
          "South America",
          "Europe",
          "Asia",
          "Europe",
          "Europe",
          "Europe",
          "Europe",
          "Asia",
          "Asia",
          "Europe",
          "Asia",
          "Asia",
          "Europe",
          "Europe",
          "Asia",
          "Asia",
          "Europe",
          "Europe",
          "North America",
          "North America",
          "South America",
          "South America",
          "Europe",
          "Europe",
          "South America",
          "Europe",
          "Europe",
          "Europe",
          "Asia",
          "Asia",
          "Australia/Oceania",
          "Europe",
          "Europe",
          "Europe",
          "South America",
          "Asia",
          "South America",
          "Asia",
          "Africa",
          "Asia",
          "Asia",
          "Africa",
          "North America",
          "Europe",
          "Asia",
          "Europe",
          "South America",
          "Europe",
          "Asia",
          "Asia",
          "Europe",
          "Africa",
          "Asia",
          "Asia",
          "Asia",
          "Europe",
          "Asia",
          "Asia",
          "Europe",
          "North America",
          "Europe",
          "Asia",
          "Africa",
          "Asia",
          "Asia",
          "North America",
          "Asia",
          "Europe",
          "South America",
          "Europe",
          "North America",
          "Asia",
          "Africa",
          "Africa",
          "Europe",
          "Africa",
          "Asia",
          "North America",
          "Africa",
          "Africa",
          "Australia/Oceania",
          "North America",
          "Africa",
          "North America",
          "Europe",
          "Africa",
          "Asia",
          "Asia",
          "Africa",
          "Europe",
          "Australia/Oceania",
          "Asia",
          "North America",
          "Europe",
          "Africa",
          "Africa",
          "Africa",
          "North America",
          "North America",
          "Asia",
          "Australia/Oceania",
          "Africa",
          "North America",
          "South America",
          "Europe",
          "Asia",
          "Africa",
          "Africa",
          "South America",
          "Europe",
          "Africa",
          "Asia",
          "North America",
          "Africa",
          "Africa",
          "North America",
          "Africa",
          "South America",
          "South America",
          "North America",
          "Asia",
          "Asia",
          "Asia",
          "Africa",
          "Africa",
          "Asia",
          "Europe",
          "Europe",
          "Africa",
          "Asia",
          "Africa",
          "North America",
          "Europe",
          "North America",
          "Asia",
          "Australia/Oceania",
          "Africa",
          "Africa",
          "North America",
          "North America",
          "Africa",
          "Africa",
          "Africa",
          "North America",
          "North America",
          "Africa",
          "North America",
          "Africa",
          "Africa",
          "North America",
          "South America",
          "Africa",
          "Asia",
          "North America",
          "Asia",
          "Africa",
          "Africa",
          "North America",
          "Africa",
          "Africa",
          "Africa",
          "Africa",
          "Africa",
          "North America",
          "Asia",
          "Australia/Oceania",
          "Africa",
          "Asia",
          "Africa",
          "North America",
          "North America",
          "North America",
          "Africa",
          "North America",
          "Africa",
          "North America",
          "Africa",
          "Australia/Oceania",
          "North America",
          "North America",
          "North America",
          "Asia",
          "Africa",
          "South America",
          "Africa",
          "Africa",
          "Africa",
          "Africa",
          "North America",
          "Africa",
          "Asia",
          "Africa",
          "North America",
          "Africa"
         ],
         "x0": " ",
         "xaxis": "x",
         "y": [
          1240,
          4809,
          4421,
          1638,
          3132,
          2038,
          4298,
          9151,
          11873,
          9079,
          2054,
          894,
          9547,
          1361,
          7314,
          296,
          44,
          10583,
          5562,
          4404,
          603,
          850,
          1129,
          8093,
          368,
          6199,
          4954,
          2751,
          6634,
          496,
          158,
          2011,
          483,
          3286,
          1995,
          335,
          8023,
          841,
          2337,
          748,
          229,
          4622,
          1150,
          1232,
          242,
          1724,
          289,
          368,
          1261,
          1280,
          1344,
          711,
          562,
          60,
          3391,
          328,
          274,
          52,
          194,
          125,
          3021,
          1052,
          3139,
          370,
          1298,
          537,
          202,
          66,
          1061,
          1010,
          1100,
          1339,
          9,
          10,
          3355,
          3367,
          2073,
          62,
          10,
          9278,
          305,
          171,
          344,
          432,
          44,
          125,
          1117,
          257,
          4318,
          18052,
          27,
          9,
          372,
          83,
          2843,
          748,
          135,
          22,
          42,
          6,
          1334,
          132,
          1628,
          8084,
          22,
          64,
          6327,
          110,
          1185,
          2,
          11,
          48,
          192,
          156,
          566,
          1004,
          43,
          58,
          62,
          14,
          19,
          3689,
          9482,
          23,
          8,
          4333,
          510,
          6026,
          6,
          7720,
          22,
          110,
          801,
          4,
          3,
          809,
          13,
          6,
          3567,
          9,
          110,
          6587,
          4390,
          0.1,
          40,
          3996,
          30,
          19,
          1136,
          5,
          3,
          21,
          4,
          8,
          978,
          3,
          34,
          4,
          7,
          277,
          461,
          183,
          4,
          368,
          4345,
          2,
          4,
          4,
          43,
          54,
          3,
          51,
          8,
          28,
          18,
          1,
          62,
          2,
          0.5,
          4,
          1,
          5,
          3,
          1,
          298,
          242,
          132,
          2607,
          321,
          279,
          10,
          61,
          3,
          605,
          0.3,
          3,
          0.6,
          2,
          0.4,
          0.1,
          0,
          0,
          0,
          0,
          0,
          0,
          0,
          2145,
          4715,
          4654,
          4539,
          1584,
          4329,
          1811,
          8865,
          10922,
          9302,
          1678,
          994,
          1740,
          1164,
          6855,
          290,
          11259,
          43,
          1211,
          6079,
          4030,
          4463,
          1061,
          491,
          6817,
          3155,
          626,
          5185,
          6812,
          6700,
          299,
          2371,
          4292,
          521,
          134,
          304,
          311,
          2008,
          1528,
          679,
          6102,
          1268,
          4471,
          1580,
          1033,
          380,
          477,
          1610,
          848,
          255,
          1120,
          597,
          1154,
          61,
          240,
          265,
          333,
          3555,
          2648,
          114,
          1362,
          149,
          951,
          397,
          2917,
          2594,
          488,
          27,
          52,
          940,
          4162,
          12,
          775,
          1100,
          122,
          757,
          411,
          2366,
          6,
          57,
          156,
          10,
          2536,
          452,
          8896,
          349,
          44,
          32,
          29,
          16761,
          99,
          389,
          3672,
          821,
          8,
          187,
          77,
          23,
          11837,
          9034,
          600,
          6,
          1348,
          25,
          1579,
          2443,
          36,
          127,
          1835,
          236,
          27,
          2,
          1411,
          1263,
          0.4,
          55,
          9,
          42,
          57,
          8366,
          41,
          12,
          162,
          489,
          10083,
          79,
          55,
          36,
          13,
          3427,
          101,
          13,
          898,
          424,
          4393,
          138,
          5,
          6,
          2,
          4,
          44,
          5672,
          5553,
          78,
          10,
          9,
          2284,
          3961,
          5683,
          338,
          498,
          39,
          23,
          1173,
          1104,
          4,
          3,
          4,
          15,
          228,
          156,
          533,
          4,
          6,
          5265,
          4,
          230,
          3,
          346,
          12,
          7,
          27,
          1442,
          49,
          3,
          2,
          4,
          2,
          95,
          1,
          41,
          2,
          4,
          7,
          606,
          528,
          339,
          14,
          177,
          1,
          1912,
          0.1,
          821,
          149,
          177,
          61,
          4,
          4,
          1104,
          2,
          1,
          0.6,
          0.1,
          202,
          9,
          1,
          0.1,
          0,
          0
         ],
         "y0": " ",
         "yaxis": "y"
        }
       ],
       "layout": {
        "boxmode": "group",
        "height": 900,
        "legend": {
         "tracegroupgap": 0
        },
        "margin": {
         "t": 60
        },
        "template": {
         "data": {
          "bar": [
           {
            "error_x": {
             "color": "#2a3f5f"
            },
            "error_y": {
             "color": "#2a3f5f"
            },
            "marker": {
             "line": {
              "color": "#E5ECF6",
              "width": 0.5
             },
             "pattern": {
              "fillmode": "overlay",
              "size": 10,
              "solidity": 0.2
             }
            },
            "type": "bar"
           }
          ],
          "barpolar": [
           {
            "marker": {
             "line": {
              "color": "#E5ECF6",
              "width": 0.5
             },
             "pattern": {
              "fillmode": "overlay",
              "size": 10,
              "solidity": 0.2
             }
            },
            "type": "barpolar"
           }
          ],
          "carpet": [
           {
            "aaxis": {
             "endlinecolor": "#2a3f5f",
             "gridcolor": "white",
             "linecolor": "white",
             "minorgridcolor": "white",
             "startlinecolor": "#2a3f5f"
            },
            "baxis": {
             "endlinecolor": "#2a3f5f",
             "gridcolor": "white",
             "linecolor": "white",
             "minorgridcolor": "white",
             "startlinecolor": "#2a3f5f"
            },
            "type": "carpet"
           }
          ],
          "choropleth": [
           {
            "colorbar": {
             "outlinewidth": 0,
             "ticks": ""
            },
            "type": "choropleth"
           }
          ],
          "contour": [
           {
            "colorbar": {
             "outlinewidth": 0,
             "ticks": ""
            },
            "colorscale": [
             [
              0,
              "#0d0887"
             ],
             [
              0.1111111111111111,
              "#46039f"
             ],
             [
              0.2222222222222222,
              "#7201a8"
             ],
             [
              0.3333333333333333,
              "#9c179e"
             ],
             [
              0.4444444444444444,
              "#bd3786"
             ],
             [
              0.5555555555555556,
              "#d8576b"
             ],
             [
              0.6666666666666666,
              "#ed7953"
             ],
             [
              0.7777777777777778,
              "#fb9f3a"
             ],
             [
              0.8888888888888888,
              "#fdca26"
             ],
             [
              1,
              "#f0f921"
             ]
            ],
            "type": "contour"
           }
          ],
          "contourcarpet": [
           {
            "colorbar": {
             "outlinewidth": 0,
             "ticks": ""
            },
            "type": "contourcarpet"
           }
          ],
          "heatmap": [
           {
            "colorbar": {
             "outlinewidth": 0,
             "ticks": ""
            },
            "colorscale": [
             [
              0,
              "#0d0887"
             ],
             [
              0.1111111111111111,
              "#46039f"
             ],
             [
              0.2222222222222222,
              "#7201a8"
             ],
             [
              0.3333333333333333,
              "#9c179e"
             ],
             [
              0.4444444444444444,
              "#bd3786"
             ],
             [
              0.5555555555555556,
              "#d8576b"
             ],
             [
              0.6666666666666666,
              "#ed7953"
             ],
             [
              0.7777777777777778,
              "#fb9f3a"
             ],
             [
              0.8888888888888888,
              "#fdca26"
             ],
             [
              1,
              "#f0f921"
             ]
            ],
            "type": "heatmap"
           }
          ],
          "heatmapgl": [
           {
            "colorbar": {
             "outlinewidth": 0,
             "ticks": ""
            },
            "colorscale": [
             [
              0,
              "#0d0887"
             ],
             [
              0.1111111111111111,
              "#46039f"
             ],
             [
              0.2222222222222222,
              "#7201a8"
             ],
             [
              0.3333333333333333,
              "#9c179e"
             ],
             [
              0.4444444444444444,
              "#bd3786"
             ],
             [
              0.5555555555555556,
              "#d8576b"
             ],
             [
              0.6666666666666666,
              "#ed7953"
             ],
             [
              0.7777777777777778,
              "#fb9f3a"
             ],
             [
              0.8888888888888888,
              "#fdca26"
             ],
             [
              1,
              "#f0f921"
             ]
            ],
            "type": "heatmapgl"
           }
          ],
          "histogram": [
           {
            "marker": {
             "pattern": {
              "fillmode": "overlay",
              "size": 10,
              "solidity": 0.2
             }
            },
            "type": "histogram"
           }
          ],
          "histogram2d": [
           {
            "colorbar": {
             "outlinewidth": 0,
             "ticks": ""
            },
            "colorscale": [
             [
              0,
              "#0d0887"
             ],
             [
              0.1111111111111111,
              "#46039f"
             ],
             [
              0.2222222222222222,
              "#7201a8"
             ],
             [
              0.3333333333333333,
              "#9c179e"
             ],
             [
              0.4444444444444444,
              "#bd3786"
             ],
             [
              0.5555555555555556,
              "#d8576b"
             ],
             [
              0.6666666666666666,
              "#ed7953"
             ],
             [
              0.7777777777777778,
              "#fb9f3a"
             ],
             [
              0.8888888888888888,
              "#fdca26"
             ],
             [
              1,
              "#f0f921"
             ]
            ],
            "type": "histogram2d"
           }
          ],
          "histogram2dcontour": [
           {
            "colorbar": {
             "outlinewidth": 0,
             "ticks": ""
            },
            "colorscale": [
             [
              0,
              "#0d0887"
             ],
             [
              0.1111111111111111,
              "#46039f"
             ],
             [
              0.2222222222222222,
              "#7201a8"
             ],
             [
              0.3333333333333333,
              "#9c179e"
             ],
             [
              0.4444444444444444,
              "#bd3786"
             ],
             [
              0.5555555555555556,
              "#d8576b"
             ],
             [
              0.6666666666666666,
              "#ed7953"
             ],
             [
              0.7777777777777778,
              "#fb9f3a"
             ],
             [
              0.8888888888888888,
              "#fdca26"
             ],
             [
              1,
              "#f0f921"
             ]
            ],
            "type": "histogram2dcontour"
           }
          ],
          "mesh3d": [
           {
            "colorbar": {
             "outlinewidth": 0,
             "ticks": ""
            },
            "type": "mesh3d"
           }
          ],
          "parcoords": [
           {
            "line": {
             "colorbar": {
              "outlinewidth": 0,
              "ticks": ""
             }
            },
            "type": "parcoords"
           }
          ],
          "pie": [
           {
            "automargin": true,
            "type": "pie"
           }
          ],
          "scatter": [
           {
            "marker": {
             "colorbar": {
              "outlinewidth": 0,
              "ticks": ""
             }
            },
            "type": "scatter"
           }
          ],
          "scatter3d": [
           {
            "line": {
             "colorbar": {
              "outlinewidth": 0,
              "ticks": ""
             }
            },
            "marker": {
             "colorbar": {
              "outlinewidth": 0,
              "ticks": ""
             }
            },
            "type": "scatter3d"
           }
          ],
          "scattercarpet": [
           {
            "marker": {
             "colorbar": {
              "outlinewidth": 0,
              "ticks": ""
             }
            },
            "type": "scattercarpet"
           }
          ],
          "scattergeo": [
           {
            "marker": {
             "colorbar": {
              "outlinewidth": 0,
              "ticks": ""
             }
            },
            "type": "scattergeo"
           }
          ],
          "scattergl": [
           {
            "marker": {
             "colorbar": {
              "outlinewidth": 0,
              "ticks": ""
             }
            },
            "type": "scattergl"
           }
          ],
          "scattermapbox": [
           {
            "marker": {
             "colorbar": {
              "outlinewidth": 0,
              "ticks": ""
             }
            },
            "type": "scattermapbox"
           }
          ],
          "scatterpolar": [
           {
            "marker": {
             "colorbar": {
              "outlinewidth": 0,
              "ticks": ""
             }
            },
            "type": "scatterpolar"
           }
          ],
          "scatterpolargl": [
           {
            "marker": {
             "colorbar": {
              "outlinewidth": 0,
              "ticks": ""
             }
            },
            "type": "scatterpolargl"
           }
          ],
          "scatterternary": [
           {
            "marker": {
             "colorbar": {
              "outlinewidth": 0,
              "ticks": ""
             }
            },
            "type": "scatterternary"
           }
          ],
          "surface": [
           {
            "colorbar": {
             "outlinewidth": 0,
             "ticks": ""
            },
            "colorscale": [
             [
              0,
              "#0d0887"
             ],
             [
              0.1111111111111111,
              "#46039f"
             ],
             [
              0.2222222222222222,
              "#7201a8"
             ],
             [
              0.3333333333333333,
              "#9c179e"
             ],
             [
              0.4444444444444444,
              "#bd3786"
             ],
             [
              0.5555555555555556,
              "#d8576b"
             ],
             [
              0.6666666666666666,
              "#ed7953"
             ],
             [
              0.7777777777777778,
              "#fb9f3a"
             ],
             [
              0.8888888888888888,
              "#fdca26"
             ],
             [
              1,
              "#f0f921"
             ]
            ],
            "type": "surface"
           }
          ],
          "table": [
           {
            "cells": {
             "fill": {
              "color": "#EBF0F8"
             },
             "line": {
              "color": "white"
             }
            },
            "header": {
             "fill": {
              "color": "#C8D4E3"
             },
             "line": {
              "color": "white"
             }
            },
            "type": "table"
           }
          ]
         },
         "layout": {
          "annotationdefaults": {
           "arrowcolor": "#2a3f5f",
           "arrowhead": 0,
           "arrowwidth": 1
          },
          "autotypenumbers": "strict",
          "coloraxis": {
           "colorbar": {
            "outlinewidth": 0,
            "ticks": ""
           }
          },
          "colorscale": {
           "diverging": [
            [
             0,
             "#8e0152"
            ],
            [
             0.1,
             "#c51b7d"
            ],
            [
             0.2,
             "#de77ae"
            ],
            [
             0.3,
             "#f1b6da"
            ],
            [
             0.4,
             "#fde0ef"
            ],
            [
             0.5,
             "#f7f7f7"
            ],
            [
             0.6,
             "#e6f5d0"
            ],
            [
             0.7,
             "#b8e186"
            ],
            [
             0.8,
             "#7fbc41"
            ],
            [
             0.9,
             "#4d9221"
            ],
            [
             1,
             "#276419"
            ]
           ],
           "sequential": [
            [
             0,
             "#0d0887"
            ],
            [
             0.1111111111111111,
             "#46039f"
            ],
            [
             0.2222222222222222,
             "#7201a8"
            ],
            [
             0.3333333333333333,
             "#9c179e"
            ],
            [
             0.4444444444444444,
             "#bd3786"
            ],
            [
             0.5555555555555556,
             "#d8576b"
            ],
            [
             0.6666666666666666,
             "#ed7953"
            ],
            [
             0.7777777777777778,
             "#fb9f3a"
            ],
            [
             0.8888888888888888,
             "#fdca26"
            ],
            [
             1,
             "#f0f921"
            ]
           ],
           "sequentialminus": [
            [
             0,
             "#0d0887"
            ],
            [
             0.1111111111111111,
             "#46039f"
            ],
            [
             0.2222222222222222,
             "#7201a8"
            ],
            [
             0.3333333333333333,
             "#9c179e"
            ],
            [
             0.4444444444444444,
             "#bd3786"
            ],
            [
             0.5555555555555556,
             "#d8576b"
            ],
            [
             0.6666666666666666,
             "#ed7953"
            ],
            [
             0.7777777777777778,
             "#fb9f3a"
            ],
            [
             0.8888888888888888,
             "#fdca26"
            ],
            [
             1,
             "#f0f921"
            ]
           ]
          },
          "colorway": [
           "#636efa",
           "#EF553B",
           "#00cc96",
           "#ab63fa",
           "#FFA15A",
           "#19d3f3",
           "#FF6692",
           "#B6E880",
           "#FF97FF",
           "#FECB52"
          ],
          "font": {
           "color": "#2a3f5f"
          },
          "geo": {
           "bgcolor": "white",
           "lakecolor": "white",
           "landcolor": "#E5ECF6",
           "showlakes": true,
           "showland": true,
           "subunitcolor": "white"
          },
          "hoverlabel": {
           "align": "left"
          },
          "hovermode": "closest",
          "mapbox": {
           "style": "light"
          },
          "paper_bgcolor": "white",
          "plot_bgcolor": "#E5ECF6",
          "polar": {
           "angularaxis": {
            "gridcolor": "white",
            "linecolor": "white",
            "ticks": ""
           },
           "bgcolor": "#E5ECF6",
           "radialaxis": {
            "gridcolor": "white",
            "linecolor": "white",
            "ticks": ""
           }
          },
          "scene": {
           "xaxis": {
            "backgroundcolor": "#E5ECF6",
            "gridcolor": "white",
            "gridwidth": 2,
            "linecolor": "white",
            "showbackground": true,
            "ticks": "",
            "zerolinecolor": "white"
           },
           "yaxis": {
            "backgroundcolor": "#E5ECF6",
            "gridcolor": "white",
            "gridwidth": 2,
            "linecolor": "white",
            "showbackground": true,
            "ticks": "",
            "zerolinecolor": "white"
           },
           "zaxis": {
            "backgroundcolor": "#E5ECF6",
            "gridcolor": "white",
            "gridwidth": 2,
            "linecolor": "white",
            "showbackground": true,
            "ticks": "",
            "zerolinecolor": "white"
           }
          },
          "shapedefaults": {
           "line": {
            "color": "#2a3f5f"
           }
          },
          "ternary": {
           "aaxis": {
            "gridcolor": "white",
            "linecolor": "white",
            "ticks": ""
           },
           "baxis": {
            "gridcolor": "white",
            "linecolor": "white",
            "ticks": ""
           },
           "bgcolor": "#E5ECF6",
           "caxis": {
            "gridcolor": "white",
            "linecolor": "white",
            "ticks": ""
           }
          },
          "title": {
           "x": 0.05
          },
          "xaxis": {
           "automargin": true,
           "gridcolor": "white",
           "linecolor": "white",
           "ticks": "",
           "title": {
            "standoff": 15
           },
           "zerolinecolor": "white",
           "zerolinewidth": 2
          },
          "yaxis": {
           "automargin": true,
           "gridcolor": "white",
           "linecolor": "white",
           "ticks": "",
           "title": {
            "standoff": 15
           },
           "zerolinecolor": "white",
           "zerolinewidth": 2
          }
         }
        },
        "width": 900,
        "xaxis": {
         "anchor": "y",
         "domain": [
          0,
          1
         ],
         "title": {
          "text": "Continent"
         }
        },
        "yaxis": {
         "anchor": "x",
         "domain": [
          0,
          1
         ],
         "title": {
          "text": "Cases in the last 7 days/1M pop"
         }
        }
       }
      }
     },
     "metadata": {},
     "output_type": "display_data"
    }
   ],
   "source": [
    "fig.update_layout(height=900, width=900)\n",
    "fig.show()"
   ]
  }
 ],
 "metadata": {
  "interpreter": {
   "hash": "be353290322b998ceed415efe2feb2b45a0cbb60742115a4a855aee874dba8ae"
  },
  "kernelspec": {
   "display_name": "Python 3.8.8 64-bit ('min_ds-env': conda)",
   "language": "python",
   "name": "python3"
  },
  "language_info": {
   "codemirror_mode": {
    "name": "ipython",
    "version": 3
   },
   "file_extension": ".py",
   "mimetype": "text/x-python",
   "name": "python",
   "nbconvert_exporter": "python",
   "pygments_lexer": "ipython3",
   "version": "3.9.7"
  },
  "orig_nbformat": 4
 },
 "nbformat": 4,
 "nbformat_minor": 2
}
