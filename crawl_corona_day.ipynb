{
 "cells": [
  {
   "cell_type": "markdown",
   "metadata": {},
   "source": [
    "- #### Họ và tên: Võ Nhất Huy \n",
    "- #### MSSV: 19127642"
   ]
  },
  {
   "cell_type": "markdown",
   "metadata": {},
   "source": [
    "***\n",
    "### CÁCH CHẠY FILE\n",
    "- Markdown cell 3 cells thu thập dữ liệu tuần (3 cells cuối) khi thu thập dữ liệu cho 2 ngày, markdown 3 cells phía trên khi muốn thu thập dữ liệu tuần\n",
    "- Restart & run all  \n",
    "***"
   ]
  },
  {
   "cell_type": "markdown",
   "metadata": {},
   "source": [
    "# THU THẬP DỮ LIỆU\n",
    "***\n"
   ]
  },
  {
   "cell_type": "code",
   "execution_count": 7,
   "metadata": {},
   "outputs": [],
   "source": [
    "import time\n",
    "import datetime\n",
    "import csv\n",
    "import pandas as pd \n",
    "import re\n",
    "import os\n",
    "from bs4 import BeautifulSoup\n",
    "import selenium\n",
    "from selenium import webdriver\n",
    "from selenium.webdriver.support.ui import WebDriverWait  # for implicit and explict waits\n",
    "from selenium.webdriver.chrome.options import Options  # for suppressing the browser\n",
    "from selenium.webdriver.common.keys import Keys\n",
    "from selenium.webdriver.chrome.service import Service\n",
    "from webdriver_manager.chrome import ChromeDriverManager\n",
    "from selenium.common.exceptions import ElementClickInterceptedException\n",
    "from selenium.webdriver.common.by import By"
   ]
  },
  {
   "cell_type": "code",
   "execution_count": 8,
   "metadata": {},
   "outputs": [
    {
     "name": "stderr",
     "output_type": "stream",
     "text": [
      "\n",
      "\n",
      "====== WebDriver manager ======\n",
      "Current google-chrome version is 100.0.4896\n",
      "Get LATEST chromedriver version for 100.0.4896 google-chrome\n",
      "Driver [C:\\Users\\Oaki\\.wdm\\drivers\\chromedriver\\win32\\100.0.4896.60\\chromedriver.exe] found in cache\n"
     ]
    }
   ],
   "source": [
    "s=Service(ChromeDriverManager().install())\n",
    "driver = webdriver.Chrome(service=s)"
   ]
  },
  {
   "cell_type": "code",
   "execution_count": 9,
   "metadata": {},
   "outputs": [],
   "source": [
    "def scroll_to_bottom(driver):\n",
    "\n",
    "    old_position = 0\n",
    "    new_position = None\n",
    "\n",
    "    while new_position != old_position:\n",
    "        # Get old scroll position\n",
    "        old_position = driver.execute_script(\n",
    "                (\"return (window.pageYOffset !== undefined) ?\"\n",
    "                 \" window.pageYOffset : (document.documentElement ||\"\n",
    "                 \" document.body.parentNode || document.body);\"))\n",
    "        # Sleep and Scroll\n",
    "        time.sleep(1)\n",
    "        driver.execute_script((\n",
    "                \"var scrollingElement = (document.scrollingElement ||\"\n",
    "                \" document.body);scrollingElement.scrollTop =\"\n",
    "                \" scrollingElement.scrollHeight;\"))\n",
    "        # Get new position\n",
    "        new_position = driver.execute_script(\n",
    "                (\"return (window.pageYOffset !== undefined) ?\"\n",
    "                 \" window.pageYOffset : (document.documentElement ||\"\n",
    "                 \" document.body.parentNode || document.body);\"))"
   ]
  },
  {
   "cell_type": "code",
   "execution_count": 10,
   "metadata": {},
   "outputs": [],
   "source": [
    "def parse_country_data(country_text):\n",
    "  lines = country_text.split(\"\\n\")\n",
    "  data = []\n",
    "  for each_line in lines:\n",
    "    try:\n",
    "      result = re.search(\">(.*?)</\", each_line)\n",
    "      if \">\" in result.group(1):\n",
    "        result = re.search(\">(.*?)$\", result.group(1))\n",
    "\n",
    "      data.append(result.group(1))\n",
    "    except:\n",
    "      continue\n",
    "  return data"
   ]
  },
  {
   "cell_type": "code",
   "execution_count": 11,
   "metadata": {},
   "outputs": [],
   "source": [
    "def crawl_raw_data(soup):\n",
    "    df = pd.DataFrame(columns = [\"#\", \"Date\", \"Country, Other\", \"Total Cases\", \"New Cases\", \"Total Deaths\", \"New Deaths\", \"Total Recovered\", \"New Recovered\", \"Active Cases\", \"Serious, Critical\", \"Tot Cases/1M Pop\", \"Deaths/1M Pop\", \"Total Tests\", \"Tests/1M Pop\", \"Population\", \"Continent\"])\n",
    "    country_odd_data = soup.find_all(\"tr\", attrs={\"class\":\"odd\"})\n",
    "    country_even_data = soup.find_all(\"tr\", attrs={\"class\":\"even\"})\n",
    "    for i in range(len(country_even_data)):\n",
    "        date = datetime.datetime.today() - datetime.timedelta(days=(len(df.index)+1)//224)\n",
    "        result = parse_country_data(str(country_odd_data[i]))\n",
    "        date = date.strftime('%d:%m:%Y')\n",
    "        if result[0] != '':\n",
    "            result.insert(1, date)\n",
    "            df_length = len(df)\n",
    "            df.loc[df_length] = result  \n",
    "        result = parse_country_data(str(country_even_data[i]))\n",
    "        if result[0] != '':\n",
    "            result.insert(1, date)\n",
    "            df_length = len(df)\n",
    "            df.loc[df_length] = result  \n",
    "    #for i in range(len(country_even_data)):\n",
    "    return [df.iloc[448:], df.iloc[224:448]]"
   ]
  },
  {
   "cell_type": "code",
   "execution_count": 13,
   "metadata": {},
   "outputs": [],
   "source": [
    "driver.get(\"https://www.worldometers.info/coronavirus/\")\n",
    "\n",
    "html = driver.page_source\n"
   ]
  },
  {
   "cell_type": "code",
   "execution_count": 14,
   "metadata": {},
   "outputs": [],
   "source": [
    "soup = BeautifulSoup(html, 'html.parser')\n",
    "df = crawl_raw_data(soup)"
   ]
  },
  {
   "cell_type": "code",
   "execution_count": 15,
   "metadata": {},
   "outputs": [],
   "source": [
    "if not os.path.isfile('Corona_day.tsv'):\n",
    "    df[0].to_csv(\"Corona_day.tsv\", sep = \"\\t\", mode = \"a\", index = False)\n",
    "else:\n",
    "    df[0].to_csv(\"Corona_day.tsv\", sep = \"\\t\", mode = \"a\", index = False, header = False)\n",
    "df[1].to_csv(\"Corona_day.tsv\", sep = \"\\t\", mode = \"a\", index = False, header = False)\n"
   ]
  }
 ],
 "metadata": {
  "interpreter": {
   "hash": "3743ce8b13501ff77d06d11863fcf570b82041d927683bef320e00e722731f7d"
  },
  "kernelspec": {
   "display_name": "Python 3.8.8 64-bit ('base': conda)",
   "language": "python",
   "name": "python3"
  },
  "language_info": {
   "codemirror_mode": {
    "name": "ipython",
    "version": 3
   },
   "file_extension": ".py",
   "mimetype": "text/x-python",
   "name": "python",
   "nbconvert_exporter": "python",
   "pygments_lexer": "ipython3",
   "version": "3.8.8"
  },
  "orig_nbformat": 4
 },
 "nbformat": 4,
 "nbformat_minor": 2
}
